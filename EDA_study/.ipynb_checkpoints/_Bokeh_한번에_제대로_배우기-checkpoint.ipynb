{
 "cells": [
  {
   "cell_type": "markdown",
   "metadata": {
    "id": "9H9h63q923AQ"
   },
   "source": [
    "# Bokeh 한번에 제대로 배우기\n",
    "\n",
    "* 금융데이터 분석을 위한 시각화를 수행하기 위해, Folium Library를 학습합니다. \n",
    "* 해당 노트북의 내용과 소스코드는 [이수안LAB || Bokeh 한번에 끝내기 - 인터랙티브 데이터 시각화 라이브러리](https://www.youtube.com/watch?v=qt6rtokj7rw)를 참조하여 작성하였습니다.\n",
    "\n",
    "![bokeh.png](http://static.bokeh.org/og/logotype-on-hex.png)\n",
    "![bokeh2.png](https://pythonhow.com/wp-content/uploads/2016/07/bokeh.png)"
   ]
  },
  {
   "cell_type": "markdown",
   "metadata": {
    "id": "fDyj8bzi6i3f"
   },
   "source": [
    "## Bokeh 특징\n",
    "\n",
    "* 최신 브라우저의 인터랙티브 시각화\n",
    "* 독립형 HTML 문서 또는 서버 지원\n",
    "* 표현력이 뛰어나고 다양한 그래픽 지원\n",
    "* 큰 동적 데이터 또는 스트리밍 데이터 지원\n",
    "* 파이썬(또는 Scala, R, ...)에서 쉽게 사용\n",
    "* 자바스크립트 불필요"
   ]
  },
  {
   "cell_type": "code",
   "execution_count": 1,
   "metadata": {
    "id": "pob54eY820ZT"
   },
   "outputs": [
    {
     "data": {
      "text/html": [
       "\n",
       "    <div class=\"bk-root\">\n",
       "        <a href=\"https://bokeh.org\" target=\"_blank\" class=\"bk-logo bk-logo-small bk-logo-notebook\"></a>\n",
       "        <span id=\"1002\">Loading BokehJS ...</span>\n",
       "    </div>"
      ]
     },
     "metadata": {},
     "output_type": "display_data"
    },
    {
     "data": {
      "application/javascript": [
       "\n",
       "(function(root) {\n",
       "  function now() {\n",
       "    return new Date();\n",
       "  }\n",
       "\n",
       "  var force = true;\n",
       "\n",
       "  if (typeof root._bokeh_onload_callbacks === \"undefined\" || force === true) {\n",
       "    root._bokeh_onload_callbacks = [];\n",
       "    root._bokeh_is_loading = undefined;\n",
       "  }\n",
       "\n",
       "  var JS_MIME_TYPE = 'application/javascript';\n",
       "  var HTML_MIME_TYPE = 'text/html';\n",
       "  var EXEC_MIME_TYPE = 'application/vnd.bokehjs_exec.v0+json';\n",
       "  var CLASS_NAME = 'output_bokeh rendered_html';\n",
       "\n",
       "  /**\n",
       "   * Render data to the DOM node\n",
       "   */\n",
       "  function render(props, node) {\n",
       "    var script = document.createElement(\"script\");\n",
       "    node.appendChild(script);\n",
       "  }\n",
       "\n",
       "  /**\n",
       "   * Handle when an output is cleared or removed\n",
       "   */\n",
       "  function handleClearOutput(event, handle) {\n",
       "    var cell = handle.cell;\n",
       "\n",
       "    var id = cell.output_area._bokeh_element_id;\n",
       "    var server_id = cell.output_area._bokeh_server_id;\n",
       "    // Clean up Bokeh references\n",
       "    if (id != null && id in Bokeh.index) {\n",
       "      Bokeh.index[id].model.document.clear();\n",
       "      delete Bokeh.index[id];\n",
       "    }\n",
       "\n",
       "    if (server_id !== undefined) {\n",
       "      // Clean up Bokeh references\n",
       "      var cmd = \"from bokeh.io.state import curstate; print(curstate().uuid_to_server['\" + server_id + \"'].get_sessions()[0].document.roots[0]._id)\";\n",
       "      cell.notebook.kernel.execute(cmd, {\n",
       "        iopub: {\n",
       "          output: function(msg) {\n",
       "            var id = msg.content.text.trim();\n",
       "            if (id in Bokeh.index) {\n",
       "              Bokeh.index[id].model.document.clear();\n",
       "              delete Bokeh.index[id];\n",
       "            }\n",
       "          }\n",
       "        }\n",
       "      });\n",
       "      // Destroy server and session\n",
       "      var cmd = \"import bokeh.io.notebook as ion; ion.destroy_server('\" + server_id + \"')\";\n",
       "      cell.notebook.kernel.execute(cmd);\n",
       "    }\n",
       "  }\n",
       "\n",
       "  /**\n",
       "   * Handle when a new output is added\n",
       "   */\n",
       "  function handleAddOutput(event, handle) {\n",
       "    var output_area = handle.output_area;\n",
       "    var output = handle.output;\n",
       "\n",
       "    // limit handleAddOutput to display_data with EXEC_MIME_TYPE content only\n",
       "    if ((output.output_type != \"display_data\") || (!Object.prototype.hasOwnProperty.call(output.data, EXEC_MIME_TYPE))) {\n",
       "      return\n",
       "    }\n",
       "\n",
       "    var toinsert = output_area.element.find(\".\" + CLASS_NAME.split(' ')[0]);\n",
       "\n",
       "    if (output.metadata[EXEC_MIME_TYPE][\"id\"] !== undefined) {\n",
       "      toinsert[toinsert.length - 1].firstChild.textContent = output.data[JS_MIME_TYPE];\n",
       "      // store reference to embed id on output_area\n",
       "      output_area._bokeh_element_id = output.metadata[EXEC_MIME_TYPE][\"id\"];\n",
       "    }\n",
       "    if (output.metadata[EXEC_MIME_TYPE][\"server_id\"] !== undefined) {\n",
       "      var bk_div = document.createElement(\"div\");\n",
       "      bk_div.innerHTML = output.data[HTML_MIME_TYPE];\n",
       "      var script_attrs = bk_div.children[0].attributes;\n",
       "      for (var i = 0; i < script_attrs.length; i++) {\n",
       "        toinsert[toinsert.length - 1].firstChild.setAttribute(script_attrs[i].name, script_attrs[i].value);\n",
       "        toinsert[toinsert.length - 1].firstChild.textContent = bk_div.children[0].textContent\n",
       "      }\n",
       "      // store reference to server id on output_area\n",
       "      output_area._bokeh_server_id = output.metadata[EXEC_MIME_TYPE][\"server_id\"];\n",
       "    }\n",
       "  }\n",
       "\n",
       "  function register_renderer(events, OutputArea) {\n",
       "\n",
       "    function append_mime(data, metadata, element) {\n",
       "      // create a DOM node to render to\n",
       "      var toinsert = this.create_output_subarea(\n",
       "        metadata,\n",
       "        CLASS_NAME,\n",
       "        EXEC_MIME_TYPE\n",
       "      );\n",
       "      this.keyboard_manager.register_events(toinsert);\n",
       "      // Render to node\n",
       "      var props = {data: data, metadata: metadata[EXEC_MIME_TYPE]};\n",
       "      render(props, toinsert[toinsert.length - 1]);\n",
       "      element.append(toinsert);\n",
       "      return toinsert\n",
       "    }\n",
       "\n",
       "    /* Handle when an output is cleared or removed */\n",
       "    events.on('clear_output.CodeCell', handleClearOutput);\n",
       "    events.on('delete.Cell', handleClearOutput);\n",
       "\n",
       "    /* Handle when a new output is added */\n",
       "    events.on('output_added.OutputArea', handleAddOutput);\n",
       "\n",
       "    /**\n",
       "     * Register the mime type and append_mime function with output_area\n",
       "     */\n",
       "    OutputArea.prototype.register_mime_type(EXEC_MIME_TYPE, append_mime, {\n",
       "      /* Is output safe? */\n",
       "      safe: true,\n",
       "      /* Index of renderer in `output_area.display_order` */\n",
       "      index: 0\n",
       "    });\n",
       "  }\n",
       "\n",
       "  // register the mime type if in Jupyter Notebook environment and previously unregistered\n",
       "  if (root.Jupyter !== undefined) {\n",
       "    var events = require('base/js/events');\n",
       "    var OutputArea = require('notebook/js/outputarea').OutputArea;\n",
       "\n",
       "    if (OutputArea.prototype.mime_types().indexOf(EXEC_MIME_TYPE) == -1) {\n",
       "      register_renderer(events, OutputArea);\n",
       "    }\n",
       "  }\n",
       "\n",
       "  \n",
       "  if (typeof (root._bokeh_timeout) === \"undefined\" || force === true) {\n",
       "    root._bokeh_timeout = Date.now() + 5000;\n",
       "    root._bokeh_failed_load = false;\n",
       "  }\n",
       "\n",
       "  var NB_LOAD_WARNING = {'data': {'text/html':\n",
       "     \"<div style='background-color: #fdd'>\\n\"+\n",
       "     \"<p>\\n\"+\n",
       "     \"BokehJS does not appear to have successfully loaded. If loading BokehJS from CDN, this \\n\"+\n",
       "     \"may be due to a slow or bad network connection. Possible fixes:\\n\"+\n",
       "     \"</p>\\n\"+\n",
       "     \"<ul>\\n\"+\n",
       "     \"<li>re-rerun `output_notebook()` to attempt to load from CDN again, or</li>\\n\"+\n",
       "     \"<li>use INLINE resources instead, as so:</li>\\n\"+\n",
       "     \"</ul>\\n\"+\n",
       "     \"<code>\\n\"+\n",
       "     \"from bokeh.resources import INLINE\\n\"+\n",
       "     \"output_notebook(resources=INLINE)\\n\"+\n",
       "     \"</code>\\n\"+\n",
       "     \"</div>\"}};\n",
       "\n",
       "  function display_loaded() {\n",
       "    var el = document.getElementById(\"1002\");\n",
       "    if (el != null) {\n",
       "      el.textContent = \"BokehJS is loading...\";\n",
       "    }\n",
       "    if (root.Bokeh !== undefined) {\n",
       "      if (el != null) {\n",
       "        el.textContent = \"BokehJS \" + root.Bokeh.version + \" successfully loaded.\";\n",
       "      }\n",
       "    } else if (Date.now() < root._bokeh_timeout) {\n",
       "      setTimeout(display_loaded, 100)\n",
       "    }\n",
       "  }\n",
       "\n",
       "\n",
       "  function run_callbacks() {\n",
       "    try {\n",
       "      root._bokeh_onload_callbacks.forEach(function(callback) {\n",
       "        if (callback != null)\n",
       "          callback();\n",
       "      });\n",
       "    } finally {\n",
       "      delete root._bokeh_onload_callbacks\n",
       "    }\n",
       "    console.debug(\"Bokeh: all callbacks have finished\");\n",
       "  }\n",
       "\n",
       "  function load_libs(css_urls, js_urls, callback) {\n",
       "    if (css_urls == null) css_urls = [];\n",
       "    if (js_urls == null) js_urls = [];\n",
       "\n",
       "    root._bokeh_onload_callbacks.push(callback);\n",
       "    if (root._bokeh_is_loading > 0) {\n",
       "      console.debug(\"Bokeh: BokehJS is being loaded, scheduling callback at\", now());\n",
       "      return null;\n",
       "    }\n",
       "    if (js_urls == null || js_urls.length === 0) {\n",
       "      run_callbacks();\n",
       "      return null;\n",
       "    }\n",
       "    console.debug(\"Bokeh: BokehJS not loaded, scheduling load and callback at\", now());\n",
       "    root._bokeh_is_loading = css_urls.length + js_urls.length;\n",
       "\n",
       "    function on_load() {\n",
       "      root._bokeh_is_loading--;\n",
       "      if (root._bokeh_is_loading === 0) {\n",
       "        console.debug(\"Bokeh: all BokehJS libraries/stylesheets loaded\");\n",
       "        run_callbacks()\n",
       "      }\n",
       "    }\n",
       "\n",
       "    function on_error(url) {\n",
       "      console.error(\"failed to load \" + url);\n",
       "    }\n",
       "\n",
       "    for (let i = 0; i < css_urls.length; i++) {\n",
       "      const url = css_urls[i];\n",
       "      const element = document.createElement(\"link\");\n",
       "      element.onload = on_load;\n",
       "      element.onerror = on_error.bind(null, url);\n",
       "      element.rel = \"stylesheet\";\n",
       "      element.type = \"text/css\";\n",
       "      element.href = url;\n",
       "      console.debug(\"Bokeh: injecting link tag for BokehJS stylesheet: \", url);\n",
       "      document.body.appendChild(element);\n",
       "    }\n",
       "\n",
       "    const hashes = {\"https://cdn.bokeh.org/bokeh/release/bokeh-2.3.2.min.js\": \"XypntL49z55iwGVUW4qsEu83zKL3XEcz0MjuGOQ9SlaaQ68X/g+k1FcioZi7oQAc\", \"https://cdn.bokeh.org/bokeh/release/bokeh-tables-2.3.2.min.js\": \"bEsM86IHGDTLCS0Zod8a8WM6Y4+lafAL/eSiyQcuPzinmWNgNO2/olUF0Z2Dkn5i\", \"https://cdn.bokeh.org/bokeh/release/bokeh-widgets-2.3.2.min.js\": \"TX0gSQTdXTTeScqxj6PVQxTiRW8DOoGVwinyi1D3kxv7wuxQ02XkOxv0xwiypcAH\"};\n",
       "\n",
       "    for (let i = 0; i < js_urls.length; i++) {\n",
       "      const url = js_urls[i];\n",
       "      const element = document.createElement('script');\n",
       "      element.onload = on_load;\n",
       "      element.onerror = on_error.bind(null, url);\n",
       "      element.async = false;\n",
       "      element.src = url;\n",
       "      if (url in hashes) {\n",
       "        element.crossOrigin = \"anonymous\";\n",
       "        element.integrity = \"sha384-\" + hashes[url];\n",
       "      }\n",
       "      console.debug(\"Bokeh: injecting script tag for BokehJS library: \", url);\n",
       "      document.head.appendChild(element);\n",
       "    }\n",
       "  };\n",
       "\n",
       "  function inject_raw_css(css) {\n",
       "    const element = document.createElement(\"style\");\n",
       "    element.appendChild(document.createTextNode(css));\n",
       "    document.body.appendChild(element);\n",
       "  }\n",
       "\n",
       "  \n",
       "  var js_urls = [\"https://cdn.bokeh.org/bokeh/release/bokeh-2.3.2.min.js\", \"https://cdn.bokeh.org/bokeh/release/bokeh-widgets-2.3.2.min.js\", \"https://cdn.bokeh.org/bokeh/release/bokeh-tables-2.3.2.min.js\"];\n",
       "  var css_urls = [];\n",
       "  \n",
       "\n",
       "  var inline_js = [\n",
       "    function(Bokeh) {\n",
       "      Bokeh.set_log_level(\"info\");\n",
       "    },\n",
       "    function(Bokeh) {\n",
       "    \n",
       "    \n",
       "    }\n",
       "  ];\n",
       "\n",
       "  function run_inline_js() {\n",
       "    \n",
       "    if (root.Bokeh !== undefined || force === true) {\n",
       "      \n",
       "    for (var i = 0; i < inline_js.length; i++) {\n",
       "      inline_js[i].call(root, root.Bokeh);\n",
       "    }\n",
       "    if (force === true) {\n",
       "        display_loaded();\n",
       "      }} else if (Date.now() < root._bokeh_timeout) {\n",
       "      setTimeout(run_inline_js, 100);\n",
       "    } else if (!root._bokeh_failed_load) {\n",
       "      console.log(\"Bokeh: BokehJS failed to load within specified timeout.\");\n",
       "      root._bokeh_failed_load = true;\n",
       "    } else if (force !== true) {\n",
       "      var cell = $(document.getElementById(\"1002\")).parents('.cell').data().cell;\n",
       "      cell.output_area.append_execute_result(NB_LOAD_WARNING)\n",
       "    }\n",
       "\n",
       "  }\n",
       "\n",
       "  if (root._bokeh_is_loading === 0) {\n",
       "    console.debug(\"Bokeh: BokehJS loaded, going straight to plotting\");\n",
       "    run_inline_js();\n",
       "  } else {\n",
       "    load_libs(css_urls, js_urls, function() {\n",
       "      console.debug(\"Bokeh: BokehJS plotting callback run at\", now());\n",
       "      run_inline_js();\n",
       "    });\n",
       "  }\n",
       "}(window));"
      ],
      "application/vnd.bokehjs_load.v0+json": "\n(function(root) {\n  function now() {\n    return new Date();\n  }\n\n  var force = true;\n\n  if (typeof root._bokeh_onload_callbacks === \"undefined\" || force === true) {\n    root._bokeh_onload_callbacks = [];\n    root._bokeh_is_loading = undefined;\n  }\n\n  \n\n  \n  if (typeof (root._bokeh_timeout) === \"undefined\" || force === true) {\n    root._bokeh_timeout = Date.now() + 5000;\n    root._bokeh_failed_load = false;\n  }\n\n  var NB_LOAD_WARNING = {'data': {'text/html':\n     \"<div style='background-color: #fdd'>\\n\"+\n     \"<p>\\n\"+\n     \"BokehJS does not appear to have successfully loaded. If loading BokehJS from CDN, this \\n\"+\n     \"may be due to a slow or bad network connection. Possible fixes:\\n\"+\n     \"</p>\\n\"+\n     \"<ul>\\n\"+\n     \"<li>re-rerun `output_notebook()` to attempt to load from CDN again, or</li>\\n\"+\n     \"<li>use INLINE resources instead, as so:</li>\\n\"+\n     \"</ul>\\n\"+\n     \"<code>\\n\"+\n     \"from bokeh.resources import INLINE\\n\"+\n     \"output_notebook(resources=INLINE)\\n\"+\n     \"</code>\\n\"+\n     \"</div>\"}};\n\n  function display_loaded() {\n    var el = document.getElementById(\"1002\");\n    if (el != null) {\n      el.textContent = \"BokehJS is loading...\";\n    }\n    if (root.Bokeh !== undefined) {\n      if (el != null) {\n        el.textContent = \"BokehJS \" + root.Bokeh.version + \" successfully loaded.\";\n      }\n    } else if (Date.now() < root._bokeh_timeout) {\n      setTimeout(display_loaded, 100)\n    }\n  }\n\n\n  function run_callbacks() {\n    try {\n      root._bokeh_onload_callbacks.forEach(function(callback) {\n        if (callback != null)\n          callback();\n      });\n    } finally {\n      delete root._bokeh_onload_callbacks\n    }\n    console.debug(\"Bokeh: all callbacks have finished\");\n  }\n\n  function load_libs(css_urls, js_urls, callback) {\n    if (css_urls == null) css_urls = [];\n    if (js_urls == null) js_urls = [];\n\n    root._bokeh_onload_callbacks.push(callback);\n    if (root._bokeh_is_loading > 0) {\n      console.debug(\"Bokeh: BokehJS is being loaded, scheduling callback at\", now());\n      return null;\n    }\n    if (js_urls == null || js_urls.length === 0) {\n      run_callbacks();\n      return null;\n    }\n    console.debug(\"Bokeh: BokehJS not loaded, scheduling load and callback at\", now());\n    root._bokeh_is_loading = css_urls.length + js_urls.length;\n\n    function on_load() {\n      root._bokeh_is_loading--;\n      if (root._bokeh_is_loading === 0) {\n        console.debug(\"Bokeh: all BokehJS libraries/stylesheets loaded\");\n        run_callbacks()\n      }\n    }\n\n    function on_error(url) {\n      console.error(\"failed to load \" + url);\n    }\n\n    for (let i = 0; i < css_urls.length; i++) {\n      const url = css_urls[i];\n      const element = document.createElement(\"link\");\n      element.onload = on_load;\n      element.onerror = on_error.bind(null, url);\n      element.rel = \"stylesheet\";\n      element.type = \"text/css\";\n      element.href = url;\n      console.debug(\"Bokeh: injecting link tag for BokehJS stylesheet: \", url);\n      document.body.appendChild(element);\n    }\n\n    const hashes = {\"https://cdn.bokeh.org/bokeh/release/bokeh-2.3.2.min.js\": \"XypntL49z55iwGVUW4qsEu83zKL3XEcz0MjuGOQ9SlaaQ68X/g+k1FcioZi7oQAc\", \"https://cdn.bokeh.org/bokeh/release/bokeh-tables-2.3.2.min.js\": \"bEsM86IHGDTLCS0Zod8a8WM6Y4+lafAL/eSiyQcuPzinmWNgNO2/olUF0Z2Dkn5i\", \"https://cdn.bokeh.org/bokeh/release/bokeh-widgets-2.3.2.min.js\": \"TX0gSQTdXTTeScqxj6PVQxTiRW8DOoGVwinyi1D3kxv7wuxQ02XkOxv0xwiypcAH\"};\n\n    for (let i = 0; i < js_urls.length; i++) {\n      const url = js_urls[i];\n      const element = document.createElement('script');\n      element.onload = on_load;\n      element.onerror = on_error.bind(null, url);\n      element.async = false;\n      element.src = url;\n      if (url in hashes) {\n        element.crossOrigin = \"anonymous\";\n        element.integrity = \"sha384-\" + hashes[url];\n      }\n      console.debug(\"Bokeh: injecting script tag for BokehJS library: \", url);\n      document.head.appendChild(element);\n    }\n  };\n\n  function inject_raw_css(css) {\n    const element = document.createElement(\"style\");\n    element.appendChild(document.createTextNode(css));\n    document.body.appendChild(element);\n  }\n\n  \n  var js_urls = [\"https://cdn.bokeh.org/bokeh/release/bokeh-2.3.2.min.js\", \"https://cdn.bokeh.org/bokeh/release/bokeh-widgets-2.3.2.min.js\", \"https://cdn.bokeh.org/bokeh/release/bokeh-tables-2.3.2.min.js\"];\n  var css_urls = [];\n  \n\n  var inline_js = [\n    function(Bokeh) {\n      Bokeh.set_log_level(\"info\");\n    },\n    function(Bokeh) {\n    \n    \n    }\n  ];\n\n  function run_inline_js() {\n    \n    if (root.Bokeh !== undefined || force === true) {\n      \n    for (var i = 0; i < inline_js.length; i++) {\n      inline_js[i].call(root, root.Bokeh);\n    }\n    if (force === true) {\n        display_loaded();\n      }} else if (Date.now() < root._bokeh_timeout) {\n      setTimeout(run_inline_js, 100);\n    } else if (!root._bokeh_failed_load) {\n      console.log(\"Bokeh: BokehJS failed to load within specified timeout.\");\n      root._bokeh_failed_load = true;\n    } else if (force !== true) {\n      var cell = $(document.getElementById(\"1002\")).parents('.cell').data().cell;\n      cell.output_area.append_execute_result(NB_LOAD_WARNING)\n    }\n\n  }\n\n  if (root._bokeh_is_loading === 0) {\n    console.debug(\"Bokeh: BokehJS loaded, going straight to plotting\");\n    run_inline_js();\n  } else {\n    load_libs(css_urls, js_urls, function() {\n      console.debug(\"Bokeh: BokehJS plotting callback run at\", now());\n      run_inline_js();\n    });\n  }\n}(window));"
     },
     "metadata": {},
     "output_type": "display_data"
    }
   ],
   "source": [
    "# 일반적인 연산 및 데이터 처리에 활용 \n",
    "import numpy as np \n",
    "import pandas as pd \n",
    "\n",
    "from bokeh.io import output_notebook, show\n",
    "from bokeh.plotting import figure, show \n",
    "# 노트북에 결과를 출력합니다. \n",
    "output_notebook()\n"
   ]
  },
  {
   "cell_type": "markdown",
   "metadata": {
    "id": "YFaj1aodUTNi"
   },
   "source": [
    "* 샘플 데이터 다운로드"
   ]
  },
  {
   "cell_type": "code",
   "execution_count": 2,
   "metadata": {
    "id": "stUTSc7GSLgn"
   },
   "outputs": [
    {
     "name": "stdout",
     "output_type": "stream",
     "text": [
      "Creating C:\\Users\\wnsgn\\.bokeh directory\n",
      "Creating C:\\Users\\wnsgn\\.bokeh\\data directory\n",
      "Using data directory: C:\\Users\\wnsgn\\.bokeh\\data\n",
      "Downloading: CGM.csv (1589982 bytes)\n",
      "   1589982 [100.00%]\n",
      "Downloading: US_Counties.zip (3171836 bytes)\n",
      "   3171836 [100.00%]\n",
      "Unpacking: US_Counties.csv\n",
      "Downloading: us_cities.json (713565 bytes)\n",
      "    713565 [100.00%]\n",
      "Downloading: unemployment09.csv (253301 bytes)\n",
      "    253301 [100.00%]\n",
      "Downloading: AAPL.csv (166698 bytes)\n",
      "    166698 [100.00%]\n",
      "Downloading: FB.csv (9706 bytes)\n",
      "      9706 [100.00%]\n",
      "Downloading: GOOG.csv (113894 bytes)\n",
      "    113894 [100.00%]\n",
      "Downloading: IBM.csv (165625 bytes)\n",
      "    165625 [100.00%]\n",
      "Downloading: MSFT.csv (161614 bytes)\n",
      "    161614 [100.00%]\n",
      "Downloading: WPP2012_SA_DB03_POPULATION_QUINQUENNIAL.zip (4816256 bytes)\n",
      "   4816256 [100.00%]\n",
      "Unpacking: WPP2012_SA_DB03_POPULATION_QUINQUENNIAL.csv\n",
      "Downloading: gapminder_fertility.csv (64346 bytes)\n",
      "     64346 [100.00%]\n",
      "Downloading: gapminder_population.csv (94509 bytes)\n",
      "     94509 [100.00%]\n",
      "Downloading: gapminder_life_expectancy.csv (73243 bytes)\n",
      "     73243 [100.00%]\n",
      "Downloading: gapminder_regions.csv (7781 bytes)\n",
      "      7781 [100.00%]\n",
      "Downloading: world_cities.zip (645274 bytes)\n",
      "    645274 [100.00%]\n",
      "Unpacking: world_cities.csv\n",
      "Downloading: airports.json (6373 bytes)\n",
      "      6373 [100.00%]\n",
      "Downloading: movies.db.zip (5053420 bytes)\n",
      "   5053420 [100.00%]\n",
      "Unpacking: movies.db\n",
      "Downloading: airports.csv (203190 bytes)\n",
      "    203190 [100.00%]\n",
      "Downloading: routes.csv (377280 bytes)\n",
      "    377280 [100.00%]\n",
      "Downloading: haarcascade_frontalface_default.xml (930127 bytes)\n",
      "    930127 [100.00%]\n"
     ]
    }
   ],
   "source": [
    "import bokeh.sampledata\n",
    "bokeh.sampledata.download()"
   ]
  },
  {
   "cell_type": "markdown",
   "metadata": {
    "id": "yuWo39xnSq9j"
   },
   "source": [
    "## 산점도(Scatter Plots)"
   ]
  },
  {
   "cell_type": "markdown",
   "metadata": {
    "id": "Ne6RkqbujpoI"
   },
   "source": [
    "* `x()`\n",
    "* `cross()`\n",
    "* `asterisk()`\n",
    "* `circle()`\n",
    "* `circle_cross()`\n",
    "* `circle_x()`\n",
    "* `triangle()`\n",
    "* `inverted_triangle()`\n",
    "* `square()`\n",
    "* `square_cross()`\n",
    "* `square_x()`\n",
    "* `diamond()`\n",
    "* `diamond_cross()`\n",
    "* `hex()`"
   ]
  },
  {
   "cell_type": "code",
   "execution_count": 4,
   "metadata": {
    "id": "onxxmJ8HSmMX"
   },
   "outputs": [],
   "source": [
    "# 산점도를 생성하기 위한 임의의 변수 생성 \n",
    "x = np.random.randn(10)\n",
    "y = np.random.randn(10)\n",
    "\n",
    "# 각 데이터의 가중치를 선정할 size 변수 또한 10~40 사이의 숫자로 10개 생성합니다. \n",
    "size = np.random.randint(10, 40, size=10)"
   ]
  },
  {
   "cell_type": "markdown",
   "metadata": {},
   "source": [
    "### X( ) 산점도 \n",
    "* 가장 기본이 되는 동작을 알아봅니다. \n",
    "* x() 산점도는 데이터의 각 점이 x 형태로 출력되는 그림을 의미합니다. "
   ]
  },
  {
   "cell_type": "code",
   "execution_count": 5,
   "metadata": {
    "id": "jmn7WnWk65j0"
   },
   "outputs": [
    {
     "data": {
      "text/html": [
       "\n",
       "\n",
       "\n",
       "\n",
       "\n",
       "\n",
       "  <div class=\"bk-root\" id=\"3eb48a8c-200c-490d-aa60-2b550a2cd96f\" data-root-id=\"1003\"></div>\n"
      ]
     },
     "metadata": {},
     "output_type": "display_data"
    },
    {
     "data": {
      "application/javascript": [
       "(function(root) {\n",
       "  function embed_document(root) {\n",
       "    \n",
       "  var docs_json = {\"f4fdbc5b-6ab4-46ef-81fb-59d0353df718\":{\"defs\":[],\"roots\":{\"references\":[{\"attributes\":{\"below\":[{\"id\":\"1012\"}],\"center\":[{\"id\":\"1015\"},{\"id\":\"1019\"}],\"height\":400,\"left\":[{\"id\":\"1016\"}],\"renderers\":[{\"id\":\"1037\"}],\"title\":{\"id\":\"1040\"},\"toolbar\":{\"id\":\"1027\"},\"width\":400,\"x_range\":{\"id\":\"1004\"},\"x_scale\":{\"id\":\"1008\"},\"y_range\":{\"id\":\"1006\"},\"y_scale\":{\"id\":\"1010\"}},\"id\":\"1003\",\"subtype\":\"Figure\",\"type\":\"Plot\"},{\"attributes\":{},\"id\":\"1042\",\"type\":\"AllLabels\"},{\"attributes\":{},\"id\":\"1048\",\"type\":\"UnionRenderers\"},{\"attributes\":{\"axis\":{\"id\":\"1012\"},\"ticker\":null},\"id\":\"1015\",\"type\":\"Grid\"},{\"attributes\":{},\"id\":\"1049\",\"type\":\"Selection\"},{\"attributes\":{},\"id\":\"1020\",\"type\":\"PanTool\"},{\"attributes\":{},\"id\":\"1017\",\"type\":\"BasicTicker\"},{\"attributes\":{\"bottom_units\":\"screen\",\"fill_alpha\":0.5,\"fill_color\":\"lightgrey\",\"left_units\":\"screen\",\"level\":\"overlay\",\"line_alpha\":1.0,\"line_color\":\"black\",\"line_dash\":[4,4],\"line_width\":2,\"right_units\":\"screen\",\"syncable\":false,\"top_units\":\"screen\"},\"id\":\"1026\",\"type\":\"BoxAnnotation\"},{\"attributes\":{},\"id\":\"1041\",\"type\":\"BasicTickFormatter\"},{\"attributes\":{\"axis\":{\"id\":\"1016\"},\"dimension\":1,\"ticker\":null},\"id\":\"1019\",\"type\":\"Grid\"},{\"attributes\":{\"fill_color\":{\"value\":\"#1f77b4\"},\"line_color\":{\"value\":\"#1f77b4\"},\"marker\":{\"value\":\"x\"},\"size\":{\"value\":10},\"x\":{\"field\":\"x\"},\"y\":{\"field\":\"y\"}},\"id\":\"1035\",\"type\":\"Scatter\"},{\"attributes\":{\"data_source\":{\"id\":\"1034\"},\"glyph\":{\"id\":\"1035\"},\"hover_glyph\":null,\"muted_glyph\":null,\"nonselection_glyph\":{\"id\":\"1036\"},\"view\":{\"id\":\"1038\"}},\"id\":\"1037\",\"type\":\"GlyphRenderer\"},{\"attributes\":{},\"id\":\"1010\",\"type\":\"LinearScale\"},{\"attributes\":{\"active_multi\":null,\"tools\":[{\"id\":\"1020\"},{\"id\":\"1021\"},{\"id\":\"1022\"},{\"id\":\"1023\"},{\"id\":\"1024\"},{\"id\":\"1025\"}]},\"id\":\"1027\",\"type\":\"Toolbar\"},{\"attributes\":{},\"id\":\"1044\",\"type\":\"BasicTickFormatter\"},{\"attributes\":{},\"id\":\"1021\",\"type\":\"WheelZoomTool\"},{\"attributes\":{},\"id\":\"1045\",\"type\":\"AllLabels\"},{\"attributes\":{},\"id\":\"1006\",\"type\":\"DataRange1d\"},{\"attributes\":{},\"id\":\"1024\",\"type\":\"ResetTool\"},{\"attributes\":{},\"id\":\"1023\",\"type\":\"SaveTool\"},{\"attributes\":{},\"id\":\"1025\",\"type\":\"HelpTool\"},{\"attributes\":{},\"id\":\"1013\",\"type\":\"BasicTicker\"},{\"attributes\":{},\"id\":\"1008\",\"type\":\"LinearScale\"},{\"attributes\":{\"overlay\":{\"id\":\"1026\"}},\"id\":\"1022\",\"type\":\"BoxZoomTool\"},{\"attributes\":{\"formatter\":{\"id\":\"1044\"},\"major_label_policy\":{\"id\":\"1045\"},\"ticker\":{\"id\":\"1017\"}},\"id\":\"1016\",\"type\":\"LinearAxis\"},{\"attributes\":{\"data\":{\"x\":{\"__ndarray__\":\"dJ37ywgM479bi9GbBpT0vwANS/axBO6/VP4p8EvPzj9bsRDqZ7fxv3rBJ7bOMvK/zdfAVJNV9j+JRydEn662v5fCRfL0sPC/cjTfaA4y5z8=\",\"dtype\":\"float64\",\"order\":\"little\",\"shape\":[10]},\"y\":{\"__ndarray__\":\"ZWo3yvp+BcDNB5KWkkDgPz/4deFS++W/8883BkeA3T82FJNAY7jvP8NeJi+9tvm/6byYep8T0z+arqXuXRjVPzdJntsNRNE/gXLmjV5I8T8=\",\"dtype\":\"float64\",\"order\":\"little\",\"shape\":[10]}},\"selected\":{\"id\":\"1049\"},\"selection_policy\":{\"id\":\"1048\"}},\"id\":\"1034\",\"type\":\"ColumnDataSource\"},{\"attributes\":{\"source\":{\"id\":\"1034\"}},\"id\":\"1038\",\"type\":\"CDSView\"},{\"attributes\":{},\"id\":\"1004\",\"type\":\"DataRange1d\"},{\"attributes\":{},\"id\":\"1040\",\"type\":\"Title\"},{\"attributes\":{\"formatter\":{\"id\":\"1041\"},\"major_label_policy\":{\"id\":\"1042\"},\"ticker\":{\"id\":\"1013\"}},\"id\":\"1012\",\"type\":\"LinearAxis\"},{\"attributes\":{\"fill_alpha\":{\"value\":0.1},\"fill_color\":{\"value\":\"#1f77b4\"},\"line_alpha\":{\"value\":0.1},\"line_color\":{\"value\":\"#1f77b4\"},\"marker\":{\"value\":\"x\"},\"size\":{\"value\":10},\"x\":{\"field\":\"x\"},\"y\":{\"field\":\"y\"}},\"id\":\"1036\",\"type\":\"Scatter\"}],\"root_ids\":[\"1003\"]},\"title\":\"Bokeh Application\",\"version\":\"2.3.2\"}};\n",
       "  var render_items = [{\"docid\":\"f4fdbc5b-6ab4-46ef-81fb-59d0353df718\",\"root_ids\":[\"1003\"],\"roots\":{\"1003\":\"3eb48a8c-200c-490d-aa60-2b550a2cd96f\"}}];\n",
       "  root.Bokeh.embed.embed_items_notebook(docs_json, render_items);\n",
       "\n",
       "  }\n",
       "  if (root.Bokeh !== undefined) {\n",
       "    embed_document(root);\n",
       "  } else {\n",
       "    var attempts = 0;\n",
       "    var timer = setInterval(function(root) {\n",
       "      if (root.Bokeh !== undefined) {\n",
       "        clearInterval(timer);\n",
       "        embed_document(root);\n",
       "      } else {\n",
       "        attempts++;\n",
       "        if (attempts > 100) {\n",
       "          clearInterval(timer);\n",
       "          console.log(\"Bokeh: ERROR: Unable to run BokehJS code because BokehJS library is missing\");\n",
       "        }\n",
       "      }\n",
       "    }, 10, root)\n",
       "  }\n",
       "})(window);"
      ],
      "application/vnd.bokehjs_exec.v0+json": ""
     },
     "metadata": {
      "application/vnd.bokehjs_exec.v0+json": {
       "id": "1003"
      }
     },
     "output_type": "display_data"
    }
   ],
   "source": [
    "# step 1. 그림이 들어갈 figure 객체를 생성합니다. \n",
    "# 인자로 그래프의 높이와 너비를 지정합니다. \n",
    "p = figure(plot_width=400, plot_height=400)\n",
    "\n",
    "# step 2. 추가된 객체에 구체적인 그림을 생성합니다. \n",
    "# 이때 원하는 그래프의 종류와 데이터를 입력합니다. \n",
    "p.x(x, y, size=10)\n",
    "\n",
    "# step 3. 완성된 그림을 호출합니다. \n",
    "show(p)"
   ]
  },
  {
   "cell_type": "code",
   "execution_count": 7,
   "metadata": {},
   "outputs": [
    {
     "data": {
      "text/html": [
       "\n",
       "\n",
       "\n",
       "\n",
       "\n",
       "\n",
       "  <div class=\"bk-root\" id=\"542d486d-72f8-4f11-a8ad-864a0a12f2a4\" data-root-id=\"1218\"></div>\n"
      ]
     },
     "metadata": {},
     "output_type": "display_data"
    },
    {
     "data": {
      "application/javascript": [
       "(function(root) {\n",
       "  function embed_document(root) {\n",
       "    \n",
       "  var docs_json = {\"abf5808c-18a7-40c7-a0a2-a784bc3aaebb\":{\"defs\":[],\"roots\":{\"references\":[{\"attributes\":{\"below\":[{\"id\":\"1227\"}],\"center\":[{\"id\":\"1230\"},{\"id\":\"1234\"}],\"height\":400,\"left\":[{\"id\":\"1231\"}],\"renderers\":[{\"id\":\"1252\"}],\"title\":{\"id\":\"1277\"},\"toolbar\":{\"id\":\"1242\"},\"width\":400,\"x_range\":{\"id\":\"1219\"},\"x_scale\":{\"id\":\"1223\"},\"y_range\":{\"id\":\"1221\"},\"y_scale\":{\"id\":\"1225\"}},\"id\":\"1218\",\"subtype\":\"Figure\",\"type\":\"Plot\"},{\"attributes\":{\"fill_color\":{\"value\":\"#1f77b4\"},\"line_color\":{\"value\":\"#1f77b4\"},\"marker\":{\"value\":\"x\"},\"size\":{\"field\":\"size\"},\"x\":{\"field\":\"x\"},\"y\":{\"field\":\"y\"}},\"id\":\"1250\",\"type\":\"Scatter\"},{\"attributes\":{},\"id\":\"1285\",\"type\":\"UnionRenderers\"},{\"attributes\":{},\"id\":\"1286\",\"type\":\"Selection\"},{\"attributes\":{\"fill_alpha\":{\"value\":0.1},\"fill_color\":{\"value\":\"#1f77b4\"},\"line_alpha\":{\"value\":0.1},\"line_color\":{\"value\":\"#1f77b4\"},\"marker\":{\"value\":\"x\"},\"size\":{\"field\":\"size\"},\"x\":{\"field\":\"x\"},\"y\":{\"field\":\"y\"}},\"id\":\"1251\",\"type\":\"Scatter\"},{\"attributes\":{},\"id\":\"1219\",\"type\":\"DataRange1d\"},{\"attributes\":{\"data_source\":{\"id\":\"1249\"},\"glyph\":{\"id\":\"1250\"},\"hover_glyph\":null,\"muted_glyph\":null,\"nonselection_glyph\":{\"id\":\"1251\"},\"view\":{\"id\":\"1253\"}},\"id\":\"1252\",\"type\":\"GlyphRenderer\"},{\"attributes\":{\"active_multi\":null,\"tools\":[{\"id\":\"1235\"},{\"id\":\"1236\"},{\"id\":\"1237\"},{\"id\":\"1238\"},{\"id\":\"1239\"},{\"id\":\"1240\"}]},\"id\":\"1242\",\"type\":\"Toolbar\"},{\"attributes\":{\"source\":{\"id\":\"1249\"}},\"id\":\"1253\",\"type\":\"CDSView\"},{\"attributes\":{},\"id\":\"1221\",\"type\":\"DataRange1d\"},{\"attributes\":{},\"id\":\"1281\",\"type\":\"BasicTickFormatter\"},{\"attributes\":{\"formatter\":{\"id\":\"1281\"},\"major_label_policy\":{\"id\":\"1282\"},\"ticker\":{\"id\":\"1232\"}},\"id\":\"1231\",\"type\":\"LinearAxis\"},{\"attributes\":{},\"id\":\"1277\",\"type\":\"Title\"},{\"attributes\":{\"formatter\":{\"id\":\"1278\"},\"major_label_policy\":{\"id\":\"1279\"},\"ticker\":{\"id\":\"1228\"}},\"id\":\"1227\",\"type\":\"LinearAxis\"},{\"attributes\":{},\"id\":\"1282\",\"type\":\"AllLabels\"},{\"attributes\":{},\"id\":\"1225\",\"type\":\"LinearScale\"},{\"attributes\":{},\"id\":\"1223\",\"type\":\"LinearScale\"},{\"attributes\":{\"bottom_units\":\"screen\",\"fill_alpha\":0.5,\"fill_color\":\"lightgrey\",\"left_units\":\"screen\",\"level\":\"overlay\",\"line_alpha\":1.0,\"line_color\":\"black\",\"line_dash\":[4,4],\"line_width\":2,\"right_units\":\"screen\",\"syncable\":false,\"top_units\":\"screen\"},\"id\":\"1241\",\"type\":\"BoxAnnotation\"},{\"attributes\":{},\"id\":\"1240\",\"type\":\"HelpTool\"},{\"attributes\":{},\"id\":\"1228\",\"type\":\"BasicTicker\"},{\"attributes\":{\"axis\":{\"id\":\"1227\"},\"ticker\":null},\"id\":\"1230\",\"type\":\"Grid\"},{\"attributes\":{\"axis\":{\"id\":\"1231\"},\"dimension\":1,\"ticker\":null},\"id\":\"1234\",\"type\":\"Grid\"},{\"attributes\":{},\"id\":\"1232\",\"type\":\"BasicTicker\"},{\"attributes\":{\"data\":{\"size\":{\"__ndarray__\":\"JAAAABQAAAALAAAAJwAAABwAAAAhAAAAHQAAACAAAAAbAAAAFQAAAA==\",\"dtype\":\"int32\",\"order\":\"little\",\"shape\":[10]},\"x\":{\"__ndarray__\":\"dJ37ywgM479bi9GbBpT0vwANS/axBO6/VP4p8EvPzj9bsRDqZ7fxv3rBJ7bOMvK/zdfAVJNV9j+JRydEn662v5fCRfL0sPC/cjTfaA4y5z8=\",\"dtype\":\"float64\",\"order\":\"little\",\"shape\":[10]},\"y\":{\"__ndarray__\":\"ZWo3yvp+BcDNB5KWkkDgPz/4deFS++W/8883BkeA3T82FJNAY7jvP8NeJi+9tvm/6byYep8T0z+arqXuXRjVPzdJntsNRNE/gXLmjV5I8T8=\",\"dtype\":\"float64\",\"order\":\"little\",\"shape\":[10]}},\"selected\":{\"id\":\"1286\"},\"selection_policy\":{\"id\":\"1285\"}},\"id\":\"1249\",\"type\":\"ColumnDataSource\"},{\"attributes\":{},\"id\":\"1235\",\"type\":\"PanTool\"},{\"attributes\":{},\"id\":\"1278\",\"type\":\"BasicTickFormatter\"},{\"attributes\":{\"overlay\":{\"id\":\"1241\"}},\"id\":\"1237\",\"type\":\"BoxZoomTool\"},{\"attributes\":{},\"id\":\"1238\",\"type\":\"SaveTool\"},{\"attributes\":{},\"id\":\"1279\",\"type\":\"AllLabels\"},{\"attributes\":{},\"id\":\"1239\",\"type\":\"ResetTool\"},{\"attributes\":{},\"id\":\"1236\",\"type\":\"WheelZoomTool\"}],\"root_ids\":[\"1218\"]},\"title\":\"Bokeh Application\",\"version\":\"2.3.2\"}};\n",
       "  var render_items = [{\"docid\":\"abf5808c-18a7-40c7-a0a2-a784bc3aaebb\",\"root_ids\":[\"1218\"],\"roots\":{\"1218\":\"542d486d-72f8-4f11-a8ad-864a0a12f2a4\"}}];\n",
       "  root.Bokeh.embed.embed_items_notebook(docs_json, render_items);\n",
       "\n",
       "  }\n",
       "  if (root.Bokeh !== undefined) {\n",
       "    embed_document(root);\n",
       "  } else {\n",
       "    var attempts = 0;\n",
       "    var timer = setInterval(function(root) {\n",
       "      if (root.Bokeh !== undefined) {\n",
       "        clearInterval(timer);\n",
       "        embed_document(root);\n",
       "      } else {\n",
       "        attempts++;\n",
       "        if (attempts > 100) {\n",
       "          clearInterval(timer);\n",
       "          console.log(\"Bokeh: ERROR: Unable to run BokehJS code because BokehJS library is missing\");\n",
       "        }\n",
       "      }\n",
       "    }, 10, root)\n",
       "  }\n",
       "})(window);"
      ],
      "application/vnd.bokehjs_exec.v0+json": ""
     },
     "metadata": {
      "application/vnd.bokehjs_exec.v0+json": {
       "id": "1218"
      }
     },
     "output_type": "display_data"
    }
   ],
   "source": [
    "# step 1. 그림이 들어갈 figure 객체를 생성합니다. \n",
    "# 인자로 그래프의 높이와 너비를 지정합니다. \n",
    "p = figure(plot_width=400, plot_height=400)\n",
    "\n",
    "# step 2. 추가된 객체에 구체적인 그림을 생성합니다. \n",
    "# 이때 원하는 그래프의 종류와 데이터를 입력합니다. \n",
    "p.x(x, y, size=size)\n",
    "# 사이즈 옵션을 추가하여 각 데이터의 크기를 다르게 지정합니다. \n",
    "\n",
    "# step 3. 완성된 그림을 호출합니다. \n",
    "show(p)"
   ]
  },
  {
   "cell_type": "markdown",
   "metadata": {},
   "source": [
    "### Cross() 산점도 \n",
    "* 십자가 모양으로 출력합니다. "
   ]
  },
  {
   "cell_type": "code",
   "execution_count": 6,
   "metadata": {
    "id": "wUfR34pwj4ZI"
   },
   "outputs": [
    {
     "data": {
      "text/html": [
       "\n",
       "\n",
       "\n",
       "\n",
       "\n",
       "\n",
       "  <div class=\"bk-root\" id=\"4cbfdb43-4a09-464f-8111-6b77fc8506ff\" data-root-id=\"1105\"></div>\n"
      ]
     },
     "metadata": {},
     "output_type": "display_data"
    },
    {
     "data": {
      "application/javascript": [
       "(function(root) {\n",
       "  function embed_document(root) {\n",
       "    \n",
       "  var docs_json = {\"8aaf2b81-8c9c-4722-84ca-b43457c14a6e\":{\"defs\":[],\"roots\":{\"references\":[{\"attributes\":{\"below\":[{\"id\":\"1114\"}],\"center\":[{\"id\":\"1117\"},{\"id\":\"1121\"}],\"height\":400,\"left\":[{\"id\":\"1118\"}],\"renderers\":[{\"id\":\"1139\"}],\"title\":{\"id\":\"1153\"},\"toolbar\":{\"id\":\"1129\"},\"width\":400,\"x_range\":{\"id\":\"1106\"},\"x_scale\":{\"id\":\"1110\"},\"y_range\":{\"id\":\"1108\"},\"y_scale\":{\"id\":\"1112\"}},\"id\":\"1105\",\"subtype\":\"Figure\",\"type\":\"Plot\"},{\"attributes\":{},\"id\":\"1123\",\"type\":\"WheelZoomTool\"},{\"attributes\":{\"bottom_units\":\"screen\",\"fill_alpha\":0.5,\"fill_color\":\"lightgrey\",\"left_units\":\"screen\",\"level\":\"overlay\",\"line_alpha\":1.0,\"line_color\":\"black\",\"line_dash\":[4,4],\"line_width\":2,\"right_units\":\"screen\",\"syncable\":false,\"top_units\":\"screen\"},\"id\":\"1128\",\"type\":\"BoxAnnotation\"},{\"attributes\":{},\"id\":\"1154\",\"type\":\"BasicTickFormatter\"},{\"attributes\":{},\"id\":\"1127\",\"type\":\"HelpTool\"},{\"attributes\":{},\"id\":\"1155\",\"type\":\"AllLabels\"},{\"attributes\":{},\"id\":\"1119\",\"type\":\"BasicTicker\"},{\"attributes\":{},\"id\":\"1158\",\"type\":\"AllLabels\"},{\"attributes\":{\"axis\":{\"id\":\"1118\"},\"dimension\":1,\"ticker\":null},\"id\":\"1121\",\"type\":\"Grid\"},{\"attributes\":{},\"id\":\"1162\",\"type\":\"Selection\"},{\"attributes\":{\"fill_color\":{\"value\":\"#1f77b4\"},\"line_color\":{\"value\":\"#1f77b4\"},\"marker\":{\"value\":\"cross\"},\"size\":{\"value\":10},\"x\":{\"field\":\"x\"},\"y\":{\"field\":\"y\"}},\"id\":\"1137\",\"type\":\"Scatter\"},{\"attributes\":{},\"id\":\"1125\",\"type\":\"SaveTool\"},{\"attributes\":{\"data_source\":{\"id\":\"1136\"},\"glyph\":{\"id\":\"1137\"},\"hover_glyph\":null,\"muted_glyph\":null,\"nonselection_glyph\":{\"id\":\"1138\"},\"view\":{\"id\":\"1140\"}},\"id\":\"1139\",\"type\":\"GlyphRenderer\"},{\"attributes\":{\"overlay\":{\"id\":\"1128\"}},\"id\":\"1124\",\"type\":\"BoxZoomTool\"},{\"attributes\":{},\"id\":\"1126\",\"type\":\"ResetTool\"},{\"attributes\":{},\"id\":\"1106\",\"type\":\"DataRange1d\"},{\"attributes\":{\"data\":{\"x\":{\"__ndarray__\":\"dJ37ywgM479bi9GbBpT0vwANS/axBO6/VP4p8EvPzj9bsRDqZ7fxv3rBJ7bOMvK/zdfAVJNV9j+JRydEn662v5fCRfL0sPC/cjTfaA4y5z8=\",\"dtype\":\"float64\",\"order\":\"little\",\"shape\":[10]},\"y\":{\"__ndarray__\":\"ZWo3yvp+BcDNB5KWkkDgPz/4deFS++W/8883BkeA3T82FJNAY7jvP8NeJi+9tvm/6byYep8T0z+arqXuXRjVPzdJntsNRNE/gXLmjV5I8T8=\",\"dtype\":\"float64\",\"order\":\"little\",\"shape\":[10]}},\"selected\":{\"id\":\"1162\"},\"selection_policy\":{\"id\":\"1161\"}},\"id\":\"1136\",\"type\":\"ColumnDataSource\"},{\"attributes\":{\"fill_alpha\":{\"value\":0.1},\"fill_color\":{\"value\":\"#1f77b4\"},\"line_alpha\":{\"value\":0.1},\"line_color\":{\"value\":\"#1f77b4\"},\"marker\":{\"value\":\"cross\"},\"size\":{\"value\":10},\"x\":{\"field\":\"x\"},\"y\":{\"field\":\"y\"}},\"id\":\"1138\",\"type\":\"Scatter\"},{\"attributes\":{},\"id\":\"1108\",\"type\":\"DataRange1d\"},{\"attributes\":{},\"id\":\"1153\",\"type\":\"Title\"},{\"attributes\":{\"formatter\":{\"id\":\"1157\"},\"major_label_policy\":{\"id\":\"1158\"},\"ticker\":{\"id\":\"1119\"}},\"id\":\"1118\",\"type\":\"LinearAxis\"},{\"attributes\":{\"source\":{\"id\":\"1136\"}},\"id\":\"1140\",\"type\":\"CDSView\"},{\"attributes\":{\"formatter\":{\"id\":\"1154\"},\"major_label_policy\":{\"id\":\"1155\"},\"ticker\":{\"id\":\"1115\"}},\"id\":\"1114\",\"type\":\"LinearAxis\"},{\"attributes\":{\"active_multi\":null,\"tools\":[{\"id\":\"1122\"},{\"id\":\"1123\"},{\"id\":\"1124\"},{\"id\":\"1125\"},{\"id\":\"1126\"},{\"id\":\"1127\"}]},\"id\":\"1129\",\"type\":\"Toolbar\"},{\"attributes\":{},\"id\":\"1112\",\"type\":\"LinearScale\"},{\"attributes\":{},\"id\":\"1110\",\"type\":\"LinearScale\"},{\"attributes\":{},\"id\":\"1157\",\"type\":\"BasicTickFormatter\"},{\"attributes\":{},\"id\":\"1122\",\"type\":\"PanTool\"},{\"attributes\":{},\"id\":\"1115\",\"type\":\"BasicTicker\"},{\"attributes\":{\"axis\":{\"id\":\"1114\"},\"ticker\":null},\"id\":\"1117\",\"type\":\"Grid\"},{\"attributes\":{},\"id\":\"1161\",\"type\":\"UnionRenderers\"}],\"root_ids\":[\"1105\"]},\"title\":\"Bokeh Application\",\"version\":\"2.3.2\"}};\n",
       "  var render_items = [{\"docid\":\"8aaf2b81-8c9c-4722-84ca-b43457c14a6e\",\"root_ids\":[\"1105\"],\"roots\":{\"1105\":\"4cbfdb43-4a09-464f-8111-6b77fc8506ff\"}}];\n",
       "  root.Bokeh.embed.embed_items_notebook(docs_json, render_items);\n",
       "\n",
       "  }\n",
       "  if (root.Bokeh !== undefined) {\n",
       "    embed_document(root);\n",
       "  } else {\n",
       "    var attempts = 0;\n",
       "    var timer = setInterval(function(root) {\n",
       "      if (root.Bokeh !== undefined) {\n",
       "        clearInterval(timer);\n",
       "        embed_document(root);\n",
       "      } else {\n",
       "        attempts++;\n",
       "        if (attempts > 100) {\n",
       "          clearInterval(timer);\n",
       "          console.log(\"Bokeh: ERROR: Unable to run BokehJS code because BokehJS library is missing\");\n",
       "        }\n",
       "      }\n",
       "    }, 10, root)\n",
       "  }\n",
       "})(window);"
      ],
      "application/vnd.bokehjs_exec.v0+json": ""
     },
     "metadata": {
      "application/vnd.bokehjs_exec.v0+json": {
       "id": "1105"
      }
     },
     "output_type": "display_data"
    }
   ],
   "source": [
    "# step 1. 그림이 들어갈 figure 객체를 생성합니다. \n",
    "# 인자로 그래프의 높이와 너비를 지정합니다. \n",
    "p = figure(plot_width=400, plot_height=400)\n",
    "\n",
    "# step 2. 추가된 객체에 구체적인 그림을 생성합니다. \n",
    "# 이때 원하는 그래프의 종류와 데이터를 입력합니다. \n",
    "p.cross(x, y, size=10)\n",
    "\n",
    "# step 3. 완성된 그림을 호출합니다. \n",
    "show(p)"
   ]
  },
  {
   "cell_type": "code",
   "execution_count": 8,
   "metadata": {},
   "outputs": [
    {
     "data": {
      "text/html": [
       "\n",
       "\n",
       "\n",
       "\n",
       "\n",
       "\n",
       "  <div class=\"bk-root\" id=\"7800eeb6-6780-42df-9681-bf90054031ca\" data-root-id=\"1342\"></div>\n"
      ]
     },
     "metadata": {},
     "output_type": "display_data"
    },
    {
     "data": {
      "application/javascript": [
       "(function(root) {\n",
       "  function embed_document(root) {\n",
       "    \n",
       "  var docs_json = {\"ccea0662-c437-493f-aa56-8f44914e8376\":{\"defs\":[],\"roots\":{\"references\":[{\"attributes\":{\"below\":[{\"id\":\"1351\"}],\"center\":[{\"id\":\"1354\"},{\"id\":\"1358\"}],\"height\":400,\"left\":[{\"id\":\"1355\"}],\"renderers\":[{\"id\":\"1376\"}],\"title\":{\"id\":\"1412\"},\"toolbar\":{\"id\":\"1366\"},\"width\":400,\"x_range\":{\"id\":\"1343\"},\"x_scale\":{\"id\":\"1347\"},\"y_range\":{\"id\":\"1345\"},\"y_scale\":{\"id\":\"1349\"}},\"id\":\"1342\",\"subtype\":\"Figure\",\"type\":\"Plot\"},{\"attributes\":{\"bottom_units\":\"screen\",\"fill_alpha\":0.5,\"fill_color\":\"lightgrey\",\"left_units\":\"screen\",\"level\":\"overlay\",\"line_alpha\":1.0,\"line_color\":\"black\",\"line_dash\":[4,4],\"line_width\":2,\"right_units\":\"screen\",\"syncable\":false,\"top_units\":\"screen\"},\"id\":\"1365\",\"type\":\"BoxAnnotation\"},{\"attributes\":{},\"id\":\"1413\",\"type\":\"BasicTickFormatter\"},{\"attributes\":{\"formatter\":{\"id\":\"1416\"},\"major_label_policy\":{\"id\":\"1417\"},\"ticker\":{\"id\":\"1356\"}},\"id\":\"1355\",\"type\":\"LinearAxis\"},{\"attributes\":{},\"id\":\"1343\",\"type\":\"DataRange1d\"},{\"attributes\":{},\"id\":\"1414\",\"type\":\"AllLabels\"},{\"attributes\":{\"formatter\":{\"id\":\"1413\"},\"major_label_policy\":{\"id\":\"1414\"},\"ticker\":{\"id\":\"1352\"}},\"id\":\"1351\",\"type\":\"LinearAxis\"},{\"attributes\":{},\"id\":\"1349\",\"type\":\"LinearScale\"},{\"attributes\":{},\"id\":\"1420\",\"type\":\"UnionRenderers\"},{\"attributes\":{},\"id\":\"1364\",\"type\":\"HelpTool\"},{\"attributes\":{},\"id\":\"1347\",\"type\":\"LinearScale\"},{\"attributes\":{},\"id\":\"1421\",\"type\":\"Selection\"},{\"attributes\":{\"axis\":{\"id\":\"1351\"},\"ticker\":null},\"id\":\"1354\",\"type\":\"Grid\"},{\"attributes\":{},\"id\":\"1352\",\"type\":\"BasicTicker\"},{\"attributes\":{\"fill_color\":{\"value\":\"#1f77b4\"},\"line_color\":{\"value\":\"#1f77b4\"},\"marker\":{\"value\":\"x\"},\"size\":{\"field\":\"size\"},\"x\":{\"field\":\"x\"},\"y\":{\"field\":\"y\"}},\"id\":\"1374\",\"type\":\"Scatter\"},{\"attributes\":{\"axis\":{\"id\":\"1355\"},\"dimension\":1,\"ticker\":null},\"id\":\"1358\",\"type\":\"Grid\"},{\"attributes\":{},\"id\":\"1356\",\"type\":\"BasicTicker\"},{\"attributes\":{\"data\":{\"size\":{\"__ndarray__\":\"JAAAABQAAAALAAAAJwAAABwAAAAhAAAAHQAAACAAAAAbAAAAFQAAAA==\",\"dtype\":\"int32\",\"order\":\"little\",\"shape\":[10]},\"x\":{\"__ndarray__\":\"dJ37ywgM479bi9GbBpT0vwANS/axBO6/VP4p8EvPzj9bsRDqZ7fxv3rBJ7bOMvK/zdfAVJNV9j+JRydEn662v5fCRfL0sPC/cjTfaA4y5z8=\",\"dtype\":\"float64\",\"order\":\"little\",\"shape\":[10]},\"y\":{\"__ndarray__\":\"ZWo3yvp+BcDNB5KWkkDgPz/4deFS++W/8883BkeA3T82FJNAY7jvP8NeJi+9tvm/6byYep8T0z+arqXuXRjVPzdJntsNRNE/gXLmjV5I8T8=\",\"dtype\":\"float64\",\"order\":\"little\",\"shape\":[10]}},\"selected\":{\"id\":\"1421\"},\"selection_policy\":{\"id\":\"1420\"}},\"id\":\"1373\",\"type\":\"ColumnDataSource\"},{\"attributes\":{\"active_multi\":null,\"tools\":[{\"id\":\"1359\"},{\"id\":\"1360\"},{\"id\":\"1361\"},{\"id\":\"1362\"},{\"id\":\"1363\"},{\"id\":\"1364\"}]},\"id\":\"1366\",\"type\":\"Toolbar\"},{\"attributes\":{},\"id\":\"1360\",\"type\":\"WheelZoomTool\"},{\"attributes\":{},\"id\":\"1359\",\"type\":\"PanTool\"},{\"attributes\":{\"overlay\":{\"id\":\"1365\"}},\"id\":\"1361\",\"type\":\"BoxZoomTool\"},{\"attributes\":{},\"id\":\"1362\",\"type\":\"SaveTool\"},{\"attributes\":{},\"id\":\"1363\",\"type\":\"ResetTool\"},{\"attributes\":{},\"id\":\"1345\",\"type\":\"DataRange1d\"},{\"attributes\":{\"fill_alpha\":{\"value\":0.1},\"fill_color\":{\"value\":\"#1f77b4\"},\"line_alpha\":{\"value\":0.1},\"line_color\":{\"value\":\"#1f77b4\"},\"marker\":{\"value\":\"x\"},\"size\":{\"field\":\"size\"},\"x\":{\"field\":\"x\"},\"y\":{\"field\":\"y\"}},\"id\":\"1375\",\"type\":\"Scatter\"},{\"attributes\":{},\"id\":\"1412\",\"type\":\"Title\"},{\"attributes\":{},\"id\":\"1416\",\"type\":\"BasicTickFormatter\"},{\"attributes\":{\"data_source\":{\"id\":\"1373\"},\"glyph\":{\"id\":\"1374\"},\"hover_glyph\":null,\"muted_glyph\":null,\"nonselection_glyph\":{\"id\":\"1375\"},\"view\":{\"id\":\"1377\"}},\"id\":\"1376\",\"type\":\"GlyphRenderer\"},{\"attributes\":{},\"id\":\"1417\",\"type\":\"AllLabels\"},{\"attributes\":{\"source\":{\"id\":\"1373\"}},\"id\":\"1377\",\"type\":\"CDSView\"}],\"root_ids\":[\"1342\"]},\"title\":\"Bokeh Application\",\"version\":\"2.3.2\"}};\n",
       "  var render_items = [{\"docid\":\"ccea0662-c437-493f-aa56-8f44914e8376\",\"root_ids\":[\"1342\"],\"roots\":{\"1342\":\"7800eeb6-6780-42df-9681-bf90054031ca\"}}];\n",
       "  root.Bokeh.embed.embed_items_notebook(docs_json, render_items);\n",
       "\n",
       "  }\n",
       "  if (root.Bokeh !== undefined) {\n",
       "    embed_document(root);\n",
       "  } else {\n",
       "    var attempts = 0;\n",
       "    var timer = setInterval(function(root) {\n",
       "      if (root.Bokeh !== undefined) {\n",
       "        clearInterval(timer);\n",
       "        embed_document(root);\n",
       "      } else {\n",
       "        attempts++;\n",
       "        if (attempts > 100) {\n",
       "          clearInterval(timer);\n",
       "          console.log(\"Bokeh: ERROR: Unable to run BokehJS code because BokehJS library is missing\");\n",
       "        }\n",
       "      }\n",
       "    }, 10, root)\n",
       "  }\n",
       "})(window);"
      ],
      "application/vnd.bokehjs_exec.v0+json": ""
     },
     "metadata": {
      "application/vnd.bokehjs_exec.v0+json": {
       "id": "1342"
      }
     },
     "output_type": "display_data"
    }
   ],
   "source": [
    "# step 1. 그림이 들어갈 figure 객체를 생성합니다. \n",
    "# 인자로 그래프의 높이와 너비를 지정합니다. \n",
    "p = figure(plot_width=400, plot_height=400)\n",
    "\n",
    "# step 2. 추가된 객체에 구체적인 그림을 생성합니다. \n",
    "# 이때 원하는 그래프의 종류와 데이터를 입력합니다. \n",
    "p.x(x, y, size=size)\n",
    "# 사이즈 옵션을 추가하여 각 데이터의 크기를 다르게 지정합니다. \n",
    "\n",
    "# step 3. 완성된 그림을 호출합니다. \n",
    "show(p)"
   ]
  },
  {
   "cell_type": "code",
   "execution_count": 9,
   "metadata": {},
   "outputs": [
    {
     "data": {
      "text/html": [
       "\n",
       "\n",
       "\n",
       "\n",
       "\n",
       "\n",
       "  <div class=\"bk-root\" id=\"e4f93949-7311-4da0-bca3-b60c305ef623\" data-root-id=\"1477\"></div>\n"
      ]
     },
     "metadata": {},
     "output_type": "display_data"
    },
    {
     "data": {
      "application/javascript": [
       "(function(root) {\n",
       "  function embed_document(root) {\n",
       "    \n",
       "  var docs_json = {\"bd4436ab-80b2-4831-b3ac-1b805d907e0a\":{\"defs\":[],\"roots\":{\"references\":[{\"attributes\":{\"below\":[{\"id\":\"1486\"}],\"center\":[{\"id\":\"1489\"},{\"id\":\"1493\"}],\"height\":400,\"left\":[{\"id\":\"1490\"}],\"renderers\":[{\"id\":\"1511\"}],\"title\":{\"id\":\"1558\"},\"toolbar\":{\"id\":\"1501\"},\"width\":400,\"x_range\":{\"id\":\"1478\"},\"x_scale\":{\"id\":\"1482\"},\"y_range\":{\"id\":\"1480\"},\"y_scale\":{\"id\":\"1484\"}},\"id\":\"1477\",\"subtype\":\"Figure\",\"type\":\"Plot\"},{\"attributes\":{},\"id\":\"1559\",\"type\":\"BasicTickFormatter\"},{\"attributes\":{},\"id\":\"1560\",\"type\":\"AllLabels\"},{\"attributes\":{\"formatter\":{\"id\":\"1559\"},\"major_label_policy\":{\"id\":\"1560\"},\"ticker\":{\"id\":\"1487\"}},\"id\":\"1486\",\"type\":\"LinearAxis\"},{\"attributes\":{\"fill_color\":{\"value\":\"black\"},\"marker\":{\"value\":\"x\"},\"size\":{\"field\":\"size\"},\"x\":{\"field\":\"x\"},\"y\":{\"field\":\"y\"}},\"id\":\"1509\",\"type\":\"Scatter\"},{\"attributes\":{\"data\":{\"size\":{\"__ndarray__\":\"JAAAABQAAAALAAAAJwAAABwAAAAhAAAAHQAAACAAAAAbAAAAFQAAAA==\",\"dtype\":\"int32\",\"order\":\"little\",\"shape\":[10]},\"x\":{\"__ndarray__\":\"dJ37ywgM479bi9GbBpT0vwANS/axBO6/VP4p8EvPzj9bsRDqZ7fxv3rBJ7bOMvK/zdfAVJNV9j+JRydEn662v5fCRfL0sPC/cjTfaA4y5z8=\",\"dtype\":\"float64\",\"order\":\"little\",\"shape\":[10]},\"y\":{\"__ndarray__\":\"ZWo3yvp+BcDNB5KWkkDgPz/4deFS++W/8883BkeA3T82FJNAY7jvP8NeJi+9tvm/6byYep8T0z+arqXuXRjVPzdJntsNRNE/gXLmjV5I8T8=\",\"dtype\":\"float64\",\"order\":\"little\",\"shape\":[10]}},\"selected\":{\"id\":\"1567\"},\"selection_policy\":{\"id\":\"1566\"}},\"id\":\"1508\",\"type\":\"ColumnDataSource\"},{\"attributes\":{},\"id\":\"1478\",\"type\":\"DataRange1d\"},{\"attributes\":{\"fill_alpha\":{\"value\":0.1},\"fill_color\":{\"value\":\"black\"},\"line_alpha\":{\"value\":0.1},\"marker\":{\"value\":\"x\"},\"size\":{\"field\":\"size\"},\"x\":{\"field\":\"x\"},\"y\":{\"field\":\"y\"}},\"id\":\"1510\",\"type\":\"Scatter\"},{\"attributes\":{},\"id\":\"1480\",\"type\":\"DataRange1d\"},{\"attributes\":{\"formatter\":{\"id\":\"1562\"},\"major_label_policy\":{\"id\":\"1563\"},\"ticker\":{\"id\":\"1491\"}},\"id\":\"1490\",\"type\":\"LinearAxis\"},{\"attributes\":{},\"id\":\"1566\",\"type\":\"UnionRenderers\"},{\"attributes\":{},\"id\":\"1484\",\"type\":\"LinearScale\"},{\"attributes\":{\"data_source\":{\"id\":\"1508\"},\"glyph\":{\"id\":\"1509\"},\"hover_glyph\":null,\"muted_glyph\":null,\"nonselection_glyph\":{\"id\":\"1510\"},\"view\":{\"id\":\"1512\"}},\"id\":\"1511\",\"type\":\"GlyphRenderer\"},{\"attributes\":{},\"id\":\"1482\",\"type\":\"LinearScale\"},{\"attributes\":{},\"id\":\"1499\",\"type\":\"HelpTool\"},{\"attributes\":{},\"id\":\"1487\",\"type\":\"BasicTicker\"},{\"attributes\":{\"source\":{\"id\":\"1508\"}},\"id\":\"1512\",\"type\":\"CDSView\"},{\"attributes\":{},\"id\":\"1567\",\"type\":\"Selection\"},{\"attributes\":{\"axis\":{\"id\":\"1486\"},\"ticker\":null},\"id\":\"1489\",\"type\":\"Grid\"},{\"attributes\":{},\"id\":\"1563\",\"type\":\"AllLabels\"},{\"attributes\":{\"axis\":{\"id\":\"1490\"},\"dimension\":1,\"ticker\":null},\"id\":\"1493\",\"type\":\"Grid\"},{\"attributes\":{},\"id\":\"1491\",\"type\":\"BasicTicker\"},{\"attributes\":{\"active_multi\":null,\"tools\":[{\"id\":\"1494\"},{\"id\":\"1495\"},{\"id\":\"1496\"},{\"id\":\"1497\"},{\"id\":\"1498\"},{\"id\":\"1499\"}]},\"id\":\"1501\",\"type\":\"Toolbar\"},{\"attributes\":{},\"id\":\"1558\",\"type\":\"Title\"},{\"attributes\":{},\"id\":\"1495\",\"type\":\"WheelZoomTool\"},{\"attributes\":{},\"id\":\"1494\",\"type\":\"PanTool\"},{\"attributes\":{\"overlay\":{\"id\":\"1500\"}},\"id\":\"1496\",\"type\":\"BoxZoomTool\"},{\"attributes\":{},\"id\":\"1497\",\"type\":\"SaveTool\"},{\"attributes\":{},\"id\":\"1498\",\"type\":\"ResetTool\"},{\"attributes\":{\"bottom_units\":\"screen\",\"fill_alpha\":0.5,\"fill_color\":\"lightgrey\",\"left_units\":\"screen\",\"level\":\"overlay\",\"line_alpha\":1.0,\"line_color\":\"black\",\"line_dash\":[4,4],\"line_width\":2,\"right_units\":\"screen\",\"syncable\":false,\"top_units\":\"screen\"},\"id\":\"1500\",\"type\":\"BoxAnnotation\"},{\"attributes\":{},\"id\":\"1562\",\"type\":\"BasicTickFormatter\"}],\"root_ids\":[\"1477\"]},\"title\":\"Bokeh Application\",\"version\":\"2.3.2\"}};\n",
       "  var render_items = [{\"docid\":\"bd4436ab-80b2-4831-b3ac-1b805d907e0a\",\"root_ids\":[\"1477\"],\"roots\":{\"1477\":\"e4f93949-7311-4da0-bca3-b60c305ef623\"}}];\n",
       "  root.Bokeh.embed.embed_items_notebook(docs_json, render_items);\n",
       "\n",
       "  }\n",
       "  if (root.Bokeh !== undefined) {\n",
       "    embed_document(root);\n",
       "  } else {\n",
       "    var attempts = 0;\n",
       "    var timer = setInterval(function(root) {\n",
       "      if (root.Bokeh !== undefined) {\n",
       "        clearInterval(timer);\n",
       "        embed_document(root);\n",
       "      } else {\n",
       "        attempts++;\n",
       "        if (attempts > 100) {\n",
       "          clearInterval(timer);\n",
       "          console.log(\"Bokeh: ERROR: Unable to run BokehJS code because BokehJS library is missing\");\n",
       "        }\n",
       "      }\n",
       "    }, 10, root)\n",
       "  }\n",
       "})(window);"
      ],
      "application/vnd.bokehjs_exec.v0+json": ""
     },
     "metadata": {
      "application/vnd.bokehjs_exec.v0+json": {
       "id": "1477"
      }
     },
     "output_type": "display_data"
    }
   ],
   "source": [
    "# step 1. 그림이 들어갈 figure 객체를 생성합니다. \n",
    "# 인자로 그래프의 높이와 너비를 지정합니다. \n",
    "p = figure(plot_width=400, plot_height=400)\n",
    "\n",
    "# step 2. 추가된 객체에 구체적인 그림을 생성합니다. \n",
    "# 이때 원하는 그래프의 종류와 데이터를 입력합니다. \n",
    "p.x(x, y, size=size, color= 'black')\n",
    "# 사이즈 옵션을 추가하여 각 데이터의 크기를 다르게 지정합니다. \n",
    "# color 옵션으로 색상을 재지정합니다. \n",
    "\n",
    "# step 3. 완성된 그림을 호출합니다. \n",
    "show(p)"
   ]
  },
  {
   "cell_type": "markdown",
   "metadata": {},
   "source": [
    "### asterisk\n",
    "* 별모양의 점을 갖는 산점도를 그립니다. "
   ]
  },
  {
   "cell_type": "code",
   "execution_count": 11,
   "metadata": {
    "id": "1DPdaWUpjPWZ"
   },
   "outputs": [
    {
     "data": {
      "text/html": [
       "\n",
       "\n",
       "\n",
       "\n",
       "\n",
       "\n",
       "  <div class=\"bk-root\" id=\"c6fc0b50-4642-4a68-ba4c-6f7509e79197\" data-root-id=\"1623\"></div>\n"
      ]
     },
     "metadata": {},
     "output_type": "display_data"
    },
    {
     "data": {
      "application/javascript": [
       "(function(root) {\n",
       "  function embed_document(root) {\n",
       "    \n",
       "  var docs_json = {\"d436596c-3f7b-49e5-a875-cc772e2c2c5e\":{\"defs\":[],\"roots\":{\"references\":[{\"attributes\":{\"below\":[{\"id\":\"1632\"}],\"center\":[{\"id\":\"1635\"},{\"id\":\"1639\"}],\"height\":400,\"left\":[{\"id\":\"1636\"}],\"renderers\":[{\"id\":\"1657\"}],\"title\":{\"id\":\"1715\"},\"toolbar\":{\"id\":\"1647\"},\"width\":400,\"x_range\":{\"id\":\"1624\"},\"x_scale\":{\"id\":\"1628\"},\"y_range\":{\"id\":\"1626\"},\"y_scale\":{\"id\":\"1630\"}},\"id\":\"1623\",\"subtype\":\"Figure\",\"type\":\"Plot\"},{\"attributes\":{},\"id\":\"1645\",\"type\":\"HelpTool\"},{\"attributes\":{},\"id\":\"1716\",\"type\":\"BasicTickFormatter\"},{\"attributes\":{},\"id\":\"1640\",\"type\":\"PanTool\"},{\"attributes\":{\"formatter\":{\"id\":\"1719\"},\"major_label_policy\":{\"id\":\"1720\"},\"ticker\":{\"id\":\"1637\"}},\"id\":\"1636\",\"type\":\"LinearAxis\"},{\"attributes\":{},\"id\":\"1717\",\"type\":\"AllLabels\"},{\"attributes\":{\"data\":{\"size\":{\"__ndarray__\":\"JAAAABQAAAALAAAAJwAAABwAAAAhAAAAHQAAACAAAAAbAAAAFQAAAA==\",\"dtype\":\"int32\",\"order\":\"little\",\"shape\":[10]},\"x\":{\"__ndarray__\":\"dJ37ywgM479bi9GbBpT0vwANS/axBO6/VP4p8EvPzj9bsRDqZ7fxv3rBJ7bOMvK/zdfAVJNV9j+JRydEn662v5fCRfL0sPC/cjTfaA4y5z8=\",\"dtype\":\"float64\",\"order\":\"little\",\"shape\":[10]},\"y\":{\"__ndarray__\":\"ZWo3yvp+BcDNB5KWkkDgPz/4deFS++W/8883BkeA3T82FJNAY7jvP8NeJi+9tvm/6byYep8T0z+arqXuXRjVPzdJntsNRNE/gXLmjV5I8T8=\",\"dtype\":\"float64\",\"order\":\"little\",\"shape\":[10]}},\"selected\":{\"id\":\"1724\"},\"selection_policy\":{\"id\":\"1723\"}},\"id\":\"1654\",\"type\":\"ColumnDataSource\"},{\"attributes\":{},\"id\":\"1630\",\"type\":\"LinearScale\"},{\"attributes\":{},\"id\":\"1644\",\"type\":\"ResetTool\"},{\"attributes\":{},\"id\":\"1723\",\"type\":\"UnionRenderers\"},{\"attributes\":{\"bottom_units\":\"screen\",\"fill_alpha\":0.5,\"fill_color\":\"lightgrey\",\"left_units\":\"screen\",\"level\":\"overlay\",\"line_alpha\":1.0,\"line_color\":\"black\",\"line_dash\":[4,4],\"line_width\":2,\"right_units\":\"screen\",\"syncable\":false,\"top_units\":\"screen\"},\"id\":\"1646\",\"type\":\"BoxAnnotation\"},{\"attributes\":{},\"id\":\"1724\",\"type\":\"Selection\"},{\"attributes\":{},\"id\":\"1643\",\"type\":\"SaveTool\"},{\"attributes\":{},\"id\":\"1633\",\"type\":\"BasicTicker\"},{\"attributes\":{\"fill_color\":{\"value\":\"#1f77b4\"},\"line_color\":{\"value\":\"#1f77b4\"},\"marker\":{\"value\":\"asterisk\"},\"size\":{\"field\":\"size\"},\"x\":{\"field\":\"x\"},\"y\":{\"field\":\"y\"}},\"id\":\"1655\",\"type\":\"Scatter\"},{\"attributes\":{},\"id\":\"1641\",\"type\":\"WheelZoomTool\"},{\"attributes\":{},\"id\":\"1637\",\"type\":\"BasicTicker\"},{\"attributes\":{\"overlay\":{\"id\":\"1646\"}},\"id\":\"1642\",\"type\":\"BoxZoomTool\"},{\"attributes\":{},\"id\":\"1624\",\"type\":\"DataRange1d\"},{\"attributes\":{\"fill_alpha\":{\"value\":0.1},\"fill_color\":{\"value\":\"#1f77b4\"},\"line_alpha\":{\"value\":0.1},\"line_color\":{\"value\":\"#1f77b4\"},\"marker\":{\"value\":\"asterisk\"},\"size\":{\"field\":\"size\"},\"x\":{\"field\":\"x\"},\"y\":{\"field\":\"y\"}},\"id\":\"1656\",\"type\":\"Scatter\"},{\"attributes\":{\"active_multi\":null,\"tools\":[{\"id\":\"1640\"},{\"id\":\"1641\"},{\"id\":\"1642\"},{\"id\":\"1643\"},{\"id\":\"1644\"},{\"id\":\"1645\"}]},\"id\":\"1647\",\"type\":\"Toolbar\"},{\"attributes\":{\"data_source\":{\"id\":\"1654\"},\"glyph\":{\"id\":\"1655\"},\"hover_glyph\":null,\"muted_glyph\":null,\"nonselection_glyph\":{\"id\":\"1656\"},\"view\":{\"id\":\"1658\"}},\"id\":\"1657\",\"type\":\"GlyphRenderer\"},{\"attributes\":{\"source\":{\"id\":\"1654\"}},\"id\":\"1658\",\"type\":\"CDSView\"},{\"attributes\":{\"axis\":{\"id\":\"1632\"},\"ticker\":null},\"id\":\"1635\",\"type\":\"Grid\"},{\"attributes\":{\"formatter\":{\"id\":\"1716\"},\"major_label_policy\":{\"id\":\"1717\"},\"ticker\":{\"id\":\"1633\"}},\"id\":\"1632\",\"type\":\"LinearAxis\"},{\"attributes\":{},\"id\":\"1719\",\"type\":\"BasicTickFormatter\"},{\"attributes\":{\"axis\":{\"id\":\"1636\"},\"dimension\":1,\"ticker\":null},\"id\":\"1639\",\"type\":\"Grid\"},{\"attributes\":{},\"id\":\"1720\",\"type\":\"AllLabels\"},{\"attributes\":{},\"id\":\"1715\",\"type\":\"Title\"},{\"attributes\":{},\"id\":\"1628\",\"type\":\"LinearScale\"},{\"attributes\":{},\"id\":\"1626\",\"type\":\"DataRange1d\"}],\"root_ids\":[\"1623\"]},\"title\":\"Bokeh Application\",\"version\":\"2.3.2\"}};\n",
       "  var render_items = [{\"docid\":\"d436596c-3f7b-49e5-a875-cc772e2c2c5e\",\"root_ids\":[\"1623\"],\"roots\":{\"1623\":\"c6fc0b50-4642-4a68-ba4c-6f7509e79197\"}}];\n",
       "  root.Bokeh.embed.embed_items_notebook(docs_json, render_items);\n",
       "\n",
       "  }\n",
       "  if (root.Bokeh !== undefined) {\n",
       "    embed_document(root);\n",
       "  } else {\n",
       "    var attempts = 0;\n",
       "    var timer = setInterval(function(root) {\n",
       "      if (root.Bokeh !== undefined) {\n",
       "        clearInterval(timer);\n",
       "        embed_document(root);\n",
       "      } else {\n",
       "        attempts++;\n",
       "        if (attempts > 100) {\n",
       "          clearInterval(timer);\n",
       "          console.log(\"Bokeh: ERROR: Unable to run BokehJS code because BokehJS library is missing\");\n",
       "        }\n",
       "      }\n",
       "    }, 10, root)\n",
       "  }\n",
       "})(window);"
      ],
      "application/vnd.bokehjs_exec.v0+json": ""
     },
     "metadata": {
      "application/vnd.bokehjs_exec.v0+json": {
       "id": "1623"
      }
     },
     "output_type": "display_data"
    }
   ],
   "source": [
    "# step 1. 그림이 들어갈 figure 객체를 생성합니다. \n",
    "# 인자로 그래프의 높이와 너비를 지정합니다. \n",
    "p = bokeh.plotting.figure(plot_width=400, plot_height=400)\n",
    "\n",
    "# step 2. 추가된 객체에 구체적인 그림을 생성합니다. \n",
    "# 이때 원하는 그래프의 종류와 데이터를 입력합니다. \n",
    "p.asterisk(x, y, size=size)\n",
    "# 사이즈 옵션을 추가하여 각 데이터의 크기를 다르게 지정합니다. \n",
    "\n",
    "# step 3. 완성된 그림을 호출합니다. \n",
    "show(p)"
   ]
  },
  {
   "cell_type": "code",
   "execution_count": 14,
   "metadata": {
    "id": "5UfYa0f3hl2Q"
   },
   "outputs": [
    {
     "data": {
      "text/html": [
       "\n",
       "\n",
       "\n",
       "\n",
       "\n",
       "\n",
       "  <div class=\"bk-root\" id=\"470f3d09-5948-4030-81c6-e71a9f9b9395\" data-root-id=\"2127\"></div>\n"
      ]
     },
     "metadata": {},
     "output_type": "display_data"
    },
    {
     "data": {
      "application/javascript": [
       "(function(root) {\n",
       "  function embed_document(root) {\n",
       "    \n",
       "  var docs_json = {\"0e130c01-ad21-453c-b332-329bf2ce9916\":{\"defs\":[],\"roots\":{\"references\":[{\"attributes\":{\"below\":[{\"id\":\"2136\"}],\"center\":[{\"id\":\"2139\"},{\"id\":\"2143\"}],\"height\":400,\"left\":[{\"id\":\"2140\"}],\"renderers\":[{\"id\":\"2161\"}],\"title\":{\"id\":\"2252\"},\"toolbar\":{\"id\":\"2151\"},\"width\":400,\"x_range\":{\"id\":\"2128\"},\"x_scale\":{\"id\":\"2132\"},\"y_range\":{\"id\":\"2130\"},\"y_scale\":{\"id\":\"2134\"}},\"id\":\"2127\",\"subtype\":\"Figure\",\"type\":\"Plot\"},{\"attributes\":{\"formatter\":{\"id\":\"2256\"},\"major_label_policy\":{\"id\":\"2257\"},\"ticker\":{\"id\":\"2141\"}},\"id\":\"2140\",\"type\":\"LinearAxis\"},{\"attributes\":{\"formatter\":{\"id\":\"2253\"},\"major_label_policy\":{\"id\":\"2254\"},\"ticker\":{\"id\":\"2137\"}},\"id\":\"2136\",\"type\":\"LinearAxis\"},{\"attributes\":{},\"id\":\"2134\",\"type\":\"LinearScale\"},{\"attributes\":{\"data_source\":{\"id\":\"2158\"},\"glyph\":{\"id\":\"2159\"},\"hover_glyph\":null,\"muted_glyph\":null,\"nonselection_glyph\":{\"id\":\"2160\"},\"view\":{\"id\":\"2162\"}},\"id\":\"2161\",\"type\":\"GlyphRenderer\"},{\"attributes\":{},\"id\":\"2132\",\"type\":\"LinearScale\"},{\"attributes\":{},\"id\":\"2252\",\"type\":\"Title\"},{\"attributes\":{},\"id\":\"2149\",\"type\":\"HelpTool\"},{\"attributes\":{},\"id\":\"2137\",\"type\":\"BasicTicker\"},{\"attributes\":{\"source\":{\"id\":\"2158\"}},\"id\":\"2162\",\"type\":\"CDSView\"},{\"attributes\":{\"axis\":{\"id\":\"2140\"},\"dimension\":1,\"ticker\":null},\"id\":\"2143\",\"type\":\"Grid\"},{\"attributes\":{},\"id\":\"2141\",\"type\":\"BasicTicker\"},{\"attributes\":{\"active_multi\":null,\"tools\":[{\"id\":\"2144\"},{\"id\":\"2145\"},{\"id\":\"2146\"},{\"id\":\"2147\"},{\"id\":\"2148\"},{\"id\":\"2149\"}]},\"id\":\"2151\",\"type\":\"Toolbar\"},{\"attributes\":{},\"id\":\"2260\",\"type\":\"UnionRenderers\"},{\"attributes\":{},\"id\":\"2145\",\"type\":\"WheelZoomTool\"},{\"attributes\":{},\"id\":\"2144\",\"type\":\"PanTool\"},{\"attributes\":{\"overlay\":{\"id\":\"2150\"}},\"id\":\"2146\",\"type\":\"BoxZoomTool\"},{\"attributes\":{},\"id\":\"2147\",\"type\":\"SaveTool\"},{\"attributes\":{},\"id\":\"2261\",\"type\":\"Selection\"},{\"attributes\":{},\"id\":\"2148\",\"type\":\"ResetTool\"},{\"attributes\":{},\"id\":\"2253\",\"type\":\"BasicTickFormatter\"},{\"attributes\":{},\"id\":\"2254\",\"type\":\"AllLabels\"},{\"attributes\":{\"bottom_units\":\"screen\",\"fill_alpha\":0.5,\"fill_color\":\"lightgrey\",\"left_units\":\"screen\",\"level\":\"overlay\",\"line_alpha\":1.0,\"line_color\":\"black\",\"line_dash\":[4,4],\"line_width\":2,\"right_units\":\"screen\",\"syncable\":false,\"top_units\":\"screen\"},\"id\":\"2150\",\"type\":\"BoxAnnotation\"},{\"attributes\":{\"data\":{\"size\":{\"__ndarray__\":\"JAAAABQAAAALAAAAJwAAABwAAAAhAAAAHQAAACAAAAAbAAAAFQAAAA==\",\"dtype\":\"int32\",\"order\":\"little\",\"shape\":[10]},\"x\":{\"__ndarray__\":\"dJ37ywgM479bi9GbBpT0vwANS/axBO6/VP4p8EvPzj9bsRDqZ7fxv3rBJ7bOMvK/zdfAVJNV9j+JRydEn662v5fCRfL0sPC/cjTfaA4y5z8=\",\"dtype\":\"float64\",\"order\":\"little\",\"shape\":[10]},\"y\":{\"__ndarray__\":\"ZWo3yvp+BcDNB5KWkkDgPz/4deFS++W/8883BkeA3T82FJNAY7jvP8NeJi+9tvm/6byYep8T0z+arqXuXRjVPzdJntsNRNE/gXLmjV5I8T8=\",\"dtype\":\"float64\",\"order\":\"little\",\"shape\":[10]}},\"selected\":{\"id\":\"2261\"},\"selection_policy\":{\"id\":\"2260\"}},\"id\":\"2158\",\"type\":\"ColumnDataSource\"},{\"attributes\":{},\"id\":\"2256\",\"type\":\"BasicTickFormatter\"},{\"attributes\":{\"axis\":{\"id\":\"2136\"},\"ticker\":null},\"id\":\"2139\",\"type\":\"Grid\"},{\"attributes\":{\"fill_color\":{\"value\":\"#1f77b4\"},\"line_color\":{\"value\":\"gray\"},\"marker\":{\"value\":\"asterisk\"},\"size\":{\"field\":\"size\"},\"x\":{\"field\":\"x\"},\"y\":{\"field\":\"y\"}},\"id\":\"2159\",\"type\":\"Scatter\"},{\"attributes\":{},\"id\":\"2257\",\"type\":\"AllLabels\"},{\"attributes\":{},\"id\":\"2128\",\"type\":\"DataRange1d\"},{\"attributes\":{\"fill_alpha\":{\"value\":0.1},\"fill_color\":{\"value\":\"#1f77b4\"},\"line_alpha\":{\"value\":0.1},\"line_color\":{\"value\":\"gray\"},\"marker\":{\"value\":\"asterisk\"},\"size\":{\"field\":\"size\"},\"x\":{\"field\":\"x\"},\"y\":{\"field\":\"y\"}},\"id\":\"2160\",\"type\":\"Scatter\"},{\"attributes\":{},\"id\":\"2130\",\"type\":\"DataRange1d\"}],\"root_ids\":[\"2127\"]},\"title\":\"Bokeh Application\",\"version\":\"2.3.2\"}};\n",
       "  var render_items = [{\"docid\":\"0e130c01-ad21-453c-b332-329bf2ce9916\",\"root_ids\":[\"2127\"],\"roots\":{\"2127\":\"470f3d09-5948-4030-81c6-e71a9f9b9395\"}}];\n",
       "  root.Bokeh.embed.embed_items_notebook(docs_json, render_items);\n",
       "\n",
       "  }\n",
       "  if (root.Bokeh !== undefined) {\n",
       "    embed_document(root);\n",
       "  } else {\n",
       "    var attempts = 0;\n",
       "    var timer = setInterval(function(root) {\n",
       "      if (root.Bokeh !== undefined) {\n",
       "        clearInterval(timer);\n",
       "        embed_document(root);\n",
       "      } else {\n",
       "        attempts++;\n",
       "        if (attempts > 100) {\n",
       "          clearInterval(timer);\n",
       "          console.log(\"Bokeh: ERROR: Unable to run BokehJS code because BokehJS library is missing\");\n",
       "        }\n",
       "      }\n",
       "    }, 10, root)\n",
       "  }\n",
       "})(window);"
      ],
      "application/vnd.bokehjs_exec.v0+json": ""
     },
     "metadata": {
      "application/vnd.bokehjs_exec.v0+json": {
       "id": "2127"
      }
     },
     "output_type": "display_data"
    }
   ],
   "source": [
    "p = bokeh.plotting.figure(plot_width=400, plot_height=400)\n",
    "p.asterisk(x, y, size=size, line_color=\"gray\")\n",
    "show(p)"
   ]
  },
  {
   "cell_type": "markdown",
   "metadata": {
    "id": "xtUYrkGwhjCr"
   },
   "source": [
    "### Circle()"
   ]
  },
  {
   "cell_type": "markdown",
   "metadata": {},
   "source": [
    "#### circle"
   ]
  },
  {
   "cell_type": "code",
   "execution_count": 15,
   "metadata": {},
   "outputs": [
    {
     "data": {
      "text/html": [
       "\n",
       "\n",
       "\n",
       "\n",
       "\n",
       "\n",
       "  <div class=\"bk-root\" id=\"e950a15b-b39a-494d-9b38-b3351debe60a\" data-root-id=\"2317\"></div>\n"
      ]
     },
     "metadata": {},
     "output_type": "display_data"
    },
    {
     "data": {
      "application/javascript": [
       "(function(root) {\n",
       "  function embed_document(root) {\n",
       "    \n",
       "  var docs_json = {\"3802a15b-ed2e-4105-97df-35444b2f8815\":{\"defs\":[],\"roots\":{\"references\":[{\"attributes\":{\"below\":[{\"id\":\"2326\"}],\"center\":[{\"id\":\"2329\"},{\"id\":\"2333\"}],\"height\":400,\"left\":[{\"id\":\"2330\"}],\"renderers\":[{\"id\":\"2351\"}],\"title\":{\"id\":\"2453\"},\"toolbar\":{\"id\":\"2341\"},\"width\":400,\"x_range\":{\"id\":\"2318\"},\"x_scale\":{\"id\":\"2322\"},\"y_range\":{\"id\":\"2320\"},\"y_scale\":{\"id\":\"2324\"}},\"id\":\"2317\",\"subtype\":\"Figure\",\"type\":\"Plot\"},{\"attributes\":{},\"id\":\"2454\",\"type\":\"BasicTickFormatter\"},{\"attributes\":{\"fill_color\":{\"value\":\"#1f77b4\"},\"line_color\":{\"value\":\"#1f77b4\"},\"size\":{\"field\":\"size\"},\"x\":{\"field\":\"x\"},\"y\":{\"field\":\"y\"}},\"id\":\"2349\",\"type\":\"Circle\"},{\"attributes\":{},\"id\":\"2455\",\"type\":\"AllLabels\"},{\"attributes\":{},\"id\":\"2320\",\"type\":\"DataRange1d\"},{\"attributes\":{},\"id\":\"2318\",\"type\":\"DataRange1d\"},{\"attributes\":{\"formatter\":{\"id\":\"2457\"},\"major_label_policy\":{\"id\":\"2458\"},\"ticker\":{\"id\":\"2331\"}},\"id\":\"2330\",\"type\":\"LinearAxis\"},{\"attributes\":{},\"id\":\"2322\",\"type\":\"LinearScale\"},{\"attributes\":{},\"id\":\"2334\",\"type\":\"PanTool\"},{\"attributes\":{},\"id\":\"2324\",\"type\":\"LinearScale\"},{\"attributes\":{\"formatter\":{\"id\":\"2454\"},\"major_label_policy\":{\"id\":\"2455\"},\"ticker\":{\"id\":\"2327\"}},\"id\":\"2326\",\"type\":\"LinearAxis\"},{\"attributes\":{\"active_multi\":null,\"tools\":[{\"id\":\"2334\"},{\"id\":\"2335\"},{\"id\":\"2336\"},{\"id\":\"2337\"},{\"id\":\"2338\"},{\"id\":\"2339\"}]},\"id\":\"2341\",\"type\":\"Toolbar\"},{\"attributes\":{},\"id\":\"2339\",\"type\":\"HelpTool\"},{\"attributes\":{},\"id\":\"2327\",\"type\":\"BasicTicker\"},{\"attributes\":{\"axis\":{\"id\":\"2326\"},\"ticker\":null},\"id\":\"2329\",\"type\":\"Grid\"},{\"attributes\":{\"data_source\":{\"id\":\"2348\"},\"glyph\":{\"id\":\"2349\"},\"hover_glyph\":null,\"muted_glyph\":null,\"nonselection_glyph\":{\"id\":\"2350\"},\"view\":{\"id\":\"2352\"}},\"id\":\"2351\",\"type\":\"GlyphRenderer\"},{\"attributes\":{\"axis\":{\"id\":\"2330\"},\"dimension\":1,\"ticker\":null},\"id\":\"2333\",\"type\":\"Grid\"},{\"attributes\":{},\"id\":\"2331\",\"type\":\"BasicTicker\"},{\"attributes\":{\"source\":{\"id\":\"2348\"}},\"id\":\"2352\",\"type\":\"CDSView\"},{\"attributes\":{\"data\":{\"size\":{\"__ndarray__\":\"JAAAABQAAAALAAAAJwAAABwAAAAhAAAAHQAAACAAAAAbAAAAFQAAAA==\",\"dtype\":\"int32\",\"order\":\"little\",\"shape\":[10]},\"x\":{\"__ndarray__\":\"dJ37ywgM479bi9GbBpT0vwANS/axBO6/VP4p8EvPzj9bsRDqZ7fxv3rBJ7bOMvK/zdfAVJNV9j+JRydEn662v5fCRfL0sPC/cjTfaA4y5z8=\",\"dtype\":\"float64\",\"order\":\"little\",\"shape\":[10]},\"y\":{\"__ndarray__\":\"ZWo3yvp+BcDNB5KWkkDgPz/4deFS++W/8883BkeA3T82FJNAY7jvP8NeJi+9tvm/6byYep8T0z+arqXuXRjVPzdJntsNRNE/gXLmjV5I8T8=\",\"dtype\":\"float64\",\"order\":\"little\",\"shape\":[10]}},\"selected\":{\"id\":\"2462\"},\"selection_policy\":{\"id\":\"2461\"}},\"id\":\"2348\",\"type\":\"ColumnDataSource\"},{\"attributes\":{\"fill_alpha\":{\"value\":0.1},\"fill_color\":{\"value\":\"#1f77b4\"},\"line_alpha\":{\"value\":0.1},\"line_color\":{\"value\":\"#1f77b4\"},\"size\":{\"field\":\"size\"},\"x\":{\"field\":\"x\"},\"y\":{\"field\":\"y\"}},\"id\":\"2350\",\"type\":\"Circle\"},{\"attributes\":{},\"id\":\"2335\",\"type\":\"WheelZoomTool\"},{\"attributes\":{\"overlay\":{\"id\":\"2340\"}},\"id\":\"2336\",\"type\":\"BoxZoomTool\"},{\"attributes\":{},\"id\":\"2337\",\"type\":\"SaveTool\"},{\"attributes\":{},\"id\":\"2338\",\"type\":\"ResetTool\"},{\"attributes\":{},\"id\":\"2461\",\"type\":\"UnionRenderers\"},{\"attributes\":{},\"id\":\"2457\",\"type\":\"BasicTickFormatter\"},{\"attributes\":{},\"id\":\"2458\",\"type\":\"AllLabels\"},{\"attributes\":{},\"id\":\"2453\",\"type\":\"Title\"},{\"attributes\":{},\"id\":\"2462\",\"type\":\"Selection\"},{\"attributes\":{\"bottom_units\":\"screen\",\"fill_alpha\":0.5,\"fill_color\":\"lightgrey\",\"left_units\":\"screen\",\"level\":\"overlay\",\"line_alpha\":1.0,\"line_color\":\"black\",\"line_dash\":[4,4],\"line_width\":2,\"right_units\":\"screen\",\"syncable\":false,\"top_units\":\"screen\"},\"id\":\"2340\",\"type\":\"BoxAnnotation\"}],\"root_ids\":[\"2317\"]},\"title\":\"Bokeh Application\",\"version\":\"2.3.2\"}};\n",
       "  var render_items = [{\"docid\":\"3802a15b-ed2e-4105-97df-35444b2f8815\",\"root_ids\":[\"2317\"],\"roots\":{\"2317\":\"e950a15b-b39a-494d-9b38-b3351debe60a\"}}];\n",
       "  root.Bokeh.embed.embed_items_notebook(docs_json, render_items);\n",
       "\n",
       "  }\n",
       "  if (root.Bokeh !== undefined) {\n",
       "    embed_document(root);\n",
       "  } else {\n",
       "    var attempts = 0;\n",
       "    var timer = setInterval(function(root) {\n",
       "      if (root.Bokeh !== undefined) {\n",
       "        clearInterval(timer);\n",
       "        embed_document(root);\n",
       "      } else {\n",
       "        attempts++;\n",
       "        if (attempts > 100) {\n",
       "          clearInterval(timer);\n",
       "          console.log(\"Bokeh: ERROR: Unable to run BokehJS code because BokehJS library is missing\");\n",
       "        }\n",
       "      }\n",
       "    }, 10, root)\n",
       "  }\n",
       "})(window);"
      ],
      "application/vnd.bokehjs_exec.v0+json": ""
     },
     "metadata": {
      "application/vnd.bokehjs_exec.v0+json": {
       "id": "2317"
      }
     },
     "output_type": "display_data"
    }
   ],
   "source": [
    "p = bokeh.plotting.figure(plot_width=400, plot_height=400)\n",
    "p.circle(x, y, size=size)\n",
    "show(p)"
   ]
  },
  {
   "cell_type": "code",
   "execution_count": 17,
   "metadata": {
    "id": "Tu_tJoFfh0zg"
   },
   "outputs": [
    {
     "data": {
      "text/html": [
       "\n",
       "\n",
       "\n",
       "\n",
       "\n",
       "\n",
       "  <div class=\"bk-root\" id=\"dc946ef9-5396-4eca-ab79-b7cf93f78050\" data-root-id=\"2730\"></div>\n"
      ]
     },
     "metadata": {},
     "output_type": "display_data"
    },
    {
     "data": {
      "application/javascript": [
       "(function(root) {\n",
       "  function embed_document(root) {\n",
       "    \n",
       "  var docs_json = {\"d66d36d8-a5d8-4bc6-a3a1-672f6dee815b\":{\"defs\":[],\"roots\":{\"references\":[{\"attributes\":{\"below\":[{\"id\":\"2739\"}],\"center\":[{\"id\":\"2742\"},{\"id\":\"2746\"}],\"height\":400,\"left\":[{\"id\":\"2743\"}],\"renderers\":[{\"id\":\"2764\"}],\"title\":{\"id\":\"2888\"},\"toolbar\":{\"id\":\"2754\"},\"width\":400,\"x_range\":{\"id\":\"2731\"},\"x_scale\":{\"id\":\"2735\"},\"y_range\":{\"id\":\"2733\"},\"y_scale\":{\"id\":\"2737\"}},\"id\":\"2730\",\"subtype\":\"Figure\",\"type\":\"Plot\"},{\"attributes\":{},\"id\":\"2892\",\"type\":\"BasicTickFormatter\"},{\"attributes\":{\"source\":{\"id\":\"2761\"}},\"id\":\"2765\",\"type\":\"CDSView\"},{\"attributes\":{},\"id\":\"2893\",\"type\":\"AllLabels\"},{\"attributes\":{\"bottom_units\":\"screen\",\"fill_alpha\":0.5,\"fill_color\":\"lightgrey\",\"left_units\":\"screen\",\"level\":\"overlay\",\"line_alpha\":1.0,\"line_color\":\"black\",\"line_dash\":[4,4],\"line_width\":2,\"right_units\":\"screen\",\"syncable\":false,\"top_units\":\"screen\"},\"id\":\"2753\",\"type\":\"BoxAnnotation\"},{\"attributes\":{},\"id\":\"2890\",\"type\":\"AllLabels\"},{\"attributes\":{},\"id\":\"2735\",\"type\":\"LinearScale\"},{\"attributes\":{\"data_source\":{\"id\":\"2761\"},\"glyph\":{\"id\":\"2762\"},\"hover_glyph\":null,\"muted_glyph\":null,\"nonselection_glyph\":{\"id\":\"2763\"},\"view\":{\"id\":\"2765\"}},\"id\":\"2764\",\"type\":\"GlyphRenderer\"},{\"attributes\":{},\"id\":\"2889\",\"type\":\"BasicTickFormatter\"},{\"attributes\":{},\"id\":\"2896\",\"type\":\"UnionRenderers\"},{\"attributes\":{\"data\":{\"size\":{\"__ndarray__\":\"JAAAABQAAAALAAAAJwAAABwAAAAhAAAAHQAAACAAAAAbAAAAFQAAAA==\",\"dtype\":\"int32\",\"order\":\"little\",\"shape\":[10]},\"x\":{\"__ndarray__\":\"dJ37ywgM479bi9GbBpT0vwANS/axBO6/VP4p8EvPzj9bsRDqZ7fxv3rBJ7bOMvK/zdfAVJNV9j+JRydEn662v5fCRfL0sPC/cjTfaA4y5z8=\",\"dtype\":\"float64\",\"order\":\"little\",\"shape\":[10]},\"y\":{\"__ndarray__\":\"ZWo3yvp+BcDNB5KWkkDgPz/4deFS++W/8883BkeA3T82FJNAY7jvP8NeJi+9tvm/6byYep8T0z+arqXuXRjVPzdJntsNRNE/gXLmjV5I8T8=\",\"dtype\":\"float64\",\"order\":\"little\",\"shape\":[10]}},\"selected\":{\"id\":\"2897\"},\"selection_policy\":{\"id\":\"2896\"}},\"id\":\"2761\",\"type\":\"ColumnDataSource\"},{\"attributes\":{},\"id\":\"2897\",\"type\":\"Selection\"},{\"attributes\":{},\"id\":\"2888\",\"type\":\"Title\"},{\"attributes\":{},\"id\":\"2731\",\"type\":\"DataRange1d\"},{\"attributes\":{},\"id\":\"2733\",\"type\":\"DataRange1d\"},{\"attributes\":{\"formatter\":{\"id\":\"2892\"},\"major_label_policy\":{\"id\":\"2893\"},\"ticker\":{\"id\":\"2744\"}},\"id\":\"2743\",\"type\":\"LinearAxis\"},{\"attributes\":{\"formatter\":{\"id\":\"2889\"},\"major_label_policy\":{\"id\":\"2890\"},\"ticker\":{\"id\":\"2740\"}},\"id\":\"2739\",\"type\":\"LinearAxis\"},{\"attributes\":{},\"id\":\"2737\",\"type\":\"LinearScale\"},{\"attributes\":{},\"id\":\"2752\",\"type\":\"HelpTool\"},{\"attributes\":{},\"id\":\"2740\",\"type\":\"BasicTicker\"},{\"attributes\":{\"axis\":{\"id\":\"2739\"},\"ticker\":null},\"id\":\"2742\",\"type\":\"Grid\"},{\"attributes\":{\"fill_alpha\":{\"value\":0.5},\"fill_color\":{\"value\":\"blue\"},\"line_color\":{\"value\":\"navy\"},\"size\":{\"field\":\"size\"},\"x\":{\"field\":\"x\"},\"y\":{\"field\":\"y\"}},\"id\":\"2762\",\"type\":\"Circle\"},{\"attributes\":{\"axis\":{\"id\":\"2743\"},\"dimension\":1,\"ticker\":null},\"id\":\"2746\",\"type\":\"Grid\"},{\"attributes\":{\"fill_alpha\":{\"value\":0.1},\"fill_color\":{\"value\":\"blue\"},\"line_alpha\":{\"value\":0.1},\"line_color\":{\"value\":\"navy\"},\"size\":{\"field\":\"size\"},\"x\":{\"field\":\"x\"},\"y\":{\"field\":\"y\"}},\"id\":\"2763\",\"type\":\"Circle\"},{\"attributes\":{},\"id\":\"2744\",\"type\":\"BasicTicker\"},{\"attributes\":{\"active_multi\":null,\"tools\":[{\"id\":\"2747\"},{\"id\":\"2748\"},{\"id\":\"2749\"},{\"id\":\"2750\"},{\"id\":\"2751\"},{\"id\":\"2752\"}]},\"id\":\"2754\",\"type\":\"Toolbar\"},{\"attributes\":{},\"id\":\"2748\",\"type\":\"WheelZoomTool\"},{\"attributes\":{},\"id\":\"2747\",\"type\":\"PanTool\"},{\"attributes\":{\"overlay\":{\"id\":\"2753\"}},\"id\":\"2749\",\"type\":\"BoxZoomTool\"},{\"attributes\":{},\"id\":\"2750\",\"type\":\"SaveTool\"},{\"attributes\":{},\"id\":\"2751\",\"type\":\"ResetTool\"}],\"root_ids\":[\"2730\"]},\"title\":\"Bokeh Application\",\"version\":\"2.3.2\"}};\n",
       "  var render_items = [{\"docid\":\"d66d36d8-a5d8-4bc6-a3a1-672f6dee815b\",\"root_ids\":[\"2730\"],\"roots\":{\"2730\":\"dc946ef9-5396-4eca-ab79-b7cf93f78050\"}}];\n",
       "  root.Bokeh.embed.embed_items_notebook(docs_json, render_items);\n",
       "\n",
       "  }\n",
       "  if (root.Bokeh !== undefined) {\n",
       "    embed_document(root);\n",
       "  } else {\n",
       "    var attempts = 0;\n",
       "    var timer = setInterval(function(root) {\n",
       "      if (root.Bokeh !== undefined) {\n",
       "        clearInterval(timer);\n",
       "        embed_document(root);\n",
       "      } else {\n",
       "        attempts++;\n",
       "        if (attempts > 100) {\n",
       "          clearInterval(timer);\n",
       "          console.log(\"Bokeh: ERROR: Unable to run BokehJS code because BokehJS library is missing\");\n",
       "        }\n",
       "      }\n",
       "    }, 10, root)\n",
       "  }\n",
       "})(window);"
      ],
      "application/vnd.bokehjs_exec.v0+json": ""
     },
     "metadata": {
      "application/vnd.bokehjs_exec.v0+json": {
       "id": "2730"
      }
     },
     "output_type": "display_data"
    }
   ],
   "source": [
    "p = bokeh.plotting.figure(plot_width=400, plot_height=400)\n",
    "p.circle(x, y, size=size, line_color=\"navy\", fill_color=\"blue\", fill_alpha=0.5)\n",
    "show(p)\n",
    "\n",
    "\n",
    "# 색상 옵션 \n",
    "    # fill_alpha=0.5 - 투명도 지정(절반)"
   ]
  },
  {
   "cell_type": "markdown",
   "metadata": {},
   "source": [
    "#### circle_cross()"
   ]
  },
  {
   "cell_type": "code",
   "execution_count": 19,
   "metadata": {},
   "outputs": [
    {
     "data": {
      "text/html": [
       "\n",
       "\n",
       "\n",
       "\n",
       "\n",
       "\n",
       "  <div class=\"bk-root\" id=\"371c5b2b-3e6d-47c0-9398-129264e719ca\" data-root-id=\"3204\"></div>\n"
      ]
     },
     "metadata": {},
     "output_type": "display_data"
    },
    {
     "data": {
      "application/javascript": [
       "(function(root) {\n",
       "  function embed_document(root) {\n",
       "    \n",
       "  var docs_json = {\"1d4e7c06-d166-4a66-9c88-88ec64e18933\":{\"defs\":[],\"roots\":{\"references\":[{\"attributes\":{\"below\":[{\"id\":\"3213\"}],\"center\":[{\"id\":\"3216\"},{\"id\":\"3220\"}],\"height\":400,\"left\":[{\"id\":\"3217\"}],\"renderers\":[{\"id\":\"3238\"}],\"title\":{\"id\":\"3386\"},\"toolbar\":{\"id\":\"3228\"},\"width\":400,\"x_range\":{\"id\":\"3205\"},\"x_scale\":{\"id\":\"3209\"},\"y_range\":{\"id\":\"3207\"},\"y_scale\":{\"id\":\"3211\"}},\"id\":\"3204\",\"subtype\":\"Figure\",\"type\":\"Plot\"},{\"attributes\":{\"source\":{\"id\":\"3235\"}},\"id\":\"3239\",\"type\":\"CDSView\"},{\"attributes\":{},\"id\":\"3391\",\"type\":\"AllLabels\"},{\"attributes\":{\"data_source\":{\"id\":\"3235\"},\"glyph\":{\"id\":\"3236\"},\"hover_glyph\":null,\"muted_glyph\":null,\"nonselection_glyph\":{\"id\":\"3237\"},\"view\":{\"id\":\"3239\"}},\"id\":\"3238\",\"type\":\"GlyphRenderer\"},{\"attributes\":{},\"id\":\"3386\",\"type\":\"Title\"},{\"attributes\":{},\"id\":\"3387\",\"type\":\"BasicTickFormatter\"},{\"attributes\":{\"fill_alpha\":{\"value\":0.1},\"fill_color\":{\"value\":\"blue\"},\"line_alpha\":{\"value\":0.1},\"line_color\":{\"value\":\"navy\"},\"marker\":{\"value\":\"circle_cross\"},\"size\":{\"field\":\"size\"},\"x\":{\"field\":\"x\"},\"y\":{\"field\":\"y\"}},\"id\":\"3237\",\"type\":\"Scatter\"},{\"attributes\":{\"fill_alpha\":{\"value\":0.5},\"fill_color\":{\"value\":\"blue\"},\"line_color\":{\"value\":\"navy\"},\"marker\":{\"value\":\"circle_cross\"},\"size\":{\"field\":\"size\"},\"x\":{\"field\":\"x\"},\"y\":{\"field\":\"y\"}},\"id\":\"3236\",\"type\":\"Scatter\"},{\"attributes\":{\"data\":{\"size\":{\"__ndarray__\":\"JAAAABQAAAALAAAAJwAAABwAAAAhAAAAHQAAACAAAAAbAAAAFQAAAA==\",\"dtype\":\"int32\",\"order\":\"little\",\"shape\":[10]},\"x\":{\"__ndarray__\":\"dJ37ywgM479bi9GbBpT0vwANS/axBO6/VP4p8EvPzj9bsRDqZ7fxv3rBJ7bOMvK/zdfAVJNV9j+JRydEn662v5fCRfL0sPC/cjTfaA4y5z8=\",\"dtype\":\"float64\",\"order\":\"little\",\"shape\":[10]},\"y\":{\"__ndarray__\":\"ZWo3yvp+BcDNB5KWkkDgPz/4deFS++W/8883BkeA3T82FJNAY7jvP8NeJi+9tvm/6byYep8T0z+arqXuXRjVPzdJntsNRNE/gXLmjV5I8T8=\",\"dtype\":\"float64\",\"order\":\"little\",\"shape\":[10]}},\"selected\":{\"id\":\"3395\"},\"selection_policy\":{\"id\":\"3394\"}},\"id\":\"3235\",\"type\":\"ColumnDataSource\"},{\"attributes\":{},\"id\":\"3388\",\"type\":\"AllLabels\"},{\"attributes\":{},\"id\":\"3205\",\"type\":\"DataRange1d\"},{\"attributes\":{},\"id\":\"3207\",\"type\":\"DataRange1d\"},{\"attributes\":{\"formatter\":{\"id\":\"3390\"},\"major_label_policy\":{\"id\":\"3391\"},\"ticker\":{\"id\":\"3218\"}},\"id\":\"3217\",\"type\":\"LinearAxis\"},{\"attributes\":{},\"id\":\"3394\",\"type\":\"UnionRenderers\"},{\"attributes\":{\"formatter\":{\"id\":\"3387\"},\"major_label_policy\":{\"id\":\"3388\"},\"ticker\":{\"id\":\"3214\"}},\"id\":\"3213\",\"type\":\"LinearAxis\"},{\"attributes\":{},\"id\":\"3211\",\"type\":\"LinearScale\"},{\"attributes\":{},\"id\":\"3209\",\"type\":\"LinearScale\"},{\"attributes\":{},\"id\":\"3226\",\"type\":\"HelpTool\"},{\"attributes\":{},\"id\":\"3395\",\"type\":\"Selection\"},{\"attributes\":{},\"id\":\"3214\",\"type\":\"BasicTicker\"},{\"attributes\":{\"axis\":{\"id\":\"3213\"},\"ticker\":null},\"id\":\"3216\",\"type\":\"Grid\"},{\"attributes\":{\"axis\":{\"id\":\"3217\"},\"dimension\":1,\"ticker\":null},\"id\":\"3220\",\"type\":\"Grid\"},{\"attributes\":{},\"id\":\"3218\",\"type\":\"BasicTicker\"},{\"attributes\":{\"active_multi\":null,\"tools\":[{\"id\":\"3221\"},{\"id\":\"3222\"},{\"id\":\"3223\"},{\"id\":\"3224\"},{\"id\":\"3225\"},{\"id\":\"3226\"}]},\"id\":\"3228\",\"type\":\"Toolbar\"},{\"attributes\":{},\"id\":\"3222\",\"type\":\"WheelZoomTool\"},{\"attributes\":{\"bottom_units\":\"screen\",\"fill_alpha\":0.5,\"fill_color\":\"lightgrey\",\"left_units\":\"screen\",\"level\":\"overlay\",\"line_alpha\":1.0,\"line_color\":\"black\",\"line_dash\":[4,4],\"line_width\":2,\"right_units\":\"screen\",\"syncable\":false,\"top_units\":\"screen\"},\"id\":\"3227\",\"type\":\"BoxAnnotation\"},{\"attributes\":{},\"id\":\"3221\",\"type\":\"PanTool\"},{\"attributes\":{\"overlay\":{\"id\":\"3227\"}},\"id\":\"3223\",\"type\":\"BoxZoomTool\"},{\"attributes\":{},\"id\":\"3224\",\"type\":\"SaveTool\"},{\"attributes\":{},\"id\":\"3225\",\"type\":\"ResetTool\"},{\"attributes\":{},\"id\":\"3390\",\"type\":\"BasicTickFormatter\"}],\"root_ids\":[\"3204\"]},\"title\":\"Bokeh Application\",\"version\":\"2.3.2\"}};\n",
       "  var render_items = [{\"docid\":\"1d4e7c06-d166-4a66-9c88-88ec64e18933\",\"root_ids\":[\"3204\"],\"roots\":{\"3204\":\"371c5b2b-3e6d-47c0-9398-129264e719ca\"}}];\n",
       "  root.Bokeh.embed.embed_items_notebook(docs_json, render_items);\n",
       "\n",
       "  }\n",
       "  if (root.Bokeh !== undefined) {\n",
       "    embed_document(root);\n",
       "  } else {\n",
       "    var attempts = 0;\n",
       "    var timer = setInterval(function(root) {\n",
       "      if (root.Bokeh !== undefined) {\n",
       "        clearInterval(timer);\n",
       "        embed_document(root);\n",
       "      } else {\n",
       "        attempts++;\n",
       "        if (attempts > 100) {\n",
       "          clearInterval(timer);\n",
       "          console.log(\"Bokeh: ERROR: Unable to run BokehJS code because BokehJS library is missing\");\n",
       "        }\n",
       "      }\n",
       "    }, 10, root)\n",
       "  }\n",
       "})(window);"
      ],
      "application/vnd.bokehjs_exec.v0+json": ""
     },
     "metadata": {
      "application/vnd.bokehjs_exec.v0+json": {
       "id": "3204"
      }
     },
     "output_type": "display_data"
    }
   ],
   "source": [
    "p = bokeh.plotting.figure(plot_width=400, plot_height=400)\n",
    "p.circle_cross(x, y, size=size, line_color=\"navy\", fill_color=\"blue\", fill_alpha=0.5)\n",
    "show(p)\n",
    "\n",
    "\n",
    "# 같은 p 객체에 동일 데이터로 각각 circle과 cross를 그렸을때와 동일한 형태입니다.\n",
    "# p = bokeh.plotting.figure(plot_width=400, plot_height=400)\n",
    "# p.circle(x, y, size=size, line_color=\"navy\", fill_color=\"blue\", fill_alpha=0.5)\n",
    "# p.cross(x, y, size=size, line_color=\"navy\", fill_color=\"blue\", fill_alpha=0.5)\n",
    "# show(p)"
   ]
  },
  {
   "cell_type": "markdown",
   "metadata": {
    "id": "M2MOT6AUh4i5"
   },
   "source": [
    "#### circle_x()"
   ]
  },
  {
   "cell_type": "code",
   "execution_count": 20,
   "metadata": {
    "id": "Swh3k_uMiyrV"
   },
   "outputs": [
    {
     "data": {
      "text/html": [
       "\n",
       "\n",
       "\n",
       "\n",
       "\n",
       "\n",
       "  <div class=\"bk-root\" id=\"b4f1b586-2906-454c-accf-2f12f1633895\" data-root-id=\"3451\"></div>\n"
      ]
     },
     "metadata": {},
     "output_type": "display_data"
    },
    {
     "data": {
      "application/javascript": [
       "(function(root) {\n",
       "  function embed_document(root) {\n",
       "    \n",
       "  var docs_json = {\"883a136a-012c-4e0f-b6c0-86695195ba8f\":{\"defs\":[],\"roots\":{\"references\":[{\"attributes\":{\"below\":[{\"id\":\"3460\"}],\"center\":[{\"id\":\"3463\"},{\"id\":\"3467\"}],\"height\":400,\"left\":[{\"id\":\"3464\"}],\"renderers\":[{\"id\":\"3485\"}],\"title\":{\"id\":\"3644\"},\"toolbar\":{\"id\":\"3475\"},\"width\":400,\"x_range\":{\"id\":\"3452\"},\"x_scale\":{\"id\":\"3456\"},\"y_range\":{\"id\":\"3454\"},\"y_scale\":{\"id\":\"3458\"}},\"id\":\"3451\",\"subtype\":\"Figure\",\"type\":\"Plot\"},{\"attributes\":{\"data_source\":{\"id\":\"3482\"},\"glyph\":{\"id\":\"3483\"},\"hover_glyph\":null,\"muted_glyph\":null,\"nonselection_glyph\":{\"id\":\"3484\"},\"view\":{\"id\":\"3486\"}},\"id\":\"3485\",\"type\":\"GlyphRenderer\"},{\"attributes\":{\"data\":{\"size\":{\"__ndarray__\":\"JAAAABQAAAALAAAAJwAAABwAAAAhAAAAHQAAACAAAAAbAAAAFQAAAA==\",\"dtype\":\"int32\",\"order\":\"little\",\"shape\":[10]},\"x\":{\"__ndarray__\":\"dJ37ywgM479bi9GbBpT0vwANS/axBO6/VP4p8EvPzj9bsRDqZ7fxv3rBJ7bOMvK/zdfAVJNV9j+JRydEn662v5fCRfL0sPC/cjTfaA4y5z8=\",\"dtype\":\"float64\",\"order\":\"little\",\"shape\":[10]},\"y\":{\"__ndarray__\":\"ZWo3yvp+BcDNB5KWkkDgPz/4deFS++W/8883BkeA3T82FJNAY7jvP8NeJi+9tvm/6byYep8T0z+arqXuXRjVPzdJntsNRNE/gXLmjV5I8T8=\",\"dtype\":\"float64\",\"order\":\"little\",\"shape\":[10]}},\"selected\":{\"id\":\"3653\"},\"selection_policy\":{\"id\":\"3652\"}},\"id\":\"3482\",\"type\":\"ColumnDataSource\"},{\"attributes\":{\"active_multi\":null,\"tools\":[{\"id\":\"3468\"},{\"id\":\"3469\"},{\"id\":\"3470\"},{\"id\":\"3471\"},{\"id\":\"3472\"},{\"id\":\"3473\"}]},\"id\":\"3475\",\"type\":\"Toolbar\"},{\"attributes\":{},\"id\":\"3452\",\"type\":\"DataRange1d\"},{\"attributes\":{},\"id\":\"3653\",\"type\":\"Selection\"},{\"attributes\":{},\"id\":\"3454\",\"type\":\"DataRange1d\"},{\"attributes\":{\"formatter\":{\"id\":\"3648\"},\"major_label_policy\":{\"id\":\"3649\"},\"ticker\":{\"id\":\"3465\"}},\"id\":\"3464\",\"type\":\"LinearAxis\"},{\"attributes\":{},\"id\":\"3644\",\"type\":\"Title\"},{\"attributes\":{\"formatter\":{\"id\":\"3645\"},\"major_label_policy\":{\"id\":\"3646\"},\"ticker\":{\"id\":\"3461\"}},\"id\":\"3460\",\"type\":\"LinearAxis\"},{\"attributes\":{},\"id\":\"3458\",\"type\":\"LinearScale\"},{\"attributes\":{},\"id\":\"3456\",\"type\":\"LinearScale\"},{\"attributes\":{},\"id\":\"3473\",\"type\":\"HelpTool\"},{\"attributes\":{},\"id\":\"3461\",\"type\":\"BasicTicker\"},{\"attributes\":{\"axis\":{\"id\":\"3464\"},\"dimension\":1,\"ticker\":null},\"id\":\"3467\",\"type\":\"Grid\"},{\"attributes\":{\"axis\":{\"id\":\"3460\"},\"ticker\":null},\"id\":\"3463\",\"type\":\"Grid\"},{\"attributes\":{\"source\":{\"id\":\"3482\"}},\"id\":\"3486\",\"type\":\"CDSView\"},{\"attributes\":{},\"id\":\"3465\",\"type\":\"BasicTicker\"},{\"attributes\":{\"fill_alpha\":{\"value\":0.5},\"fill_color\":{\"value\":\"blue\"},\"line_color\":{\"value\":\"navy\"},\"marker\":{\"value\":\"circle_x\"},\"size\":{\"field\":\"size\"},\"x\":{\"field\":\"x\"},\"y\":{\"field\":\"y\"}},\"id\":\"3483\",\"type\":\"Scatter\"},{\"attributes\":{},\"id\":\"3469\",\"type\":\"WheelZoomTool\"},{\"attributes\":{},\"id\":\"3471\",\"type\":\"SaveTool\"},{\"attributes\":{},\"id\":\"3468\",\"type\":\"PanTool\"},{\"attributes\":{\"overlay\":{\"id\":\"3474\"}},\"id\":\"3470\",\"type\":\"BoxZoomTool\"},{\"attributes\":{},\"id\":\"3648\",\"type\":\"BasicTickFormatter\"},{\"attributes\":{},\"id\":\"3472\",\"type\":\"ResetTool\"},{\"attributes\":{},\"id\":\"3649\",\"type\":\"AllLabels\"},{\"attributes\":{\"bottom_units\":\"screen\",\"fill_alpha\":0.5,\"fill_color\":\"lightgrey\",\"left_units\":\"screen\",\"level\":\"overlay\",\"line_alpha\":1.0,\"line_color\":\"black\",\"line_dash\":[4,4],\"line_width\":2,\"right_units\":\"screen\",\"syncable\":false,\"top_units\":\"screen\"},\"id\":\"3474\",\"type\":\"BoxAnnotation\"},{\"attributes\":{},\"id\":\"3645\",\"type\":\"BasicTickFormatter\"},{\"attributes\":{},\"id\":\"3646\",\"type\":\"AllLabels\"},{\"attributes\":{\"fill_alpha\":{\"value\":0.1},\"fill_color\":{\"value\":\"blue\"},\"line_alpha\":{\"value\":0.1},\"line_color\":{\"value\":\"navy\"},\"marker\":{\"value\":\"circle_x\"},\"size\":{\"field\":\"size\"},\"x\":{\"field\":\"x\"},\"y\":{\"field\":\"y\"}},\"id\":\"3484\",\"type\":\"Scatter\"},{\"attributes\":{},\"id\":\"3652\",\"type\":\"UnionRenderers\"}],\"root_ids\":[\"3451\"]},\"title\":\"Bokeh Application\",\"version\":\"2.3.2\"}};\n",
       "  var render_items = [{\"docid\":\"883a136a-012c-4e0f-b6c0-86695195ba8f\",\"root_ids\":[\"3451\"],\"roots\":{\"3451\":\"b4f1b586-2906-454c-accf-2f12f1633895\"}}];\n",
       "  root.Bokeh.embed.embed_items_notebook(docs_json, render_items);\n",
       "\n",
       "  }\n",
       "  if (root.Bokeh !== undefined) {\n",
       "    embed_document(root);\n",
       "  } else {\n",
       "    var attempts = 0;\n",
       "    var timer = setInterval(function(root) {\n",
       "      if (root.Bokeh !== undefined) {\n",
       "        clearInterval(timer);\n",
       "        embed_document(root);\n",
       "      } else {\n",
       "        attempts++;\n",
       "        if (attempts > 100) {\n",
       "          clearInterval(timer);\n",
       "          console.log(\"Bokeh: ERROR: Unable to run BokehJS code because BokehJS library is missing\");\n",
       "        }\n",
       "      }\n",
       "    }, 10, root)\n",
       "  }\n",
       "})(window);"
      ],
      "application/vnd.bokehjs_exec.v0+json": ""
     },
     "metadata": {
      "application/vnd.bokehjs_exec.v0+json": {
       "id": "3451"
      }
     },
     "output_type": "display_data"
    }
   ],
   "source": [
    "p = bokeh.plotting.figure(plot_width=400, plot_height=400)\n",
    "p.circle_x(x, y, size=size, line_color=\"navy\", fill_color=\"blue\", fill_alpha=0.5)\n",
    "show(p)\n",
    "\n",
    "\n",
    "# 같은 p 객체에 동일 데이터로 각각 circle과 cross를 그렸을때와 동일한 형태입니다.\n",
    "# p = bokeh.plotting.figure(plot_width=400, plot_height=400)\n",
    "# p.circle(x, y, size=size, line_color=\"navy\", fill_color=\"blue\", fill_alpha=0.5)\n",
    "# p.x(x, y, size=size, line_color=\"navy\", fill_color=\"blue\", fill_alpha=0.5)\n",
    "# show(p)"
   ]
  },
  {
   "cell_type": "markdown",
   "metadata": {
    "id": "Imibn-tEi95d"
   },
   "source": [
    "### triangle() "
   ]
  },
  {
   "cell_type": "code",
   "execution_count": 22,
   "metadata": {},
   "outputs": [
    {
     "data": {
      "text/html": [
       "\n",
       "\n",
       "\n",
       "\n",
       "\n",
       "\n",
       "  <div class=\"bk-root\" id=\"47cbd639-6e2e-418a-bcfc-43db6c0fb9f8\" data-root-id=\"3978\"></div>\n"
      ]
     },
     "metadata": {},
     "output_type": "display_data"
    },
    {
     "data": {
      "application/javascript": [
       "(function(root) {\n",
       "  function embed_document(root) {\n",
       "    \n",
       "  var docs_json = {\"e260880a-15a0-4f8c-b9fa-3d14ddf51d11\":{\"defs\":[],\"roots\":{\"references\":[{\"attributes\":{\"below\":[{\"id\":\"3987\"}],\"center\":[{\"id\":\"3990\"},{\"id\":\"3994\"}],\"height\":400,\"left\":[{\"id\":\"3991\"}],\"renderers\":[{\"id\":\"4012\"}],\"title\":{\"id\":\"4193\"},\"toolbar\":{\"id\":\"4002\"},\"width\":400,\"x_range\":{\"id\":\"3979\"},\"x_scale\":{\"id\":\"3983\"},\"y_range\":{\"id\":\"3981\"},\"y_scale\":{\"id\":\"3985\"}},\"id\":\"3978\",\"subtype\":\"Figure\",\"type\":\"Plot\"},{\"attributes\":{},\"id\":\"4201\",\"type\":\"UnionRenderers\"},{\"attributes\":{},\"id\":\"4202\",\"type\":\"Selection\"},{\"attributes\":{\"bottom_units\":\"screen\",\"fill_alpha\":0.5,\"fill_color\":\"lightgrey\",\"left_units\":\"screen\",\"level\":\"overlay\",\"line_alpha\":1.0,\"line_color\":\"black\",\"line_dash\":[4,4],\"line_width\":2,\"right_units\":\"screen\",\"syncable\":false,\"top_units\":\"screen\"},\"id\":\"4001\",\"type\":\"BoxAnnotation\"},{\"attributes\":{},\"id\":\"3983\",\"type\":\"LinearScale\"},{\"attributes\":{},\"id\":\"3981\",\"type\":\"DataRange1d\"},{\"attributes\":{},\"id\":\"4194\",\"type\":\"BasicTickFormatter\"},{\"attributes\":{},\"id\":\"4195\",\"type\":\"AllLabels\"},{\"attributes\":{\"axis\":{\"id\":\"3991\"},\"dimension\":1,\"ticker\":null},\"id\":\"3994\",\"type\":\"Grid\"},{\"attributes\":{\"formatter\":{\"id\":\"4194\"},\"major_label_policy\":{\"id\":\"4195\"},\"ticker\":{\"id\":\"3988\"}},\"id\":\"3987\",\"type\":\"LinearAxis\"},{\"attributes\":{},\"id\":\"3992\",\"type\":\"BasicTicker\"},{\"attributes\":{},\"id\":\"4000\",\"type\":\"HelpTool\"},{\"attributes\":{},\"id\":\"3988\",\"type\":\"BasicTicker\"},{\"attributes\":{},\"id\":\"3979\",\"type\":\"DataRange1d\"},{\"attributes\":{},\"id\":\"3999\",\"type\":\"ResetTool\"},{\"attributes\":{\"overlay\":{\"id\":\"4001\"}},\"id\":\"3997\",\"type\":\"BoxZoomTool\"},{\"attributes\":{},\"id\":\"3998\",\"type\":\"SaveTool\"},{\"attributes\":{\"axis\":{\"id\":\"3987\"},\"ticker\":null},\"id\":\"3990\",\"type\":\"Grid\"},{\"attributes\":{},\"id\":\"3985\",\"type\":\"LinearScale\"},{\"attributes\":{\"formatter\":{\"id\":\"4197\"},\"major_label_policy\":{\"id\":\"4198\"},\"ticker\":{\"id\":\"3992\"}},\"id\":\"3991\",\"type\":\"LinearAxis\"},{\"attributes\":{\"data_source\":{\"id\":\"4009\"},\"glyph\":{\"id\":\"4010\"},\"hover_glyph\":null,\"muted_glyph\":null,\"nonselection_glyph\":{\"id\":\"4011\"},\"view\":{\"id\":\"4013\"}},\"id\":\"4012\",\"type\":\"GlyphRenderer\"},{\"attributes\":{\"fill_alpha\":{\"value\":0.1},\"fill_color\":{\"value\":\"orange\"},\"line_alpha\":{\"value\":0.1},\"line_color\":{\"value\":\"red\"},\"marker\":{\"value\":\"triangle\"},\"size\":{\"field\":\"size\"},\"x\":{\"field\":\"x\"},\"y\":{\"field\":\"y\"}},\"id\":\"4011\",\"type\":\"Scatter\"},{\"attributes\":{\"source\":{\"id\":\"4009\"}},\"id\":\"4013\",\"type\":\"CDSView\"},{\"attributes\":{},\"id\":\"4197\",\"type\":\"BasicTickFormatter\"},{\"attributes\":{},\"id\":\"3996\",\"type\":\"WheelZoomTool\"},{\"attributes\":{},\"id\":\"4198\",\"type\":\"AllLabels\"},{\"attributes\":{\"active_multi\":null,\"tools\":[{\"id\":\"3995\"},{\"id\":\"3996\"},{\"id\":\"3997\"},{\"id\":\"3998\"},{\"id\":\"3999\"},{\"id\":\"4000\"}]},\"id\":\"4002\",\"type\":\"Toolbar\"},{\"attributes\":{},\"id\":\"4193\",\"type\":\"Title\"},{\"attributes\":{\"fill_alpha\":{\"value\":0.5},\"fill_color\":{\"value\":\"orange\"},\"line_alpha\":{\"value\":0.5},\"line_color\":{\"value\":\"red\"},\"marker\":{\"value\":\"triangle\"},\"size\":{\"field\":\"size\"},\"x\":{\"field\":\"x\"},\"y\":{\"field\":\"y\"}},\"id\":\"4010\",\"type\":\"Scatter\"},{\"attributes\":{},\"id\":\"3995\",\"type\":\"PanTool\"},{\"attributes\":{\"data\":{\"size\":{\"__ndarray__\":\"JAAAABQAAAALAAAAJwAAABwAAAAhAAAAHQAAACAAAAAbAAAAFQAAAA==\",\"dtype\":\"int32\",\"order\":\"little\",\"shape\":[10]},\"x\":{\"__ndarray__\":\"dJ37ywgM479bi9GbBpT0vwANS/axBO6/VP4p8EvPzj9bsRDqZ7fxv3rBJ7bOMvK/zdfAVJNV9j+JRydEn662v5fCRfL0sPC/cjTfaA4y5z8=\",\"dtype\":\"float64\",\"order\":\"little\",\"shape\":[10]},\"y\":{\"__ndarray__\":\"ZWo3yvp+BcDNB5KWkkDgPz/4deFS++W/8883BkeA3T82FJNAY7jvP8NeJi+9tvm/6byYep8T0z+arqXuXRjVPzdJntsNRNE/gXLmjV5I8T8=\",\"dtype\":\"float64\",\"order\":\"little\",\"shape\":[10]}},\"selected\":{\"id\":\"4202\"},\"selection_policy\":{\"id\":\"4201\"}},\"id\":\"4009\",\"type\":\"ColumnDataSource\"}],\"root_ids\":[\"3978\"]},\"title\":\"Bokeh Application\",\"version\":\"2.3.2\"}};\n",
       "  var render_items = [{\"docid\":\"e260880a-15a0-4f8c-b9fa-3d14ddf51d11\",\"root_ids\":[\"3978\"],\"roots\":{\"3978\":\"47cbd639-6e2e-418a-bcfc-43db6c0fb9f8\"}}];\n",
       "  root.Bokeh.embed.embed_items_notebook(docs_json, render_items);\n",
       "\n",
       "  }\n",
       "  if (root.Bokeh !== undefined) {\n",
       "    embed_document(root);\n",
       "  } else {\n",
       "    var attempts = 0;\n",
       "    var timer = setInterval(function(root) {\n",
       "      if (root.Bokeh !== undefined) {\n",
       "        clearInterval(timer);\n",
       "        embed_document(root);\n",
       "      } else {\n",
       "        attempts++;\n",
       "        if (attempts > 100) {\n",
       "          clearInterval(timer);\n",
       "          console.log(\"Bokeh: ERROR: Unable to run BokehJS code because BokehJS library is missing\");\n",
       "        }\n",
       "      }\n",
       "    }, 10, root)\n",
       "  }\n",
       "})(window);"
      ],
      "application/vnd.bokehjs_exec.v0+json": ""
     },
     "metadata": {
      "application/vnd.bokehjs_exec.v0+json": {
       "id": "3978"
      }
     },
     "output_type": "display_data"
    }
   ],
   "source": [
    "p = bokeh.plotting.figure(plot_width=400, plot_height=400)\n",
    "p.triangle(x, y, size=size, color=\"orange\", line_color='red', alpha=0.5)\n",
    "show(p)"
   ]
  },
  {
   "cell_type": "code",
   "execution_count": 23,
   "metadata": {
    "id": "byowNOL6S6Oh"
   },
   "outputs": [
    {
     "data": {
      "text/html": [
       "\n",
       "\n",
       "\n",
       "\n",
       "\n",
       "\n",
       "  <div class=\"bk-root\" id=\"16f9e96b-8ccc-4770-9e94-d05f227cd093\" data-root-id=\"4258\"></div>\n"
      ]
     },
     "metadata": {},
     "output_type": "display_data"
    },
    {
     "data": {
      "application/javascript": [
       "(function(root) {\n",
       "  function embed_document(root) {\n",
       "    \n",
       "  var docs_json = {\"5fed120c-d596-43b0-81a9-b42eca2c0abd\":{\"defs\":[],\"roots\":{\"references\":[{\"attributes\":{\"below\":[{\"id\":\"4267\"}],\"center\":[{\"id\":\"4270\"},{\"id\":\"4274\"}],\"height\":400,\"left\":[{\"id\":\"4271\"}],\"renderers\":[{\"id\":\"4292\"}],\"title\":{\"id\":\"4484\"},\"toolbar\":{\"id\":\"4282\"},\"width\":400,\"x_range\":{\"id\":\"4259\"},\"x_scale\":{\"id\":\"4263\"},\"y_range\":{\"id\":\"4261\"},\"y_scale\":{\"id\":\"4265\"}},\"id\":\"4258\",\"subtype\":\"Figure\",\"type\":\"Plot\"},{\"attributes\":{},\"id\":\"4279\",\"type\":\"ResetTool\"},{\"attributes\":{\"fill_alpha\":{\"value\":0.1},\"fill_color\":{\"value\":\"orange\"},\"line_alpha\":{\"value\":0.1},\"line_color\":{\"value\":\"red\"},\"marker\":{\"value\":\"inverted_triangle\"},\"size\":{\"field\":\"size\"},\"x\":{\"field\":\"x\"},\"y\":{\"field\":\"y\"}},\"id\":\"4291\",\"type\":\"Scatter\"},{\"attributes\":{\"data_source\":{\"id\":\"4289\"},\"glyph\":{\"id\":\"4290\"},\"hover_glyph\":null,\"muted_glyph\":null,\"nonselection_glyph\":{\"id\":\"4291\"},\"view\":{\"id\":\"4293\"}},\"id\":\"4292\",\"type\":\"GlyphRenderer\"},{\"attributes\":{\"active_multi\":null,\"tools\":[{\"id\":\"4275\"},{\"id\":\"4276\"},{\"id\":\"4277\"},{\"id\":\"4278\"},{\"id\":\"4279\"},{\"id\":\"4280\"}]},\"id\":\"4282\",\"type\":\"Toolbar\"},{\"attributes\":{\"source\":{\"id\":\"4289\"}},\"id\":\"4293\",\"type\":\"CDSView\"},{\"attributes\":{},\"id\":\"4280\",\"type\":\"HelpTool\"},{\"attributes\":{},\"id\":\"4492\",\"type\":\"UnionRenderers\"},{\"attributes\":{},\"id\":\"4484\",\"type\":\"Title\"},{\"attributes\":{},\"id\":\"4493\",\"type\":\"Selection\"},{\"attributes\":{\"fill_alpha\":{\"value\":0.5},\"fill_color\":{\"value\":\"orange\"},\"line_alpha\":{\"value\":0.5},\"line_color\":{\"value\":\"red\"},\"marker\":{\"value\":\"inverted_triangle\"},\"size\":{\"field\":\"size\"},\"x\":{\"field\":\"x\"},\"y\":{\"field\":\"y\"}},\"id\":\"4290\",\"type\":\"Scatter\"},{\"attributes\":{\"bottom_units\":\"screen\",\"fill_alpha\":0.5,\"fill_color\":\"lightgrey\",\"left_units\":\"screen\",\"level\":\"overlay\",\"line_alpha\":1.0,\"line_color\":\"black\",\"line_dash\":[4,4],\"line_width\":2,\"right_units\":\"screen\",\"syncable\":false,\"top_units\":\"screen\"},\"id\":\"4281\",\"type\":\"BoxAnnotation\"},{\"attributes\":{\"data\":{\"size\":{\"__ndarray__\":\"JAAAABQAAAALAAAAJwAAABwAAAAhAAAAHQAAACAAAAAbAAAAFQAAAA==\",\"dtype\":\"int32\",\"order\":\"little\",\"shape\":[10]},\"x\":{\"__ndarray__\":\"dJ37ywgM479bi9GbBpT0vwANS/axBO6/VP4p8EvPzj9bsRDqZ7fxv3rBJ7bOMvK/zdfAVJNV9j+JRydEn662v5fCRfL0sPC/cjTfaA4y5z8=\",\"dtype\":\"float64\",\"order\":\"little\",\"shape\":[10]},\"y\":{\"__ndarray__\":\"ZWo3yvp+BcDNB5KWkkDgPz/4deFS++W/8883BkeA3T82FJNAY7jvP8NeJi+9tvm/6byYep8T0z+arqXuXRjVPzdJntsNRNE/gXLmjV5I8T8=\",\"dtype\":\"float64\",\"order\":\"little\",\"shape\":[10]}},\"selected\":{\"id\":\"4493\"},\"selection_policy\":{\"id\":\"4492\"}},\"id\":\"4289\",\"type\":\"ColumnDataSource\"},{\"attributes\":{},\"id\":\"4259\",\"type\":\"DataRange1d\"},{\"attributes\":{},\"id\":\"4261\",\"type\":\"DataRange1d\"},{\"attributes\":{\"formatter\":{\"id\":\"4488\"},\"major_label_policy\":{\"id\":\"4489\"},\"ticker\":{\"id\":\"4272\"}},\"id\":\"4271\",\"type\":\"LinearAxis\"},{\"attributes\":{\"formatter\":{\"id\":\"4485\"},\"major_label_policy\":{\"id\":\"4486\"},\"ticker\":{\"id\":\"4268\"}},\"id\":\"4267\",\"type\":\"LinearAxis\"},{\"attributes\":{},\"id\":\"4485\",\"type\":\"BasicTickFormatter\"},{\"attributes\":{},\"id\":\"4265\",\"type\":\"LinearScale\"},{\"attributes\":{\"overlay\":{\"id\":\"4281\"}},\"id\":\"4277\",\"type\":\"BoxZoomTool\"},{\"attributes\":{},\"id\":\"4263\",\"type\":\"LinearScale\"},{\"attributes\":{},\"id\":\"4486\",\"type\":\"AllLabels\"},{\"attributes\":{},\"id\":\"4268\",\"type\":\"BasicTicker\"},{\"attributes\":{\"axis\":{\"id\":\"4267\"},\"ticker\":null},\"id\":\"4270\",\"type\":\"Grid\"},{\"attributes\":{\"axis\":{\"id\":\"4271\"},\"dimension\":1,\"ticker\":null},\"id\":\"4274\",\"type\":\"Grid\"},{\"attributes\":{},\"id\":\"4488\",\"type\":\"BasicTickFormatter\"},{\"attributes\":{},\"id\":\"4272\",\"type\":\"BasicTicker\"},{\"attributes\":{},\"id\":\"4489\",\"type\":\"AllLabels\"},{\"attributes\":{},\"id\":\"4278\",\"type\":\"SaveTool\"},{\"attributes\":{},\"id\":\"4276\",\"type\":\"WheelZoomTool\"},{\"attributes\":{},\"id\":\"4275\",\"type\":\"PanTool\"}],\"root_ids\":[\"4258\"]},\"title\":\"Bokeh Application\",\"version\":\"2.3.2\"}};\n",
       "  var render_items = [{\"docid\":\"5fed120c-d596-43b0-81a9-b42eca2c0abd\",\"root_ids\":[\"4258\"],\"roots\":{\"4258\":\"16f9e96b-8ccc-4770-9e94-d05f227cd093\"}}];\n",
       "  root.Bokeh.embed.embed_items_notebook(docs_json, render_items);\n",
       "\n",
       "  }\n",
       "  if (root.Bokeh !== undefined) {\n",
       "    embed_document(root);\n",
       "  } else {\n",
       "    var attempts = 0;\n",
       "    var timer = setInterval(function(root) {\n",
       "      if (root.Bokeh !== undefined) {\n",
       "        clearInterval(timer);\n",
       "        embed_document(root);\n",
       "      } else {\n",
       "        attempts++;\n",
       "        if (attempts > 100) {\n",
       "          clearInterval(timer);\n",
       "          console.log(\"Bokeh: ERROR: Unable to run BokehJS code because BokehJS library is missing\");\n",
       "        }\n",
       "      }\n",
       "    }, 10, root)\n",
       "  }\n",
       "})(window);"
      ],
      "application/vnd.bokehjs_exec.v0+json": ""
     },
     "metadata": {
      "application/vnd.bokehjs_exec.v0+json": {
       "id": "4258"
      }
     },
     "output_type": "display_data"
    }
   ],
   "source": [
    "# 역삼각형 모양으로 그립니다. \n",
    "p = bokeh.plotting.figure(plot_width=400, plot_height=400)\n",
    "p.inverted_triangle(x, y, size=size, color=\"orange\", line_color='red', alpha=0.5)\n",
    "show(p)"
   ]
  },
  {
   "cell_type": "markdown",
   "metadata": {},
   "source": [
    "### square()"
   ]
  },
  {
   "cell_type": "code",
   "execution_count": 25,
   "metadata": {
    "id": "WeU_ALoQS_p7"
   },
   "outputs": [
    {
     "data": {
      "text/html": [
       "\n",
       "\n",
       "\n",
       "\n",
       "\n",
       "\n",
       "  <div class=\"bk-root\" id=\"b99aa60e-362d-450f-bdd3-555c284621fc\" data-root-id=\"4851\"></div>\n"
      ]
     },
     "metadata": {},
     "output_type": "display_data"
    },
    {
     "data": {
      "application/javascript": [
       "(function(root) {\n",
       "  function embed_document(root) {\n",
       "    \n",
       "  var docs_json = {\"d348caf3-4c39-454b-92f7-7f2d97c61442\":{\"defs\":[],\"roots\":{\"references\":[{\"attributes\":{\"below\":[{\"id\":\"4860\"}],\"center\":[{\"id\":\"4863\"},{\"id\":\"4867\"}],\"height\":400,\"left\":[{\"id\":\"4864\"}],\"renderers\":[{\"id\":\"4885\"}],\"title\":{\"id\":\"5099\"},\"toolbar\":{\"id\":\"4875\"},\"width\":400,\"x_range\":{\"id\":\"4852\"},\"x_scale\":{\"id\":\"4856\"},\"y_range\":{\"id\":\"4854\"},\"y_scale\":{\"id\":\"4858\"}},\"id\":\"4851\",\"subtype\":\"Figure\",\"type\":\"Plot\"},{\"attributes\":{\"data_source\":{\"id\":\"4882\"},\"glyph\":{\"id\":\"4883\"},\"hover_glyph\":null,\"muted_glyph\":null,\"nonselection_glyph\":{\"id\":\"4884\"},\"view\":{\"id\":\"4886\"}},\"id\":\"4885\",\"type\":\"GlyphRenderer\"},{\"attributes\":{\"formatter\":{\"id\":\"5103\"},\"major_label_policy\":{\"id\":\"5104\"},\"ticker\":{\"id\":\"4865\"}},\"id\":\"4864\",\"type\":\"LinearAxis\"},{\"attributes\":{\"formatter\":{\"id\":\"5100\"},\"major_label_policy\":{\"id\":\"5101\"},\"ticker\":{\"id\":\"4861\"}},\"id\":\"4860\",\"type\":\"LinearAxis\"},{\"attributes\":{},\"id\":\"4858\",\"type\":\"LinearScale\"},{\"attributes\":{},\"id\":\"4856\",\"type\":\"LinearScale\"},{\"attributes\":{\"overlay\":{\"id\":\"4874\"}},\"id\":\"4870\",\"type\":\"BoxZoomTool\"},{\"attributes\":{},\"id\":\"4861\",\"type\":\"BasicTicker\"},{\"attributes\":{\"axis\":{\"id\":\"4860\"},\"ticker\":null},\"id\":\"4863\",\"type\":\"Grid\"},{\"attributes\":{\"data\":{\"size\":{\"__ndarray__\":\"JAAAABQAAAALAAAAJwAAABwAAAAhAAAAHQAAACAAAAAbAAAAFQAAAA==\",\"dtype\":\"int32\",\"order\":\"little\",\"shape\":[10]},\"x\":{\"__ndarray__\":\"dJ37ywgM479bi9GbBpT0vwANS/axBO6/VP4p8EvPzj9bsRDqZ7fxv3rBJ7bOMvK/zdfAVJNV9j+JRydEn662v5fCRfL0sPC/cjTfaA4y5z8=\",\"dtype\":\"float64\",\"order\":\"little\",\"shape\":[10]},\"y\":{\"__ndarray__\":\"ZWo3yvp+BcDNB5KWkkDgPz/4deFS++W/8883BkeA3T82FJNAY7jvP8NeJi+9tvm/6byYep8T0z+arqXuXRjVPzdJntsNRNE/gXLmjV5I8T8=\",\"dtype\":\"float64\",\"order\":\"little\",\"shape\":[10]}},\"selected\":{\"id\":\"5108\"},\"selection_policy\":{\"id\":\"5107\"}},\"id\":\"4882\",\"type\":\"ColumnDataSource\"},{\"attributes\":{},\"id\":\"4852\",\"type\":\"DataRange1d\"},{\"attributes\":{},\"id\":\"4854\",\"type\":\"DataRange1d\"},{\"attributes\":{\"axis\":{\"id\":\"4864\"},\"dimension\":1,\"ticker\":null},\"id\":\"4867\",\"type\":\"Grid\"},{\"attributes\":{},\"id\":\"5103\",\"type\":\"BasicTickFormatter\"},{\"attributes\":{\"fill_alpha\":{\"value\":0.5},\"fill_color\":{\"value\":\"green\"},\"line_alpha\":{\"value\":0.5},\"line_color\":{\"value\":\"purple\"},\"marker\":{\"value\":\"square\"},\"size\":{\"field\":\"size\"},\"x\":{\"field\":\"x\"},\"y\":{\"field\":\"y\"}},\"id\":\"4883\",\"type\":\"Scatter\"},{\"attributes\":{},\"id\":\"4865\",\"type\":\"BasicTicker\"},{\"attributes\":{},\"id\":\"5104\",\"type\":\"AllLabels\"},{\"attributes\":{\"fill_alpha\":{\"value\":0.1},\"fill_color\":{\"value\":\"green\"},\"line_alpha\":{\"value\":0.1},\"line_color\":{\"value\":\"purple\"},\"marker\":{\"value\":\"square\"},\"size\":{\"field\":\"size\"},\"x\":{\"field\":\"x\"},\"y\":{\"field\":\"y\"}},\"id\":\"4884\",\"type\":\"Scatter\"},{\"attributes\":{},\"id\":\"4869\",\"type\":\"WheelZoomTool\"},{\"attributes\":{},\"id\":\"4868\",\"type\":\"PanTool\"},{\"attributes\":{\"source\":{\"id\":\"4882\"}},\"id\":\"4886\",\"type\":\"CDSView\"},{\"attributes\":{},\"id\":\"4873\",\"type\":\"HelpTool\"},{\"attributes\":{},\"id\":\"5100\",\"type\":\"BasicTickFormatter\"},{\"attributes\":{\"bottom_units\":\"screen\",\"fill_alpha\":0.5,\"fill_color\":\"lightgrey\",\"left_units\":\"screen\",\"level\":\"overlay\",\"line_alpha\":1.0,\"line_color\":\"black\",\"line_dash\":[4,4],\"line_width\":2,\"right_units\":\"screen\",\"syncable\":false,\"top_units\":\"screen\"},\"id\":\"4874\",\"type\":\"BoxAnnotation\"},{\"attributes\":{},\"id\":\"5101\",\"type\":\"AllLabels\"},{\"attributes\":{\"active_multi\":null,\"tools\":[{\"id\":\"4868\"},{\"id\":\"4869\"},{\"id\":\"4870\"},{\"id\":\"4871\"},{\"id\":\"4872\"},{\"id\":\"4873\"}]},\"id\":\"4875\",\"type\":\"Toolbar\"},{\"attributes\":{},\"id\":\"5107\",\"type\":\"UnionRenderers\"},{\"attributes\":{},\"id\":\"4871\",\"type\":\"SaveTool\"},{\"attributes\":{},\"id\":\"4872\",\"type\":\"ResetTool\"},{\"attributes\":{},\"id\":\"5108\",\"type\":\"Selection\"},{\"attributes\":{},\"id\":\"5099\",\"type\":\"Title\"}],\"root_ids\":[\"4851\"]},\"title\":\"Bokeh Application\",\"version\":\"2.3.2\"}};\n",
       "  var render_items = [{\"docid\":\"d348caf3-4c39-454b-92f7-7f2d97c61442\",\"root_ids\":[\"4851\"],\"roots\":{\"4851\":\"b99aa60e-362d-450f-bdd3-555c284621fc\"}}];\n",
       "  root.Bokeh.embed.embed_items_notebook(docs_json, render_items);\n",
       "\n",
       "  }\n",
       "  if (root.Bokeh !== undefined) {\n",
       "    embed_document(root);\n",
       "  } else {\n",
       "    var attempts = 0;\n",
       "    var timer = setInterval(function(root) {\n",
       "      if (root.Bokeh !== undefined) {\n",
       "        clearInterval(timer);\n",
       "        embed_document(root);\n",
       "      } else {\n",
       "        attempts++;\n",
       "        if (attempts > 100) {\n",
       "          clearInterval(timer);\n",
       "          console.log(\"Bokeh: ERROR: Unable to run BokehJS code because BokehJS library is missing\");\n",
       "        }\n",
       "      }\n",
       "    }, 10, root)\n",
       "  }\n",
       "})(window);"
      ],
      "application/vnd.bokehjs_exec.v0+json": ""
     },
     "metadata": {
      "application/vnd.bokehjs_exec.v0+json": {
       "id": "4851"
      }
     },
     "output_type": "display_data"
    }
   ],
   "source": [
    "p = bokeh.plotting.figure(plot_width=400, plot_height=400)\n",
    "p.square(x, y, size=size, color=\"green\", line_color='purple', alpha=0.5)\n",
    "show(p)"
   ]
  },
  {
   "cell_type": "code",
   "execution_count": 26,
   "metadata": {
    "id": "Ry5pk0LGjHHk"
   },
   "outputs": [
    {
     "data": {
      "text/html": [
       "\n",
       "\n",
       "\n",
       "\n",
       "\n",
       "\n",
       "  <div class=\"bk-root\" id=\"153e38aa-b019-437e-8200-7d19473e544a\" data-root-id=\"5164\"></div>\n"
      ]
     },
     "metadata": {},
     "output_type": "display_data"
    },
    {
     "data": {
      "application/javascript": [
       "(function(root) {\n",
       "  function embed_document(root) {\n",
       "    \n",
       "  var docs_json = {\"9938887c-1a3a-4632-b720-7cbaf65c1101\":{\"defs\":[],\"roots\":{\"references\":[{\"attributes\":{\"below\":[{\"id\":\"5173\"}],\"center\":[{\"id\":\"5176\"},{\"id\":\"5180\"}],\"height\":400,\"left\":[{\"id\":\"5177\"}],\"renderers\":[{\"id\":\"5198\"}],\"title\":{\"id\":\"5423\"},\"toolbar\":{\"id\":\"5188\"},\"width\":400,\"x_range\":{\"id\":\"5165\"},\"x_scale\":{\"id\":\"5169\"},\"y_range\":{\"id\":\"5167\"},\"y_scale\":{\"id\":\"5171\"}},\"id\":\"5164\",\"subtype\":\"Figure\",\"type\":\"Plot\"},{\"attributes\":{\"source\":{\"id\":\"5195\"}},\"id\":\"5199\",\"type\":\"CDSView\"},{\"attributes\":{},\"id\":\"5432\",\"type\":\"Selection\"},{\"attributes\":{},\"id\":\"5423\",\"type\":\"Title\"},{\"attributes\":{},\"id\":\"5431\",\"type\":\"UnionRenderers\"},{\"attributes\":{\"axis\":{\"id\":\"5177\"},\"dimension\":1,\"ticker\":null},\"id\":\"5180\",\"type\":\"Grid\"},{\"attributes\":{\"bottom_units\":\"screen\",\"fill_alpha\":0.5,\"fill_color\":\"lightgrey\",\"left_units\":\"screen\",\"level\":\"overlay\",\"line_alpha\":1.0,\"line_color\":\"black\",\"line_dash\":[4,4],\"line_width\":2,\"right_units\":\"screen\",\"syncable\":false,\"top_units\":\"screen\"},\"id\":\"5187\",\"type\":\"BoxAnnotation\"},{\"attributes\":{},\"id\":\"5424\",\"type\":\"BasicTickFormatter\"},{\"attributes\":{},\"id\":\"5174\",\"type\":\"BasicTicker\"},{\"attributes\":{},\"id\":\"5425\",\"type\":\"AllLabels\"},{\"attributes\":{\"active_multi\":null,\"tools\":[{\"id\":\"5181\"},{\"id\":\"5182\"},{\"id\":\"5183\"},{\"id\":\"5184\"},{\"id\":\"5185\"},{\"id\":\"5186\"}]},\"id\":\"5188\",\"type\":\"Toolbar\"},{\"attributes\":{},\"id\":\"5167\",\"type\":\"DataRange1d\"},{\"attributes\":{},\"id\":\"5182\",\"type\":\"WheelZoomTool\"},{\"attributes\":{},\"id\":\"5178\",\"type\":\"BasicTicker\"},{\"attributes\":{\"formatter\":{\"id\":\"5427\"},\"major_label_policy\":{\"id\":\"5428\"},\"ticker\":{\"id\":\"5178\"}},\"id\":\"5177\",\"type\":\"LinearAxis\"},{\"attributes\":{},\"id\":\"5184\",\"type\":\"SaveTool\"},{\"attributes\":{},\"id\":\"5165\",\"type\":\"DataRange1d\"},{\"attributes\":{\"fill_alpha\":{\"value\":0.5},\"fill_color\":{\"value\":\"green\"},\"line_alpha\":{\"value\":0.5},\"line_color\":{\"value\":\"purple\"},\"marker\":{\"value\":\"square_cross\"},\"size\":{\"field\":\"size\"},\"x\":{\"field\":\"x\"},\"y\":{\"field\":\"y\"}},\"id\":\"5196\",\"type\":\"Scatter\"},{\"attributes\":{\"formatter\":{\"id\":\"5424\"},\"major_label_policy\":{\"id\":\"5425\"},\"ticker\":{\"id\":\"5174\"}},\"id\":\"5173\",\"type\":\"LinearAxis\"},{\"attributes\":{},\"id\":\"5171\",\"type\":\"LinearScale\"},{\"attributes\":{},\"id\":\"5169\",\"type\":\"LinearScale\"},{\"attributes\":{},\"id\":\"5186\",\"type\":\"HelpTool\"},{\"attributes\":{\"axis\":{\"id\":\"5173\"},\"ticker\":null},\"id\":\"5176\",\"type\":\"Grid\"},{\"attributes\":{\"fill_alpha\":{\"value\":0.1},\"fill_color\":{\"value\":\"green\"},\"line_alpha\":{\"value\":0.1},\"line_color\":{\"value\":\"purple\"},\"marker\":{\"value\":\"square_cross\"},\"size\":{\"field\":\"size\"},\"x\":{\"field\":\"x\"},\"y\":{\"field\":\"y\"}},\"id\":\"5197\",\"type\":\"Scatter\"},{\"attributes\":{},\"id\":\"5428\",\"type\":\"AllLabels\"},{\"attributes\":{},\"id\":\"5181\",\"type\":\"PanTool\"},{\"attributes\":{\"overlay\":{\"id\":\"5187\"}},\"id\":\"5183\",\"type\":\"BoxZoomTool\"},{\"attributes\":{},\"id\":\"5427\",\"type\":\"BasicTickFormatter\"},{\"attributes\":{},\"id\":\"5185\",\"type\":\"ResetTool\"},{\"attributes\":{\"data_source\":{\"id\":\"5195\"},\"glyph\":{\"id\":\"5196\"},\"hover_glyph\":null,\"muted_glyph\":null,\"nonselection_glyph\":{\"id\":\"5197\"},\"view\":{\"id\":\"5199\"}},\"id\":\"5198\",\"type\":\"GlyphRenderer\"},{\"attributes\":{\"data\":{\"size\":{\"__ndarray__\":\"JAAAABQAAAALAAAAJwAAABwAAAAhAAAAHQAAACAAAAAbAAAAFQAAAA==\",\"dtype\":\"int32\",\"order\":\"little\",\"shape\":[10]},\"x\":{\"__ndarray__\":\"dJ37ywgM479bi9GbBpT0vwANS/axBO6/VP4p8EvPzj9bsRDqZ7fxv3rBJ7bOMvK/zdfAVJNV9j+JRydEn662v5fCRfL0sPC/cjTfaA4y5z8=\",\"dtype\":\"float64\",\"order\":\"little\",\"shape\":[10]},\"y\":{\"__ndarray__\":\"ZWo3yvp+BcDNB5KWkkDgPz/4deFS++W/8883BkeA3T82FJNAY7jvP8NeJi+9tvm/6byYep8T0z+arqXuXRjVPzdJntsNRNE/gXLmjV5I8T8=\",\"dtype\":\"float64\",\"order\":\"little\",\"shape\":[10]}},\"selected\":{\"id\":\"5432\"},\"selection_policy\":{\"id\":\"5431\"}},\"id\":\"5195\",\"type\":\"ColumnDataSource\"}],\"root_ids\":[\"5164\"]},\"title\":\"Bokeh Application\",\"version\":\"2.3.2\"}};\n",
       "  var render_items = [{\"docid\":\"9938887c-1a3a-4632-b720-7cbaf65c1101\",\"root_ids\":[\"5164\"],\"roots\":{\"5164\":\"153e38aa-b019-437e-8200-7d19473e544a\"}}];\n",
       "  root.Bokeh.embed.embed_items_notebook(docs_json, render_items);\n",
       "\n",
       "  }\n",
       "  if (root.Bokeh !== undefined) {\n",
       "    embed_document(root);\n",
       "  } else {\n",
       "    var attempts = 0;\n",
       "    var timer = setInterval(function(root) {\n",
       "      if (root.Bokeh !== undefined) {\n",
       "        clearInterval(timer);\n",
       "        embed_document(root);\n",
       "      } else {\n",
       "        attempts++;\n",
       "        if (attempts > 100) {\n",
       "          clearInterval(timer);\n",
       "          console.log(\"Bokeh: ERROR: Unable to run BokehJS code because BokehJS library is missing\");\n",
       "        }\n",
       "      }\n",
       "    }, 10, root)\n",
       "  }\n",
       "})(window);"
      ],
      "application/vnd.bokehjs_exec.v0+json": ""
     },
     "metadata": {
      "application/vnd.bokehjs_exec.v0+json": {
       "id": "5164"
      }
     },
     "output_type": "display_data"
    }
   ],
   "source": [
    "p = bokeh.plotting.figure(plot_width=400, plot_height=400)\n",
    "p.square_cross(x, y, size=size, color=\"green\", line_color='purple', alpha=0.5)\n",
    "show(p)"
   ]
  },
  {
   "cell_type": "code",
   "execution_count": 27,
   "metadata": {
    "id": "MCP2f4Mkje-E"
   },
   "outputs": [
    {
     "data": {
      "text/html": [
       "\n",
       "\n",
       "\n",
       "\n",
       "\n",
       "\n",
       "  <div class=\"bk-root\" id=\"83ecc48d-b28d-47cd-b3b9-9aa48cb288b6\" data-root-id=\"5488\"></div>\n"
      ]
     },
     "metadata": {},
     "output_type": "display_data"
    },
    {
     "data": {
      "application/javascript": [
       "(function(root) {\n",
       "  function embed_document(root) {\n",
       "    \n",
       "  var docs_json = {\"63795da1-11b9-49a4-af0d-9ce6404868c8\":{\"defs\":[],\"roots\":{\"references\":[{\"attributes\":{\"below\":[{\"id\":\"5497\"}],\"center\":[{\"id\":\"5500\"},{\"id\":\"5504\"}],\"height\":400,\"left\":[{\"id\":\"5501\"}],\"renderers\":[{\"id\":\"5522\"}],\"title\":{\"id\":\"5758\"},\"toolbar\":{\"id\":\"5512\"},\"width\":400,\"x_range\":{\"id\":\"5489\"},\"x_scale\":{\"id\":\"5493\"},\"y_range\":{\"id\":\"5491\"},\"y_scale\":{\"id\":\"5495\"}},\"id\":\"5488\",\"subtype\":\"Figure\",\"type\":\"Plot\"},{\"attributes\":{},\"id\":\"5498\",\"type\":\"BasicTicker\"},{\"attributes\":{\"axis\":{\"id\":\"5497\"},\"ticker\":null},\"id\":\"5500\",\"type\":\"Grid\"},{\"attributes\":{\"active_multi\":null,\"tools\":[{\"id\":\"5505\"},{\"id\":\"5506\"},{\"id\":\"5507\"},{\"id\":\"5508\"},{\"id\":\"5509\"},{\"id\":\"5510\"}]},\"id\":\"5512\",\"type\":\"Toolbar\"},{\"attributes\":{\"overlay\":{\"id\":\"5511\"}},\"id\":\"5507\",\"type\":\"BoxZoomTool\"},{\"attributes\":{},\"id\":\"5767\",\"type\":\"Selection\"},{\"attributes\":{},\"id\":\"5508\",\"type\":\"SaveTool\"},{\"attributes\":{},\"id\":\"5510\",\"type\":\"HelpTool\"},{\"attributes\":{},\"id\":\"5762\",\"type\":\"BasicTickFormatter\"},{\"attributes\":{\"fill_alpha\":{\"value\":0.1},\"fill_color\":{\"value\":\"green\"},\"line_alpha\":{\"value\":0.1},\"line_color\":{\"value\":\"purple\"},\"marker\":{\"value\":\"square_x\"},\"size\":{\"field\":\"size\"},\"x\":{\"field\":\"x\"},\"y\":{\"field\":\"y\"}},\"id\":\"5521\",\"type\":\"Scatter\"},{\"attributes\":{},\"id\":\"5506\",\"type\":\"WheelZoomTool\"},{\"attributes\":{\"data_source\":{\"id\":\"5519\"},\"glyph\":{\"id\":\"5520\"},\"hover_glyph\":null,\"muted_glyph\":null,\"nonselection_glyph\":{\"id\":\"5521\"},\"view\":{\"id\":\"5523\"}},\"id\":\"5522\",\"type\":\"GlyphRenderer\"},{\"attributes\":{\"formatter\":{\"id\":\"5762\"},\"major_label_policy\":{\"id\":\"5763\"},\"ticker\":{\"id\":\"5502\"}},\"id\":\"5501\",\"type\":\"LinearAxis\"},{\"attributes\":{\"axis\":{\"id\":\"5501\"},\"dimension\":1,\"ticker\":null},\"id\":\"5504\",\"type\":\"Grid\"},{\"attributes\":{},\"id\":\"5505\",\"type\":\"PanTool\"},{\"attributes\":{\"source\":{\"id\":\"5519\"}},\"id\":\"5523\",\"type\":\"CDSView\"},{\"attributes\":{},\"id\":\"5502\",\"type\":\"BasicTicker\"},{\"attributes\":{},\"id\":\"5763\",\"type\":\"AllLabels\"},{\"attributes\":{},\"id\":\"5509\",\"type\":\"ResetTool\"},{\"attributes\":{},\"id\":\"5759\",\"type\":\"BasicTickFormatter\"},{\"attributes\":{\"fill_alpha\":{\"value\":0.5},\"fill_color\":{\"value\":\"green\"},\"line_alpha\":{\"value\":0.5},\"line_color\":{\"value\":\"purple\"},\"marker\":{\"value\":\"square_x\"},\"size\":{\"field\":\"size\"},\"x\":{\"field\":\"x\"},\"y\":{\"field\":\"y\"}},\"id\":\"5520\",\"type\":\"Scatter\"},{\"attributes\":{\"data\":{\"size\":{\"__ndarray__\":\"JAAAABQAAAALAAAAJwAAABwAAAAhAAAAHQAAACAAAAAbAAAAFQAAAA==\",\"dtype\":\"int32\",\"order\":\"little\",\"shape\":[10]},\"x\":{\"__ndarray__\":\"dJ37ywgM479bi9GbBpT0vwANS/axBO6/VP4p8EvPzj9bsRDqZ7fxv3rBJ7bOMvK/zdfAVJNV9j+JRydEn662v5fCRfL0sPC/cjTfaA4y5z8=\",\"dtype\":\"float64\",\"order\":\"little\",\"shape\":[10]},\"y\":{\"__ndarray__\":\"ZWo3yvp+BcDNB5KWkkDgPz/4deFS++W/8883BkeA3T82FJNAY7jvP8NeJi+9tvm/6byYep8T0z+arqXuXRjVPzdJntsNRNE/gXLmjV5I8T8=\",\"dtype\":\"float64\",\"order\":\"little\",\"shape\":[10]}},\"selected\":{\"id\":\"5767\"},\"selection_policy\":{\"id\":\"5766\"}},\"id\":\"5519\",\"type\":\"ColumnDataSource\"},{\"attributes\":{},\"id\":\"5766\",\"type\":\"UnionRenderers\"},{\"attributes\":{},\"id\":\"5760\",\"type\":\"AllLabels\"},{\"attributes\":{},\"id\":\"5489\",\"type\":\"DataRange1d\"},{\"attributes\":{\"bottom_units\":\"screen\",\"fill_alpha\":0.5,\"fill_color\":\"lightgrey\",\"left_units\":\"screen\",\"level\":\"overlay\",\"line_alpha\":1.0,\"line_color\":\"black\",\"line_dash\":[4,4],\"line_width\":2,\"right_units\":\"screen\",\"syncable\":false,\"top_units\":\"screen\"},\"id\":\"5511\",\"type\":\"BoxAnnotation\"},{\"attributes\":{},\"id\":\"5758\",\"type\":\"Title\"},{\"attributes\":{},\"id\":\"5491\",\"type\":\"DataRange1d\"},{\"attributes\":{\"formatter\":{\"id\":\"5759\"},\"major_label_policy\":{\"id\":\"5760\"},\"ticker\":{\"id\":\"5498\"}},\"id\":\"5497\",\"type\":\"LinearAxis\"},{\"attributes\":{},\"id\":\"5495\",\"type\":\"LinearScale\"},{\"attributes\":{},\"id\":\"5493\",\"type\":\"LinearScale\"}],\"root_ids\":[\"5488\"]},\"title\":\"Bokeh Application\",\"version\":\"2.3.2\"}};\n",
       "  var render_items = [{\"docid\":\"63795da1-11b9-49a4-af0d-9ce6404868c8\",\"root_ids\":[\"5488\"],\"roots\":{\"5488\":\"83ecc48d-b28d-47cd-b3b9-9aa48cb288b6\"}}];\n",
       "  root.Bokeh.embed.embed_items_notebook(docs_json, render_items);\n",
       "\n",
       "  }\n",
       "  if (root.Bokeh !== undefined) {\n",
       "    embed_document(root);\n",
       "  } else {\n",
       "    var attempts = 0;\n",
       "    var timer = setInterval(function(root) {\n",
       "      if (root.Bokeh !== undefined) {\n",
       "        clearInterval(timer);\n",
       "        embed_document(root);\n",
       "      } else {\n",
       "        attempts++;\n",
       "        if (attempts > 100) {\n",
       "          clearInterval(timer);\n",
       "          console.log(\"Bokeh: ERROR: Unable to run BokehJS code because BokehJS library is missing\");\n",
       "        }\n",
       "      }\n",
       "    }, 10, root)\n",
       "  }\n",
       "})(window);"
      ],
      "application/vnd.bokehjs_exec.v0+json": ""
     },
     "metadata": {
      "application/vnd.bokehjs_exec.v0+json": {
       "id": "5488"
      }
     },
     "output_type": "display_data"
    }
   ],
   "source": [
    "p = bokeh.plotting.figure(plot_width=400, plot_height=400)\n",
    "p.square_x(x, y, size=size, color=\"green\", line_color='purple', alpha=0.5)\n",
    "show(p)"
   ]
  },
  {
   "cell_type": "markdown",
   "metadata": {},
   "source": [
    "### diamond()"
   ]
  },
  {
   "cell_type": "code",
   "execution_count": 28,
   "metadata": {
    "id": "-JO4TPmSjf2V"
   },
   "outputs": [
    {
     "data": {
      "text/html": [
       "\n",
       "\n",
       "\n",
       "\n",
       "\n",
       "\n",
       "  <div class=\"bk-root\" id=\"c7516c82-6934-4685-b3c9-f30190ddb6db\" data-root-id=\"5823\"></div>\n"
      ]
     },
     "metadata": {},
     "output_type": "display_data"
    },
    {
     "data": {
      "application/javascript": [
       "(function(root) {\n",
       "  function embed_document(root) {\n",
       "    \n",
       "  var docs_json = {\"e50e646e-da00-492e-bd82-51efc62a99db\":{\"defs\":[],\"roots\":{\"references\":[{\"attributes\":{\"below\":[{\"id\":\"5832\"}],\"center\":[{\"id\":\"5835\"},{\"id\":\"5839\"}],\"height\":400,\"left\":[{\"id\":\"5836\"}],\"renderers\":[{\"id\":\"5857\"}],\"title\":{\"id\":\"6104\"},\"toolbar\":{\"id\":\"5847\"},\"width\":400,\"x_range\":{\"id\":\"5824\"},\"x_scale\":{\"id\":\"5828\"},\"y_range\":{\"id\":\"5826\"},\"y_scale\":{\"id\":\"5830\"}},\"id\":\"5823\",\"subtype\":\"Figure\",\"type\":\"Plot\"},{\"attributes\":{\"formatter\":{\"id\":\"6108\"},\"major_label_policy\":{\"id\":\"6109\"},\"ticker\":{\"id\":\"5837\"}},\"id\":\"5836\",\"type\":\"LinearAxis\"},{\"attributes\":{\"source\":{\"id\":\"5854\"}},\"id\":\"5858\",\"type\":\"CDSView\"},{\"attributes\":{\"formatter\":{\"id\":\"6105\"},\"major_label_policy\":{\"id\":\"6106\"},\"ticker\":{\"id\":\"5833\"}},\"id\":\"5832\",\"type\":\"LinearAxis\"},{\"attributes\":{},\"id\":\"5845\",\"type\":\"HelpTool\"},{\"attributes\":{},\"id\":\"6104\",\"type\":\"Title\"},{\"attributes\":{},\"id\":\"5830\",\"type\":\"LinearScale\"},{\"attributes\":{},\"id\":\"5833\",\"type\":\"BasicTicker\"},{\"attributes\":{\"fill_alpha\":{\"value\":0.1},\"fill_color\":{\"value\":\"skyblue\"},\"line_alpha\":{\"value\":0.1},\"line_color\":{\"value\":\"purple\"},\"marker\":{\"value\":\"diamond\"},\"size\":{\"field\":\"size\"},\"x\":{\"field\":\"x\"},\"y\":{\"field\":\"y\"}},\"id\":\"5856\",\"type\":\"Scatter\"},{\"attributes\":{},\"id\":\"6108\",\"type\":\"BasicTickFormatter\"},{\"attributes\":{\"axis\":{\"id\":\"5832\"},\"ticker\":null},\"id\":\"5835\",\"type\":\"Grid\"},{\"attributes\":{\"data_source\":{\"id\":\"5854\"},\"glyph\":{\"id\":\"5855\"},\"hover_glyph\":null,\"muted_glyph\":null,\"nonselection_glyph\":{\"id\":\"5856\"},\"view\":{\"id\":\"5858\"}},\"id\":\"5857\",\"type\":\"GlyphRenderer\"},{\"attributes\":{},\"id\":\"6109\",\"type\":\"AllLabels\"},{\"attributes\":{\"axis\":{\"id\":\"5836\"},\"dimension\":1,\"ticker\":null},\"id\":\"5839\",\"type\":\"Grid\"},{\"attributes\":{},\"id\":\"5837\",\"type\":\"BasicTicker\"},{\"attributes\":{\"bottom_units\":\"screen\",\"fill_alpha\":0.5,\"fill_color\":\"lightgrey\",\"left_units\":\"screen\",\"level\":\"overlay\",\"line_alpha\":1.0,\"line_color\":\"black\",\"line_dash\":[4,4],\"line_width\":2,\"right_units\":\"screen\",\"syncable\":false,\"top_units\":\"screen\"},\"id\":\"5846\",\"type\":\"BoxAnnotation\"},{\"attributes\":{\"active_multi\":null,\"tools\":[{\"id\":\"5840\"},{\"id\":\"5841\"},{\"id\":\"5842\"},{\"id\":\"5843\"},{\"id\":\"5844\"},{\"id\":\"5845\"}]},\"id\":\"5847\",\"type\":\"Toolbar\"},{\"attributes\":{},\"id\":\"5841\",\"type\":\"WheelZoomTool\"},{\"attributes\":{},\"id\":\"5840\",\"type\":\"PanTool\"},{\"attributes\":{\"overlay\":{\"id\":\"5846\"}},\"id\":\"5842\",\"type\":\"BoxZoomTool\"},{\"attributes\":{},\"id\":\"5843\",\"type\":\"SaveTool\"},{\"attributes\":{},\"id\":\"5844\",\"type\":\"ResetTool\"},{\"attributes\":{},\"id\":\"5826\",\"type\":\"DataRange1d\"},{\"attributes\":{},\"id\":\"5828\",\"type\":\"LinearScale\"},{\"attributes\":{},\"id\":\"5824\",\"type\":\"DataRange1d\"},{\"attributes\":{},\"id\":\"6105\",\"type\":\"BasicTickFormatter\"},{\"attributes\":{},\"id\":\"6106\",\"type\":\"AllLabels\"},{\"attributes\":{},\"id\":\"6112\",\"type\":\"UnionRenderers\"},{\"attributes\":{},\"id\":\"6113\",\"type\":\"Selection\"},{\"attributes\":{\"fill_alpha\":{\"value\":0.5},\"fill_color\":{\"value\":\"skyblue\"},\"line_color\":{\"value\":\"purple\"},\"marker\":{\"value\":\"diamond\"},\"size\":{\"field\":\"size\"},\"x\":{\"field\":\"x\"},\"y\":{\"field\":\"y\"}},\"id\":\"5855\",\"type\":\"Scatter\"},{\"attributes\":{\"data\":{\"size\":{\"__ndarray__\":\"JAAAABQAAAALAAAAJwAAABwAAAAhAAAAHQAAACAAAAAbAAAAFQAAAA==\",\"dtype\":\"int32\",\"order\":\"little\",\"shape\":[10]},\"x\":{\"__ndarray__\":\"dJ37ywgM479bi9GbBpT0vwANS/axBO6/VP4p8EvPzj9bsRDqZ7fxv3rBJ7bOMvK/zdfAVJNV9j+JRydEn662v5fCRfL0sPC/cjTfaA4y5z8=\",\"dtype\":\"float64\",\"order\":\"little\",\"shape\":[10]},\"y\":{\"__ndarray__\":\"ZWo3yvp+BcDNB5KWkkDgPz/4deFS++W/8883BkeA3T82FJNAY7jvP8NeJi+9tvm/6byYep8T0z+arqXuXRjVPzdJntsNRNE/gXLmjV5I8T8=\",\"dtype\":\"float64\",\"order\":\"little\",\"shape\":[10]}},\"selected\":{\"id\":\"6113\"},\"selection_policy\":{\"id\":\"6112\"}},\"id\":\"5854\",\"type\":\"ColumnDataSource\"}],\"root_ids\":[\"5823\"]},\"title\":\"Bokeh Application\",\"version\":\"2.3.2\"}};\n",
       "  var render_items = [{\"docid\":\"e50e646e-da00-492e-bd82-51efc62a99db\",\"root_ids\":[\"5823\"],\"roots\":{\"5823\":\"c7516c82-6934-4685-b3c9-f30190ddb6db\"}}];\n",
       "  root.Bokeh.embed.embed_items_notebook(docs_json, render_items);\n",
       "\n",
       "  }\n",
       "  if (root.Bokeh !== undefined) {\n",
       "    embed_document(root);\n",
       "  } else {\n",
       "    var attempts = 0;\n",
       "    var timer = setInterval(function(root) {\n",
       "      if (root.Bokeh !== undefined) {\n",
       "        clearInterval(timer);\n",
       "        embed_document(root);\n",
       "      } else {\n",
       "        attempts++;\n",
       "        if (attempts > 100) {\n",
       "          clearInterval(timer);\n",
       "          console.log(\"Bokeh: ERROR: Unable to run BokehJS code because BokehJS library is missing\");\n",
       "        }\n",
       "      }\n",
       "    }, 10, root)\n",
       "  }\n",
       "})(window);"
      ],
      "application/vnd.bokehjs_exec.v0+json": ""
     },
     "metadata": {
      "application/vnd.bokehjs_exec.v0+json": {
       "id": "5823"
      }
     },
     "output_type": "display_data"
    }
   ],
   "source": [
    "p = bokeh.plotting.figure(plot_width=400, plot_height=400)\n",
    "p.diamond(x, y, size=size, fill_color=\"skyblue\", line_color='purple', fill_alpha=0.5)\n",
    "show(p)"
   ]
  },
  {
   "cell_type": "code",
   "execution_count": 29,
   "metadata": {
    "id": "VNa0rT2njILk"
   },
   "outputs": [
    {
     "data": {
      "text/html": [
       "\n",
       "\n",
       "\n",
       "\n",
       "\n",
       "\n",
       "  <div class=\"bk-root\" id=\"47d060b2-5fb1-4f56-b152-c8900e717558\" data-root-id=\"6169\"></div>\n"
      ]
     },
     "metadata": {},
     "output_type": "display_data"
    },
    {
     "data": {
      "application/javascript": [
       "(function(root) {\n",
       "  function embed_document(root) {\n",
       "    \n",
       "  var docs_json = {\"b9ec862c-c28f-4c88-bacc-6923df268710\":{\"defs\":[],\"roots\":{\"references\":[{\"attributes\":{\"below\":[{\"id\":\"6178\"}],\"center\":[{\"id\":\"6181\"},{\"id\":\"6185\"}],\"height\":400,\"left\":[{\"id\":\"6182\"}],\"renderers\":[{\"id\":\"6203\"}],\"title\":{\"id\":\"6461\"},\"toolbar\":{\"id\":\"6193\"},\"width\":400,\"x_range\":{\"id\":\"6170\"},\"x_scale\":{\"id\":\"6174\"},\"y_range\":{\"id\":\"6172\"},\"y_scale\":{\"id\":\"6176\"}},\"id\":\"6169\",\"subtype\":\"Figure\",\"type\":\"Plot\"},{\"attributes\":{},\"id\":\"6469\",\"type\":\"UnionRenderers\"},{\"attributes\":{},\"id\":\"6470\",\"type\":\"Selection\"},{\"attributes\":{\"overlay\":{\"id\":\"6192\"}},\"id\":\"6188\",\"type\":\"BoxZoomTool\"},{\"attributes\":{},\"id\":\"6172\",\"type\":\"DataRange1d\"},{\"attributes\":{\"source\":{\"id\":\"6200\"}},\"id\":\"6204\",\"type\":\"CDSView\"},{\"attributes\":{\"formatter\":{\"id\":\"6465\"},\"major_label_policy\":{\"id\":\"6466\"},\"ticker\":{\"id\":\"6183\"}},\"id\":\"6182\",\"type\":\"LinearAxis\"},{\"attributes\":{\"active_multi\":null,\"tools\":[{\"id\":\"6186\"},{\"id\":\"6187\"},{\"id\":\"6188\"},{\"id\":\"6189\"},{\"id\":\"6190\"},{\"id\":\"6191\"}]},\"id\":\"6193\",\"type\":\"Toolbar\"},{\"attributes\":{},\"id\":\"6176\",\"type\":\"LinearScale\"},{\"attributes\":{\"fill_alpha\":{\"value\":0.1},\"fill_color\":{\"value\":\"skyblue\"},\"line_alpha\":{\"value\":0.1},\"line_color\":{\"value\":\"purple\"},\"marker\":{\"value\":\"diamond_cross\"},\"size\":{\"field\":\"size\"},\"x\":{\"field\":\"x\"},\"y\":{\"field\":\"y\"}},\"id\":\"6202\",\"type\":\"Scatter\"},{\"attributes\":{\"data_source\":{\"id\":\"6200\"},\"glyph\":{\"id\":\"6201\"},\"hover_glyph\":null,\"muted_glyph\":null,\"nonselection_glyph\":{\"id\":\"6202\"},\"view\":{\"id\":\"6204\"}},\"id\":\"6203\",\"type\":\"GlyphRenderer\"},{\"attributes\":{},\"id\":\"6191\",\"type\":\"HelpTool\"},{\"attributes\":{},\"id\":\"6189\",\"type\":\"SaveTool\"},{\"attributes\":{\"formatter\":{\"id\":\"6462\"},\"major_label_policy\":{\"id\":\"6463\"},\"ticker\":{\"id\":\"6179\"}},\"id\":\"6178\",\"type\":\"LinearAxis\"},{\"attributes\":{},\"id\":\"6465\",\"type\":\"BasicTickFormatter\"},{\"attributes\":{},\"id\":\"6174\",\"type\":\"LinearScale\"},{\"attributes\":{},\"id\":\"6466\",\"type\":\"AllLabels\"},{\"attributes\":{\"bottom_units\":\"screen\",\"fill_alpha\":0.5,\"fill_color\":\"lightgrey\",\"left_units\":\"screen\",\"level\":\"overlay\",\"line_alpha\":1.0,\"line_color\":\"black\",\"line_dash\":[4,4],\"line_width\":2,\"right_units\":\"screen\",\"syncable\":false,\"top_units\":\"screen\"},\"id\":\"6192\",\"type\":\"BoxAnnotation\"},{\"attributes\":{},\"id\":\"6190\",\"type\":\"ResetTool\"},{\"attributes\":{},\"id\":\"6187\",\"type\":\"WheelZoomTool\"},{\"attributes\":{},\"id\":\"6179\",\"type\":\"BasicTicker\"},{\"attributes\":{\"axis\":{\"id\":\"6178\"},\"ticker\":null},\"id\":\"6181\",\"type\":\"Grid\"},{\"attributes\":{\"axis\":{\"id\":\"6182\"},\"dimension\":1,\"ticker\":null},\"id\":\"6185\",\"type\":\"Grid\"},{\"attributes\":{},\"id\":\"6461\",\"type\":\"Title\"},{\"attributes\":{},\"id\":\"6183\",\"type\":\"BasicTicker\"},{\"attributes\":{},\"id\":\"6170\",\"type\":\"DataRange1d\"},{\"attributes\":{},\"id\":\"6186\",\"type\":\"PanTool\"},{\"attributes\":{\"fill_alpha\":{\"value\":0.5},\"fill_color\":{\"value\":\"skyblue\"},\"line_color\":{\"value\":\"purple\"},\"marker\":{\"value\":\"diamond_cross\"},\"size\":{\"field\":\"size\"},\"x\":{\"field\":\"x\"},\"y\":{\"field\":\"y\"}},\"id\":\"6201\",\"type\":\"Scatter\"},{\"attributes\":{},\"id\":\"6462\",\"type\":\"BasicTickFormatter\"},{\"attributes\":{\"data\":{\"size\":{\"__ndarray__\":\"JAAAABQAAAALAAAAJwAAABwAAAAhAAAAHQAAACAAAAAbAAAAFQAAAA==\",\"dtype\":\"int32\",\"order\":\"little\",\"shape\":[10]},\"x\":{\"__ndarray__\":\"dJ37ywgM479bi9GbBpT0vwANS/axBO6/VP4p8EvPzj9bsRDqZ7fxv3rBJ7bOMvK/zdfAVJNV9j+JRydEn662v5fCRfL0sPC/cjTfaA4y5z8=\",\"dtype\":\"float64\",\"order\":\"little\",\"shape\":[10]},\"y\":{\"__ndarray__\":\"ZWo3yvp+BcDNB5KWkkDgPz/4deFS++W/8883BkeA3T82FJNAY7jvP8NeJi+9tvm/6byYep8T0z+arqXuXRjVPzdJntsNRNE/gXLmjV5I8T8=\",\"dtype\":\"float64\",\"order\":\"little\",\"shape\":[10]}},\"selected\":{\"id\":\"6470\"},\"selection_policy\":{\"id\":\"6469\"}},\"id\":\"6200\",\"type\":\"ColumnDataSource\"},{\"attributes\":{},\"id\":\"6463\",\"type\":\"AllLabels\"}],\"root_ids\":[\"6169\"]},\"title\":\"Bokeh Application\",\"version\":\"2.3.2\"}};\n",
       "  var render_items = [{\"docid\":\"b9ec862c-c28f-4c88-bacc-6923df268710\",\"root_ids\":[\"6169\"],\"roots\":{\"6169\":\"47d060b2-5fb1-4f56-b152-c8900e717558\"}}];\n",
       "  root.Bokeh.embed.embed_items_notebook(docs_json, render_items);\n",
       "\n",
       "  }\n",
       "  if (root.Bokeh !== undefined) {\n",
       "    embed_document(root);\n",
       "  } else {\n",
       "    var attempts = 0;\n",
       "    var timer = setInterval(function(root) {\n",
       "      if (root.Bokeh !== undefined) {\n",
       "        clearInterval(timer);\n",
       "        embed_document(root);\n",
       "      } else {\n",
       "        attempts++;\n",
       "        if (attempts > 100) {\n",
       "          clearInterval(timer);\n",
       "          console.log(\"Bokeh: ERROR: Unable to run BokehJS code because BokehJS library is missing\");\n",
       "        }\n",
       "      }\n",
       "    }, 10, root)\n",
       "  }\n",
       "})(window);"
      ],
      "application/vnd.bokehjs_exec.v0+json": ""
     },
     "metadata": {
      "application/vnd.bokehjs_exec.v0+json": {
       "id": "6169"
      }
     },
     "output_type": "display_data"
    }
   ],
   "source": [
    "p = bokeh.plotting.figure(plot_width=400, plot_height=400)\n",
    "p.diamond_cross(x, y, size=size, fill_color=\"skyblue\", line_color='purple', fill_alpha=0.5)\n",
    "show(p)"
   ]
  },
  {
   "cell_type": "markdown",
   "metadata": {
    "id": "h1aBANtVwEnp"
   },
   "source": [
    "### hex()"
   ]
  },
  {
   "cell_type": "code",
   "execution_count": 30,
   "metadata": {
    "id": "W-VFDA2iwJ8r"
   },
   "outputs": [
    {
     "data": {
      "text/html": [
       "\n",
       "\n",
       "\n",
       "\n",
       "\n",
       "\n",
       "  <div class=\"bk-root\" id=\"a14faa10-28f7-45ac-9540-e7c6ab6f3ea1\" data-root-id=\"6526\"></div>\n"
      ]
     },
     "metadata": {},
     "output_type": "display_data"
    },
    {
     "data": {
      "application/javascript": [
       "(function(root) {\n",
       "  function embed_document(root) {\n",
       "    \n",
       "  var docs_json = {\"08e17f4c-9089-489c-aa73-614ab986699e\":{\"defs\":[],\"roots\":{\"references\":[{\"attributes\":{\"below\":[{\"id\":\"6535\"}],\"center\":[{\"id\":\"6538\"},{\"id\":\"6542\"}],\"height\":400,\"left\":[{\"id\":\"6539\"}],\"renderers\":[{\"id\":\"6560\"}],\"title\":{\"id\":\"6829\"},\"toolbar\":{\"id\":\"6550\"},\"width\":400,\"x_range\":{\"id\":\"6527\"},\"x_scale\":{\"id\":\"6531\"},\"y_range\":{\"id\":\"6529\"},\"y_scale\":{\"id\":\"6533\"}},\"id\":\"6526\",\"subtype\":\"Figure\",\"type\":\"Plot\"},{\"attributes\":{\"axis\":{\"id\":\"6539\"},\"dimension\":1,\"ticker\":null},\"id\":\"6542\",\"type\":\"Grid\"},{\"attributes\":{},\"id\":\"6536\",\"type\":\"BasicTicker\"},{\"attributes\":{},\"id\":\"6540\",\"type\":\"BasicTicker\"},{\"attributes\":{\"source\":{\"id\":\"6557\"}},\"id\":\"6561\",\"type\":\"CDSView\"},{\"attributes\":{},\"id\":\"6527\",\"type\":\"DataRange1d\"},{\"attributes\":{\"active_multi\":null,\"tools\":[{\"id\":\"6543\"},{\"id\":\"6544\"},{\"id\":\"6545\"},{\"id\":\"6546\"},{\"id\":\"6547\"},{\"id\":\"6548\"}]},\"id\":\"6550\",\"type\":\"Toolbar\"},{\"attributes\":{},\"id\":\"6533\",\"type\":\"LinearScale\"},{\"attributes\":{},\"id\":\"6544\",\"type\":\"WheelZoomTool\"},{\"attributes\":{},\"id\":\"6543\",\"type\":\"PanTool\"},{\"attributes\":{\"fill_alpha\":{\"value\":0.1},\"fill_color\":{\"value\":\"red\"},\"line_alpha\":{\"value\":0.1},\"line_color\":{\"value\":\"purple\"},\"marker\":{\"value\":\"hex\"},\"size\":{\"field\":\"size\"},\"x\":{\"field\":\"x\"},\"y\":{\"field\":\"y\"}},\"id\":\"6559\",\"type\":\"Scatter\"},{\"attributes\":{\"overlay\":{\"id\":\"6549\"}},\"id\":\"6545\",\"type\":\"BoxZoomTool\"},{\"attributes\":{\"data_source\":{\"id\":\"6557\"},\"glyph\":{\"id\":\"6558\"},\"hover_glyph\":null,\"muted_glyph\":null,\"nonselection_glyph\":{\"id\":\"6559\"},\"view\":{\"id\":\"6561\"}},\"id\":\"6560\",\"type\":\"GlyphRenderer\"},{\"attributes\":{},\"id\":\"6547\",\"type\":\"ResetTool\"},{\"attributes\":{},\"id\":\"6529\",\"type\":\"DataRange1d\"},{\"attributes\":{\"formatter\":{\"id\":\"6830\"},\"major_label_policy\":{\"id\":\"6831\"},\"ticker\":{\"id\":\"6536\"}},\"id\":\"6535\",\"type\":\"LinearAxis\"},{\"attributes\":{},\"id\":\"6834\",\"type\":\"AllLabels\"},{\"attributes\":{},\"id\":\"6837\",\"type\":\"UnionRenderers\"},{\"attributes\":{},\"id\":\"6829\",\"type\":\"Title\"},{\"attributes\":{},\"id\":\"6838\",\"type\":\"Selection\"},{\"attributes\":{},\"id\":\"6833\",\"type\":\"BasicTickFormatter\"},{\"attributes\":{\"bottom_units\":\"screen\",\"fill_alpha\":0.5,\"fill_color\":\"lightgrey\",\"left_units\":\"screen\",\"level\":\"overlay\",\"line_alpha\":1.0,\"line_color\":\"black\",\"line_dash\":[4,4],\"line_width\":2,\"right_units\":\"screen\",\"syncable\":false,\"top_units\":\"screen\"},\"id\":\"6549\",\"type\":\"BoxAnnotation\"},{\"attributes\":{},\"id\":\"6830\",\"type\":\"BasicTickFormatter\"},{\"attributes\":{},\"id\":\"6831\",\"type\":\"AllLabels\"},{\"attributes\":{},\"id\":\"6546\",\"type\":\"SaveTool\"},{\"attributes\":{\"data\":{\"size\":{\"__ndarray__\":\"JAAAABQAAAALAAAAJwAAABwAAAAhAAAAHQAAACAAAAAbAAAAFQAAAA==\",\"dtype\":\"int32\",\"order\":\"little\",\"shape\":[10]},\"x\":{\"__ndarray__\":\"dJ37ywgM479bi9GbBpT0vwANS/axBO6/VP4p8EvPzj9bsRDqZ7fxv3rBJ7bOMvK/zdfAVJNV9j+JRydEn662v5fCRfL0sPC/cjTfaA4y5z8=\",\"dtype\":\"float64\",\"order\":\"little\",\"shape\":[10]},\"y\":{\"__ndarray__\":\"ZWo3yvp+BcDNB5KWkkDgPz/4deFS++W/8883BkeA3T82FJNAY7jvP8NeJi+9tvm/6byYep8T0z+arqXuXRjVPzdJntsNRNE/gXLmjV5I8T8=\",\"dtype\":\"float64\",\"order\":\"little\",\"shape\":[10]}},\"selected\":{\"id\":\"6838\"},\"selection_policy\":{\"id\":\"6837\"}},\"id\":\"6557\",\"type\":\"ColumnDataSource\"},{\"attributes\":{},\"id\":\"6548\",\"type\":\"HelpTool\"},{\"attributes\":{\"fill_alpha\":{\"value\":0.5},\"fill_color\":{\"value\":\"red\"},\"line_color\":{\"value\":\"purple\"},\"marker\":{\"value\":\"hex\"},\"size\":{\"field\":\"size\"},\"x\":{\"field\":\"x\"},\"y\":{\"field\":\"y\"}},\"id\":\"6558\",\"type\":\"Scatter\"},{\"attributes\":{},\"id\":\"6531\",\"type\":\"LinearScale\"},{\"attributes\":{\"formatter\":{\"id\":\"6833\"},\"major_label_policy\":{\"id\":\"6834\"},\"ticker\":{\"id\":\"6540\"}},\"id\":\"6539\",\"type\":\"LinearAxis\"},{\"attributes\":{\"axis\":{\"id\":\"6535\"},\"ticker\":null},\"id\":\"6538\",\"type\":\"Grid\"}],\"root_ids\":[\"6526\"]},\"title\":\"Bokeh Application\",\"version\":\"2.3.2\"}};\n",
       "  var render_items = [{\"docid\":\"08e17f4c-9089-489c-aa73-614ab986699e\",\"root_ids\":[\"6526\"],\"roots\":{\"6526\":\"a14faa10-28f7-45ac-9540-e7c6ab6f3ea1\"}}];\n",
       "  root.Bokeh.embed.embed_items_notebook(docs_json, render_items);\n",
       "\n",
       "  }\n",
       "  if (root.Bokeh !== undefined) {\n",
       "    embed_document(root);\n",
       "  } else {\n",
       "    var attempts = 0;\n",
       "    var timer = setInterval(function(root) {\n",
       "      if (root.Bokeh !== undefined) {\n",
       "        clearInterval(timer);\n",
       "        embed_document(root);\n",
       "      } else {\n",
       "        attempts++;\n",
       "        if (attempts > 100) {\n",
       "          clearInterval(timer);\n",
       "          console.log(\"Bokeh: ERROR: Unable to run BokehJS code because BokehJS library is missing\");\n",
       "        }\n",
       "      }\n",
       "    }, 10, root)\n",
       "  }\n",
       "})(window);"
      ],
      "application/vnd.bokehjs_exec.v0+json": ""
     },
     "metadata": {
      "application/vnd.bokehjs_exec.v0+json": {
       "id": "6526"
      }
     },
     "output_type": "display_data"
    }
   ],
   "source": [
    "p = bokeh.plotting.figure(plot_width=400, plot_height=400)\n",
    "p.hex(x, y, size=size, fill_color=\"red\", line_color='purple', fill_alpha=0.5)\n",
    "show(p)"
   ]
  },
  {
   "cell_type": "markdown",
   "metadata": {
    "id": "sdzpQoC7wzCW"
   },
   "source": [
    "### 데이터를 통한 실습 "
   ]
  },
  {
   "cell_type": "code",
   "execution_count": 31,
   "metadata": {},
   "outputs": [
    {
     "data": {
      "text/html": [
       "<div>\n",
       "<style scoped>\n",
       "    .dataframe tbody tr th:only-of-type {\n",
       "        vertical-align: middle;\n",
       "    }\n",
       "\n",
       "    .dataframe tbody tr th {\n",
       "        vertical-align: top;\n",
       "    }\n",
       "\n",
       "    .dataframe thead th {\n",
       "        text-align: right;\n",
       "    }\n",
       "</style>\n",
       "<table border=\"1\" class=\"dataframe\">\n",
       "  <thead>\n",
       "    <tr style=\"text-align: right;\">\n",
       "      <th></th>\n",
       "      <th>mpg</th>\n",
       "      <th>cyl</th>\n",
       "      <th>displ</th>\n",
       "      <th>hp</th>\n",
       "      <th>weight</th>\n",
       "      <th>accel</th>\n",
       "      <th>yr</th>\n",
       "      <th>origin</th>\n",
       "      <th>name</th>\n",
       "    </tr>\n",
       "  </thead>\n",
       "  <tbody>\n",
       "    <tr>\n",
       "      <th>0</th>\n",
       "      <td>18.0</td>\n",
       "      <td>8</td>\n",
       "      <td>307.0</td>\n",
       "      <td>130</td>\n",
       "      <td>3504</td>\n",
       "      <td>12.0</td>\n",
       "      <td>70</td>\n",
       "      <td>1</td>\n",
       "      <td>chevrolet chevelle malibu</td>\n",
       "    </tr>\n",
       "    <tr>\n",
       "      <th>1</th>\n",
       "      <td>15.0</td>\n",
       "      <td>8</td>\n",
       "      <td>350.0</td>\n",
       "      <td>165</td>\n",
       "      <td>3693</td>\n",
       "      <td>11.5</td>\n",
       "      <td>70</td>\n",
       "      <td>1</td>\n",
       "      <td>buick skylark 320</td>\n",
       "    </tr>\n",
       "    <tr>\n",
       "      <th>2</th>\n",
       "      <td>18.0</td>\n",
       "      <td>8</td>\n",
       "      <td>318.0</td>\n",
       "      <td>150</td>\n",
       "      <td>3436</td>\n",
       "      <td>11.0</td>\n",
       "      <td>70</td>\n",
       "      <td>1</td>\n",
       "      <td>plymouth satellite</td>\n",
       "    </tr>\n",
       "    <tr>\n",
       "      <th>3</th>\n",
       "      <td>16.0</td>\n",
       "      <td>8</td>\n",
       "      <td>304.0</td>\n",
       "      <td>150</td>\n",
       "      <td>3433</td>\n",
       "      <td>12.0</td>\n",
       "      <td>70</td>\n",
       "      <td>1</td>\n",
       "      <td>amc rebel sst</td>\n",
       "    </tr>\n",
       "    <tr>\n",
       "      <th>4</th>\n",
       "      <td>17.0</td>\n",
       "      <td>8</td>\n",
       "      <td>302.0</td>\n",
       "      <td>140</td>\n",
       "      <td>3449</td>\n",
       "      <td>10.5</td>\n",
       "      <td>70</td>\n",
       "      <td>1</td>\n",
       "      <td>ford torino</td>\n",
       "    </tr>\n",
       "  </tbody>\n",
       "</table>\n",
       "</div>"
      ],
      "text/plain": [
       "    mpg  cyl  displ   hp  weight  accel  yr  origin                       name\n",
       "0  18.0    8  307.0  130    3504   12.0  70       1  chevrolet chevelle malibu\n",
       "1  15.0    8  350.0  165    3693   11.5  70       1          buick skylark 320\n",
       "2  18.0    8  318.0  150    3436   11.0  70       1         plymouth satellite\n",
       "3  16.0    8  304.0  150    3433   12.0  70       1              amc rebel sst\n",
       "4  17.0    8  302.0  140    3449   10.5  70       1                ford torino"
      ]
     },
     "execution_count": 31,
     "metadata": {},
     "output_type": "execute_result"
    }
   ],
   "source": [
    "from bokeh.sampledata.autompg import autompg\n",
    "\n",
    "autompg.head()"
   ]
  },
  {
   "cell_type": "code",
   "execution_count": 32,
   "metadata": {},
   "outputs": [
    {
     "data": {
      "text/html": [
       "\n",
       "\n",
       "\n",
       "\n",
       "\n",
       "\n",
       "  <div class=\"bk-root\" id=\"818092a7-4ef7-4b8b-b750-ef97571aa9f7\" data-root-id=\"6894\"></div>\n"
      ]
     },
     "metadata": {},
     "output_type": "display_data"
    },
    {
     "data": {
      "application/javascript": [
       "(function(root) {\n",
       "  function embed_document(root) {\n",
       "    \n",
       "  var docs_json = {\"a76f153d-1263-4ce2-b98f-c850557cf623\":{\"defs\":[],\"roots\":{\"references\":[{\"attributes\":{\"below\":[{\"id\":\"6903\"}],\"center\":[{\"id\":\"6906\"},{\"id\":\"6910\"}],\"height\":400,\"left\":[{\"id\":\"6907\"}],\"renderers\":[{\"id\":\"6928\"}],\"title\":{\"id\":\"7208\"},\"toolbar\":{\"id\":\"6918\"},\"width\":400,\"x_range\":{\"id\":\"6895\"},\"x_scale\":{\"id\":\"6899\"},\"y_range\":{\"id\":\"6897\"},\"y_scale\":{\"id\":\"6901\"}},\"id\":\"6894\",\"subtype\":\"Figure\",\"type\":\"Plot\"},{\"attributes\":{\"overlay\":{\"id\":\"6917\"}},\"id\":\"6913\",\"type\":\"BoxZoomTool\"},{\"attributes\":{\"axis\":{\"id\":\"6907\"},\"dimension\":1,\"ticker\":null},\"id\":\"6910\",\"type\":\"Grid\"},{\"attributes\":{},\"id\":\"7217\",\"type\":\"Selection\"},{\"attributes\":{\"fill_alpha\":{\"value\":0.5},\"fill_color\":{\"value\":\"darkblue\"},\"line_alpha\":{\"value\":0.5},\"line_color\":{\"value\":\"darkblue\"},\"marker\":{\"value\":\"hex\"},\"size\":{\"field\":\"size\"},\"x\":{\"field\":\"x\"},\"y\":{\"field\":\"y\"}},\"id\":\"6926\",\"type\":\"Scatter\"},{\"attributes\":{\"data\":{\"size\":[8,8,8,8,8,8,8,8,8,8,8,8,8,8,4,6,6,6,4,4,4,4,4,4,6,8,8,8,8,4,4,4,6,6,6,6,6,8,8,8,8,8,8,8,6,4,6,6,4,4,4,4,4,4,4,4,4,4,4,4,4,8,8,8,8,8,8,8,8,8,3,8,8,8,8,4,4,4,4,4,4,4,4,4,8,8,8,8,8,8,8,8,8,8,8,8,6,6,6,6,6,4,8,8,8,8,6,4,4,4,3,4,6,4,8,8,4,4,4,4,8,4,6,8,6,6,6,4,4,4,4,6,6,6,8,8,8,8,8,4,4,4,4,4,4,4,4,4,4,4,6,6,6,6,8,8,8,8,6,6,6,6,6,8,8,4,4,6,4,4,4,4,6,4,6,4,4,4,4,4,4,4,4,4,4,8,8,8,8,6,6,6,6,4,4,4,4,6,6,6,6,4,4,4,4,4,8,4,6,6,8,8,8,8,4,4,4,4,4,8,8,8,8,6,6,6,6,8,8,8,8,4,4,4,4,4,4,4,4,6,4,3,4,4,4,4,4,8,8,8,6,6,6,4,6,6,6,6,6,6,8,6,8,8,4,4,4,4,4,4,4,4,5,6,4,6,4,4,6,6,4,6,6,8,8,8,8,8,8,8,8,4,4,4,4,5,8,4,8,4,4,4,4,4,6,6,4,4,4,4,4,4,4,4,6,4,4,4,4,4,4,4,4,4,4,5,4,4,4,4,6,3,4,4,4,4,4,6,4,4,4,4,4,4,4,4,4,4,4,4,4,4,4,4,4,6,6,6,6,8,6,6,4,4,4,4,4,4,4,4,4,4,4,4,4,4,4,4,4,4,6,6,4,6,4,4,4,4,4,4,4,4],\"x\":[130,165,150,150,140,198,220,215,225,190,170,160,150,225,95,95,97,85,88,46,87,90,95,113,90,215,200,210,193,88,90,95,100,105,100,88,100,165,175,153,150,180,170,175,110,72,100,88,86,90,70,76,65,69,60,70,95,80,54,90,86,165,175,150,153,150,208,155,160,190,97,150,130,140,150,112,76,87,69,86,92,97,80,88,175,150,145,137,150,198,150,158,150,215,225,175,105,100,100,88,95,46,150,167,170,180,100,88,72,94,90,85,107,90,145,230,49,75,91,112,150,110,122,180,95,100,100,67,80,65,75,100,110,105,140,150,150,140,150,83,67,78,52,61,75,75,75,97,93,67,95,105,72,72,170,145,150,148,110,105,110,95,110,110,129,75,83,100,78,96,71,97,97,70,90,95,88,98,115,53,86,81,92,79,83,140,150,120,152,100,105,81,90,52,60,70,53,100,78,110,95,71,70,75,72,102,150,88,108,120,180,145,130,150,68,80,58,96,70,145,110,145,130,110,105,100,98,180,170,190,149,78,88,75,89,63,83,67,78,97,110,110,48,66,52,70,60,110,140,139,105,95,85,88,100,90,105,85,110,120,145,165,139,140,68,95,97,75,95,105,85,97,103,125,115,133,71,68,115,85,88,90,110,130,129,138,135,155,142,125,150,71,65,80,80,77,125,71,90,70,70,65,69,90,115,115,90,76,60,70,65,90,88,90,90,78,90,75,92,75,65,105,65,48,48,67,67,67,67,62,132,100,88,72,84,84,92,110,84,58,64,60,67,65,62,68,63,65,65,74,75,75,100,74,80,76,116,120,110,105,88,85,88,88,88,85,84,90,92,74,68,68,63,70,88,75,70,67,67,67,110,85,92,112,96,84,90,86,52,84,79,82],\"y\":{\"__ndarray__\":\"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\",\"dtype\":\"float64\",\"order\":\"little\",\"shape\":[392]}},\"selected\":{\"id\":\"7217\"},\"selection_policy\":{\"id\":\"7216\"}},\"id\":\"6925\",\"type\":\"ColumnDataSource\"},{\"attributes\":{\"fill_alpha\":{\"value\":0.1},\"fill_color\":{\"value\":\"darkblue\"},\"line_alpha\":{\"value\":0.1},\"line_color\":{\"value\":\"darkblue\"},\"marker\":{\"value\":\"hex\"},\"size\":{\"field\":\"size\"},\"x\":{\"field\":\"x\"},\"y\":{\"field\":\"y\"}},\"id\":\"6927\",\"type\":\"Scatter\"},{\"attributes\":{},\"id\":\"6916\",\"type\":\"HelpTool\"},{\"attributes\":{\"active_multi\":null,\"tools\":[{\"id\":\"6911\"},{\"id\":\"6912\"},{\"id\":\"6913\"},{\"id\":\"6914\"},{\"id\":\"6915\"},{\"id\":\"6916\"}]},\"id\":\"6918\",\"type\":\"Toolbar\"},{\"attributes\":{\"data_source\":{\"id\":\"6925\"},\"glyph\":{\"id\":\"6926\"},\"hover_glyph\":null,\"muted_glyph\":null,\"nonselection_glyph\":{\"id\":\"6927\"},\"view\":{\"id\":\"6929\"}},\"id\":\"6928\",\"type\":\"GlyphRenderer\"},{\"attributes\":{},\"id\":\"7212\",\"type\":\"BasicTickFormatter\"},{\"attributes\":{\"source\":{\"id\":\"6925\"}},\"id\":\"6929\",\"type\":\"CDSView\"},{\"attributes\":{\"axis\":{\"id\":\"6903\"},\"ticker\":null},\"id\":\"6906\",\"type\":\"Grid\"},{\"attributes\":{},\"id\":\"6911\",\"type\":\"PanTool\"},{\"attributes\":{},\"id\":\"7213\",\"type\":\"AllLabels\"},{\"attributes\":{},\"id\":\"7208\",\"type\":\"Title\"},{\"attributes\":{},\"id\":\"6908\",\"type\":\"BasicTicker\"},{\"attributes\":{},\"id\":\"6912\",\"type\":\"WheelZoomTool\"},{\"attributes\":{},\"id\":\"6915\",\"type\":\"ResetTool\"},{\"attributes\":{},\"id\":\"6895\",\"type\":\"DataRange1d\"},{\"attributes\":{},\"id\":\"7209\",\"type\":\"BasicTickFormatter\"},{\"attributes\":{},\"id\":\"6897\",\"type\":\"DataRange1d\"},{\"attributes\":{},\"id\":\"6914\",\"type\":\"SaveTool\"},{\"attributes\":{\"axis_label\":\"horse power\",\"formatter\":{\"id\":\"7209\"},\"major_label_policy\":{\"id\":\"7210\"},\"ticker\":{\"id\":\"6904\"}},\"id\":\"6903\",\"type\":\"LinearAxis\"},{\"attributes\":{},\"id\":\"7210\",\"type\":\"AllLabels\"},{\"attributes\":{},\"id\":\"6901\",\"type\":\"LinearScale\"},{\"attributes\":{},\"id\":\"6899\",\"type\":\"LinearScale\"},{\"attributes\":{\"bottom_units\":\"screen\",\"fill_alpha\":0.5,\"fill_color\":\"lightgrey\",\"left_units\":\"screen\",\"level\":\"overlay\",\"line_alpha\":1.0,\"line_color\":\"black\",\"line_dash\":[4,4],\"line_width\":2,\"right_units\":\"screen\",\"syncable\":false,\"top_units\":\"screen\"},\"id\":\"6917\",\"type\":\"BoxAnnotation\"},{\"attributes\":{},\"id\":\"7216\",\"type\":\"UnionRenderers\"},{\"attributes\":{},\"id\":\"6904\",\"type\":\"BasicTicker\"},{\"attributes\":{\"axis_label\":\"mpg\",\"formatter\":{\"id\":\"7212\"},\"major_label_policy\":{\"id\":\"7213\"},\"ticker\":{\"id\":\"6908\"}},\"id\":\"6907\",\"type\":\"LinearAxis\"}],\"root_ids\":[\"6894\"]},\"title\":\"Bokeh Application\",\"version\":\"2.3.2\"}};\n",
       "  var render_items = [{\"docid\":\"a76f153d-1263-4ce2-b98f-c850557cf623\",\"root_ids\":[\"6894\"],\"roots\":{\"6894\":\"818092a7-4ef7-4b8b-b750-ef97571aa9f7\"}}];\n",
       "  root.Bokeh.embed.embed_items_notebook(docs_json, render_items);\n",
       "\n",
       "  }\n",
       "  if (root.Bokeh !== undefined) {\n",
       "    embed_document(root);\n",
       "  } else {\n",
       "    var attempts = 0;\n",
       "    var timer = setInterval(function(root) {\n",
       "      if (root.Bokeh !== undefined) {\n",
       "        clearInterval(timer);\n",
       "        embed_document(root);\n",
       "      } else {\n",
       "        attempts++;\n",
       "        if (attempts > 100) {\n",
       "          clearInterval(timer);\n",
       "          console.log(\"Bokeh: ERROR: Unable to run BokehJS code because BokehJS library is missing\");\n",
       "        }\n",
       "      }\n",
       "    }, 10, root)\n",
       "  }\n",
       "})(window);"
      ],
      "application/vnd.bokehjs_exec.v0+json": ""
     },
     "metadata": {
      "application/vnd.bokehjs_exec.v0+json": {
       "id": "6894"
      }
     },
     "output_type": "display_data"
    }
   ],
   "source": [
    "p = figure(plot_width=400, plot_height=400)\n",
    "\n",
    "p.hex(autompg.hp, autompg.mpg, size=autompg.cyl, color=\"darkblue\", alpha=0.5)\n",
    "\n",
    "# 축 레이블(이름) 지정 \n",
    "p.xaxis.axis_label = 'horse power'\n",
    "p.yaxis.axis_label = 'mpg'\n",
    "\n",
    "show(p)"
   ]
  },
  {
   "cell_type": "code",
   "execution_count": 33,
   "metadata": {},
   "outputs": [
    {
     "data": {
      "text/html": [
       "\n",
       "\n",
       "\n",
       "\n",
       "\n",
       "\n",
       "  <div class=\"bk-root\" id=\"ce4fa60e-9adb-43f7-9ac4-f13caf7ad30e\" data-root-id=\"7273\"></div>\n"
      ]
     },
     "metadata": {},
     "output_type": "display_data"
    },
    {
     "data": {
      "application/javascript": [
       "(function(root) {\n",
       "  function embed_document(root) {\n",
       "    \n",
       "  var docs_json = {\"5821b5d8-5cd1-4501-8089-c0da46e006c4\":{\"defs\":[],\"roots\":{\"references\":[{\"attributes\":{\"below\":[{\"id\":\"7282\"}],\"center\":[{\"id\":\"7285\"},{\"id\":\"7289\"}],\"height\":400,\"left\":[{\"id\":\"7286\"}],\"renderers\":[{\"id\":\"7307\"}],\"title\":{\"id\":\"7598\"},\"toolbar\":{\"id\":\"7297\"},\"width\":400,\"x_range\":{\"id\":\"7274\"},\"x_scale\":{\"id\":\"7278\"},\"y_range\":{\"id\":\"7276\"},\"y_scale\":{\"id\":\"7280\"}},\"id\":\"7273\",\"subtype\":\"Figure\",\"type\":\"Plot\"},{\"attributes\":{\"overlay\":{\"id\":\"7296\"}},\"id\":\"7292\",\"type\":\"BoxZoomTool\"},{\"attributes\":{\"data\":{\"size\":[8,8,8,8,8,8,8,8,8,8,8,8,8,8,4,6,6,6,4,4,4,4,4,4,6,8,8,8,8,4,4,4,6,6,6,6,6,8,8,8,8,8,8,8,6,4,6,6,4,4,4,4,4,4,4,4,4,4,4,4,4,8,8,8,8,8,8,8,8,8,3,8,8,8,8,4,4,4,4,4,4,4,4,4,8,8,8,8,8,8,8,8,8,8,8,8,6,6,6,6,6,4,8,8,8,8,6,4,4,4,3,4,6,4,8,8,4,4,4,4,8,4,6,8,6,6,6,4,4,4,4,6,6,6,8,8,8,8,8,4,4,4,4,4,4,4,4,4,4,4,6,6,6,6,8,8,8,8,6,6,6,6,6,8,8,4,4,6,4,4,4,4,6,4,6,4,4,4,4,4,4,4,4,4,4,8,8,8,8,6,6,6,6,4,4,4,4,6,6,6,6,4,4,4,4,4,8,4,6,6,8,8,8,8,4,4,4,4,4,8,8,8,8,6,6,6,6,8,8,8,8,4,4,4,4,4,4,4,4,6,4,3,4,4,4,4,4,8,8,8,6,6,6,4,6,6,6,6,6,6,8,6,8,8,4,4,4,4,4,4,4,4,5,6,4,6,4,4,6,6,4,6,6,8,8,8,8,8,8,8,8,4,4,4,4,5,8,4,8,4,4,4,4,4,6,6,4,4,4,4,4,4,4,4,6,4,4,4,4,4,4,4,4,4,4,5,4,4,4,4,6,3,4,4,4,4,4,6,4,4,4,4,4,4,4,4,4,4,4,4,4,4,4,4,4,6,6,6,6,8,6,6,4,4,4,4,4,4,4,4,4,4,4,4,4,4,4,4,4,4,6,6,4,6,4,4,4,4,4,4,4,4],\"x\":[70,70,70,70,70,70,70,70,70,70,70,70,70,70,70,70,70,70,70,70,70,70,70,70,70,70,70,70,70,71,71,71,71,71,71,71,71,71,71,71,71,71,71,71,71,71,71,71,71,71,71,71,71,71,71,71,72,72,72,72,72,72,72,72,72,72,72,72,72,72,72,72,72,72,72,72,72,72,72,72,72,72,72,72,73,73,73,73,73,73,73,73,73,73,73,73,73,73,73,73,73,73,73,73,73,73,73,73,73,73,73,73,73,73,73,73,73,73,73,73,73,73,73,73,74,74,74,74,74,74,74,74,74,74,74,74,74,74,74,74,74,74,74,74,74,74,74,74,74,74,75,75,75,75,75,75,75,75,75,75,75,75,75,75,75,75,75,75,75,75,75,75,75,75,75,75,75,75,75,75,76,76,76,76,76,76,76,76,76,76,76,76,76,76,76,76,76,76,76,76,76,76,76,76,76,76,76,76,76,76,76,76,76,76,77,77,77,77,77,77,77,77,77,77,77,77,77,77,77,77,77,77,77,77,77,77,77,77,77,77,77,77,78,78,78,78,78,78,78,78,78,78,78,78,78,78,78,78,78,78,78,78,78,78,78,78,78,78,78,78,78,78,78,78,78,78,78,78,79,79,79,79,79,79,79,79,79,79,79,79,79,79,79,79,79,79,79,79,79,79,79,79,79,79,79,79,79,80,80,80,80,80,80,80,80,80,80,80,80,80,80,80,80,80,80,80,80,80,80,80,80,80,80,80,81,81,81,81,81,81,81,81,81,81,81,81,81,81,81,81,81,81,81,81,81,81,81,81,81,81,81,81,82,82,82,82,82,82,82,82,82,82,82,82,82,82,82,82,82,82,82,82,82,82,82,82,82,82,82,82,82,82],\"y\":[130,165,150,150,140,198,220,215,225,190,170,160,150,225,95,95,97,85,88,46,87,90,95,113,90,215,200,210,193,88,90,95,100,105,100,88,100,165,175,153,150,180,170,175,110,72,100,88,86,90,70,76,65,69,60,70,95,80,54,90,86,165,175,150,153,150,208,155,160,190,97,150,130,140,150,112,76,87,69,86,92,97,80,88,175,150,145,137,150,198,150,158,150,215,225,175,105,100,100,88,95,46,150,167,170,180,100,88,72,94,90,85,107,90,145,230,49,75,91,112,150,110,122,180,95,100,100,67,80,65,75,100,110,105,140,150,150,140,150,83,67,78,52,61,75,75,75,97,93,67,95,105,72,72,170,145,150,148,110,105,110,95,110,110,129,75,83,100,78,96,71,97,97,70,90,95,88,98,115,53,86,81,92,79,83,140,150,120,152,100,105,81,90,52,60,70,53,100,78,110,95,71,70,75,72,102,150,88,108,120,180,145,130,150,68,80,58,96,70,145,110,145,130,110,105,100,98,180,170,190,149,78,88,75,89,63,83,67,78,97,110,110,48,66,52,70,60,110,140,139,105,95,85,88,100,90,105,85,110,120,145,165,139,140,68,95,97,75,95,105,85,97,103,125,115,133,71,68,115,85,88,90,110,130,129,138,135,155,142,125,150,71,65,80,80,77,125,71,90,70,70,65,69,90,115,115,90,76,60,70,65,90,88,90,90,78,90,75,92,75,65,105,65,48,48,67,67,67,67,62,132,100,88,72,84,84,92,110,84,58,64,60,67,65,62,68,63,65,65,74,75,75,100,74,80,76,116,120,110,105,88,85,88,88,88,85,84,90,92,74,68,68,63,70,88,75,70,67,67,67,110,85,92,112,96,84,90,86,52,84,79,82]},\"selected\":{\"id\":\"7607\"},\"selection_policy\":{\"id\":\"7606\"}},\"id\":\"7304\",\"type\":\"ColumnDataSource\"},{\"attributes\":{},\"id\":\"7293\",\"type\":\"SaveTool\"},{\"attributes\":{},\"id\":\"7294\",\"type\":\"ResetTool\"},{\"attributes\":{},\"id\":\"7607\",\"type\":\"Selection\"},{\"attributes\":{},\"id\":\"7602\",\"type\":\"BasicTickFormatter\"},{\"attributes\":{\"fill_alpha\":{\"value\":0.1},\"fill_color\":{\"value\":\"darkblue\"},\"line_alpha\":{\"value\":0.1},\"line_color\":{\"value\":\"darkblue\"},\"marker\":{\"value\":\"hex\"},\"size\":{\"field\":\"size\"},\"x\":{\"field\":\"x\"},\"y\":{\"field\":\"y\"}},\"id\":\"7306\",\"type\":\"Scatter\"},{\"attributes\":{\"source\":{\"id\":\"7304\"}},\"id\":\"7308\",\"type\":\"CDSView\"},{\"attributes\":{},\"id\":\"7280\",\"type\":\"LinearScale\"},{\"attributes\":{\"data_source\":{\"id\":\"7304\"},\"glyph\":{\"id\":\"7305\"},\"hover_glyph\":null,\"muted_glyph\":null,\"nonselection_glyph\":{\"id\":\"7306\"},\"view\":{\"id\":\"7308\"}},\"id\":\"7307\",\"type\":\"GlyphRenderer\"},{\"attributes\":{},\"id\":\"7598\",\"type\":\"Title\"},{\"attributes\":{},\"id\":\"7603\",\"type\":\"AllLabels\"},{\"attributes\":{},\"id\":\"7606\",\"type\":\"UnionRenderers\"},{\"attributes\":{},\"id\":\"7599\",\"type\":\"BasicTickFormatter\"},{\"attributes\":{},\"id\":\"7276\",\"type\":\"DataRange1d\"},{\"attributes\":{\"bottom_units\":\"screen\",\"fill_alpha\":0.5,\"fill_color\":\"lightgrey\",\"left_units\":\"screen\",\"level\":\"overlay\",\"line_alpha\":1.0,\"line_color\":\"black\",\"line_dash\":[4,4],\"line_width\":2,\"right_units\":\"screen\",\"syncable\":false,\"top_units\":\"screen\"},\"id\":\"7296\",\"type\":\"BoxAnnotation\"},{\"attributes\":{},\"id\":\"7278\",\"type\":\"LinearScale\"},{\"attributes\":{},\"id\":\"7600\",\"type\":\"AllLabels\"},{\"attributes\":{},\"id\":\"7295\",\"type\":\"HelpTool\"},{\"attributes\":{\"axis_label\":\"horse power\",\"formatter\":{\"id\":\"7602\"},\"major_label_policy\":{\"id\":\"7603\"},\"ticker\":{\"id\":\"7287\"}},\"id\":\"7286\",\"type\":\"LinearAxis\"},{\"attributes\":{\"axis_label\":\"Year\",\"formatter\":{\"id\":\"7599\"},\"major_label_policy\":{\"id\":\"7600\"},\"ticker\":{\"id\":\"7283\"}},\"id\":\"7282\",\"type\":\"LinearAxis\"},{\"attributes\":{},\"id\":\"7283\",\"type\":\"BasicTicker\"},{\"attributes\":{},\"id\":\"7274\",\"type\":\"DataRange1d\"},{\"attributes\":{\"axis\":{\"id\":\"7282\"},\"ticker\":null},\"id\":\"7285\",\"type\":\"Grid\"},{\"attributes\":{\"axis\":{\"id\":\"7286\"},\"dimension\":1,\"ticker\":null},\"id\":\"7289\",\"type\":\"Grid\"},{\"attributes\":{},\"id\":\"7287\",\"type\":\"BasicTicker\"},{\"attributes\":{\"fill_alpha\":{\"value\":0.5},\"fill_color\":{\"value\":\"darkblue\"},\"line_alpha\":{\"value\":0.5},\"line_color\":{\"value\":\"darkblue\"},\"marker\":{\"value\":\"hex\"},\"size\":{\"field\":\"size\"},\"x\":{\"field\":\"x\"},\"y\":{\"field\":\"y\"}},\"id\":\"7305\",\"type\":\"Scatter\"},{\"attributes\":{},\"id\":\"7291\",\"type\":\"WheelZoomTool\"},{\"attributes\":{\"active_multi\":null,\"tools\":[{\"id\":\"7290\"},{\"id\":\"7291\"},{\"id\":\"7292\"},{\"id\":\"7293\"},{\"id\":\"7294\"},{\"id\":\"7295\"}]},\"id\":\"7297\",\"type\":\"Toolbar\"},{\"attributes\":{},\"id\":\"7290\",\"type\":\"PanTool\"}],\"root_ids\":[\"7273\"]},\"title\":\"Bokeh Application\",\"version\":\"2.3.2\"}};\n",
       "  var render_items = [{\"docid\":\"5821b5d8-5cd1-4501-8089-c0da46e006c4\",\"root_ids\":[\"7273\"],\"roots\":{\"7273\":\"ce4fa60e-9adb-43f7-9ac4-f13caf7ad30e\"}}];\n",
       "  root.Bokeh.embed.embed_items_notebook(docs_json, render_items);\n",
       "\n",
       "  }\n",
       "  if (root.Bokeh !== undefined) {\n",
       "    embed_document(root);\n",
       "  } else {\n",
       "    var attempts = 0;\n",
       "    var timer = setInterval(function(root) {\n",
       "      if (root.Bokeh !== undefined) {\n",
       "        clearInterval(timer);\n",
       "        embed_document(root);\n",
       "      } else {\n",
       "        attempts++;\n",
       "        if (attempts > 100) {\n",
       "          clearInterval(timer);\n",
       "          console.log(\"Bokeh: ERROR: Unable to run BokehJS code because BokehJS library is missing\");\n",
       "        }\n",
       "      }\n",
       "    }, 10, root)\n",
       "  }\n",
       "})(window);"
      ],
      "application/vnd.bokehjs_exec.v0+json": ""
     },
     "metadata": {
      "application/vnd.bokehjs_exec.v0+json": {
       "id": "7273"
      }
     },
     "output_type": "display_data"
    }
   ],
   "source": [
    "p = figure(plot_width=400, plot_height=400)\n",
    "\n",
    "p.hex(autompg.yr, autompg.hp, size=autompg.cyl, color=\"darkblue\", alpha=0.5)\n",
    "\n",
    "# 축 레이블(이름) 지정 \n",
    "p.xaxis.axis_label = 'Year'\n",
    "p.yaxis.axis_label = 'horse power'\n",
    "\n",
    "show(p)"
   ]
  },
  {
   "cell_type": "markdown",
   "metadata": {
    "id": "g5w4GZUrkWJU"
   },
   "source": [
    "## 라인 플롯(Line Plots)"
   ]
  },
  {
   "cell_type": "markdown",
   "metadata": {
    "id": "2SPcVDaQ8XFT"
   },
   "source": [
    "### 단일 라인(Single Lines)"
   ]
  },
  {
   "cell_type": "code",
   "execution_count": 39,
   "metadata": {
    "id": "OqbczWCikfBF"
   },
   "outputs": [],
   "source": [
    "x = np.arange(100)\n",
    "# 값을 누적하여 부드러운 직선이 나타나도록 생성합니다. \n",
    "y = np.random.randn(100).cumsum()"
   ]
  },
  {
   "cell_type": "code",
   "execution_count": 40,
   "metadata": {
    "id": "zzKfcpUzjJ-8"
   },
   "outputs": [
    {
     "data": {
      "text/html": [
       "\n",
       "\n",
       "\n",
       "\n",
       "\n",
       "\n",
       "  <div class=\"bk-root\" id=\"bd8a4156-8c99-46a0-8eb3-08d303f75a81\" data-root-id=\"8476\"></div>\n"
      ]
     },
     "metadata": {},
     "output_type": "display_data"
    },
    {
     "data": {
      "application/javascript": [
       "(function(root) {\n",
       "  function embed_document(root) {\n",
       "    \n",
       "  var docs_json = {\"2e7ac114-0825-4cc5-95e1-3294c7c24f38\":{\"defs\":[],\"roots\":{\"references\":[{\"attributes\":{\"below\":[{\"id\":\"8485\"}],\"center\":[{\"id\":\"8488\"},{\"id\":\"8492\"}],\"height\":400,\"left\":[{\"id\":\"8489\"}],\"renderers\":[{\"id\":\"8510\"}],\"title\":{\"id\":\"8834\"},\"toolbar\":{\"id\":\"8500\"},\"width\":400,\"x_range\":{\"id\":\"8477\"},\"x_scale\":{\"id\":\"8481\"},\"y_range\":{\"id\":\"8479\"},\"y_scale\":{\"id\":\"8483\"}},\"id\":\"8476\",\"subtype\":\"Figure\",\"type\":\"Plot\"},{\"attributes\":{\"axis\":{\"id\":\"8485\"},\"ticker\":null},\"id\":\"8488\",\"type\":\"Grid\"},{\"attributes\":{},\"id\":\"8835\",\"type\":\"BasicTickFormatter\"},{\"attributes\":{},\"id\":\"8836\",\"type\":\"AllLabels\"},{\"attributes\":{},\"id\":\"8490\",\"type\":\"BasicTicker\"},{\"attributes\":{},\"id\":\"8494\",\"type\":\"WheelZoomTool\"},{\"attributes\":{},\"id\":\"8842\",\"type\":\"UnionRenderers\"},{\"attributes\":{},\"id\":\"8493\",\"type\":\"PanTool\"},{\"attributes\":{},\"id\":\"8497\",\"type\":\"ResetTool\"},{\"attributes\":{},\"id\":\"8843\",\"type\":\"Selection\"},{\"attributes\":{\"source\":{\"id\":\"8507\"}},\"id\":\"8511\",\"type\":\"CDSView\"},{\"attributes\":{\"line_alpha\":0.1,\"line_color\":\"#1f77b4\",\"line_width\":3,\"x\":{\"field\":\"x\"},\"y\":{\"field\":\"y\"}},\"id\":\"8509\",\"type\":\"Line\"},{\"attributes\":{\"bottom_units\":\"screen\",\"fill_alpha\":0.5,\"fill_color\":\"lightgrey\",\"left_units\":\"screen\",\"level\":\"overlay\",\"line_alpha\":1.0,\"line_color\":\"black\",\"line_dash\":[4,4],\"line_width\":2,\"right_units\":\"screen\",\"syncable\":false,\"top_units\":\"screen\"},\"id\":\"8499\",\"type\":\"BoxAnnotation\"},{\"attributes\":{},\"id\":\"8486\",\"type\":\"BasicTicker\"},{\"attributes\":{\"axis\":{\"id\":\"8489\"},\"dimension\":1,\"ticker\":null},\"id\":\"8492\",\"type\":\"Grid\"},{\"attributes\":{\"data_source\":{\"id\":\"8507\"},\"glyph\":{\"id\":\"8508\"},\"hover_glyph\":null,\"muted_glyph\":null,\"nonselection_glyph\":{\"id\":\"8509\"},\"view\":{\"id\":\"8511\"}},\"id\":\"8510\",\"type\":\"GlyphRenderer\"},{\"attributes\":{},\"id\":\"8477\",\"type\":\"DataRange1d\"},{\"attributes\":{},\"id\":\"8479\",\"type\":\"DataRange1d\"},{\"attributes\":{\"active_multi\":null,\"tools\":[{\"id\":\"8493\"},{\"id\":\"8494\"},{\"id\":\"8495\"},{\"id\":\"8496\"},{\"id\":\"8497\"},{\"id\":\"8498\"}]},\"id\":\"8500\",\"type\":\"Toolbar\"},{\"attributes\":{},\"id\":\"8838\",\"type\":\"BasicTickFormatter\"},{\"attributes\":{\"formatter\":{\"id\":\"8838\"},\"major_label_policy\":{\"id\":\"8839\"},\"ticker\":{\"id\":\"8490\"}},\"id\":\"8489\",\"type\":\"LinearAxis\"},{\"attributes\":{\"data\":{\"x\":{\"__ndarray__\":\"AAAAAAEAAAACAAAAAwAAAAQAAAAFAAAABgAAAAcAAAAIAAAACQAAAAoAAAALAAAADAAAAA0AAAAOAAAADwAAABAAAAARAAAAEgAAABMAAAAUAAAAFQAAABYAAAAXAAAAGAAAABkAAAAaAAAAGwAAABwAAAAdAAAAHgAAAB8AAAAgAAAAIQAAACIAAAAjAAAAJAAAACUAAAAmAAAAJwAAACgAAAApAAAAKgAAACsAAAAsAAAALQAAAC4AAAAvAAAAMAAAADEAAAAyAAAAMwAAADQAAAA1AAAANgAAADcAAAA4AAAAOQAAADoAAAA7AAAAPAAAAD0AAAA+AAAAPwAAAEAAAABBAAAAQgAAAEMAAABEAAAARQAAAEYAAABHAAAASAAAAEkAAABKAAAASwAAAEwAAABNAAAATgAAAE8AAABQAAAAUQAAAFIAAABTAAAAVAAAAFUAAABWAAAAVwAAAFgAAABZAAAAWgAAAFsAAABcAAAAXQAAAF4AAABfAAAAYAAAAGEAAABiAAAAYwAAAA==\",\"dtype\":\"int32\",\"order\":\"little\",\"shape\":[100]},\"y\":{\"__ndarray__\":\"ffzkvBaN0T+vHJ5ejGv/P8VP/155lQdAABHVb8FDBUCATCRdMIHFv6pTCbPDFPu/QxSJ3X4v779yu5IXRRbSPzfLr2R2ROk/6p94zgqH+D8npGAON+0DQLNOZA8ORwBAfjbwNVx+AEA8vRify8fsP/YNqVWTLPu/+BwI6MMe9b/ad86o2DPrvzyr4Ix0Pum/sanOltBk47+b4NAlaX7Zv7qs4NmdhuM/MZviWdcN5j+wLT2i82ipPwQ6U4M/Yfc/1Qs4EpXO9T82DMZI3zwBQGknd9CceQNAdEqkKxQHDUCEaC0q8BcNQKZcECm3CRBAgD/w8K5ODEBDlNTcqaMTQIqMVcgvzxZATciUyUCdFEBp12l1RsMTQPqYBhsQAxlA9xkQot7iH0BoWtPJOhwhQIVhm1qZDCFAIqdSz3yvH0BaZzgb80UbQBpORRYQ1xtAmQrnM2doHUCPd6iU780gQBa08/fniiBA1rf5v6usG0AxxEaJaioVQBDVOKTPchBACT5yhBTlEUBg4u60UEQUQPLpOG4bnBlAVpcme/ADFUAf1OZI6xAUQDlNZ36wbBdAwHRDTxgYGUA0cx3tUtISQP2PAf7SuxVAGFG7P+IdF0DsFX5mvbkbQLwFAb7LSRNAO8No35+GE0CyxWVFTLgUQHnTgAxEyRRAbkcT8E8QEkB0TIc9jKUIQKCV/Qe83wdAsJcut0v1A0AKOqi2XpruP1k3m/wnZug/9Ku5PnhL4j9Fx/xL0KbXP0aFFfWt4eg/9rLbAbhP6T80WeI+3wL3P3TMnRSJD9A/xL3lS7gN2j+MG/TKroXiP+1blyf7CP0/GOZfn9ytAUDN2FkPgh4AQEUZ5jabSwNAkzwnvTHo+D9Q3s0qCUD3P4Bx5w4ypMA/uoSnGBjk5r+G0wQq5SDuv+jLQ7ZO6tM/JpuGl1/a5r+0ajCNBVDbPzL8Lgzurf8/RB2vJC/pC0DCjv2Gg6oEQLB1Uhz+JAdAbFZRnDLU/D81Gtmw1GIDQFPUGg6p1/o/XA8bNBiw/T/AmIdb29IMQLiSgvSX7gJA9tFJB2F4DEA=\",\"dtype\":\"float64\",\"order\":\"little\",\"shape\":[100]}},\"selected\":{\"id\":\"8843\"},\"selection_policy\":{\"id\":\"8842\"}},\"id\":\"8507\",\"type\":\"ColumnDataSource\"},{\"attributes\":{},\"id\":\"8839\",\"type\":\"AllLabels\"},{\"attributes\":{\"formatter\":{\"id\":\"8835\"},\"major_label_policy\":{\"id\":\"8836\"},\"ticker\":{\"id\":\"8486\"}},\"id\":\"8485\",\"type\":\"LinearAxis\"},{\"attributes\":{},\"id\":\"8483\",\"type\":\"LinearScale\"},{\"attributes\":{},\"id\":\"8496\",\"type\":\"SaveTool\"},{\"attributes\":{\"overlay\":{\"id\":\"8499\"}},\"id\":\"8495\",\"type\":\"BoxZoomTool\"},{\"attributes\":{},\"id\":\"8834\",\"type\":\"Title\"},{\"attributes\":{},\"id\":\"8481\",\"type\":\"LinearScale\"},{\"attributes\":{},\"id\":\"8498\",\"type\":\"HelpTool\"},{\"attributes\":{\"line_color\":\"#1f77b4\",\"line_width\":3,\"x\":{\"field\":\"x\"},\"y\":{\"field\":\"y\"}},\"id\":\"8508\",\"type\":\"Line\"}],\"root_ids\":[\"8476\"]},\"title\":\"Bokeh Application\",\"version\":\"2.3.2\"}};\n",
       "  var render_items = [{\"docid\":\"2e7ac114-0825-4cc5-95e1-3294c7c24f38\",\"root_ids\":[\"8476\"],\"roots\":{\"8476\":\"bd8a4156-8c99-46a0-8eb3-08d303f75a81\"}}];\n",
       "  root.Bokeh.embed.embed_items_notebook(docs_json, render_items);\n",
       "\n",
       "  }\n",
       "  if (root.Bokeh !== undefined) {\n",
       "    embed_document(root);\n",
       "  } else {\n",
       "    var attempts = 0;\n",
       "    var timer = setInterval(function(root) {\n",
       "      if (root.Bokeh !== undefined) {\n",
       "        clearInterval(timer);\n",
       "        embed_document(root);\n",
       "      } else {\n",
       "        attempts++;\n",
       "        if (attempts > 100) {\n",
       "          clearInterval(timer);\n",
       "          console.log(\"Bokeh: ERROR: Unable to run BokehJS code because BokehJS library is missing\");\n",
       "        }\n",
       "      }\n",
       "    }, 10, root)\n",
       "  }\n",
       "})(window);"
      ],
      "application/vnd.bokehjs_exec.v0+json": ""
     },
     "metadata": {
      "application/vnd.bokehjs_exec.v0+json": {
       "id": "8476"
      }
     },
     "output_type": "display_data"
    }
   ],
   "source": [
    "p = figure(plot_width=400, plot_height=400)\n",
    "p.line(x, y, line_width=3)\n",
    "show(p)"
   ]
  },
  {
   "cell_type": "code",
   "execution_count": 41,
   "metadata": {
    "id": "DvB20vxkkduW"
   },
   "outputs": [
    {
     "data": {
      "text/html": [
       "\n",
       "\n",
       "\n",
       "\n",
       "\n",
       "\n",
       "  <div class=\"bk-root\" id=\"979081a2-caed-4bcf-9bfb-7182cfd59c9a\" data-root-id=\"8899\"></div>\n"
      ]
     },
     "metadata": {},
     "output_type": "display_data"
    },
    {
     "data": {
      "application/javascript": [
       "(function(root) {\n",
       "  function embed_document(root) {\n",
       "    \n",
       "  var docs_json = {\"25fab7fb-bd59-49ed-a9ab-3559409a2910\":{\"defs\":[],\"roots\":{\"references\":[{\"attributes\":{\"below\":[{\"id\":\"8908\"}],\"center\":[{\"id\":\"8911\"},{\"id\":\"8915\"}],\"height\":400,\"left\":[{\"id\":\"8912\"}],\"renderers\":[{\"id\":\"8933\"}],\"title\":{\"id\":\"9268\"},\"toolbar\":{\"id\":\"8923\"},\"width\":400,\"x_range\":{\"id\":\"8900\"},\"x_scale\":{\"id\":\"8904\"},\"y_range\":{\"id\":\"8902\"},\"y_scale\":{\"id\":\"8906\"}},\"id\":\"8899\",\"subtype\":\"Figure\",\"type\":\"Plot\"},{\"attributes\":{\"bottom_units\":\"screen\",\"fill_alpha\":0.5,\"fill_color\":\"lightgrey\",\"left_units\":\"screen\",\"level\":\"overlay\",\"line_alpha\":1.0,\"line_color\":\"black\",\"line_dash\":[4,4],\"line_width\":2,\"right_units\":\"screen\",\"syncable\":false,\"top_units\":\"screen\"},\"id\":\"8922\",\"type\":\"BoxAnnotation\"},{\"attributes\":{\"axis\":{\"id\":\"8912\"},\"dimension\":1,\"ticker\":null},\"id\":\"8915\",\"type\":\"Grid\"},{\"attributes\":{},\"id\":\"9269\",\"type\":\"BasicTickFormatter\"},{\"attributes\":{},\"id\":\"8904\",\"type\":\"LinearScale\"},{\"attributes\":{},\"id\":\"9270\",\"type\":\"AllLabels\"},{\"attributes\":{},\"id\":\"9276\",\"type\":\"UnionRenderers\"},{\"attributes\":{\"axis\":{\"id\":\"8908\"},\"ticker\":null},\"id\":\"8911\",\"type\":\"Grid\"},{\"attributes\":{},\"id\":\"9277\",\"type\":\"Selection\"},{\"attributes\":{\"line_color\":\"#1f77b4\",\"line_dash\":[2,4],\"line_width\":3,\"x\":{\"field\":\"x\"},\"y\":{\"field\":\"y\"}},\"id\":\"8931\",\"type\":\"Line\"},{\"attributes\":{},\"id\":\"8916\",\"type\":\"PanTool\"},{\"attributes\":{},\"id\":\"8900\",\"type\":\"DataRange1d\"},{\"attributes\":{\"data\":{\"x\":{\"__ndarray__\":\"AAAAAAEAAAACAAAAAwAAAAQAAAAFAAAABgAAAAcAAAAIAAAACQAAAAoAAAALAAAADAAAAA0AAAAOAAAADwAAABAAAAARAAAAEgAAABMAAAAUAAAAFQAAABYAAAAXAAAAGAAAABkAAAAaAAAAGwAAABwAAAAdAAAAHgAAAB8AAAAgAAAAIQAAACIAAAAjAAAAJAAAACUAAAAmAAAAJwAAACgAAAApAAAAKgAAACsAAAAsAAAALQAAAC4AAAAvAAAAMAAAADEAAAAyAAAAMwAAADQAAAA1AAAANgAAADcAAAA4AAAAOQAAADoAAAA7AAAAPAAAAD0AAAA+AAAAPwAAAEAAAABBAAAAQgAAAEMAAABEAAAARQAAAEYAAABHAAAASAAAAEkAAABKAAAASwAAAEwAAABNAAAATgAAAE8AAABQAAAAUQAAAFIAAABTAAAAVAAAAFUAAABWAAAAVwAAAFgAAABZAAAAWgAAAFsAAABcAAAAXQAAAF4AAABfAAAAYAAAAGEAAABiAAAAYwAAAA==\",\"dtype\":\"int32\",\"order\":\"little\",\"shape\":[100]},\"y\":{\"__ndarray__\":\"ffzkvBaN0T+vHJ5ejGv/P8VP/155lQdAABHVb8FDBUCATCRdMIHFv6pTCbPDFPu/QxSJ3X4v779yu5IXRRbSPzfLr2R2ROk/6p94zgqH+D8npGAON+0DQLNOZA8ORwBAfjbwNVx+AEA8vRify8fsP/YNqVWTLPu/+BwI6MMe9b/ad86o2DPrvzyr4Ix0Pum/sanOltBk47+b4NAlaX7Zv7qs4NmdhuM/MZviWdcN5j+wLT2i82ipPwQ6U4M/Yfc/1Qs4EpXO9T82DMZI3zwBQGknd9CceQNAdEqkKxQHDUCEaC0q8BcNQKZcECm3CRBAgD/w8K5ODEBDlNTcqaMTQIqMVcgvzxZATciUyUCdFEBp12l1RsMTQPqYBhsQAxlA9xkQot7iH0BoWtPJOhwhQIVhm1qZDCFAIqdSz3yvH0BaZzgb80UbQBpORRYQ1xtAmQrnM2doHUCPd6iU780gQBa08/fniiBA1rf5v6usG0AxxEaJaioVQBDVOKTPchBACT5yhBTlEUBg4u60UEQUQPLpOG4bnBlAVpcme/ADFUAf1OZI6xAUQDlNZ36wbBdAwHRDTxgYGUA0cx3tUtISQP2PAf7SuxVAGFG7P+IdF0DsFX5mvbkbQLwFAb7LSRNAO8No35+GE0CyxWVFTLgUQHnTgAxEyRRAbkcT8E8QEkB0TIc9jKUIQKCV/Qe83wdAsJcut0v1A0AKOqi2XpruP1k3m/wnZug/9Ku5PnhL4j9Fx/xL0KbXP0aFFfWt4eg/9rLbAbhP6T80WeI+3wL3P3TMnRSJD9A/xL3lS7gN2j+MG/TKroXiP+1blyf7CP0/GOZfn9ytAUDN2FkPgh4AQEUZ5jabSwNAkzwnvTHo+D9Q3s0qCUD3P4Bx5w4ypMA/uoSnGBjk5r+G0wQq5SDuv+jLQ7ZO6tM/JpuGl1/a5r+0ajCNBVDbPzL8Lgzurf8/RB2vJC/pC0DCjv2Gg6oEQLB1Uhz+JAdAbFZRnDLU/D81Gtmw1GIDQFPUGg6p1/o/XA8bNBiw/T/AmIdb29IMQLiSgvSX7gJA9tFJB2F4DEA=\",\"dtype\":\"float64\",\"order\":\"little\",\"shape\":[100]}},\"selected\":{\"id\":\"9277\"},\"selection_policy\":{\"id\":\"9276\"}},\"id\":\"8930\",\"type\":\"ColumnDataSource\"},{\"attributes\":{},\"id\":\"8902\",\"type\":\"DataRange1d\"},{\"attributes\":{},\"id\":\"8917\",\"type\":\"WheelZoomTool\"},{\"attributes\":{},\"id\":\"8919\",\"type\":\"SaveTool\"},{\"attributes\":{\"formatter\":{\"id\":\"9269\"},\"major_label_policy\":{\"id\":\"9270\"},\"ticker\":{\"id\":\"8909\"}},\"id\":\"8908\",\"type\":\"LinearAxis\"},{\"attributes\":{},\"id\":\"8906\",\"type\":\"LinearScale\"},{\"attributes\":{},\"id\":\"8909\",\"type\":\"BasicTicker\"},{\"attributes\":{\"line_alpha\":0.1,\"line_color\":\"#1f77b4\",\"line_dash\":[2,4],\"line_width\":3,\"x\":{\"field\":\"x\"},\"y\":{\"field\":\"y\"}},\"id\":\"8932\",\"type\":\"Line\"},{\"attributes\":{\"formatter\":{\"id\":\"9272\"},\"major_label_policy\":{\"id\":\"9273\"},\"ticker\":{\"id\":\"8913\"}},\"id\":\"8912\",\"type\":\"LinearAxis\"},{\"attributes\":{\"source\":{\"id\":\"8930\"}},\"id\":\"8934\",\"type\":\"CDSView\"},{\"attributes\":{\"data_source\":{\"id\":\"8930\"},\"glyph\":{\"id\":\"8931\"},\"hover_glyph\":null,\"muted_glyph\":null,\"nonselection_glyph\":{\"id\":\"8932\"},\"view\":{\"id\":\"8934\"}},\"id\":\"8933\",\"type\":\"GlyphRenderer\"},{\"attributes\":{},\"id\":\"8921\",\"type\":\"HelpTool\"},{\"attributes\":{},\"id\":\"9272\",\"type\":\"BasicTickFormatter\"},{\"attributes\":{},\"id\":\"9268\",\"type\":\"Title\"},{\"attributes\":{},\"id\":\"8920\",\"type\":\"ResetTool\"},{\"attributes\":{\"active_multi\":null,\"tools\":[{\"id\":\"8916\"},{\"id\":\"8917\"},{\"id\":\"8918\"},{\"id\":\"8919\"},{\"id\":\"8920\"},{\"id\":\"8921\"}]},\"id\":\"8923\",\"type\":\"Toolbar\"},{\"attributes\":{},\"id\":\"9273\",\"type\":\"AllLabels\"},{\"attributes\":{},\"id\":\"8913\",\"type\":\"BasicTicker\"},{\"attributes\":{\"overlay\":{\"id\":\"8922\"}},\"id\":\"8918\",\"type\":\"BoxZoomTool\"}],\"root_ids\":[\"8899\"]},\"title\":\"Bokeh Application\",\"version\":\"2.3.2\"}};\n",
       "  var render_items = [{\"docid\":\"25fab7fb-bd59-49ed-a9ab-3559409a2910\",\"root_ids\":[\"8899\"],\"roots\":{\"8899\":\"979081a2-caed-4bcf-9bfb-7182cfd59c9a\"}}];\n",
       "  root.Bokeh.embed.embed_items_notebook(docs_json, render_items);\n",
       "\n",
       "  }\n",
       "  if (root.Bokeh !== undefined) {\n",
       "    embed_document(root);\n",
       "  } else {\n",
       "    var attempts = 0;\n",
       "    var timer = setInterval(function(root) {\n",
       "      if (root.Bokeh !== undefined) {\n",
       "        clearInterval(timer);\n",
       "        embed_document(root);\n",
       "      } else {\n",
       "        attempts++;\n",
       "        if (attempts > 100) {\n",
       "          clearInterval(timer);\n",
       "          console.log(\"Bokeh: ERROR: Unable to run BokehJS code because BokehJS library is missing\");\n",
       "        }\n",
       "      }\n",
       "    }, 10, root)\n",
       "  }\n",
       "})(window);"
      ],
      "application/vnd.bokehjs_exec.v0+json": ""
     },
     "metadata": {
      "application/vnd.bokehjs_exec.v0+json": {
       "id": "8899"
      }
     },
     "output_type": "display_data"
    }
   ],
   "source": [
    "# 선의 스타일을 지정합니다 \n",
    "p = figure(plot_width=400, plot_height=400)\n",
    "p.line(x, y, line_width=3, line_dash='dotted')\n",
    "show(p)"
   ]
  },
  {
   "cell_type": "code",
   "execution_count": 42,
   "metadata": {
    "id": "5EziUZsSsaiF"
   },
   "outputs": [
    {
     "data": {
      "text/html": [
       "\n",
       "\n",
       "\n",
       "\n",
       "\n",
       "\n",
       "  <div class=\"bk-root\" id=\"620602f7-dc31-4303-a908-1938ad6ef0b8\" data-root-id=\"9333\"></div>\n"
      ]
     },
     "metadata": {},
     "output_type": "display_data"
    },
    {
     "data": {
      "application/javascript": [
       "(function(root) {\n",
       "  function embed_document(root) {\n",
       "    \n",
       "  var docs_json = {\"f3aa2e08-dde3-41dc-8d00-fa6bed0164d8\":{\"defs\":[],\"roots\":{\"references\":[{\"attributes\":{\"below\":[{\"id\":\"9342\"}],\"center\":[{\"id\":\"9345\"},{\"id\":\"9349\"}],\"height\":400,\"left\":[{\"id\":\"9346\"}],\"renderers\":[{\"id\":\"9367\"}],\"title\":{\"id\":\"9713\"},\"toolbar\":{\"id\":\"9357\"},\"width\":400,\"x_range\":{\"id\":\"9334\"},\"x_scale\":{\"id\":\"9338\"},\"y_range\":{\"id\":\"9336\"},\"y_scale\":{\"id\":\"9340\"}},\"id\":\"9333\",\"subtype\":\"Figure\",\"type\":\"Plot\"},{\"attributes\":{},\"id\":\"9334\",\"type\":\"DataRange1d\"},{\"attributes\":{\"axis\":{\"id\":\"9342\"},\"ticker\":null},\"id\":\"9345\",\"type\":\"Grid\"},{\"attributes\":{},\"id\":\"9336\",\"type\":\"DataRange1d\"},{\"attributes\":{\"formatter\":{\"id\":\"9717\"},\"major_label_policy\":{\"id\":\"9718\"},\"ticker\":{\"id\":\"9347\"}},\"id\":\"9346\",\"type\":\"LinearAxis\"},{\"attributes\":{\"formatter\":{\"id\":\"9714\"},\"major_label_policy\":{\"id\":\"9715\"},\"ticker\":{\"id\":\"9343\"}},\"id\":\"9342\",\"type\":\"LinearAxis\"},{\"attributes\":{},\"id\":\"9338\",\"type\":\"LinearScale\"},{\"attributes\":{\"line_color\":\"red\",\"line_dash\":[6],\"line_width\":3,\"x\":{\"field\":\"x\"},\"y\":{\"field\":\"y\"}},\"id\":\"9365\",\"type\":\"Line\"},{\"attributes\":{},\"id\":\"9355\",\"type\":\"HelpTool\"},{\"attributes\":{},\"id\":\"9718\",\"type\":\"AllLabels\"},{\"attributes\":{},\"id\":\"9343\",\"type\":\"BasicTicker\"},{\"attributes\":{\"bottom_units\":\"screen\",\"fill_alpha\":0.5,\"fill_color\":\"lightgrey\",\"left_units\":\"screen\",\"level\":\"overlay\",\"line_alpha\":1.0,\"line_color\":\"black\",\"line_dash\":[4,4],\"line_width\":2,\"right_units\":\"screen\",\"syncable\":false,\"top_units\":\"screen\"},\"id\":\"9356\",\"type\":\"BoxAnnotation\"},{\"attributes\":{\"active_multi\":null,\"tools\":[{\"id\":\"9350\"},{\"id\":\"9351\"},{\"id\":\"9352\"},{\"id\":\"9353\"},{\"id\":\"9354\"},{\"id\":\"9355\"}]},\"id\":\"9357\",\"type\":\"Toolbar\"},{\"attributes\":{\"axis\":{\"id\":\"9346\"},\"dimension\":1,\"ticker\":null},\"id\":\"9349\",\"type\":\"Grid\"},{\"attributes\":{},\"id\":\"9721\",\"type\":\"UnionRenderers\"},{\"attributes\":{},\"id\":\"9347\",\"type\":\"BasicTicker\"},{\"attributes\":{\"source\":{\"id\":\"9364\"}},\"id\":\"9368\",\"type\":\"CDSView\"},{\"attributes\":{},\"id\":\"9713\",\"type\":\"Title\"},{\"attributes\":{},\"id\":\"9722\",\"type\":\"Selection\"},{\"attributes\":{},\"id\":\"9351\",\"type\":\"WheelZoomTool\"},{\"attributes\":{},\"id\":\"9350\",\"type\":\"PanTool\"},{\"attributes\":{\"overlay\":{\"id\":\"9356\"}},\"id\":\"9352\",\"type\":\"BoxZoomTool\"},{\"attributes\":{\"line_alpha\":0.1,\"line_color\":\"red\",\"line_dash\":[6],\"line_width\":3,\"x\":{\"field\":\"x\"},\"y\":{\"field\":\"y\"}},\"id\":\"9366\",\"type\":\"Line\"},{\"attributes\":{},\"id\":\"9353\",\"type\":\"SaveTool\"},{\"attributes\":{},\"id\":\"9354\",\"type\":\"ResetTool\"},{\"attributes\":{},\"id\":\"9717\",\"type\":\"BasicTickFormatter\"},{\"attributes\":{\"data\":{\"x\":{\"__ndarray__\":\"AAAAAAEAAAACAAAAAwAAAAQAAAAFAAAABgAAAAcAAAAIAAAACQAAAAoAAAALAAAADAAAAA0AAAAOAAAADwAAABAAAAARAAAAEgAAABMAAAAUAAAAFQAAABYAAAAXAAAAGAAAABkAAAAaAAAAGwAAABwAAAAdAAAAHgAAAB8AAAAgAAAAIQAAACIAAAAjAAAAJAAAACUAAAAmAAAAJwAAACgAAAApAAAAKgAAACsAAAAsAAAALQAAAC4AAAAvAAAAMAAAADEAAAAyAAAAMwAAADQAAAA1AAAANgAAADcAAAA4AAAAOQAAADoAAAA7AAAAPAAAAD0AAAA+AAAAPwAAAEAAAABBAAAAQgAAAEMAAABEAAAARQAAAEYAAABHAAAASAAAAEkAAABKAAAASwAAAEwAAABNAAAATgAAAE8AAABQAAAAUQAAAFIAAABTAAAAVAAAAFUAAABWAAAAVwAAAFgAAABZAAAAWgAAAFsAAABcAAAAXQAAAF4AAABfAAAAYAAAAGEAAABiAAAAYwAAAA==\",\"dtype\":\"int32\",\"order\":\"little\",\"shape\":[100]},\"y\":{\"__ndarray__\":\"ffzkvBaN0T+vHJ5ejGv/P8VP/155lQdAABHVb8FDBUCATCRdMIHFv6pTCbPDFPu/QxSJ3X4v779yu5IXRRbSPzfLr2R2ROk/6p94zgqH+D8npGAON+0DQLNOZA8ORwBAfjbwNVx+AEA8vRify8fsP/YNqVWTLPu/+BwI6MMe9b/ad86o2DPrvzyr4Ix0Pum/sanOltBk47+b4NAlaX7Zv7qs4NmdhuM/MZviWdcN5j+wLT2i82ipPwQ6U4M/Yfc/1Qs4EpXO9T82DMZI3zwBQGknd9CceQNAdEqkKxQHDUCEaC0q8BcNQKZcECm3CRBAgD/w8K5ODEBDlNTcqaMTQIqMVcgvzxZATciUyUCdFEBp12l1RsMTQPqYBhsQAxlA9xkQot7iH0BoWtPJOhwhQIVhm1qZDCFAIqdSz3yvH0BaZzgb80UbQBpORRYQ1xtAmQrnM2doHUCPd6iU780gQBa08/fniiBA1rf5v6usG0AxxEaJaioVQBDVOKTPchBACT5yhBTlEUBg4u60UEQUQPLpOG4bnBlAVpcme/ADFUAf1OZI6xAUQDlNZ36wbBdAwHRDTxgYGUA0cx3tUtISQP2PAf7SuxVAGFG7P+IdF0DsFX5mvbkbQLwFAb7LSRNAO8No35+GE0CyxWVFTLgUQHnTgAxEyRRAbkcT8E8QEkB0TIc9jKUIQKCV/Qe83wdAsJcut0v1A0AKOqi2XpruP1k3m/wnZug/9Ku5PnhL4j9Fx/xL0KbXP0aFFfWt4eg/9rLbAbhP6T80WeI+3wL3P3TMnRSJD9A/xL3lS7gN2j+MG/TKroXiP+1blyf7CP0/GOZfn9ytAUDN2FkPgh4AQEUZ5jabSwNAkzwnvTHo+D9Q3s0qCUD3P4Bx5w4ypMA/uoSnGBjk5r+G0wQq5SDuv+jLQ7ZO6tM/JpuGl1/a5r+0ajCNBVDbPzL8Lgzurf8/RB2vJC/pC0DCjv2Gg6oEQLB1Uhz+JAdAbFZRnDLU/D81Gtmw1GIDQFPUGg6p1/o/XA8bNBiw/T/AmIdb29IMQLiSgvSX7gJA9tFJB2F4DEA=\",\"dtype\":\"float64\",\"order\":\"little\",\"shape\":[100]}},\"selected\":{\"id\":\"9722\"},\"selection_policy\":{\"id\":\"9721\"}},\"id\":\"9364\",\"type\":\"ColumnDataSource\"},{\"attributes\":{\"data_source\":{\"id\":\"9364\"},\"glyph\":{\"id\":\"9365\"},\"hover_glyph\":null,\"muted_glyph\":null,\"nonselection_glyph\":{\"id\":\"9366\"},\"view\":{\"id\":\"9368\"}},\"id\":\"9367\",\"type\":\"GlyphRenderer\"},{\"attributes\":{},\"id\":\"9340\",\"type\":\"LinearScale\"},{\"attributes\":{},\"id\":\"9714\",\"type\":\"BasicTickFormatter\"},{\"attributes\":{},\"id\":\"9715\",\"type\":\"AllLabels\"}],\"root_ids\":[\"9333\"]},\"title\":\"Bokeh Application\",\"version\":\"2.3.2\"}};\n",
       "  var render_items = [{\"docid\":\"f3aa2e08-dde3-41dc-8d00-fa6bed0164d8\",\"root_ids\":[\"9333\"],\"roots\":{\"9333\":\"620602f7-dc31-4303-a908-1938ad6ef0b8\"}}];\n",
       "  root.Bokeh.embed.embed_items_notebook(docs_json, render_items);\n",
       "\n",
       "  }\n",
       "  if (root.Bokeh !== undefined) {\n",
       "    embed_document(root);\n",
       "  } else {\n",
       "    var attempts = 0;\n",
       "    var timer = setInterval(function(root) {\n",
       "      if (root.Bokeh !== undefined) {\n",
       "        clearInterval(timer);\n",
       "        embed_document(root);\n",
       "      } else {\n",
       "        attempts++;\n",
       "        if (attempts > 100) {\n",
       "          clearInterval(timer);\n",
       "          console.log(\"Bokeh: ERROR: Unable to run BokehJS code because BokehJS library is missing\");\n",
       "        }\n",
       "      }\n",
       "    }, 10, root)\n",
       "  }\n",
       "})(window);"
      ],
      "application/vnd.bokehjs_exec.v0+json": ""
     },
     "metadata": {
      "application/vnd.bokehjs_exec.v0+json": {
       "id": "9333"
      }
     },
     "output_type": "display_data"
    }
   ],
   "source": [
    "# 선의 스타일을 지정합니다 \n",
    "p = figure(plot_width=400, plot_height=400)\n",
    "p.line(x, y, line_width=3, line_dash='dashed', color='red')\n",
    "show(p)"
   ]
  },
  {
   "cell_type": "code",
   "execution_count": 43,
   "metadata": {
    "id": "cJ8LdAn3tXcT"
   },
   "outputs": [
    {
     "data": {
      "text/html": [
       "<div>\n",
       "<style scoped>\n",
       "    .dataframe tbody tr th:only-of-type {\n",
       "        vertical-align: middle;\n",
       "    }\n",
       "\n",
       "    .dataframe tbody tr th {\n",
       "        vertical-align: top;\n",
       "    }\n",
       "\n",
       "    .dataframe thead th {\n",
       "        text-align: right;\n",
       "    }\n",
       "</style>\n",
       "<table border=\"1\" class=\"dataframe\">\n",
       "  <thead>\n",
       "    <tr style=\"text-align: right;\">\n",
       "      <th></th>\n",
       "      <th>isig</th>\n",
       "      <th>glucose</th>\n",
       "    </tr>\n",
       "    <tr>\n",
       "      <th>datetime</th>\n",
       "      <th></th>\n",
       "      <th></th>\n",
       "    </tr>\n",
       "  </thead>\n",
       "  <tbody>\n",
       "    <tr>\n",
       "      <th>2010-03-24 09:51:00</th>\n",
       "      <td>22.59</td>\n",
       "      <td>258</td>\n",
       "    </tr>\n",
       "    <tr>\n",
       "      <th>2010-03-24 09:56:00</th>\n",
       "      <td>22.52</td>\n",
       "      <td>260</td>\n",
       "    </tr>\n",
       "    <tr>\n",
       "      <th>2010-03-24 10:01:00</th>\n",
       "      <td>22.23</td>\n",
       "      <td>258</td>\n",
       "    </tr>\n",
       "    <tr>\n",
       "      <th>2010-03-24 10:06:00</th>\n",
       "      <td>21.56</td>\n",
       "      <td>254</td>\n",
       "    </tr>\n",
       "    <tr>\n",
       "      <th>2010-03-24 10:11:00</th>\n",
       "      <td>20.79</td>\n",
       "      <td>246</td>\n",
       "    </tr>\n",
       "    <tr>\n",
       "      <th>...</th>\n",
       "      <td>...</td>\n",
       "      <td>...</td>\n",
       "    </tr>\n",
       "    <tr>\n",
       "      <th>2010-10-10 23:37:00</th>\n",
       "      <td>29.46</td>\n",
       "      <td>160</td>\n",
       "    </tr>\n",
       "    <tr>\n",
       "      <th>2010-10-10 23:42:00</th>\n",
       "      <td>29.08</td>\n",
       "      <td>160</td>\n",
       "    </tr>\n",
       "    <tr>\n",
       "      <th>2010-10-10 23:47:00</th>\n",
       "      <td>29.06</td>\n",
       "      <td>160</td>\n",
       "    </tr>\n",
       "    <tr>\n",
       "      <th>2010-10-10 23:52:00</th>\n",
       "      <td>29.3</td>\n",
       "      <td>161</td>\n",
       "    </tr>\n",
       "    <tr>\n",
       "      <th>2010-10-10 23:57:00</th>\n",
       "      <td>30.8</td>\n",
       "      <td>165</td>\n",
       "    </tr>\n",
       "  </tbody>\n",
       "</table>\n",
       "<p>52281 rows × 2 columns</p>\n",
       "</div>"
      ],
      "text/plain": [
       "                      isig  glucose\n",
       "datetime                           \n",
       "2010-03-24 09:51:00  22.59      258\n",
       "2010-03-24 09:56:00  22.52      260\n",
       "2010-03-24 10:01:00  22.23      258\n",
       "2010-03-24 10:06:00  21.56      254\n",
       "2010-03-24 10:11:00  20.79      246\n",
       "...                    ...      ...\n",
       "2010-10-10 23:37:00  29.46      160\n",
       "2010-10-10 23:42:00  29.08      160\n",
       "2010-10-10 23:47:00  29.06      160\n",
       "2010-10-10 23:52:00   29.3      161\n",
       "2010-10-10 23:57:00   30.8      165\n",
       "\n",
       "[52281 rows x 2 columns]"
      ]
     },
     "execution_count": 43,
     "metadata": {},
     "output_type": "execute_result"
    }
   ],
   "source": [
    "from bokeh.sampledata.glucose import data \n",
    "data"
   ]
  },
  {
   "cell_type": "code",
   "execution_count": 44,
   "metadata": {},
   "outputs": [
    {
     "data": {
      "text/html": [
       "<div>\n",
       "<style scoped>\n",
       "    .dataframe tbody tr th:only-of-type {\n",
       "        vertical-align: middle;\n",
       "    }\n",
       "\n",
       "    .dataframe tbody tr th {\n",
       "        vertical-align: top;\n",
       "    }\n",
       "\n",
       "    .dataframe thead th {\n",
       "        text-align: right;\n",
       "    }\n",
       "</style>\n",
       "<table border=\"1\" class=\"dataframe\">\n",
       "  <thead>\n",
       "    <tr style=\"text-align: right;\">\n",
       "      <th></th>\n",
       "      <th>isig</th>\n",
       "      <th>glucose</th>\n",
       "    </tr>\n",
       "    <tr>\n",
       "      <th>datetime</th>\n",
       "      <th></th>\n",
       "      <th></th>\n",
       "    </tr>\n",
       "  </thead>\n",
       "  <tbody>\n",
       "    <tr>\n",
       "      <th>2010-10-01 00:04:00</th>\n",
       "      <td>13.56</td>\n",
       "      <td>92</td>\n",
       "    </tr>\n",
       "    <tr>\n",
       "      <th>2010-10-01 00:09:00</th>\n",
       "      <td>14.76</td>\n",
       "      <td>100</td>\n",
       "    </tr>\n",
       "    <tr>\n",
       "      <th>2010-10-01 00:14:00</th>\n",
       "      <td>15.9</td>\n",
       "      <td>108</td>\n",
       "    </tr>\n",
       "    <tr>\n",
       "      <th>2010-10-01 00:19:00</th>\n",
       "      <td>16.74</td>\n",
       "      <td>115</td>\n",
       "    </tr>\n",
       "    <tr>\n",
       "      <th>2010-10-01 00:24:00</th>\n",
       "      <td>17.04</td>\n",
       "      <td>120</td>\n",
       "    </tr>\n",
       "    <tr>\n",
       "      <th>...</th>\n",
       "      <td>...</td>\n",
       "      <td>...</td>\n",
       "    </tr>\n",
       "    <tr>\n",
       "      <th>2010-10-10 23:37:00</th>\n",
       "      <td>29.46</td>\n",
       "      <td>160</td>\n",
       "    </tr>\n",
       "    <tr>\n",
       "      <th>2010-10-10 23:42:00</th>\n",
       "      <td>29.08</td>\n",
       "      <td>160</td>\n",
       "    </tr>\n",
       "    <tr>\n",
       "      <th>2010-10-10 23:47:00</th>\n",
       "      <td>29.06</td>\n",
       "      <td>160</td>\n",
       "    </tr>\n",
       "    <tr>\n",
       "      <th>2010-10-10 23:52:00</th>\n",
       "      <td>29.3</td>\n",
       "      <td>161</td>\n",
       "    </tr>\n",
       "    <tr>\n",
       "      <th>2010-10-10 23:57:00</th>\n",
       "      <td>30.8</td>\n",
       "      <td>165</td>\n",
       "    </tr>\n",
       "  </tbody>\n",
       "</table>\n",
       "<p>2788 rows × 2 columns</p>\n",
       "</div>"
      ],
      "text/plain": [
       "                      isig  glucose\n",
       "datetime                           \n",
       "2010-10-01 00:04:00  13.56       92\n",
       "2010-10-01 00:09:00  14.76      100\n",
       "2010-10-01 00:14:00   15.9      108\n",
       "2010-10-01 00:19:00  16.74      115\n",
       "2010-10-01 00:24:00  17.04      120\n",
       "...                    ...      ...\n",
       "2010-10-10 23:37:00  29.46      160\n",
       "2010-10-10 23:42:00  29.08      160\n",
       "2010-10-10 23:47:00  29.06      160\n",
       "2010-10-10 23:52:00   29.3      161\n",
       "2010-10-10 23:57:00   30.8      165\n",
       "\n",
       "[2788 rows x 2 columns]"
      ]
     },
     "execution_count": 44,
     "metadata": {},
     "output_type": "execute_result"
    }
   ],
   "source": [
    "days = data.loc['2010-10-01':'2010-10-10']\n",
    "days "
   ]
  },
  {
   "cell_type": "code",
   "execution_count": 47,
   "metadata": {},
   "outputs": [
    {
     "data": {
      "text/html": [
       "\n",
       "\n",
       "\n",
       "\n",
       "\n",
       "\n",
       "  <div class=\"bk-root\" id=\"b4aad57b-b188-4f4e-9fe7-2c3c2988fa5f\" data-root-id=\"10335\"></div>\n"
      ]
     },
     "metadata": {},
     "output_type": "display_data"
    },
    {
     "data": {
      "application/javascript": [
       "(function(root) {\n",
       "  function embed_document(root) {\n",
       "    \n",
       "  var docs_json = {\"ee96cd4b-4064-4a4a-a89d-ecf158d407ad\":{\"defs\":[],\"roots\":{\"references\":[{\"attributes\":{\"below\":[{\"id\":\"10346\"}],\"center\":[{\"id\":\"10349\"},{\"id\":\"10353\"}],\"height\":400,\"left\":[{\"id\":\"10350\"}],\"renderers\":[{\"id\":\"10371\"}],\"title\":{\"id\":\"10336\"},\"toolbar\":{\"id\":\"10361\"},\"width\":800,\"x_range\":{\"id\":\"10338\"},\"x_scale\":{\"id\":\"10342\"},\"y_range\":{\"id\":\"10340\"},\"y_scale\":{\"id\":\"10344\"}},\"id\":\"10335\",\"subtype\":\"Figure\",\"type\":\"Plot\"},{\"attributes\":{\"days\":[1,8,15,22]},\"id\":\"10762\",\"type\":\"DaysTicker\"},{\"attributes\":{},\"id\":\"10358\",\"type\":\"ResetTool\"},{\"attributes\":{\"months\":[0,4,8]},\"id\":\"10766\",\"type\":\"MonthsTicker\"},{\"attributes\":{},\"id\":\"10768\",\"type\":\"YearsTicker\"},{\"attributes\":{\"line_alpha\":0.1,\"line_color\":\"red\",\"line_dash\":[6],\"line_width\":3,\"x\":{\"field\":\"x\"},\"y\":{\"field\":\"y\"}},\"id\":\"10370\",\"type\":\"Line\"},{\"attributes\":{},\"id\":\"10750\",\"type\":\"DatetimeTickFormatter\"},{\"attributes\":{},\"id\":\"10769\",\"type\":\"UnionRenderers\"},{\"attributes\":{\"source\":{\"id\":\"10368\"}},\"id\":\"10372\",\"type\":\"CDSView\"},{\"attributes\":{},\"id\":\"10770\",\"type\":\"Selection\"},{\"attributes\":{},\"id\":\"10751\",\"type\":\"AllLabels\"},{\"attributes\":{\"bottom_units\":\"screen\",\"fill_alpha\":0.5,\"fill_color\":\"lightgrey\",\"left_units\":\"screen\",\"level\":\"overlay\",\"line_alpha\":1.0,\"line_color\":\"black\",\"line_dash\":[4,4],\"line_width\":2,\"right_units\":\"screen\",\"syncable\":false,\"top_units\":\"screen\"},\"id\":\"10360\",\"type\":\"BoxAnnotation\"},{\"attributes\":{\"data_source\":{\"id\":\"10368\"},\"glyph\":{\"id\":\"10369\"},\"hover_glyph\":null,\"muted_glyph\":null,\"nonselection_glyph\":{\"id\":\"10370\"},\"view\":{\"id\":\"10372\"}},\"id\":\"10371\",\"type\":\"GlyphRenderer\"},{\"attributes\":{\"data\":{\"x\":{\"__ndarray__\":\"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\",\"dtype\":\"float64\",\"order\":\"little\",\"shape\":[2788]},\"y\":[92,100,108,115,120,124,128,133,137,142,147,152,157,162,167,171,175,179,185,192,200,207,212,215,217,219,218,219,217,216,216,216,215,214,212,211,209,207,204,203,203,203,203,204,203,202,201,200,199,199,197,193,189,185,182,182,183,184,184,182,177,174,172,170,168,167,166,164,162,160,158,155,152,150,147,140,131,124,120,116,114,114,116,118,119,120,120,120,119,117,114,112,112,111,111,112,111,111,110,108,106,106,106,106,104,101,101,103,102,100,99,100,100,99,99,99,100,99,98,97,97,96,92,90,89,86,85,85,84,84,81,80,81,86,99,115,125,130,129,128,123,118,113,111,112,111,109,108,105,101,100,102,107,113,119,125,129,131,129,128,127,127,127,125,122,117,113,108,103,98,93,89,86,85,83,82,81,82,84,87,92,99,107,121,133,142,146,149,150,151,151,152,152,150,148,161,160,158,157,157,157,156,153,149,147,145,144,145,149,154,159,163,164,164,164,163,162,158,154,153,154,155,157,159,158,156,152,148,144,139,134,128,123,121,119,117,115,115,112,109,106,105,103,101,97,93,89,86,85,88,93,100,106,113,119,125,131,137,142,149,159,172,186,197,204,207,208,207,205,202,199,197,193,185,176,178,177,177,176,173,171,170,169,167,166,165,163,163,162,160,156,150,150,150,151,150,150,150,149,149,148,149,147,145,143,139,141,145,147,147,146,145,141,138,136,135,134,133,132,129,124,120,118,112,114,119,123,125,126,127,128,135,143,148,151,153,154,155,156,156,157,157,156,155,154,147,137,131,128,129,131,132,133,135,135,133,131,132,135,138,139,138,136,132,128,126,125,120,113,108,106,105,108,111,113,116,120,120,120,119,118,118,118,118,117,116,113,106,98,93,97,107,115,122,120,113,102,94,95,96,90,88,83,83,85,90,97,98,99,94,89,95,105,111,113,106,95,90,91,96,101,104,109,112,120,123,118,115,123,130,128,130,136,131,121,113,110,108,109,111,115,120,115,108,105,105,104,106,110,111,115,115,117,114,111,107,105,109,111,110,111,115,121,126,135,142,145,147,150,153,156,160,162,161,160,160,159,157,154,152,152,150,143,138,132,128,124,119,112,105,98,92,94,98,106,118,126,128,127,123,123,121,118,115,112,112,114,113,105,78,209,204,214,252,282,290,295,292,284,268,263,262,263,263,262,258,249,236,179,165,157,152,150,149,150,154,158,163,166,166,163,159,158,161,170,176,178,174,170,166,160,156,151,148,147,145,142,141,145,144,144,153,155,152,147,143,145,152,156,157,156,155,155,156,158,158,158,156,152,146,139,139,141,143,145,147,148,149,149,149,148,147,144,140,139,139,138,137,136,135,134,133,134,136,137,136,134,135,139,142,143,141,138,141,145,148,151,152,154,156,155,155,159,163,166,166,166,164,162,160,158,157,155,153,150,150,149,149,149,149,150,152,154,155,155,156,156,157,160,163,165,165,164,163,121,119,117,114,113,112,113,113,113,113,112,113,113,113,114,112,110,109,109,109,108,108,90,90,94,99,107,116,125,130,132,130,124,117,110,103,95,88,81,77,75,63,65,70,73,78,80,80,79,80,83,86,89,94,96,98,104,105,106,106,107,107,109,114,118,121,123,124,123,122,122,123,123,123,124,123,123,124,127,132,137,139,140,140,142,147,152,156,160,165,168,169,169,165,162,160,158,156,154,150,146,144,141,138,136,133,129,124,118,112,107,106,107,108,109,110,111,112,112,113,114,115,116,117,118,119,122,125,128,130,130,131,130,128,126,123,120,116,93,89,86,84,82,79,76,74,72,71,69,70,68,67,66,67,68,69,69,69,68,68,67,66,65,64,63,61,61,60,60,61,63,64,64,64,63,64,65,66,67,67,66,66,67,68,69,71,73,72,71,70,71,72,74,75,76,78,79,80,81,82,84,86,88,88,87,86,85,86,86,86,86,87,87,88,88,88,89,87,83,79,78,82,85,87,88,89,89,89,87,86,88,89,90,89,90,92,91,90,89,88,87,87,89,90,91,92,94,108,110,110,111,111,111,112,113,114,116,116,116,117,119,121,124,127,131,138,145,150,155,161,165,169,173,177,182,185,185,184,189,193,195,198,198,197,196,196,199,202,202,201,202,204,205,205,203,202,201,197,197,198,199,200,199,195,190,184,180,178,179,180,179,176,175,174,172,169,168,167,170,180,191,203,214,219,219,222,227,228,226,223,221,219,219,218,218,219,218,216,214,214,211,208,207,206,206,205,202,199,193,190,187,182,179,176,173,170,167,163,158,152,146,141,135,129,122,114,108,102,97,90,85,81,77,73,68,65,62,61,61,61,61,61,60,59,59,60,61,64,69,75,82,92,104,117,128,137,144,149,153,156,160,164,169,175,180,184,188,191,193,195,196,200,203,207,212,218,223,228,231,234,235,236,327,327,330,333,328,321,316,308,298,287,274,263,255,249,243,239,234,230,225,220,215,210,206,204,204,199,195,190,185,181,177,175,173,171,170,169,169,168,167,166,166,166,163,161,159,158,157,156,154,152,150,149,149,150,150,151,151,152,153,153,153,154,154,154,154,153,152,152,150,149,148,146,145,144,144,143,142,142,141,140,139,137,137,138,136,137,137,136,137,136,134,133,132,132,132,132,132,134,136,138,141,142,142,143,145,150,154,156,158,160,162,164,167,169,172,175,176,175,174,172,170,171,173,178,185,191,198,210,223,235,244,254,265,273,283,290,296,302,307,309,313,316,318,320,322,320,319,317,313,311,306,300,297,294,293,290,287,286,285,282,279,274,271,270,270,269,274,271,267,264,262,259,255,250,244,237,232,227,223,220,215,210,205,199,195,193,197,206,221,239,258,276,291,302,311,318,323,324,322,320,319,320,319,317,314,311,307,302,294,286,280,276,272,267,259,251,245,241,241,241,242,244,245,245,242,237,232,228,225,216,215,216,217,217,215,211,206,202,200,201,203,201,196,188,176,163,149,138,129,119,108,98,89,79,71,66,66,67,67,68,69,71,74,77,79,81,85,91,99,109,119,132,145,157,168,175,179,183,185,188,188,187,184,179,172,163,159,157,155,153,151,149,148,148,148,147,146,145,145,144,143,143,143,144,145,146,145,144,143,142,140,140,140,140,140,143,147,150,152,152,152,154,155,142,140,138,134,131,130,128,127,126,126,126,126,127,129,131,132,134,136,136,136,136,135,134,132,130,130,130,129,128,127,125,124,123,123,122,121,120,118,115,112,111,111,110,110,109,108,107,107,107,108,107,105,105,105,105,104,103,102,99,97,96,94,94,93,93,92,91,92,94,95,96,97,99,102,104,112,112,112,111,110,107,104,105,105,103,99,96,94,95,102,114,128,144,160,173,185,196,205,209,214,219,226,234,241,248,255,260,265,268,270,272,271,271,268,265,261,256,253,250,246,244,241,237,233,229,225,222,204,200,197,193,190,186,182,179,175,171,168,164,158,154,151,148,145,141,133,139,152,173,196,217,233,244,249,250,253,256,260,263,265,265,264,260,254,246,234,217,200,188,181,175,169,164,159,154,147,138,132,129,127,123,117,111,106,104,103,100,94,88,83,78,75,73,71,69,68,67,67,68,70,71,71,70,69,68,67,67,67,66,67,69,71,74,76,78,80,80,80,80,80,80,82,84,87,90,92,87,87,86,86,86,86,87,87,87,85,83,82,83,87,95,107,118,130,141,149,172,179,187,201,214,221,225,230,232,230,223,216,208,199,191,185,181,177,176,177,176,173,171,169,163,154,152,153,154,154,153,151,150,150,150,152,149,147,148,150,152,152,152,151,151,150,149,147,146,143,140,138,136,137,138,140,138,135,132,130,129,129,129,130,130,129,128,128,128,129,129,128,127,126,125,125,125,125,124,124,121,120,120,123,124,123,122,120,115,113,114,114,115,116,115,112,111,111,109,108,107,107,110,113,114,115,115,115,114,113,113,116,119,120,121,121,122,123,124,125,126,126,126,126,126,127,127,125,122,118,115,111,112,115,117,120,124,127,131,137,143,148,153,159,166,172,178,184,191,199,206,212,217,223,229,232,233,235,237,240,241,243,246,247,246,243,240,234,229,225,221,217,216,215,215,215,212,208,203,199,196,194,190,185,180,177,163,158,152,149,153,163,174,182,188,192,195,197,201,204,205,203,199,195,189,184,176,169,162,150,138,128,119,110,100,90,80,73,68,64,63,63,66,68,70,71,72,74,80,94,116,141,164,183,198,210,220,228,233,237,241,247,252,256,260,259,258,256,251,245,238,234,227,221,215,208,207,207,203,201,201,199,179,176,171,163,152,137,119,98,77,61,50,45,47,59,71,86,99,109,116,117,115,111,107,102,96,91,90,94,97,97,95,92,87,84,84,83,84,86,86,86,84,82,82,81,81,82,84,87,89,91,92,94,93,93,94,96,100,101,99,97,96,96,97,97,98,99,101,102,106,114,121,127,130,124,105,109,119,127,129,132,129,126,126,126,126,126,125,124,125,130,130,128,126,126,126,126,126,126,126,127,128,129,129,127,128,136,141,143,141,138,131,129,133,134,130,129,134,137,139,138,130,122,118,115,114,113,113,112,112,117,118,117,118,118,117,117,114,112,115,118,124,126,119,121,122,274,285,293,297,298,298,296,293,289,282,275,267,256,249,242,233,225,217,217,215,203,190,185,193,202,202,194,182,170,143,130,120,110,102,93,80,67,57,52,50,49,49,54,72,93,104,114,125,134,140,145,145,141,136,130,124,118,116,114,112,108,105,102,99,95,91,88,85,83,82,80,79,79,83,86,87,88,89,89,88,88,90,92,88,86,86,86,84,82,84,88,90,94,99,104,107,107,105,104,103,95,94,93,93,93,93,93,94,99,109,122,172,169,164,156,147,137,126,115,104,99,99,103,106,111,115,117,118,120,120,120,120,119,119,118,118,117,116,115,115,116,116,115,115,114,112,109,110,111,111,110,109,109,109,108,107,106,105,101,100,99,99,98,97,97,97,98,88,96,106,115,121,124,124,124,122,122,122,123,125,126,128,129,130,132,134,135,135,134,133,131,129,127,127,127,127,127,128,127,126,125,125,127,129,130,130,130,130,129,127,125,124,122,121,121,120,118,115,114,113,113,113,113,114,113,113,111,109,109,110,109,110,110,111,112,112,111,109,109,109,111,114,116,118,119,120,122,122,123,123,123,123,124,124,123,123,123,123,123,124,125,125,126,127,127,126,126,126,124,121,120,118,116,115,113,112,110,108,107,109,111,111,112,112,111,108,105,103,101,99,80,79,79,77,77,82,92,104,115,123,128,132,138,142,146,148,148,144,139,132,126,121,118,116,115,113,111,107,102,96,89,83,79,77,75,75,75,75,76,76,75,74,73,73,71,70,68,67,66,65,64,59,61,66,70,72,72,71,68,64,60,57,56,56,57,58,60,64,68,72,75,77,77,76,73,70,67,65,63,62,61,60,59,58,57,57,57,57,58,59,62,67,76,84,89,95,106,117,126,132,136,139,143,152,164,176,185,192,200,210,219,226,231,235,239,241,241,264,261,254,244,234,220,201,184,172,161,150,141,135,129,125,121,117,112,107,102,99,95,90,87,84,80,76,72,68,66,64,64,64,66,72,79,87,92,97,102,105,107,110,113,115,114,114,114,115,117,119,120,121,122,123,124,125,126,127,127,128,127,126,125,123,122,121,121,120,119,118,117,119,122,123,123,122,121,121,120,120,120,119,118,117,117,117,118,118,118,118,116,114,113,112,113,115,118,119,120,121,122,122,123,123,123,123,123,122,122,121,119,118,117,117,118,118,118,119,119,119,120,121,121,121,121,121,121,120,120,120,120,119,118,118,117,116,115,115,115,116,116,116,115,114,115,116,115,114,115,116,114,114,113,113,112,112,111,109,108,108,107,107,107,107,107,110,113,116,129,129,129,128,125,121,120,121,124,128,129,129,126,121,115,110,107,105,104,107,112,119,130,141,153,164,174,184,196,207,218,229,280,292,299,300,301,302,303,302,295,286,277,264,248,232,218,207,199,191,183,177,172,166,123,117,110,102,94,87,84,83,83,83,85,87,90,90,91,92,94,96,97,98,100,103,105,110,125,154,182,213,250,285,306,311,320,331,359,373,378,378,374,370,367,364,362,360,353,339,321,302,287,276,267,262,261,263,266,269,270,268,243,238,235,231,224,215,202,192,183,177,170,162,156,151,147,144,140,131,120,109,102,112,127,142,155,164,170,171,171,171,169,166,162,158,157,157,156,156,155,155,155,155,158,160,160,160,161,165]},\"selected\":{\"id\":\"10770\"},\"selection_policy\":{\"id\":\"10769\"}},\"id\":\"10368\",\"type\":\"ColumnDataSource\"},{\"attributes\":{},\"id\":\"10753\",\"type\":\"BasicTickFormatter\"},{\"attributes\":{},\"id\":\"10359\",\"type\":\"HelpTool\"},{\"attributes\":{},\"id\":\"10754\",\"type\":\"AllLabels\"},{\"attributes\":{},\"id\":\"10338\",\"type\":\"DataRange1d\"},{\"attributes\":{},\"id\":\"10340\",\"type\":\"DataRange1d\"},{\"attributes\":{},\"id\":\"10342\",\"type\":\"LinearScale\"},{\"attributes\":{\"axis\":{\"id\":\"10346\"},\"grid_line_color\":null,\"ticker\":null},\"id\":\"10349\",\"type\":\"Grid\"},{\"attributes\":{\"num_minor_ticks\":5,\"tickers\":[{\"id\":\"10757\"},{\"id\":\"10758\"},{\"id\":\"10759\"},{\"id\":\"10760\"},{\"id\":\"10761\"},{\"id\":\"10762\"},{\"id\":\"10763\"},{\"id\":\"10764\"},{\"id\":\"10765\"},{\"id\":\"10766\"},{\"id\":\"10767\"},{\"id\":\"10768\"}]},\"id\":\"10347\",\"type\":\"DatetimeTicker\"},{\"attributes\":{\"line_color\":\"red\",\"line_dash\":[6],\"line_width\":3,\"x\":{\"field\":\"x\"},\"y\":{\"field\":\"y\"}},\"id\":\"10369\",\"type\":\"Line\"},{\"attributes\":{\"text\":\"Glucose\"},\"id\":\"10336\",\"type\":\"Title\"},{\"attributes\":{\"axis_label\":\"DateTime\",\"formatter\":{\"id\":\"10750\"},\"major_label_policy\":{\"id\":\"10751\"},\"ticker\":{\"id\":\"10347\"}},\"id\":\"10346\",\"type\":\"DatetimeAxis\"},{\"attributes\":{\"mantissas\":[1,2,5],\"max_interval\":500.0,\"num_minor_ticks\":0},\"id\":\"10757\",\"type\":\"AdaptiveTicker\"},{\"attributes\":{},\"id\":\"10344\",\"type\":\"LinearScale\"},{\"attributes\":{\"base\":60,\"mantissas\":[1,2,5,10,15,20,30],\"max_interval\":1800000.0,\"min_interval\":1000.0,\"num_minor_ticks\":0},\"id\":\"10758\",\"type\":\"AdaptiveTicker\"},{\"attributes\":{\"axis_label\":\"Glucose\",\"formatter\":{\"id\":\"10753\"},\"major_label_policy\":{\"id\":\"10754\"},\"ticker\":{\"id\":\"10351\"}},\"id\":\"10350\",\"type\":\"LinearAxis\"},{\"attributes\":{\"days\":[1,2,3,4,5,6,7,8,9,10,11,12,13,14,15,16,17,18,19,20,21,22,23,24,25,26,27,28,29,30,31]},\"id\":\"10760\",\"type\":\"DaysTicker\"},{\"attributes\":{\"active_multi\":null,\"tools\":[{\"id\":\"10354\"},{\"id\":\"10355\"},{\"id\":\"10356\"},{\"id\":\"10357\"},{\"id\":\"10358\"},{\"id\":\"10359\"}]},\"id\":\"10361\",\"type\":\"Toolbar\"},{\"attributes\":{\"base\":24,\"mantissas\":[1,2,4,6,8,12],\"max_interval\":43200000.0,\"min_interval\":3600000.0,\"num_minor_ticks\":0},\"id\":\"10759\",\"type\":\"AdaptiveTicker\"},{\"attributes\":{\"axis\":{\"id\":\"10350\"},\"dimension\":1,\"grid_line_alpha\":0.5,\"ticker\":null},\"id\":\"10353\",\"type\":\"Grid\"},{\"attributes\":{\"months\":[0,1,2,3,4,5,6,7,8,9,10,11]},\"id\":\"10764\",\"type\":\"MonthsTicker\"},{\"attributes\":{},\"id\":\"10351\",\"type\":\"BasicTicker\"},{\"attributes\":{\"months\":[0,2,4,6,8,10]},\"id\":\"10765\",\"type\":\"MonthsTicker\"},{\"attributes\":{\"days\":[1,4,7,10,13,16,19,22,25,28]},\"id\":\"10761\",\"type\":\"DaysTicker\"},{\"attributes\":{\"days\":[1,15]},\"id\":\"10763\",\"type\":\"DaysTicker\"},{\"attributes\":{},\"id\":\"10355\",\"type\":\"WheelZoomTool\"},{\"attributes\":{\"months\":[0,6]},\"id\":\"10767\",\"type\":\"MonthsTicker\"},{\"attributes\":{},\"id\":\"10354\",\"type\":\"PanTool\"},{\"attributes\":{\"overlay\":{\"id\":\"10360\"}},\"id\":\"10356\",\"type\":\"BoxZoomTool\"},{\"attributes\":{},\"id\":\"10357\",\"type\":\"SaveTool\"}],\"root_ids\":[\"10335\"]},\"title\":\"Bokeh Application\",\"version\":\"2.3.2\"}};\n",
       "  var render_items = [{\"docid\":\"ee96cd4b-4064-4a4a-a89d-ecf158d407ad\",\"root_ids\":[\"10335\"],\"roots\":{\"10335\":\"b4aad57b-b188-4f4e-9fe7-2c3c2988fa5f\"}}];\n",
       "  root.Bokeh.embed.embed_items_notebook(docs_json, render_items);\n",
       "\n",
       "  }\n",
       "  if (root.Bokeh !== undefined) {\n",
       "    embed_document(root);\n",
       "  } else {\n",
       "    var attempts = 0;\n",
       "    var timer = setInterval(function(root) {\n",
       "      if (root.Bokeh !== undefined) {\n",
       "        clearInterval(timer);\n",
       "        embed_document(root);\n",
       "      } else {\n",
       "        attempts++;\n",
       "        if (attempts > 100) {\n",
       "          clearInterval(timer);\n",
       "          console.log(\"Bokeh: ERROR: Unable to run BokehJS code because BokehJS library is missing\");\n",
       "        }\n",
       "      }\n",
       "    }, 10, root)\n",
       "  }\n",
       "})(window);"
      ],
      "application/vnd.bokehjs_exec.v0+json": ""
     },
     "metadata": {
      "application/vnd.bokehjs_exec.v0+json": {
       "id": "10335"
      }
     },
     "output_type": "display_data"
    }
   ],
   "source": [
    "# 그림 객체를 생성할때, 제목과 x축의 데이터 타입을 설정 가능합니다. \n",
    "p = figure(x_axis_type=\"datetime\", title=\"Glucose\", plot_width=800, plot_height=400)\n",
    "\n",
    "# x축의 눈금 커스터마이징 \n",
    "p.xgrid.grid_line_color= None # 색상을 제거합니다. \n",
    "# y축 눈금 커스터마이징 \n",
    "p.ygrid.grid_line_alpha = 0.5 # 반투명 색상을 지정합니다. \n",
    "\n",
    "# 축 레이블(제목) 지정 \n",
    "p.xaxis.axis_label = 'DateTime'\n",
    "p.yaxis.axis_label = 'Glucose'\n",
    "\n",
    "\n",
    "\n",
    "p.line(days.index, days.glucose, line_width=3, line_dash='dashed', color='red')\n",
    "show(p)"
   ]
  },
  {
   "cell_type": "code",
   "execution_count": 48,
   "metadata": {
    "id": "aNvE3_vpt0Yv"
   },
   "outputs": [
    {
     "data": {
      "text/plain": [
       "dict_keys(['date', 'open', 'high', 'low', 'close', 'volume', 'adj_close'])"
      ]
     },
     "execution_count": 48,
     "metadata": {},
     "output_type": "execute_result"
    }
   ],
   "source": [
    "from bokeh.sampledata.stocks import AAPL, GOOG \n",
    "# 에플 주가 데이터와 구글의 주가를 이용해 시각화를 진행합니다. \n",
    "\n",
    "AAPL.keys()"
   ]
  },
  {
   "cell_type": "code",
   "execution_count": 50,
   "metadata": {
    "id": "vuMg75nKx0nj"
   },
   "outputs": [
    {
     "data": {
      "text/plain": [
       "array(['2000-03-01', '2000-03-02', '2000-03-03', ..., '2013-02-27',\n",
       "       '2013-02-28', '2013-03-01'], dtype='datetime64[D]')"
      ]
     },
     "execution_count": 50,
     "metadata": {},
     "output_type": "execute_result"
    }
   ],
   "source": [
    "dates = np.array(AAPL['date'], dtype=np.datetime64)\n",
    "dates"
   ]
  },
  {
   "cell_type": "code",
   "execution_count": 52,
   "metadata": {
    "id": "z_Q4Eoxwx_cT"
   },
   "outputs": [
    {
     "data": {
      "text/html": [
       "\n",
       "\n",
       "\n",
       "\n",
       "\n",
       "\n",
       "  <div class=\"bk-root\" id=\"cb41a0d0-6f01-4ca6-a88f-e8428d4a2aeb\" data-root-id=\"10914\"></div>\n"
      ]
     },
     "metadata": {},
     "output_type": "display_data"
    },
    {
     "data": {
      "application/javascript": [
       "(function(root) {\n",
       "  function embed_document(root) {\n",
       "    \n",
       "  var docs_json = {\"b2704c95-4bf9-435d-8316-0dc0eef15f39\":{\"defs\":[],\"roots\":{\"references\":[{\"attributes\":{\"below\":[{\"id\":\"10925\"}],\"center\":[{\"id\":\"10928\"},{\"id\":\"10932\"}],\"height\":350,\"left\":[{\"id\":\"10929\"}],\"renderers\":[{\"id\":\"10950\"}],\"title\":{\"id\":\"10915\"},\"toolbar\":{\"id\":\"10940\"},\"width\":800,\"x_range\":{\"id\":\"10917\"},\"x_scale\":{\"id\":\"10921\"},\"y_range\":{\"id\":\"10919\"},\"y_scale\":{\"id\":\"10923\"}},\"id\":\"10914\",\"subtype\":\"Figure\",\"type\":\"Plot\"},{\"attributes\":{},\"id\":\"11371\",\"type\":\"Selection\"},{\"attributes\":{},\"id\":\"10936\",\"type\":\"SaveTool\"},{\"attributes\":{},\"id\":\"11354\",\"type\":\"BasicTickFormatter\"},{\"attributes\":{\"overlay\":{\"id\":\"10939\"}},\"id\":\"10935\",\"type\":\"BoxZoomTool\"},{\"attributes\":{},\"id\":\"11355\",\"type\":\"AllLabels\"},{\"attributes\":{\"line_color\":\"#1f77b4\",\"line_width\":3,\"x\":{\"field\":\"x\"},\"y\":{\"field\":\"y\"}},\"id\":\"10948\",\"type\":\"Line\"},{\"attributes\":{},\"id\":\"11351\",\"type\":\"DatetimeTickFormatter\"},{\"attributes\":{\"data\":{\"x\":{\"__ndarray__\":\"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\",\"dtype\":\"float64\",\"order\":\"little\",\"shape\":[3270]},\"y\":[130.31,122.0,128.0,125.69,122.87,122.0,122.25,125.75,121.31,114.25,116.25,121.56,125.0,123.0,134.94,144.19,141.31,138.69,139.56,139.13,135.94,125.75,135.81,133.31,127.31,130.38,125.19,131.75,125.0,119.44,109.25,113.81,111.87,123.87,126.87,121.12,118.87,120.5,128.31,121.31,126.75,124.06,124.31,117.87,115.06,110.69,113.12,110.12,105.44,99.31,102.81,107.62,101.0,105.69,101.37,100.75,94.0,89.94,85.81,87.69,87.27,86.37,87.56,84.0,89.12,92.56,91.31,92.87,96.56,94.81,95.75,91.19,94.5,90.44,92.37,91.19,96.62,101.25,55.63,53.75,51.69,54.13,51.75,54.44,51.25,52.38,53.31,51.63,51.81,54.44,57.13,56.94,58.88,56.5,57.69,58.31,57.25,52.69,55.13,53.56,48.69,50.06,50.06,52.0,48.31,50.81,49.31,47.25,48.0,47.38,47.94,46.75,47.5,47.56,47.69,47.06,46.69,48.5,51.44,50.0,50.5,51.69,54.31,56.11,56.81,58.06,59.19,59.5,60.94,63.44,62.44,58.44,62.0,58.88,58.44,57.75,58.0,56.86,55.23,60.66,59.94,61.05,56.69,52.19,53.5,51.44,48.94,53.5,25.75,24.25,22.31,23.62,22.06,22.19,21.75,20.87,19.62,20.0,22.06,21.5,20.12,20.12,18.94,19.5,20.37,18.87,18.5,18.5,18.56,19.31,19.56,20.5,22.31,22.25,21.44,21.31,20.06,20.19,19.06,19.37,20.25,19.87,19.0,18.5,18.94,18.81,18.5,19.31,18.69,18.03,17.56,16.5,17.06,16.69,17.0,14.31,14.31,15.06,15.19,15.38,15.0,14.44,14.06,14.25,14.0,14.38,14.06,15.0,14.69,14.81,14.81,14.88,14.88,16.37,17.06,16.37,16.56,17.19,16.56,18.0,17.19,17.12,16.81,18.69,19.5,19.25,20.5,20.5,19.94,19.56,21.69,21.75,21.62,21.12,20.62,20.19,21.12,20.75,20.75,19.12,19.69,19.12,19.5,20.06,19.0,18.31,18.87,18.81,18.81,19.5,19.37,18.25,18.75,19.25,20.37,21.5,21.25,20.81,20.25,18.62,19.56,20.44,19.69,19.62,20.56,19.69,20.12,21.62,23.0,21.78,22.87,22.17,22.53,22.07,21.59,20.24,19.5,20.87,20.59,20.54,22.04,21.8,22.42,21.44,20.4,22.79,25.72,25.04,24.25,24.03,24.72,24.69,26.2,25.49,25.93,26.59,24.96,25.75,24.96,24.57,23.98,23.0,22.85,23.29,23.18,24.1,23.55,23.53,23.56,23.5,23.23,23.2,22.76,21.47,19.78,19.95,20.89,20.66,20.94,20.73,21.66,21.32,20.04,20.31,20.47,19.88,20.44,20.33,20.19,21.67,22.49,22.26,23.99,23.75,23.34,23.54,23.25,23.9,23.84,23.19,22.03,22.7,21.14,22.54,24.36,24.85,23.96,25.1,20.79,19.96,19.98,19.54,19.09,18.47,18.59,18.96,18.93,18.79,19.06,19.82,19.5,19.13,19.25,18.9,19.05,19.02,19.09,18.73,18.44,18.65,18.07,18.12,17.92,18.21,17.81,18.57,18.92,18.4,17.83,17.83,18.55,18.25,18.55,17.72,17.28,17.37,16.99,16.28,17.02,15.68,15.73,16.45,15.54,15.15,15.51,15.51,15.54,15.05,14.98,15.88,16.14,16.2,16.0,16.82,17.74,18.01,17.99,18.01,16.99,18.0,18.3,19.02,18.14,18.95,19.19,18.67,17.63,17.6,17.56,18.59,18.57,19.07,19.57,19.59,18.71,18.71,18.75,19.37,19.61,19.45,18.97,20.0,19.53,19.68,19.84,21.37,21.0,20.53,20.42,21.3,21.05,22.4,23.76,22.78,22.54,22.54,21.78,21.49,21.0,20.39,20.62,21.01,21.62,20.67,21.0,21.36,21.49,22.07,22.43,21.9,23.3,23.58,23.69,22.9,22.61,21.65,21.23,21.05,21.15,21.7,20.78,22.48,22.17,21.82,23.02,23.21,23.25,23.27,23.07,24.09,24.72,24.41,25.35,25.45,24.67,24.3,24.03,24.98,24.71,25.01,24.6,23.9,22.62,23.13,21.5,22.74,23.81,23.67,21.96,21.7,23.45,24.29,23.53,24.07,24.38,24.66,25.06,24.72,24.49,24.43,24.95,24.74,24.85,24.92,24.27,24.09,23.35,23.46,23.47,23.67,24.46,24.07,23.75,24.9,24.74,24.56,24.1,24.66,24.86,25.06,25.0,25.74,26.11,25.41,24.98,24.53,24.25,23.77,24.12,23.01,23.96,24.27,23.98,23.69,23.51,22.65,22.47,24.37,24.19,23.32,23.94,25.61,25.28,25.21,25.01,24.74,23.46,24.32,25.18,24.15,23.98,23.98,24.2,23.3,22.91,22.78,22.72,22.16,21.4,21.48,20.46,20.09,19.54,20.1,20.54,20.15,17.12,17.11,16.85,17.27,17.14,16.55,17.06,17.72,17.06,16.94,17.55,18.74,18.01,17.53,17.32,18.3,17.51,18.23,17.86,15.63,14.99,14.96,14.92,14.47,15.2,14.36,14.34,15.02,15.43,15.26,14.8,14.45,13.99,14.74,15.03,15.3,15.0,14.99,14.59,15.17,15.61,15.81,15.98,15.91,16.12,15.97,15.73,15.53,14.85,14.7,14.7,14.75,14.05,14.48,14.18,14.38,14.37,14.33,14.29,14.14,14.17,14.5,14.8,15.02,14.58,14.87,14.85,14.64,14.93,14.7,14.72,14.5,14.51,14.17,14.3,14.03,13.77,13.68,13.59,14.11,14.51,14.77,15.16,14.56,14.11,14.34,14.56,14.7,14.88,14.69,15.42,15.61,15.44,15.98,16.07,16.36,16.89,16.9,17.22,16.0,15.84,15.16,15.64,15.59,16.3,15.95,15.65,15.27,15.53,16.35,16.01,15.97,15.41,15.72,15.5,15.18,15.16,14.97,14.63,14.95,14.75,15.28,15.49,15.19,14.79,14.85,15.08,14.57,14.2,14.14,14.49,14.36,14.4,14.06,14.07,14.33,14.8,14.9,14.9,14.85,14.55,14.68,14.72,14.63,14.61,14.43,14.62,14.1,14.02,13.88,14.17,13.8,14.13,14.58,14.93,14.32,14.36,14.66,14.6,14.45,14.43,14.15,14.35,14.35,14.39,14.54,14.67,15.27,14.85,14.77,15.0,14.74,15.02,14.5,14.86,15.01,14.65,14.56,14.62,14.56,14.53,14.37,14.23,14.22,14.72,14.78,15.01,15.0,14.95,14.91,15.0,14.37,14.55,14.41,14.49,14.57,14.14,14.16,14.6,14.46,14.41,14.49,14.45,14.19,14.37,13.2,13.58,13.39,13.24,13.12,13.14,13.51,13.58,13.44,13.35,13.86,14.06,14.22,14.36,14.45,16.09,17.5,17.65,18.0,18.3,18.56,18.67,18.55,18.73,18.8,18.1,17.79,17.85,18.24,18.32,18.88,18.28,18.1,17.95,17.45,17.31,17.6,17.64,17.15,16.79,17.18,17.45,17.77,17.42,18.27,18.19,19.12,19.14,19.2,19.06,18.78,19.09,19.29,18.73,19.06,19.09,19.27,19.13,19.87,20.4,19.89,19.58,19.85,19.9,19.61,19.87,20.9,20.86,20.61,20.8,20.79,20.51,21.54,20.99,20.72,20.28,21.08,20.73,21.21,20.38,19.63,19.93,19.64,19.66,19.7,20.18,19.97,19.71,20.34,20.32,21.01,21.68,20.88,20.86,21.05,21.48,22.19,22.61,22.85,22.95,22.83,22.5,22.74,22.37,22.18,22.56,23.1,22.21,22.36,22.12,22.88,22.58,22.08,22.43,21.32,20.43,20.69,21.3,20.72,20.79,20.57,21.69,22.29,23.22,23.06,23.45,23.68,24.35,24.55,24.82,23.25,22.75,23.22,23.18,22.76,22.99,22.6,22.6,23.72,23.69,23.09,22.89,23.15,22.91,23.03,23.12,22.5,21.9,21.54,22.33,22.42,21.46,21.13,20.41,20.42,20.38,20.28,21.15,20.68,20.72,20.91,21.71,21.54,21.03,21.15,20.85,21.05,20.45,20.38,21.21,20.89,20.17,20.12,19.88,20.04,19.7,19.85,19.81,20.41,20.78,21.15,21.28,21.37,21.28,22.17,22.09,22.59,23.36,23.0,23.73,24.12,24.2,22.85,22.72,22.73,22.61,22.18,22.56,23.01,23.07,22.52,22.68,22.56,22.32,22.26,21.79,22.42,22.71,22.67,22.98,23.8,23.73,23.0,23.16,23.26,22.47,22.4,22.19,22.36,22.81,23.04,23.92,24.02,23.81,23.92,25.16,26.74,26.0,27.1,27.68,27.15,27.56,26.45,25.82,26.19,25.67,25.86,25.86,25.29,25.5,26.87,27.04,27.91,27.92,27.04,27.11,27.5,28.32,27.83,27.31,27.53,28.04,26.93,26.64,29.3,29.18,28.35,27.73,27.73,27.78,27.7,27.13,26.94,26.45,26.77,25.78,26.07,26.14,26.65,26.58,26.67,26.28,27.14,27.3,27.19,27.06,26.64,27.06,26.47,26.71,27.11,27.34,28.41,28.51,28.17,28.06,28.06,28.92,28.4,28.78,29.81,30.35,30.2,30.74,30.12,30.69,32.74,32.81,32.91,32.33,33.0,33.7,33.18,33.7,32.49,32.5,32.54,32.3,31.08,30.95,30.39,30.14,30.03,29.14,29.22,29.58,32.93,32.2,31.97,32.2,31.62,31.68,30.7,31.26,32.43,32.27,32.64,32.34,31.58,31.29,31.79,31.39,29.78,30.3,31.52,31.01,30.37,30.84,30.78,30.87,31.74,30.71,30.8,31.08,31.95,33.05,34.66,34.35,34.12,34.49,35.86,35.66,35.23,35.76,36.35,35.7,35.87,35.59,35.49,35.2,36.35,37.14,37.71,38.01,36.92,37.27,37.29,37.53,38.04,38.68,38.75,38.67,38.79,39.37,40.64,39.62,39.06,38.59,38.29,39.75,44.98,45.5,47.75,47.42,47.47,47.94,47.41,47.55,47.97,50.3,52.19,52.4,52.45,53.5,55.31,54.45,54.72,54.38,54.05,54.75,55.3,55.5,55.24,54.94,54.9,55.39,55.17,61.35,61.27,64.05,64.55,68.44,67.05,67.79,65.21,62.68,65.78,62.89,63.28,63.99,65.15,64.91,65.29,65.26,66.6,64.99,62.72,63.69,63.75,64.01,63.16,64.18,64.44,64.8,64.4,63.29,63.94,64.5,64.55,69.25,68.96,64.56,65.46,69.8,70.2,70.65,69.88,70.46,70.49,70.76,72.05,72.25,72.64,73.98,76.9,77.53,79.63,77.81,78.84,78.94,80.9,78.74,78.36,81.21,84.63,88.41,90.13,87.81,86.81,85.29,88.23,88.93,88.99,44.86,44.5,44.12,41.79,42.81,42.75,40.53,39.35,39.83,40.27,40.32,40.96,41.18,42.25,42.96,43.7,42.83,42.55,42.5,42.53,41.75,42.8,41.67,40.89,41.09,41.89,42.33,43.56,43.74,41.92,42.66,41.04,37.26,35.35,35.62,37.09,35.51,37.18,35.5,36.98,36.19,35.95,35.54,36.06,36.43,36.21,37.15,36.68,37.24,36.97,36.42,35.61,34.13,34.77,35.55,35.36,35.84,37.55,37.55,39.76,39.7,39.78,40.74,40.56,39.76,40.3,40.04,38.24,37.92,36.54,36.92,37.65,35.81,35.9,36.0,37.13,37.98,38.31,37.61,37.86,38.55,38.89,37.76,37.1,37.31,36.37,36.81,36.5,37.98,37.39,37.63,38.25,38.1,38.24,38.35,40.75,41.55,41.49,43.19,43.63,43.29,44.0,43.81,43.63,43.99,43.8,42.65,42.75,43.19,43.22,42.71,42.99,42.65,43.82,43.38,44.0,46.1,47.68,46.25,47.15,46.3,45.83,45.87,45.74,45.77,46.06,45.74,45.84,46.57,46.89,46.26,46.22,48.8,48.68,49.78,51.31,51.4,50.82,49.61,49.87,51.21,52.64,53.19,52.11,51.9,53.2,53.84,53.44,51.08,52.34,53.61,54.44,53.75,52.78,51.7,51.3,50.37,51.59,49.25,53.74,54.0,53.44,52.21,54.94,56.14,55.66,56.79,56.1,57.03,55.41,54.47,57.59,57.5,59.95,61.85,61.15,60.23,59.9,60.11,61.18,61.54,61.45,62.28,64.95,64.52,64.56,64.96,66.52,67.11,69.34,69.66,68.1,67.82,71.6,72.63,71.82,74.05,73.95,74.08,74.33,74.91,74.98,72.01,72.18,71.11,71.38,72.11,73.5,74.02,73.35,74.23,73.57,71.45,71.89,74.75,74.97,74.38,76.3,76.05,80.86,83.9,84.29,85.59,84.71,82.49,79.04,76.09,77.67,76.04,74.2,72.33,72.03,75.0,75.51,75.42,72.1,71.85,67.3,67.6,68.81,64.95,67.31,64.71,67.64,69.22,70.57,70.29,69.08,71.32,71.75,71.46,70.99,68.49,69.1,69.61,67.72,65.48,66.31,65.66,63.93,63.19,65.68,67.32,66.23,64.31,64.66,63.99,61.81,61.67,60.16,59.96,59.51,58.71,62.33,62.75,62.72,62.65,61.17,67.21,71.24,69.79,68.67,67.99,66.71,66.47,64.81,66.22,65.65,67.63,67.04,65.75,66.17,68.15,69.36,70.39,69.6,71.62,71.14,71.13,71.89,71.89,71.03,70.6,68.15,67.7,67.79,64.98,65.26,63.18,64.51,63.38,63.15,63.34,64.33,63.55,61.22,59.77,62.17,61.66,60.0,59.72,58.56,60.76,59.24,57.0,58.33,57.61,59.38,57.56,57.2,57.47,57.86,59.58,58.83,58.99,57.43,56.02,58.97,57.27,57.95,57.0,55.77,55.4,55.0,55.65,52.96,52.25,50.67,52.37,52.9,54.1,60.5,60.72,61.42,61.93,63.87,63.4,65.59,67.96,67.18,68.16,69.59,68.3,67.21,64.78,63.59,64.07,63.65,63.94,66.45,67.98,67.59,67.91,66.56,67.62,67.31,67.81,68.75,66.98,66.48,66.96,67.85,68.38,71.48,70.03,72.8,72.52,72.5,72.63,74.2,74.17,74.1,73.89,73.77,75.26,74.65,73.0,75.75,77.61,76.41,77.01,76.98,74.86,74.08,75.38,74.83,74.22,74.63,73.81,73.23,75.26,75.02,75.4,74.29,74.53,78.99,79.95,81.46,81.05,81.68,82.19,80.41,80.42,81.08,79.16,78.98,78.29,79.71,80.51,82.45,83.34,83.12,84.35,85.0,84.05,85.61,85.85,86.47,88.6,90.31,91.63,89.54,91.81,91.8,91.66,91.32,91.12,91.27,89.83,87.04,88.26,88.75,86.14,89.05,88.55,87.72,85.47,86.31,84.76,82.9,82.2,81.51,81.52,80.87,84.84,83.8,85.66,85.05,85.47,92.57,97.0,95.8,94.62,97.1,94.95,89.07,88.5,86.79,85.7,86.7,86.25,85.38,85.94,85.55,85.73,84.74,84.75,83.94,84.15,86.15,86.18,83.27,84.88,84.7,85.3,85.21,84.83,85.9,89.2,89.51,89.07,88.51,83.93,84.61,87.06,85.41,86.32,88.19,87.72,88.0,87.97,89.87,88.4,90.0,89.57,89.59,91.13,91.48,93.87,93.96,93.52,95.85,95.46,93.24,93.75,92.91,93.65,94.5,94.27,94.68,93.65,94.25,92.59,92.19,90.24,91.43,90.35,90.4,90.27,90.97,93.51,93.24,95.35,98.84,99.92,99.8,99.47,100.39,100.4,100.81,103.92,105.06,106.88,107.34,108.74,109.36,107.52,107.34,109.44,110.02,111.98,113.54,112.89,110.69,113.62,114.35,118.77,121.19,118.4,121.33,122.67,123.64,124.07,124.49,120.19,120.38,117.5,118.75,120.5,125.09,123.66,121.55,123.9,123.0,122.34,119.65,121.89,120.56,122.04,121.26,127.17,132.75,132.3,130.33,132.35,132.39,134.07,137.73,138.1,138.91,138.12,140.0,143.75,143.7,134.89,137.26,146.0,143.85,141.43,131.76,135.0,136.49,131.85,135.25,135.03,134.01,126.39,125.0,127.79,124.03,119.9,117.05,122.06,122.22,127.57,132.51,131.07,135.3,132.25,126.82,134.08,136.25,138.48,144.16,136.76,135.01,131.77,136.71,135.49,136.85,137.2,138.81,138.41,140.92,140.77,140.31,144.15,148.28,153.18,152.77,154.5,153.47,156.34,158.45,157.92,156.24,161.45,167.91,167.86,166.79,162.23,167.25,166.98,169.58,172.75,173.5,170.42,174.36,186.16,185.93,182.78,184.7,185.09,187.0,189.95,187.44,187.87,186.18,191.79,186.3,175.47,165.37,153.76,169.96,166.11,164.3,166.39,163.95,168.85,168.46,171.54,172.54,174.81,180.22,184.29,182.22,178.86,179.81,185.5,189.95,194.3,194.21,188.54,190.86,191.83,190.39,184.4,182.98,183.12,187.21,193.91,198.8,198.95,198.57,199.83,198.08,194.84,194.93,180.05,177.64,171.25,179.4,178.02,172.69,178.78,169.04,159.64,160.89,161.36,155.64,139.07,135.6,130.01,130.01,131.54,132.18,135.36,133.75,131.65,129.36,122.0,121.24,125.48,129.45,124.86,129.4,127.46,124.63,122.18,123.82,121.54,119.46,119.74,119.15,122.96,129.91,125.02,121.73,124.62,124.49,120.93,122.25,119.69,127.35,126.03,127.94,126.61,126.73,132.82,129.67,133.27,139.53,140.98,145.06,140.25,143.01,143.5,149.53,147.49,151.61,153.08,155.89,152.84,151.44,154.55,147.14,147.78,148.38,153.7,154.49,161.04,168.16,160.2,162.89,168.94,169.73,172.24,175.05,173.95,180.0,180.94,184.73,186.66,182.59,185.06,183.45,188.16,189.96,186.26,189.73,187.62,183.6,185.9,178.19,177.05,181.17,186.43,187.01,186.69,188.75,186.1,185.37,185.19,189.43,185.64,181.61,185.64,180.81,173.26,172.37,176.84,181.43,178.75,180.9,175.27,173.16,173.25,177.39,168.26,170.09,167.44,174.68,168.18,170.12,175.16,179.55,174.25,176.63,172.58,173.88,169.64,172.81,171.81,165.15,166.29,162.02,166.26,159.03,162.12,154.4,157.08,159.88,158.95,156.66,153.23,160.64,164.19,163.57,169.55,173.56,176.73,179.3,179.32,175.74,175.39,173.53,175.84,174.29,176.79,172.55,173.64,174.67,173.74,169.53,166.19,166.96,161.22,160.18,157.92,151.68,151.61,152.65,148.94,140.36,139.88,127.83,134.09,140.91,131.05,126.84,128.71,131.93,128.24,105.26,113.66,109.12,100.1,97.07,98.14,89.16,89.79,88.74,96.8,110.26,104.08,97.95,101.89,97.4,98.44,91.49,96.87,98.23,96.38,92.09,99.91,104.55,111.04,107.59,106.96,110.99,103.3,99.1,98.24,95.88,94.77,90.12,96.44,90.24,88.14,89.91,86.29,80.49,82.58,92.95,90.8,95.0,92.67,88.93,92.47,95.9,91.41,94.0,99.72,100.06,98.21,95.0,98.27,94.75,95.43,89.16,89.43,90.0,85.74,86.38,85.04,85.81,86.61,86.29,85.35,90.75,94.58,93.02,91.01,92.7,90.58,88.66,87.71,85.33,83.38,82.33,78.2,82.83,88.36,88.36,89.64,90.73,94.2,93.0,90.13,91.51,92.98,93.55,96.46,99.72,102.51,97.83,96.82,99.27,99.16,94.53,94.37,90.64,91.2,86.95,90.25,91.16,89.19,89.31,87.94,88.37,91.17,88.84,85.3,83.11,88.63,92.68,96.35,95.93,95.42,99.66,101.52,101.62,101.59,107.66,106.5,106.49,109.87,106.85,104.49,105.12,108.69,112.71,115.99,118.45,115.0,116.32,119.57,120.22,118.31,117.64,121.45,123.42,120.5,121.76,121.51,125.4,123.9,124.73,123.9,125.14,125.83,127.24,132.07,132.71,132.5,129.06,129.19,129.57,124.42,119.49,122.95,122.42,126.65,127.45,125.87,124.18,122.5,130.78,133.05,135.07,135.81,139.35,139.49,140.95,143.74,144.67,143.85,142.72,140.25,139.95,136.97,136.09,136.35,135.58,135.88,139.48,137.37,134.01,136.22,139.86,142.44,141.97,142.43,142.83,140.02,138.61,135.4,137.22,136.36,138.52,142.34,142.27,146.88,147.52,151.75,152.91,151.51,156.74,157.82,159.99,160.1,160.0,160.03,162.79,163.39,166.43,165.55,165.11,163.91,165.51,164.72,162.83,165.31,168.42,166.78,159.59,164.0,164.6,166.33,169.22,169.06,169.4,167.41,169.45,170.05,168.21,165.3,165.18,166.55,170.31,172.93,171.14,172.56,172.16,173.72,175.16,181.87,184.55,185.02,184.02,184.48,185.5,183.82,182.37,186.15,185.38,185.35,180.86,184.9,186.02,190.01,190.25,189.27,190.47,190.81,190.02,191.29,190.56,188.05,189.86,198.76,204.92,205.2,203.94,202.48,197.37,192.4,196.35,188.5,189.31,188.75,190.81,194.03,194.34,201.46,202.98,203.25,201.99,204.45,206.63,207.0,205.96,200.51,199.92,205.88,204.44,204.19,200.59,199.91,196.97,196.23,196.48,193.32,188.95,189.87,197.8,196.43,194.67,196.98,194.17,195.03,191.86,195.43,198.23,200.36,202.1,209.04,211.61,209.1,211.64,210.73,214.01,214.38,210.97,210.58,211.98,210.11,207.72,210.65,209.43,205.93,215.04,211.73,208.07,197.75,203.07,205.94,207.88,199.29,192.06,194.73,195.86,199.23,192.05,195.46,194.12,196.19,195.12,198.67,200.38,203.4,202.55,202.93,201.67,200.42,197.06,200.66,202.0,204.62,208.99,208.85,209.33,210.71,218.95,219.08,223.02,224.84,225.5,226.6,223.84,224.45,224.12,224.65,222.25,224.75,228.36,229.37,226.65,230.9,232.39,235.85,235.0,235.97,238.49,239.54,240.6,239.95,241.79,242.29,242.43,245.69,248.92,247.4,247.07,244.59,259.22,266.47,270.83,269.5,262.04,261.6,268.64,261.09,266.35,258.68,255.99,246.25,235.86,253.99,256.52,262.09,258.36,253.82,254.22,252.36,248.34,237.76,242.32,246.76,245.22,244.11,253.35,256.88,260.83,263.95,263.12,255.96,250.94,249.33,243.2,250.51,253.51,254.28,259.69,267.25,271.87,274.07,270.17,273.85,270.97,269.0,266.7,268.3,256.17,251.53,248.48,246.94,248.63,258.67,258.09,259.62,257.29,251.8,252.73,251.45,249.9,245.58,251.89,254.24,259.02,259.94,259.28,264.08,260.96,258.11,257.25,261.85,261.93,262.98,261.7,260.09,261.75,259.41,250.19,251.79,249.1,247.64,251.97,253.07,249.88,249.64,245.8,239.93,242.89,240.28,241.62,242.5,243.1,250.33,252.17,258.77,257.81,262.92,263.07,263.41,267.04,268.06,270.22,276.57,275.37,283.23,283.77,287.75,288.92,292.32,291.16,286.86,287.37,283.75,282.52,278.64,288.94,289.19,289.22,294.07,295.36,298.54,300.14,302.31,314.74,318.0,309.49,310.53,309.52,307.47,308.84,308.05,307.83,305.24,300.98,304.18,309.36,312.8,318.27,317.13,318.62,316.08,318.03,316.65,308.03,307.04,301.59,300.5,308.43,306.73,313.36,308.73,314.8,315.0,316.87,311.15,316.4,318.15,317.44,320.15,318.21,321.01,319.76,320.56,321.67,320.29,320.36,321.25,320.61,322.21,324.2,325.16,323.6,324.68,325.47,325.29,323.66,322.56,329.57,331.29,334.0,333.73,336.12,342.45,341.64,344.42,345.68,348.48,340.65,338.84,332.68,326.72,337.45,341.4,343.85,343.21,336.1,339.32,345.03,344.32,343.44,346.5,351.88,355.2,358.16,354.54,356.85,359.18,359.9,363.13,358.3,350.56,338.61,342.62,342.88,348.16,353.21,349.31,352.12,359.56,360.0,355.36,355.76,352.47,346.67,351.99,353.56,345.43,330.01,334.64,330.67,339.3,341.2,339.19,344.97,351.54,350.44,350.96,348.63,348.51,344.56,341.19,338.89,338.04,338.08,335.06,330.8,332.4,336.13,332.42,327.46,331.85,337.86,342.41,350.7,353.01,350.42,350.15,346.75,350.13,346.28,348.2,349.57,346.75,346.66,347.6,349.45,347.23,346.57,340.5,333.3,336.14,339.87,340.53,335.22,334.4,332.19,336.78,335.0,337.41,347.83,345.51,346.1,343.44,338.04,332.04,332.24,331.49,325.9,326.6,332.44,326.75,325.16,320.26,315.32,325.3,322.61,331.23,326.35,332.04,335.26,334.04,335.67,343.26,349.43,351.76,357.2,359.71,354.0,353.75,358.02,357.77,364.92,373.8,376.85,386.9,387.29,393.3,398.5,403.41,392.59,391.82,390.48,396.75,388.91,392.57,377.37,373.62,353.21,374.01,363.69,373.7,376.99,383.41,380.48,380.44,366.05,356.03,356.44,373.6,376.18,373.72,383.58,389.97,389.99,384.83,381.03,374.05,379.74,383.93,384.14,377.48,379.94,384.62,389.3,392.96,400.5,411.63,413.45,412.14,401.82,404.3,403.17,399.26,397.01,390.57,381.32,374.6,372.5,378.25,377.37,369.8,388.81,400.29,402.19,408.43,422.0,419.99,422.24,398.62,395.31,392.87,405.77,397.77,400.6,404.69,404.95,404.78,396.51,397.41,403.07,400.24,399.73,406.23,395.28,385.22,384.62,379.26,388.83,384.77,377.41,374.94,369.01,376.51,366.99,363.57,376.12,373.2,382.2,387.93,389.7,393.01,390.95,389.09,390.66,393.62,391.84,388.81,380.19,378.94,381.02,382.21,395.95,396.45,398.55,403.33,406.53,402.64,405.12,405.0,411.23,413.44,418.03,422.4,421.73,423.24,422.55,421.39,419.81,424.7,429.11,427.75,420.3,427.41,420.41,446.66,444.63,447.28,453.01,456.48,456.19,455.12,459.68,463.97,468.83,476.68,493.17,493.42,502.6,509.46,497.67,502.21,502.12,514.85,513.04,516.39,522.41,525.76,535.41,542.44,544.47,545.18,533.16,530.26,530.69,541.99,545.17,552.0,568.1,589.58,585.56,585.57,601.1,605.96,602.5,599.34,596.05,606.98,614.48,617.62,609.86,599.55,618.63,629.32,624.31,633.68,636.23,628.44,626.2,622.77,605.23,580.13,609.7,608.34,587.44,572.98,571.7,560.28,610.0,607.7,603.0,583.98,582.13,585.98,581.82,565.25,569.48,568.18,569.18,570.52,566.71,558.22,553.17,546.08,530.12,530.38,561.28,556.97,570.56,565.32,562.29,572.27,579.17,577.73,560.99,564.29,562.83,571.46,571.72,580.32,571.17,576.16,572.16,571.53,574.13,585.78,587.41,585.74,577.67,582.1,570.77,572.03,574.5,569.05,584.0,592.52,599.41,609.94,605.88,613.89,608.21,604.43,598.9,604.97,606.91,606.94,606.26,614.32,604.3,603.83,600.92,574.97,574.88,585.16,595.03,610.76,606.81,607.79,615.7,622.55,620.91,619.86,620.73,621.7,630.0,631.69,630.83,636.34,648.11,665.15,656.06,668.87,662.63,663.22,675.68,674.8,673.47,663.87,665.24,674.97,670.23,676.27,680.44,662.74,660.59,669.79,682.98,691.28,699.78,701.91,702.1,698.7,700.09,690.79,673.54,665.18,681.32,667.1,659.39,661.31,671.45,666.8,652.59,638.17,635.85,640.91,628.1,629.71,634.76,649.79,644.61,632.64,609.84,634.03,613.36,616.83,609.54,604.0,595.32,596.54,576.8,584.62,582.85,558.0,537.75,547.06,542.83,542.9,536.88,525.62,527.68,565.73,560.91,561.7,571.5,589.53,584.78,582.94,589.36,585.28,586.19,575.85,538.79,547.24,533.25,529.82,541.39,539.0,529.69,509.79,518.83,533.9,526.31,521.73,519.33,520.17,513.0,515.06,509.59,532.17,549.03,542.1,527.0,523.9,525.31,517.1,523.51,520.3,501.75,485.92,506.09,502.68,500.0,504.77,514.01,450.5,439.88,449.83,458.27,456.83,455.49,453.62,442.32,457.84,457.35,468.22,474.98,479.93,467.9,467.01,466.59,460.16,459.99,448.85,446.06,450.81,442.8,448.97,444.57,441.4,430.47]},\"selected\":{\"id\":\"11371\"},\"selection_policy\":{\"id\":\"11370\"}},\"id\":\"10947\",\"type\":\"ColumnDataSource\"},{\"attributes\":{\"line_alpha\":0.1,\"line_color\":\"#1f77b4\",\"line_width\":3,\"x\":{\"field\":\"x\"},\"y\":{\"field\":\"y\"}},\"id\":\"10949\",\"type\":\"Line\"},{\"attributes\":{\"source\":{\"id\":\"10947\"}},\"id\":\"10951\",\"type\":\"CDSView\"},{\"attributes\":{\"text\":\"Apple stock Price\"},\"id\":\"10915\",\"type\":\"Title\"},{\"attributes\":{\"mantissas\":[1,2,5],\"max_interval\":500.0,\"num_minor_ticks\":0},\"id\":\"11358\",\"type\":\"AdaptiveTicker\"},{\"attributes\":{},\"id\":\"11352\",\"type\":\"AllLabels\"},{\"attributes\":{\"base\":60,\"mantissas\":[1,2,5,10,15,20,30],\"max_interval\":1800000.0,\"min_interval\":1000.0,\"num_minor_ticks\":0},\"id\":\"11359\",\"type\":\"AdaptiveTicker\"},{\"attributes\":{\"days\":[1,2,3,4,5,6,7,8,9,10,11,12,13,14,15,16,17,18,19,20,21,22,23,24,25,26,27,28,29,30,31]},\"id\":\"11361\",\"type\":\"DaysTicker\"},{\"attributes\":{},\"id\":\"10934\",\"type\":\"WheelZoomTool\"},{\"attributes\":{\"base\":24,\"mantissas\":[1,2,4,6,8,12],\"max_interval\":43200000.0,\"min_interval\":3600000.0,\"num_minor_ticks\":0},\"id\":\"11360\",\"type\":\"AdaptiveTicker\"},{\"attributes\":{\"months\":[0,1,2,3,4,5,6,7,8,9,10,11]},\"id\":\"11365\",\"type\":\"MonthsTicker\"},{\"attributes\":{\"months\":[0,2,4,6,8,10]},\"id\":\"11366\",\"type\":\"MonthsTicker\"},{\"attributes\":{},\"id\":\"10917\",\"type\":\"DataRange1d\"},{\"attributes\":{\"days\":[1,4,7,10,13,16,19,22,25,28]},\"id\":\"11362\",\"type\":\"DaysTicker\"},{\"attributes\":{},\"id\":\"10919\",\"type\":\"DataRange1d\"},{\"attributes\":{\"days\":[1,15]},\"id\":\"11364\",\"type\":\"DaysTicker\"},{\"attributes\":{\"bottom_units\":\"screen\",\"fill_alpha\":0.5,\"fill_color\":\"lightgrey\",\"left_units\":\"screen\",\"level\":\"overlay\",\"line_alpha\":1.0,\"line_color\":\"black\",\"line_dash\":[4,4],\"line_width\":2,\"right_units\":\"screen\",\"syncable\":false,\"top_units\":\"screen\"},\"id\":\"10939\",\"type\":\"BoxAnnotation\"},{\"attributes\":{},\"id\":\"10923\",\"type\":\"LinearScale\"},{\"attributes\":{\"months\":[0,6]},\"id\":\"11368\",\"type\":\"MonthsTicker\"},{\"attributes\":{},\"id\":\"10921\",\"type\":\"LinearScale\"},{\"attributes\":{\"days\":[1,8,15,22]},\"id\":\"11363\",\"type\":\"DaysTicker\"},{\"attributes\":{\"axis_label\":\"Date\",\"formatter\":{\"id\":\"11351\"},\"major_label_policy\":{\"id\":\"11352\"},\"ticker\":{\"id\":\"10926\"}},\"id\":\"10925\",\"type\":\"DatetimeAxis\"},{\"attributes\":{},\"id\":\"11369\",\"type\":\"YearsTicker\"},{\"attributes\":{\"data_source\":{\"id\":\"10947\"},\"glyph\":{\"id\":\"10948\"},\"hover_glyph\":null,\"muted_glyph\":null,\"nonselection_glyph\":{\"id\":\"10949\"},\"view\":{\"id\":\"10951\"}},\"id\":\"10950\",\"type\":\"GlyphRenderer\"},{\"attributes\":{\"num_minor_ticks\":5,\"tickers\":[{\"id\":\"11358\"},{\"id\":\"11359\"},{\"id\":\"11360\"},{\"id\":\"11361\"},{\"id\":\"11362\"},{\"id\":\"11363\"},{\"id\":\"11364\"},{\"id\":\"11365\"},{\"id\":\"11366\"},{\"id\":\"11367\"},{\"id\":\"11368\"},{\"id\":\"11369\"}]},\"id\":\"10926\",\"type\":\"DatetimeTicker\"},{\"attributes\":{\"axis\":{\"id\":\"10925\"},\"grid_line_color\":null,\"ticker\":null},\"id\":\"10928\",\"type\":\"Grid\"},{\"attributes\":{\"months\":[0,4,8]},\"id\":\"11367\",\"type\":\"MonthsTicker\"},{\"attributes\":{\"axis_label\":\"Stock Price\",\"formatter\":{\"id\":\"11354\"},\"major_label_policy\":{\"id\":\"11355\"},\"ticker\":{\"id\":\"10930\"}},\"id\":\"10929\",\"type\":\"LinearAxis\"},{\"attributes\":{},\"id\":\"10938\",\"type\":\"HelpTool\"},{\"attributes\":{\"axis\":{\"id\":\"10929\"},\"dimension\":1,\"grid_line_alpha\":0.5,\"ticker\":null},\"id\":\"10932\",\"type\":\"Grid\"},{\"attributes\":{},\"id\":\"10930\",\"type\":\"BasicTicker\"},{\"attributes\":{},\"id\":\"11370\",\"type\":\"UnionRenderers\"},{\"attributes\":{\"active_multi\":null,\"tools\":[{\"id\":\"10933\"},{\"id\":\"10934\"},{\"id\":\"10935\"},{\"id\":\"10936\"},{\"id\":\"10937\"},{\"id\":\"10938\"}]},\"id\":\"10940\",\"type\":\"Toolbar\"},{\"attributes\":{},\"id\":\"10937\",\"type\":\"ResetTool\"},{\"attributes\":{},\"id\":\"10933\",\"type\":\"PanTool\"}],\"root_ids\":[\"10914\"]},\"title\":\"Bokeh Application\",\"version\":\"2.3.2\"}};\n",
       "  var render_items = [{\"docid\":\"b2704c95-4bf9-435d-8316-0dc0eef15f39\",\"root_ids\":[\"10914\"],\"roots\":{\"10914\":\"cb41a0d0-6f01-4ca6-a88f-e8428d4a2aeb\"}}];\n",
       "  root.Bokeh.embed.embed_items_notebook(docs_json, render_items);\n",
       "\n",
       "  }\n",
       "  if (root.Bokeh !== undefined) {\n",
       "    embed_document(root);\n",
       "  } else {\n",
       "    var attempts = 0;\n",
       "    var timer = setInterval(function(root) {\n",
       "      if (root.Bokeh !== undefined) {\n",
       "        clearInterval(timer);\n",
       "        embed_document(root);\n",
       "      } else {\n",
       "        attempts++;\n",
       "        if (attempts > 100) {\n",
       "          clearInterval(timer);\n",
       "          console.log(\"Bokeh: ERROR: Unable to run BokehJS code because BokehJS library is missing\");\n",
       "        }\n",
       "      }\n",
       "    }, 10, root)\n",
       "  }\n",
       "})(window);"
      ],
      "application/vnd.bokehjs_exec.v0+json": ""
     },
     "metadata": {
      "application/vnd.bokehjs_exec.v0+json": {
       "id": "10914"
      }
     },
     "output_type": "display_data"
    }
   ],
   "source": [
    "p = figure(x_axis_type= 'datetime', title= \"Apple stock Price\", plot_height=350, plot_width= 800)\n",
    "\n",
    "# x축의 눈금 커스터마이징 \n",
    "p.xgrid.grid_line_color= None # 색상을 제거합니다. \n",
    "# y축 눈금 커스터마이징 \n",
    "p.ygrid.grid_line_alpha = 0.5 # 반투명 색상을 지정합니다. \n",
    "\n",
    "# 축 레이블(제목) 지정 \n",
    "p.xaxis.axis_label = 'Date'\n",
    "p.yaxis.axis_label = 'Stock Price'\n",
    "\n",
    "\n",
    "\n",
    "p.line(dates, AAPL['close'], line_width=3)\n",
    "show(p)"
   ]
  },
  {
   "cell_type": "code",
   "execution_count": 53,
   "metadata": {
    "id": "hL0Tq6uQuQMY"
   },
   "outputs": [
    {
     "data": {
      "text/html": [
       "\n",
       "\n",
       "\n",
       "\n",
       "\n",
       "\n",
       "  <div class=\"bk-root\" id=\"d00c8d41-a7f3-4bfd-86f3-4082080d7056\" data-root-id=\"11482\"></div>\n"
      ]
     },
     "metadata": {},
     "output_type": "display_data"
    },
    {
     "data": {
      "application/javascript": [
       "(function(root) {\n",
       "  function embed_document(root) {\n",
       "    \n",
       "  var docs_json = {\"6bc2ff9c-e5dd-4961-b0ef-fd81e01b4849\":{\"defs\":[],\"roots\":{\"references\":[{\"attributes\":{\"below\":[{\"id\":\"11493\"}],\"center\":[{\"id\":\"11496\"},{\"id\":\"11500\"}],\"height\":350,\"left\":[{\"id\":\"11497\"}],\"renderers\":[{\"id\":\"11518\"}],\"title\":{\"id\":\"11483\"},\"toolbar\":{\"id\":\"11508\"},\"width\":800,\"x_range\":{\"id\":\"11485\"},\"x_scale\":{\"id\":\"11489\"},\"y_range\":{\"id\":\"11487\"},\"y_scale\":{\"id\":\"11491\"}},\"id\":\"11482\",\"subtype\":\"Figure\",\"type\":\"Plot\"},{\"attributes\":{\"days\":[1,2,3,4,5,6,7,8,9,10,11,12,13,14,15,16,17,18,19,20,21,22,23,24,25,26,27,28,29,30,31]},\"id\":\"11951\",\"type\":\"DaysTicker\"},{\"attributes\":{\"mantissas\":[1,2,5],\"max_interval\":500.0,\"num_minor_ticks\":0},\"id\":\"11948\",\"type\":\"AdaptiveTicker\"},{\"attributes\":{},\"id\":\"11485\",\"type\":\"DataRange1d\"},{\"attributes\":{},\"id\":\"11961\",\"type\":\"Selection\"},{\"attributes\":{},\"id\":\"11487\",\"type\":\"DataRange1d\"},{\"attributes\":{\"days\":[1,15]},\"id\":\"11954\",\"type\":\"DaysTicker\"},{\"attributes\":{},\"id\":\"11491\",\"type\":\"LinearScale\"},{\"attributes\":{},\"id\":\"11489\",\"type\":\"LinearScale\"},{\"attributes\":{\"axis_label\":\"Date\",\"formatter\":{\"id\":\"11941\"},\"major_label_policy\":{\"id\":\"11942\"},\"ticker\":{\"id\":\"11494\"}},\"id\":\"11493\",\"type\":\"DatetimeAxis\"},{\"attributes\":{\"num_minor_ticks\":5,\"tickers\":[{\"id\":\"11948\"},{\"id\":\"11949\"},{\"id\":\"11950\"},{\"id\":\"11951\"},{\"id\":\"11952\"},{\"id\":\"11953\"},{\"id\":\"11954\"},{\"id\":\"11955\"},{\"id\":\"11956\"},{\"id\":\"11957\"},{\"id\":\"11958\"},{\"id\":\"11959\"}]},\"id\":\"11494\",\"type\":\"DatetimeTicker\"},{\"attributes\":{\"axis\":{\"id\":\"11493\"},\"grid_line_color\":null,\"ticker\":null},\"id\":\"11496\",\"type\":\"Grid\"},{\"attributes\":{\"months\":[0,6]},\"id\":\"11958\",\"type\":\"MonthsTicker\"},{\"attributes\":{},\"id\":\"11506\",\"type\":\"HelpTool\"},{\"attributes\":{\"months\":[0,2,4,6,8,10]},\"id\":\"11956\",\"type\":\"MonthsTicker\"},{\"attributes\":{\"axis_label\":\"Stock Price\",\"formatter\":{\"id\":\"11944\"},\"major_label_policy\":{\"id\":\"11945\"},\"ticker\":{\"id\":\"11498\"}},\"id\":\"11497\",\"type\":\"LinearAxis\"},{\"attributes\":{\"days\":[1,4,7,10,13,16,19,22,25,28]},\"id\":\"11952\",\"type\":\"DaysTicker\"},{\"attributes\":{\"axis\":{\"id\":\"11497\"},\"dimension\":1,\"grid_line_alpha\":0.5,\"ticker\":null},\"id\":\"11500\",\"type\":\"Grid\"},{\"attributes\":{},\"id\":\"11498\",\"type\":\"BasicTicker\"},{\"attributes\":{\"months\":[0,1,2,3,4,5,6,7,8,9,10,11]},\"id\":\"11955\",\"type\":\"MonthsTicker\"},{\"attributes\":{},\"id\":\"11960\",\"type\":\"UnionRenderers\"},{\"attributes\":{\"active_multi\":null,\"tools\":[{\"id\":\"11501\"},{\"id\":\"11502\"},{\"id\":\"11503\"},{\"id\":\"11504\"},{\"id\":\"11505\"},{\"id\":\"11506\"}]},\"id\":\"11508\",\"type\":\"Toolbar\"},{\"attributes\":{},\"id\":\"11502\",\"type\":\"WheelZoomTool\"},{\"attributes\":{},\"id\":\"11501\",\"type\":\"PanTool\"},{\"attributes\":{\"overlay\":{\"id\":\"11507\"}},\"id\":\"11503\",\"type\":\"BoxZoomTool\"},{\"attributes\":{},\"id\":\"11504\",\"type\":\"SaveTool\"},{\"attributes\":{},\"id\":\"11505\",\"type\":\"ResetTool\"},{\"attributes\":{\"data\":{\"x\":{\"__ndarray__\":\"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\",\"dtype\":\"float64\",\"order\":\"little\",\"shape\":[2148]},\"y\":[100.34,108.31,109.4,104.87,106.0,107.91,106.15,102.01,102.37,100.25,101.51,100.01,101.58,102.3,102.31,105.33,107.5,111.49,112.0,113.97,117.49,119.36,117.84,118.38,120.82,119.83,118.26,126.86,131.08,129.6,132.58,135.06,138.37,137.08,138.85,137.73,135.26,137.4,140.9,142.0,144.11,149.16,147.94,140.49,149.38,172.43,187.4,181.8,185.97,193.3,190.64,196.03,194.87,191.67,184.7,169.35,172.55,168.7,167.86,183.02,182.0,184.87,172.54,172.5,167.54,169.4,165.1,167.52,174.76,179.39,181.05,181.98,179.96,179.4,180.4,176.29,171.43,169.98,173.43,171.65,170.45,178.69,179.78,176.47,180.08,185.02,183.75,186.3,187.9,191.91,192.76,192.9,197.6,192.79,202.71,194.5,193.51,188.55,193.85,195.06,193.54,195.38,195.33,199.97,203.9,197.3,193.92,188.28,180.72,177.12,189.24,188.08,190.34,195.62,191.9,205.96,210.86,204.36,196.03,198.64,191.58,187.98,187.4,192.99,195.23,198.41,197.9,197.95,191.37,193.95,188.89,185.87,187.99,186.06,185.18,187.01,185.9,188.81,185.2,181.35,179.98,177.8,174.99,178.61,175.6,179.29,180.04,180.88,178.6,178.98,179.25,181.42,179.57,180.45,180.51,180.04,185.29,188.57,189.22,193.76,192.05,193.23,193.96,192.93,191.45,185.0,186.97,191.4,198.1,204.22,215.81,223.53,218.75,219.78,219.45,220.0,222.29,226.19,228.5,226.98,228.02,226.02,227.8,231.29,228.72,229.24,231.05,233.13,239.16,239.18,241.61,255.45,256.0,260.81,259.2,266.0,277.27,288.0,287.9,280.26,290.94,293.12,279.56,286.31,282.5,282.75,278.35,274.8,277.44,280.3,286.7,287.84,289.3,289.71,297.25,304.1,302.0,292.72,294.15,291.25,295.71,291.52,295.54,296.23,293.35,291.78,298.86,300.89,301.19,299.54,309.9,312.0,313.94,302.4,295.85,296.09,296.93,293.5,287.76,291.61,299.19,297.3,297.73,292.35,291.25,291.57,285.68,284.05,289.72,284.0,285.65,285.1,279.99,280.0,274.01,279.58,282.57,282.59,283.58,288.45,287.27,286.0,286.25,288.45,287.11,294.87,295.39,299.09,309.74,311.68,303.0,302.62,300.2,303.79,307.91,311.9,311.37,315.36,314.28,313.94,306.0,309.62,316.46,318.68,311.0,310.71,312.75,312.99,310.65,306.1,300.97,297.44,296.14,305.0,303.28,308.7,303.2,339.9,348.65,346.91,355.44,353.06,358.17,372.14,379.38,379.68,385.95,390.43,395.03,389.9,379.15,391.1,390.4,396.97,392.8,398.15,403.45,400.21,409.36,416.47,422.86,428.62,423.48,403.54,404.91,414.09,417.7,405.85,404.54,404.22,410.65,409.2,412.61,417.49,418.96,422.55,430.15,424.6,429.74,426.33,432.04,430.93,424.64,426.69,420.15,414.86,435.23,445.24,451.24,465.66,466.9,469.76,471.63,463.63,466.25,467.11,444.91,436.45,399.46,427.5,443.03,433.0,434.27,433.49,426.82,432.66,401.78,396.04,381.55,385.1,367.92,369.08,358.77,362.61,345.7,343.32,342.38,366.46,368.75,366.59,365.49,378.07,377.4,390.38,362.62,364.8,376.45,378.18,368.1,364.45,353.88,343.0,337.5,337.06,351.16,344.5,338.77,339.79,348.19,339.92,340.22,341.89,365.8,369.69,377.2,394.98,388.44,390.0,389.7,404.34,407.99,411.18,406.16,416.38,409.66,408.95,402.16,406.82,404.24,410.5,415.0,437.1,440.5,427.16,425.97,420.03,417.94,398.9,394.8,394.17,394.75,394.3,394.78,408.8,402.98,387.0,374.13,376.2,371.3,374.5,370.99,370.02,370.95,375.58,381.25,382.99,381.35,371.94,371.82,382.62,379.44,374.44,389.99,386.51,393.3,386.57,381.54,386.52,384.39,391.0,390.7,388.14,387.17,402.13,399.95,404.86,404.22,402.32,406.11,417.81,419.33,423.2,421.46,423.19,420.45,418.2,424.56,417.25,408.83,403.5,407.89,403.05,399.0,387.12,390.11,390.9,389.36,385.5,382.4,388.12,386.6,375.51,367.23,375.39,373.85,377.95,381.0,376.94,374.2,368.5,369.43,380.97,387.72,385.8,383.36,377.3,378.29,373.43,373.73,373.26,380.95,378.95,380.75,378.53,378.6,384.36,380.14,378.49,377.85,384.09,391.9,406.57,403.98,409.88,414.69,403.81,397.0,406.85,403.78,403.98,406.87,402.92,403.58,401.9,401.44,404.04,415.7,411.81,420.5,429.0,426.65,426.5,427.44,427.3,421.75,420.64,419.31,426.06,459.67,480.78,473.31,486.6,485.1,475.2,476.57,476.39,467.5,469.91,471.8,476.95,472.57,475.0,472.63,473.55,481.03,489.3,491.93,495.9,498.79,495.05,509.65,508.01,505.0,484.75,489.5,484.65,484.81,480.8,484.85,487.0,488.71,482.64,484.11,483.93,481.78,478.99,482.12,480.3,462.8,468.63,462.9,456.2,455.58,457.53,468.03,462.56,460.48,467.59,483.26,487.19,483.58,485.5,489.46,499.72,505.0,504.28,497.28,487.83,489.75,480.84,479.05,499.07,488.09,495.84,492.47,494.32,501.5,481.75,481.5,467.16,471.48,470.01,471.03,461.89,458.29,459.1,465.93,461.47,469.94,472.1,475.86,475.85,470.62,464.93,448.77,449.45,448.23,438.68,440.95,457.55,455.64,454.72,452.96,454.75,443.03,448.0,446.19,440.85,447.23,445.28,456.55,462.04,461.83,465.0,463.62,461.88,460.92,458.16,458.53,472.6,471.02,471.51,468.21,466.5,464.53,467.39,466.29,474.27,472.8,476.01,471.65,482.48,479.08,477.53,477.99,481.18,479.01,471.38,469.0,465.78,473.23,471.12,467.27,466.81,469.25,461.47,466.74,461.78,458.0,472.61,470.96,470.32,470.6,475.86,473.97,474.33,483.52,487.11,498.6,497.91,500.4,507.07,518.84,518.25,515.06,515.49,511.34,504.77,505.24,502.84,505.89,515.2,514.31,509.97,514.11,524.98,527.42,530.26,526.29,525.01,522.7,530.38,534.34,541.63,539.4,542.56,543.34,544.47,545.33,552.16,552.99,555.0,549.5,548.59,520.12,512.51,514.0,509.76,508.0,511.89,516.11,510.0,512.94,511.01,503.0,510.0,516.02,525.78,514.73,515.75,515.5,508.6,497.55,491.52,500.04,497.92,506.61,512.75,512.19,515.0,513.26,506.4,512.88,511.4,515.25,525.15,527.8,523.52,519.35,514.48,521.33,522.65,524.78,528.75,525.3,535.27,546.85,552.83,560.1,568.02,569.0,568.16,567.5,567.27,582.55,584.39,584.02,579.03,594.05,609.62,615.18,625.39,622.0,637.39,620.11,616.0,633.48,639.62,644.71,650.75,675.77,675.82,668.51,674.6,679.23,694.77,707.0,703.21,711.25,725.65,741.79,732.94,693.84,663.97,632.07,660.55,641.68,629.65,633.63,625.85,648.54,660.52,676.7,666.0,673.57,692.26,697.0,693.0,681.53,684.16,698.51,715.26,714.87,718.42,699.2,699.35,694.05,689.96,669.23,673.35,677.37,689.69,696.69,700.73,710.84,700.74,702.53,691.48,685.19,685.33,657.0,649.25,631.68,653.2,646.73,638.25,653.82,637.65,615.95,600.79,600.25,584.35,548.62,574.49,566.4,555.98,550.52,548.27,564.3,515.9,495.43,506.8,501.71,504.95,516.69,521.16,518.09,534.62,532.25,529.64,508.95,509.0,502.86,507.8,486.44,464.19,472.86,475.39,471.18,457.02,444.6,447.7,432.7,433.35,413.62,439.84,440.18,443.01,437.92,419.87,439.16,432.0,433.55,460.56,450.78,458.19,444.08,438.08,440.47,465.71,465.7,455.12,471.09,476.82,467.81,464.19,469.08,457.45,451.66,446.84,455.03,449.54,539.41,537.79,555.0,546.49,543.04,544.06,552.12,558.47,574.29,593.08,581.29,594.9,586.36,579.0,583.01,573.2,584.94,583.0,576.3,581.0,580.07,577.52,578.6,549.99,549.46,544.62,560.9,568.24,583.0,585.8,575.0,567.3,572.22,586.3,567.0,557.87,554.17,545.2,552.95,571.51,572.81,569.46,562.38,560.2,546.43,545.21,542.3,551.0,528.82,528.07,526.42,534.73,527.04,537.0,543.91,554.53,541.55,540.57,533.8,521.62,516.09,535.6,533.44,481.32,468.8,477.11,489.22,475.62,491.98,477.12,483.11,482.7,473.75,467.86,463.0,479.85,486.34,479.12,495.01,500.84,502.61,500.03,505.49,510.15,498.3,490.5,485.0,486.53,490.59,483.01,474.16,468.58,473.78,463.29,465.25,464.41,450.26,444.25,419.95,418.66,414.16,433.75,437.66,433.86,442.93,414.49,439.08,449.15,430.14,429.27,435.11,439.6,431.04,381.0,400.52,411.72,390.49,386.91,371.21,346.01,338.11,328.98,332.0,381.02,362.71,339.17,353.02,372.54,379.32,362.75,355.67,352.32,339.29,329.49,368.75,358.0,359.69,359.36,346.49,366.94,342.24,331.22,331.14,318.78,311.46,291.0,312.08,310.02,300.12,297.42,280.18,259.56,262.43,257.44,282.05,292.09,292.96,265.99,275.11,279.43,274.34,283.99,302.11,305.97,308.82,300.22,315.76,310.67,325.28,315.24,310.28,310.17,297.11,298.02,302.95,300.36,297.42,303.11,307.65,321.32,328.05,334.06,322.01,325.19,315.07,312.69,314.32,300.97,298.99,299.67,282.75,303.08,306.5,324.7,323.87,331.48,348.67,343.32,338.53,340.57,340.45,343.0,353.72,371.28,378.77,358.51,358.04,363.05,357.68,342.66,353.11,342.64,346.45,330.06,345.45,341.64,337.18,337.99,327.16,325.48,318.92,305.64,308.57,290.89,308.17,317.91,323.53,324.42,319.69,335.34,333.1,329.94,330.16,348.6,347.17,344.07,353.29,347.7,342.69,348.06,354.09,362.5,369.78,368.24,358.65,362.0,372.5,378.11,368.91,379.5,388.74,392.24,379.3,381.47,383.86,384.69,389.49,385.95,383.71,391.47,395.97,393.69,401.98,402.99,403.47,396.61,407.33,407.98,399.01,389.54,387.5,390.0,396.84,398.88,397.18,396.5,393.5,404.36,405.56,410.4,417.23,426.56,428.4,431.65,440.28,444.32,438.77,435.62,432.6,429.0,424.84,416.77,416.0,415.16,414.06,420.09,407.35,405.68,409.29,415.77,425.32,424.14,421.59,418.99,408.49,409.61,396.63,402.49,410.39,414.4,424.3,424.69,438.17,442.6,430.25,430.17,427.9,427.69,437.34,446.72,444.8,439.85,436.24,445.64,443.05,452.21,453.73,451.14,450.36,457.1,456.61,453.94,458.58,462.28,460.0,444.89,445.28,443.97,460.41,465.24,468.73,471.37,468.0,466.06,464.75,461.67,455.76,453.01,457.52,461.3,458.62,463.97,470.94,472.14,475.12,477.54,488.29,491.72,491.46,497.0,499.06,498.46,496.77,492.48,498.53,498.53,495.85,487.2,484.58,488.52,498.74,517.54,514.18,516.25,524.04,526.11,535.32,529.91,549.85,552.09,551.72,551.1,554.09,553.69,554.21,548.29,540.3,551.05,536.12,533.99,537.29,540.33,548.65,551.1,562.51,566.76,570.56,567.85,572.05,576.28,577.49,576.65,572.99,569.96,582.35,583.09,585.74,579.76,583.0,589.87,587.51,585.74,585.01,586.25,587.05,589.02,591.5,590.51,595.73,593.14,597.76,593.94,596.42,598.68,601.12,611.68,618.48,622.87,619.4,622.73,619.98,626.75,623.99,608.26,594.1,602.02,601.11,590.48,587.09,589.85,580.0,587.62,580.41,582.98,550.01,540.0,542.42,542.1,534.29,529.94,533.02,531.12,540.82,526.78,531.29,533.47,536.44,534.45,536.4,533.12,541.3,538.21,543.22,540.76,542.8,535.07,531.47,526.43,526.8,532.69,541.06,545.32,554.59,564.21,562.48,560.19,576.45,581.14,579.54,563.18,565.2,565.56,566.4,560.0,557.5,549.0,557.33,562.88,562.69,562.45,566.71,567.12,568.8,571.01,568.22,563.54,567.49,566.22,572.73,586.77,589.0,595.3,550.15,550.1,555.04,554.3,547.06,544.99,531.64,529.06,529.19,532.0,525.7,530.6,506.37,509.76,498.67,493.14,521.65,509.05,505.39,510.88,507.53,507.97,498.37,494.43,475.01,472.05,477.16,477.07,475.47,490.46,485.63,482.37,493.37,505.6,498.72,485.52,484.78,474.02,487.01,488.5,483.19,497.99,501.27,500.08,500.03,488.56,486.25,482.05,475.1,472.68,472.08,454.26,444.95,439.49,436.55,436.07,450.2,456.56,467.49,475.83,489.2,491.34,494.02,459.61,466.18,481.59,477.5,484.81,490.06,488.97,492.63,484.35,484.99,484.85,490.41,489.83,506.32,508.1,500.22,505.35,503.71,491.74,492.01,486.35,485.59,490.52,482.15,467.97,462.02,464.07,451.39,454.62,450.98,458.83,452.69,450.02,460.33,463.18,470.3,464.4,470.58,476.18,476.14,482.27,480.43,480.64,481.06,490.15,508.28,513.46,516.0,513.48,527.29,530.41,527.17,527.69,525.79,525.62,522.35,538.23,534.35,530.01,536.35,538.84,541.39,543.3,540.93,601.45,617.71,607.83,607.98,611.99,612.53,616.5,618.6,616.47,618.58,613.7,615.0,615.6,620.18,624.27,625.08,626.77,624.82,622.88,617.19,603.29,595.47,583.72,583.55,596.56,590.83,591.22,583.01,594.97,590.0,582.11,555.71,564.35,571.82,573.0,578.36,587.14,590.54,591.5,592.21,594.62,594.91,590.3,591.71,590.8,595.06,603.07,605.49,604.23,602.38,598.92,601.0,598.86,593.97,604.35,602.12,609.07,613.5,616.44,614.21,616.01,616.87,616.69,624.18,639.63,631.75,626.77,611.83,611.08,619.91,616.5,616.79,600.99,600.36,611.04,612.0,610.15,610.98,614.29,618.38,616.5,616.44,624.5,628.15,624.15,624.22,625.26,630.08,610.21,611.32,608.82,610.04,613.4,600.76,600.79,609.56,600.62,591.66,592.31,591.77,580.3,576.71,569.99,569.56,557.1,561.36,561.06,576.5,577.32,582.16,586.89,579.74,575.36,581.73,581.84,586.76,591.8,587.68,569.09,574.18,580.0,578.16,577.37,570.61,576.28,578.51,530.7,526.84,521.53,525.73,525.1,525.05,532.82,537.76,537.97,544.1,538.56,533.89,535.79,534.27,535.3,537.68,542.66,535.45,535.05,529.55,518.42,530.46,529.81,531.25,524.03,518.39,518.26,519.67,518.13,520.9,529.02,525.6,528.06,523.08,521.06,519.03,519.17,516.73,509.51,504.73,508.37,502.95,500.37,485.02,484.58,493.0,487.01,480.22,474.88,482.8,493.65,497.57,506.38,521.03,532.44,535.36,546.6,531.99,527.28,534.01,538.26,528.94,597.62,594.94,602.55,595.35,606.99,618.23,618.98,622.52,607.22,610.94,603.69,606.77,592.4,601.17,577.52,579.04,546.02,573.41,549.01,562.13,563.77,557.23,539.0,533.15,504.88,490.92,498.17,518.82,523.29,520.04,526.86,539.08,540.7,540.96,532.5,524.84,522.18,534.03,534.96,524.85,530.12,529.52,532.07,542.56,546.68,546.67,546.63,539.2,520.66,525.51,531.89,539.34,528.84,527.5,515.04,495.52,501.9,504.7,514.71,515.12,537.17,543.18,548.5,558.99,591.68,582.41,590.51,580.7,583.67,590.49,596.42,583.16,586.31,598.67,600.14,592.64,578.65,584.82,597.5,596.14,608.33,612.34,600.95,595.08,608.35,613.0,616.56,611.47,600.87,594.88,580.94,580.0,570.11,563.0,588.19,582.93,599.39,613.77,620.36,625.65,623.77,623.39,616.05,627.42,625.39,625.63,618.07,619.54,625.96,621.83,630.37,625.82,629.7,633.14,640.25,639.7,642.4,645.9,665.41,668.28,659.01,650.02,622.46,623.14,625.96,629.64,624.99,628.58,632.91,639.57,585.99,585.52,580.93,569.49,568.1,579.98,577.69,580.11,580.83,585.11,596.33,609.09,606.77,609.85,611.46,605.91,612.2,609.76,605.56,606.52,604.64,614.0,607.94,606.11,609.9,609.31,618.39,618.25,622.4,621.25,614.25,604.96,606.8,607.14,600.25,605.15,617.78,615.99,621.13,625.04,633.98,633.49,639.98,646.05,642.59,649.33,647.02,655.76,648.41,641.24,646.92,642.62,635.15,632.32,630.84,626.86,635.96,651.01,624.6,606.07,609.57,607.45,599.3,596.06,597.6,601.27,609.72,615.47,614.98,604.85,604.43,607.26,611.02,596.97,607.55,612.79,609.15,613.66,605.23,604.0,611.11,628.93,623.05,600.4,614.11,600.8,609.46,603.66,591.53,594.34,588.23,580.86,570.98,578.59,570.41,580.57,578.23,580.45,568.5,565.1,561.09,559.05,564.51,570.85,581.53,577.51,565.21,571.48,560.7,564.68,569.3,564.31,580.07,580.47,587.83,595.92,585.98,586.01,581.7,571.19,570.48,576.52,574.92,576.73,580.76,593.06,610.82,615.51,607.57,607.99,613.36,634.96,632.3,632.97,632.68,628.75,641.33,642.82,640.54,642.23,642.35,642.0,660.01,668.66,667.54,672.87,677.14,675.54,669.51,677.18,676.8,678.63,669.22,677.25,688.01,681.68,685.09,681.04,680.72,699.4,706.15,700.77,692.19,690.88,706.04,709.68,709.98,718.28,727.5,728.12,733.99,749.38,749.16,753.46,756.5,754.5,761.78,756.99,762.5,768.05,767.65,757.84,744.09,744.56,751.48,744.75,740.98,744.7,755.49,695.0,681.79,678.67,680.35,677.3,677.76,675.15,680.3,687.59,687.92,682.96,681.72,667.12,652.29,663.03,665.9,659.05,652.55,647.26,647.18,668.21,669.97,665.87,667.97,661.15,670.71,683.67,691.89,698.37,695.25,691.03,687.82,691.13,684.21,685.42,696.88,697.56,702.7,701.96,720.78,721.07,720.11,722.36,715.63,709.5,708.87,706.29,700.01,707.38,723.25,723.67,737.97,734.75,733.3,738.12,741.48,739.99,723.25,724.93,715.19,711.32,704.51,702.87,741.5,754.21,753.67,750.73,753.68,753.83,755.69,775.6,759.02,765.74,770.17,773.95,785.37,782.42,780.7,782.86,787.82,792.89,806.85,792.46,795.53,799.71,790.77,790.13,799.78,801.2,806.19]},\"selected\":{\"id\":\"11961\"},\"selection_policy\":{\"id\":\"11960\"}},\"id\":\"11515\",\"type\":\"ColumnDataSource\"},{\"attributes\":{\"source\":{\"id\":\"11515\"}},\"id\":\"11519\",\"type\":\"CDSView\"},{\"attributes\":{},\"id\":\"11945\",\"type\":\"AllLabels\"},{\"attributes\":{\"line_color\":\"#1f77b4\",\"line_width\":3,\"x\":{\"field\":\"x\"},\"y\":{\"field\":\"y\"}},\"id\":\"11516\",\"type\":\"Line\"},{\"attributes\":{\"data_source\":{\"id\":\"11515\"},\"glyph\":{\"id\":\"11516\"},\"hover_glyph\":null,\"muted_glyph\":null,\"nonselection_glyph\":{\"id\":\"11517\"},\"view\":{\"id\":\"11519\"}},\"id\":\"11518\",\"type\":\"GlyphRenderer\"},{\"attributes\":{\"line_alpha\":0.1,\"line_color\":\"#1f77b4\",\"line_width\":3,\"x\":{\"field\":\"x\"},\"y\":{\"field\":\"y\"}},\"id\":\"11517\",\"type\":\"Line\"},{\"attributes\":{\"text\":\"Apple stock Price\"},\"id\":\"11483\",\"type\":\"Title\"},{\"attributes\":{},\"id\":\"11942\",\"type\":\"AllLabels\"},{\"attributes\":{\"months\":[0,4,8]},\"id\":\"11957\",\"type\":\"MonthsTicker\"},{\"attributes\":{},\"id\":\"11959\",\"type\":\"YearsTicker\"},{\"attributes\":{},\"id\":\"11941\",\"type\":\"DatetimeTickFormatter\"},{\"attributes\":{},\"id\":\"11944\",\"type\":\"BasicTickFormatter\"},{\"attributes\":{\"bottom_units\":\"screen\",\"fill_alpha\":0.5,\"fill_color\":\"lightgrey\",\"left_units\":\"screen\",\"level\":\"overlay\",\"line_alpha\":1.0,\"line_color\":\"black\",\"line_dash\":[4,4],\"line_width\":2,\"right_units\":\"screen\",\"syncable\":false,\"top_units\":\"screen\"},\"id\":\"11507\",\"type\":\"BoxAnnotation\"},{\"attributes\":{\"base\":24,\"mantissas\":[1,2,4,6,8,12],\"max_interval\":43200000.0,\"min_interval\":3600000.0,\"num_minor_ticks\":0},\"id\":\"11950\",\"type\":\"AdaptiveTicker\"},{\"attributes\":{\"days\":[1,8,15,22]},\"id\":\"11953\",\"type\":\"DaysTicker\"},{\"attributes\":{\"base\":60,\"mantissas\":[1,2,5,10,15,20,30],\"max_interval\":1800000.0,\"min_interval\":1000.0,\"num_minor_ticks\":0},\"id\":\"11949\",\"type\":\"AdaptiveTicker\"}],\"root_ids\":[\"11482\"]},\"title\":\"Bokeh Application\",\"version\":\"2.3.2\"}};\n",
       "  var render_items = [{\"docid\":\"6bc2ff9c-e5dd-4961-b0ef-fd81e01b4849\",\"root_ids\":[\"11482\"],\"roots\":{\"11482\":\"d00c8d41-a7f3-4bfd-86f3-4082080d7056\"}}];\n",
       "  root.Bokeh.embed.embed_items_notebook(docs_json, render_items);\n",
       "\n",
       "  }\n",
       "  if (root.Bokeh !== undefined) {\n",
       "    embed_document(root);\n",
       "  } else {\n",
       "    var attempts = 0;\n",
       "    var timer = setInterval(function(root) {\n",
       "      if (root.Bokeh !== undefined) {\n",
       "        clearInterval(timer);\n",
       "        embed_document(root);\n",
       "      } else {\n",
       "        attempts++;\n",
       "        if (attempts > 100) {\n",
       "          clearInterval(timer);\n",
       "          console.log(\"Bokeh: ERROR: Unable to run BokehJS code because BokehJS library is missing\");\n",
       "        }\n",
       "      }\n",
       "    }, 10, root)\n",
       "  }\n",
       "})(window);"
      ],
      "application/vnd.bokehjs_exec.v0+json": ""
     },
     "metadata": {
      "application/vnd.bokehjs_exec.v0+json": {
       "id": "11482"
      }
     },
     "output_type": "display_data"
    }
   ],
   "source": [
    "dates = np.array(GOOG['date'], dtype=np.datetime64)\n",
    "\n",
    "p = figure(x_axis_type= 'datetime', title= \"Apple stock Price\", plot_height=350, plot_width= 800)\n",
    "\n",
    "# x축의 눈금 커스터마이징 \n",
    "p.xgrid.grid_line_color= None # 색상을 제거합니다. \n",
    "# y축 눈금 커스터마이징 \n",
    "p.ygrid.grid_line_alpha = 0.5 # 반투명 색상을 지정합니다. \n",
    "\n",
    "# 축 레이블(제목) 지정 \n",
    "p.xaxis.axis_label = 'Date'\n",
    "p.yaxis.axis_label = 'Stock Price'\n",
    "\n",
    "\n",
    "\n",
    "p.line(dates, GOOG['close'], line_width=3)\n",
    "show(p)"
   ]
  },
  {
   "cell_type": "markdown",
   "metadata": {
    "id": "07D-3kP28cwK"
   },
   "source": [
    "### 스텝 라인(Step Lines)"
   ]
  },
  {
   "cell_type": "code",
   "execution_count": 55,
   "metadata": {
    "id": "x5qDA3QC8O-5"
   },
   "outputs": [
    {
     "data": {
      "text/html": [
       "\n",
       "\n",
       "\n",
       "\n",
       "\n",
       "\n",
       "  <div class=\"bk-root\" id=\"df5d2e42-0eda-43b9-93a7-054708b07529\" data-root-id=\"12072\"></div>\n"
      ]
     },
     "metadata": {},
     "output_type": "display_data"
    },
    {
     "data": {
      "application/javascript": [
       "(function(root) {\n",
       "  function embed_document(root) {\n",
       "    \n",
       "  var docs_json = {\"5132eaa5-3a8f-4ef0-9422-5c79ffce570f\":{\"defs\":[],\"roots\":{\"references\":[{\"attributes\":{\"below\":[{\"id\":\"12081\"}],\"center\":[{\"id\":\"12084\"},{\"id\":\"12088\"}],\"height\":400,\"left\":[{\"id\":\"12085\"}],\"renderers\":[{\"id\":\"12106\"}],\"title\":{\"id\":\"12551\"},\"toolbar\":{\"id\":\"12096\"},\"width\":400,\"x_range\":{\"id\":\"12073\"},\"x_scale\":{\"id\":\"12077\"},\"y_range\":{\"id\":\"12075\"},\"y_scale\":{\"id\":\"12079\"}},\"id\":\"12072\",\"subtype\":\"Figure\",\"type\":\"Plot\"},{\"attributes\":{},\"id\":\"12555\",\"type\":\"BasicTickFormatter\"},{\"attributes\":{},\"id\":\"12082\",\"type\":\"BasicTicker\"},{\"attributes\":{\"axis\":{\"id\":\"12081\"},\"ticker\":null},\"id\":\"12084\",\"type\":\"Grid\"},{\"attributes\":{},\"id\":\"12077\",\"type\":\"LinearScale\"},{\"attributes\":{},\"id\":\"12551\",\"type\":\"Title\"},{\"attributes\":{},\"id\":\"12073\",\"type\":\"DataRange1d\"},{\"attributes\":{\"formatter\":{\"id\":\"12555\"},\"major_label_policy\":{\"id\":\"12556\"},\"ticker\":{\"id\":\"12086\"}},\"id\":\"12085\",\"type\":\"LinearAxis\"},{\"attributes\":{},\"id\":\"12079\",\"type\":\"LinearScale\"},{\"attributes\":{\"overlay\":{\"id\":\"12095\"}},\"id\":\"12091\",\"type\":\"BoxZoomTool\"},{\"attributes\":{},\"id\":\"12090\",\"type\":\"WheelZoomTool\"},{\"attributes\":{},\"id\":\"12094\",\"type\":\"HelpTool\"},{\"attributes\":{\"data\":{\"x\":[1,2,3,4,5],\"y\":[5,4,6,7,3]},\"selected\":{\"id\":\"12560\"},\"selection_policy\":{\"id\":\"12559\"}},\"id\":\"12103\",\"type\":\"ColumnDataSource\"},{\"attributes\":{},\"id\":\"12552\",\"type\":\"BasicTickFormatter\"},{\"attributes\":{\"line_color\":\"#1f77b4\",\"line_width\":2,\"mode\":\"center\",\"x\":{\"field\":\"x\"},\"y\":{\"field\":\"y\"}},\"id\":\"12104\",\"type\":\"Step\"},{\"attributes\":{},\"id\":\"12086\",\"type\":\"BasicTicker\"},{\"attributes\":{\"data_source\":{\"id\":\"12103\"},\"glyph\":{\"id\":\"12104\"},\"hover_glyph\":null,\"muted_glyph\":null,\"nonselection_glyph\":{\"id\":\"12105\"},\"view\":{\"id\":\"12107\"}},\"id\":\"12106\",\"type\":\"GlyphRenderer\"},{\"attributes\":{\"line_alpha\":0.1,\"line_color\":\"#1f77b4\",\"line_width\":2,\"mode\":\"center\",\"x\":{\"field\":\"x\"},\"y\":{\"field\":\"y\"}},\"id\":\"12105\",\"type\":\"Step\"},{\"attributes\":{},\"id\":\"12556\",\"type\":\"AllLabels\"},{\"attributes\":{},\"id\":\"12093\",\"type\":\"ResetTool\"},{\"attributes\":{},\"id\":\"12553\",\"type\":\"AllLabels\"},{\"attributes\":{},\"id\":\"12560\",\"type\":\"Selection\"},{\"attributes\":{\"active_multi\":null,\"tools\":[{\"id\":\"12089\"},{\"id\":\"12090\"},{\"id\":\"12091\"},{\"id\":\"12092\"},{\"id\":\"12093\"},{\"id\":\"12094\"}]},\"id\":\"12096\",\"type\":\"Toolbar\"},{\"attributes\":{\"source\":{\"id\":\"12103\"}},\"id\":\"12107\",\"type\":\"CDSView\"},{\"attributes\":{\"formatter\":{\"id\":\"12552\"},\"major_label_policy\":{\"id\":\"12553\"},\"ticker\":{\"id\":\"12082\"}},\"id\":\"12081\",\"type\":\"LinearAxis\"},{\"attributes\":{},\"id\":\"12092\",\"type\":\"SaveTool\"},{\"attributes\":{},\"id\":\"12559\",\"type\":\"UnionRenderers\"},{\"attributes\":{\"bottom_units\":\"screen\",\"fill_alpha\":0.5,\"fill_color\":\"lightgrey\",\"left_units\":\"screen\",\"level\":\"overlay\",\"line_alpha\":1.0,\"line_color\":\"black\",\"line_dash\":[4,4],\"line_width\":2,\"right_units\":\"screen\",\"syncable\":false,\"top_units\":\"screen\"},\"id\":\"12095\",\"type\":\"BoxAnnotation\"},{\"attributes\":{\"axis\":{\"id\":\"12085\"},\"dimension\":1,\"ticker\":null},\"id\":\"12088\",\"type\":\"Grid\"},{\"attributes\":{},\"id\":\"12075\",\"type\":\"DataRange1d\"},{\"attributes\":{},\"id\":\"12089\",\"type\":\"PanTool\"}],\"root_ids\":[\"12072\"]},\"title\":\"Bokeh Application\",\"version\":\"2.3.2\"}};\n",
       "  var render_items = [{\"docid\":\"5132eaa5-3a8f-4ef0-9422-5c79ffce570f\",\"root_ids\":[\"12072\"],\"roots\":{\"12072\":\"df5d2e42-0eda-43b9-93a7-054708b07529\"}}];\n",
       "  root.Bokeh.embed.embed_items_notebook(docs_json, render_items);\n",
       "\n",
       "  }\n",
       "  if (root.Bokeh !== undefined) {\n",
       "    embed_document(root);\n",
       "  } else {\n",
       "    var attempts = 0;\n",
       "    var timer = setInterval(function(root) {\n",
       "      if (root.Bokeh !== undefined) {\n",
       "        clearInterval(timer);\n",
       "        embed_document(root);\n",
       "      } else {\n",
       "        attempts++;\n",
       "        if (attempts > 100) {\n",
       "          clearInterval(timer);\n",
       "          console.log(\"Bokeh: ERROR: Unable to run BokehJS code because BokehJS library is missing\");\n",
       "        }\n",
       "      }\n",
       "    }, 10, root)\n",
       "  }\n",
       "})(window);"
      ],
      "application/vnd.bokehjs_exec.v0+json": ""
     },
     "metadata": {
      "application/vnd.bokehjs_exec.v0+json": {
       "id": "12072"
      }
     },
     "output_type": "display_data"
    }
   ],
   "source": [
    "p = figure( plot_height=400, plot_width= 400)\n",
    "p.step([1,2,3,4,5], [5,4,6,7,3], line_width=2, mode='center')\n",
    "show(p)"
   ]
  },
  {
   "cell_type": "code",
   "execution_count": 56,
   "metadata": {},
   "outputs": [
    {
     "data": {
      "text/html": [
       "\n",
       "\n",
       "\n",
       "\n",
       "\n",
       "\n",
       "  <div class=\"bk-root\" id=\"ee1da9f7-673b-4b2a-aa32-813247c98f1d\" data-root-id=\"12616\"></div>\n"
      ]
     },
     "metadata": {},
     "output_type": "display_data"
    },
    {
     "data": {
      "application/javascript": [
       "(function(root) {\n",
       "  function embed_document(root) {\n",
       "    \n",
       "  var docs_json = {\"7d497987-1f07-45c6-9872-12af0074be71\":{\"defs\":[],\"roots\":{\"references\":[{\"attributes\":{\"below\":[{\"id\":\"12625\"}],\"center\":[{\"id\":\"12628\"},{\"id\":\"12632\"}],\"height\":400,\"left\":[{\"id\":\"12629\"}],\"renderers\":[{\"id\":\"12650\"},{\"id\":\"12655\"},{\"id\":\"12660\"}],\"title\":{\"id\":\"13116\"},\"toolbar\":{\"id\":\"12640\"},\"width\":400,\"x_range\":{\"id\":\"12617\"},\"x_scale\":{\"id\":\"12621\"},\"y_range\":{\"id\":\"12619\"},\"y_scale\":{\"id\":\"12623\"}},\"id\":\"12616\",\"subtype\":\"Figure\",\"type\":\"Plot\"},{\"attributes\":{},\"id\":\"13128\",\"type\":\"UnionRenderers\"},{\"attributes\":{},\"id\":\"13118\",\"type\":\"AllLabels\"},{\"attributes\":{},\"id\":\"13129\",\"type\":\"Selection\"},{\"attributes\":{},\"id\":\"13117\",\"type\":\"BasicTickFormatter\"},{\"attributes\":{},\"id\":\"13116\",\"type\":\"Title\"},{\"attributes\":{},\"id\":\"12617\",\"type\":\"DataRange1d\"},{\"attributes\":{},\"id\":\"12619\",\"type\":\"DataRange1d\"},{\"attributes\":{\"formatter\":{\"id\":\"13120\"},\"major_label_policy\":{\"id\":\"13121\"},\"ticker\":{\"id\":\"12630\"}},\"id\":\"12629\",\"type\":\"LinearAxis\"},{\"attributes\":{\"formatter\":{\"id\":\"13117\"},\"major_label_policy\":{\"id\":\"13118\"},\"ticker\":{\"id\":\"12626\"}},\"id\":\"12625\",\"type\":\"LinearAxis\"},{\"attributes\":{},\"id\":\"12623\",\"type\":\"LinearScale\"},{\"attributes\":{},\"id\":\"12621\",\"type\":\"LinearScale\"},{\"attributes\":{},\"id\":\"13124\",\"type\":\"UnionRenderers\"},{\"attributes\":{},\"id\":\"12638\",\"type\":\"HelpTool\"},{\"attributes\":{},\"id\":\"12626\",\"type\":\"BasicTicker\"},{\"attributes\":{\"active_multi\":null,\"tools\":[{\"id\":\"12633\"},{\"id\":\"12634\"},{\"id\":\"12635\"},{\"id\":\"12636\"},{\"id\":\"12637\"},{\"id\":\"12638\"}]},\"id\":\"12640\",\"type\":\"Toolbar\"},{\"attributes\":{\"axis\":{\"id\":\"12625\"},\"ticker\":null},\"id\":\"12628\",\"type\":\"Grid\"},{\"attributes\":{},\"id\":\"13125\",\"type\":\"Selection\"},{\"attributes\":{\"axis\":{\"id\":\"12629\"},\"dimension\":1,\"ticker\":null},\"id\":\"12632\",\"type\":\"Grid\"},{\"attributes\":{\"source\":{\"id\":\"12647\"}},\"id\":\"12651\",\"type\":\"CDSView\"},{\"attributes\":{},\"id\":\"12630\",\"type\":\"BasicTicker\"},{\"attributes\":{\"line_alpha\":0.1,\"line_color\":\"red\",\"line_width\":2,\"x\":{\"field\":\"x\"},\"y\":{\"field\":\"y\"}},\"id\":\"12649\",\"type\":\"Step\"},{\"attributes\":{\"line_color\":\"red\",\"line_width\":2,\"x\":{\"field\":\"x\"},\"y\":{\"field\":\"y\"}},\"id\":\"12648\",\"type\":\"Step\"},{\"attributes\":{\"data\":{\"x\":[1,2,3,4,5],\"y\":[5,4,6,7,3]},\"selected\":{\"id\":\"13127\"},\"selection_policy\":{\"id\":\"13126\"}},\"id\":\"12652\",\"type\":\"ColumnDataSource\"},{\"attributes\":{\"data\":{\"x\":[1,2,3,4,5],\"y\":[5,4,6,7,3]},\"selected\":{\"id\":\"13125\"},\"selection_policy\":{\"id\":\"13124\"}},\"id\":\"12647\",\"type\":\"ColumnDataSource\"},{\"attributes\":{},\"id\":\"12634\",\"type\":\"WheelZoomTool\"},{\"attributes\":{},\"id\":\"12633\",\"type\":\"PanTool\"},{\"attributes\":{\"data_source\":{\"id\":\"12647\"},\"glyph\":{\"id\":\"12648\"},\"hover_glyph\":null,\"muted_glyph\":null,\"nonselection_glyph\":{\"id\":\"12649\"},\"view\":{\"id\":\"12651\"}},\"id\":\"12650\",\"type\":\"GlyphRenderer\"},{\"attributes\":{\"overlay\":{\"id\":\"12639\"}},\"id\":\"12635\",\"type\":\"BoxZoomTool\"},{\"attributes\":{\"source\":{\"id\":\"12657\"}},\"id\":\"12661\",\"type\":\"CDSView\"},{\"attributes\":{},\"id\":\"12636\",\"type\":\"SaveTool\"},{\"attributes\":{},\"id\":\"13126\",\"type\":\"UnionRenderers\"},{\"attributes\":{},\"id\":\"12637\",\"type\":\"ResetTool\"},{\"attributes\":{\"line_alpha\":0.1,\"line_color\":\"blue\",\"line_width\":2,\"mode\":\"center\",\"x\":{\"field\":\"x\"},\"y\":{\"field\":\"y\"}},\"id\":\"12654\",\"type\":\"Step\"},{\"attributes\":{\"line_color\":\"blue\",\"line_width\":2,\"mode\":\"center\",\"x\":{\"field\":\"x\"},\"y\":{\"field\":\"y\"}},\"id\":\"12653\",\"type\":\"Step\"},{\"attributes\":{},\"id\":\"13127\",\"type\":\"Selection\"},{\"attributes\":{\"data\":{\"x\":[1,2,3,4,5],\"y\":[5,4,6,7,3]},\"selected\":{\"id\":\"13129\"},\"selection_policy\":{\"id\":\"13128\"}},\"id\":\"12657\",\"type\":\"ColumnDataSource\"},{\"attributes\":{\"line_width\":2,\"mode\":\"after\",\"x\":{\"field\":\"x\"},\"y\":{\"field\":\"y\"}},\"id\":\"12658\",\"type\":\"Step\"},{\"attributes\":{},\"id\":\"13120\",\"type\":\"BasicTickFormatter\"},{\"attributes\":{\"bottom_units\":\"screen\",\"fill_alpha\":0.5,\"fill_color\":\"lightgrey\",\"left_units\":\"screen\",\"level\":\"overlay\",\"line_alpha\":1.0,\"line_color\":\"black\",\"line_dash\":[4,4],\"line_width\":2,\"right_units\":\"screen\",\"syncable\":false,\"top_units\":\"screen\"},\"id\":\"12639\",\"type\":\"BoxAnnotation\"},{\"attributes\":{\"data_source\":{\"id\":\"12652\"},\"glyph\":{\"id\":\"12653\"},\"hover_glyph\":null,\"muted_glyph\":null,\"nonselection_glyph\":{\"id\":\"12654\"},\"view\":{\"id\":\"12656\"}},\"id\":\"12655\",\"type\":\"GlyphRenderer\"},{\"attributes\":{\"source\":{\"id\":\"12652\"}},\"id\":\"12656\",\"type\":\"CDSView\"},{\"attributes\":{},\"id\":\"13121\",\"type\":\"AllLabels\"},{\"attributes\":{\"line_alpha\":0.1,\"line_width\":2,\"mode\":\"after\",\"x\":{\"field\":\"x\"},\"y\":{\"field\":\"y\"}},\"id\":\"12659\",\"type\":\"Step\"},{\"attributes\":{\"data_source\":{\"id\":\"12657\"},\"glyph\":{\"id\":\"12658\"},\"hover_glyph\":null,\"muted_glyph\":null,\"nonselection_glyph\":{\"id\":\"12659\"},\"view\":{\"id\":\"12661\"}},\"id\":\"12660\",\"type\":\"GlyphRenderer\"}],\"root_ids\":[\"12616\"]},\"title\":\"Bokeh Application\",\"version\":\"2.3.2\"}};\n",
       "  var render_items = [{\"docid\":\"7d497987-1f07-45c6-9872-12af0074be71\",\"root_ids\":[\"12616\"],\"roots\":{\"12616\":\"ee1da9f7-673b-4b2a-aa32-813247c98f1d\"}}];\n",
       "  root.Bokeh.embed.embed_items_notebook(docs_json, render_items);\n",
       "\n",
       "  }\n",
       "  if (root.Bokeh !== undefined) {\n",
       "    embed_document(root);\n",
       "  } else {\n",
       "    var attempts = 0;\n",
       "    var timer = setInterval(function(root) {\n",
       "      if (root.Bokeh !== undefined) {\n",
       "        clearInterval(timer);\n",
       "        embed_document(root);\n",
       "      } else {\n",
       "        attempts++;\n",
       "        if (attempts > 100) {\n",
       "          clearInterval(timer);\n",
       "          console.log(\"Bokeh: ERROR: Unable to run BokehJS code because BokehJS library is missing\");\n",
       "        }\n",
       "      }\n",
       "    }, 10, root)\n",
       "  }\n",
       "})(window);"
      ],
      "application/vnd.bokehjs_exec.v0+json": ""
     },
     "metadata": {
      "application/vnd.bokehjs_exec.v0+json": {
       "id": "12616"
      }
     },
     "output_type": "display_data"
    }
   ],
   "source": [
    "p = figure( plot_height=400, plot_width= 400)\n",
    "p.step([1,2,3,4,5], [5,4,6,7,3], line_width=2, mode='before', color= 'red')\n",
    "p.step([1,2,3,4,5], [5,4,6,7,3], line_width=2, mode='center', color= 'blue')\n",
    "p.step([1,2,3,4,5], [5,4,6,7,3], line_width=2, mode='after', color= 'black')\n",
    "\n",
    "show(p)"
   ]
  },
  {
   "cell_type": "markdown",
   "metadata": {
    "id": "kEaPSGPE8ma6"
   },
   "source": [
    "### 다중 라인(Multiple Lines)"
   ]
  },
  {
   "cell_type": "code",
   "execution_count": 59,
   "metadata": {
    "id": "g-SEphmK8qdA"
   },
   "outputs": [
    {
     "data": {
      "text/html": [
       "\n",
       "\n",
       "\n",
       "\n",
       "\n",
       "\n",
       "  <div class=\"bk-root\" id=\"f19ea36f-b664-4300-ab4d-ad6ca3651227\" data-root-id=\"13808\"></div>\n"
      ]
     },
     "metadata": {},
     "output_type": "display_data"
    },
    {
     "data": {
      "application/javascript": [
       "(function(root) {\n",
       "  function embed_document(root) {\n",
       "    \n",
       "  var docs_json = {\"7cbc15be-5518-4f69-8d14-0cd2c404f9bf\":{\"defs\":[],\"roots\":{\"references\":[{\"attributes\":{\"below\":[{\"id\":\"13817\"}],\"center\":[{\"id\":\"13820\"},{\"id\":\"13824\"}],\"height\":400,\"left\":[{\"id\":\"13821\"}],\"renderers\":[{\"id\":\"13842\"}],\"title\":{\"id\":\"14324\"},\"toolbar\":{\"id\":\"13832\"},\"width\":400,\"x_range\":{\"id\":\"13809\"},\"x_scale\":{\"id\":\"13813\"},\"y_range\":{\"id\":\"13811\"},\"y_scale\":{\"id\":\"13815\"}},\"id\":\"13808\",\"subtype\":\"Figure\",\"type\":\"Plot\"},{\"attributes\":{\"data\":{\"line_alpha\":[0.5,0.5],\"line_color\":[\"black\",\"pink\"],\"line_width\":[2,3],\"xs\":[{\"__ndarray__\":\"AAAAAAEAAAACAAAAAwAAAAQAAAAFAAAABgAAAAcAAAAIAAAACQAAAA==\",\"dtype\":\"int32\",\"order\":\"little\",\"shape\":[10]},{\"__ndarray__\":\"AAAAAAEAAAACAAAAAwAAAAQAAAAFAAAABgAAAAcAAAAIAAAACQAAAA==\",\"dtype\":\"int32\",\"order\":\"little\",\"shape\":[10]}],\"ys\":[{\"__ndarray__\":\"wnKpie6g0j+wMsFIaKeivxlpRfD6yKm/CuOjp1Et3L++o2piuqnUP/sG3h8gquM/gA7ewUe7A0Bke18YAcULQJzpd/6x6gBAgA+dpMs5AUA=\",\"dtype\":\"float64\",\"order\":\"little\",\"shape\":[10]},{\"__ndarray__\":\"G9vB2QFT3z+o9BBZ/ju+P9sd0bXMROc/EBXoOx2tur9WcQLbjljwv5Qg/6Sh/wLAdj1BN4j3C8Aui76HdoELwJbdiXTRnQXAJwMQXhthEMA=\",\"dtype\":\"float64\",\"order\":\"little\",\"shape\":[10]}]},\"selected\":{\"id\":\"14333\"},\"selection_policy\":{\"id\":\"14332\"}},\"id\":\"13839\",\"type\":\"ColumnDataSource\"},{\"attributes\":{\"line_alpha\":{\"field\":\"line_alpha\"},\"line_color\":{\"field\":\"line_color\"},\"line_width\":{\"field\":\"line_width\"},\"xs\":{\"field\":\"xs\"},\"ys\":{\"field\":\"ys\"}},\"id\":\"13840\",\"type\":\"MultiLine\"},{\"attributes\":{\"active_multi\":null,\"tools\":[{\"id\":\"13825\"},{\"id\":\"13826\"},{\"id\":\"13827\"},{\"id\":\"13828\"},{\"id\":\"13829\"},{\"id\":\"13830\"}]},\"id\":\"13832\",\"type\":\"Toolbar\"},{\"attributes\":{\"line_alpha\":{\"value\":0.1},\"line_color\":{\"field\":\"line_color\"},\"line_width\":{\"field\":\"line_width\"},\"xs\":{\"field\":\"xs\"},\"ys\":{\"field\":\"ys\"}},\"id\":\"13841\",\"type\":\"MultiLine\"},{\"attributes\":{},\"id\":\"13828\",\"type\":\"SaveTool\"},{\"attributes\":{},\"id\":\"13818\",\"type\":\"BasicTicker\"},{\"attributes\":{},\"id\":\"14326\",\"type\":\"AllLabels\"},{\"attributes\":{},\"id\":\"14328\",\"type\":\"BasicTickFormatter\"},{\"attributes\":{\"axis\":{\"id\":\"13817\"},\"ticker\":null},\"id\":\"13820\",\"type\":\"Grid\"},{\"attributes\":{},\"id\":\"14325\",\"type\":\"BasicTickFormatter\"},{\"attributes\":{},\"id\":\"13830\",\"type\":\"HelpTool\"},{\"attributes\":{\"formatter\":{\"id\":\"14328\"},\"major_label_policy\":{\"id\":\"14329\"},\"ticker\":{\"id\":\"13822\"}},\"id\":\"13821\",\"type\":\"LinearAxis\"},{\"attributes\":{\"bottom_units\":\"screen\",\"fill_alpha\":0.5,\"fill_color\":\"lightgrey\",\"left_units\":\"screen\",\"level\":\"overlay\",\"line_alpha\":1.0,\"line_color\":\"black\",\"line_dash\":[4,4],\"line_width\":2,\"right_units\":\"screen\",\"syncable\":false,\"top_units\":\"screen\"},\"id\":\"13831\",\"type\":\"BoxAnnotation\"},{\"attributes\":{},\"id\":\"13813\",\"type\":\"LinearScale\"},{\"attributes\":{\"formatter\":{\"id\":\"14325\"},\"major_label_policy\":{\"id\":\"14326\"},\"ticker\":{\"id\":\"13818\"}},\"id\":\"13817\",\"type\":\"LinearAxis\"},{\"attributes\":{},\"id\":\"14329\",\"type\":\"AllLabels\"},{\"attributes\":{\"overlay\":{\"id\":\"13831\"}},\"id\":\"13827\",\"type\":\"BoxZoomTool\"},{\"attributes\":{\"axis\":{\"id\":\"13821\"},\"dimension\":1,\"ticker\":null},\"id\":\"13824\",\"type\":\"Grid\"},{\"attributes\":{},\"id\":\"14324\",\"type\":\"Title\"},{\"attributes\":{},\"id\":\"13811\",\"type\":\"DataRange1d\"},{\"attributes\":{},\"id\":\"13809\",\"type\":\"DataRange1d\"},{\"attributes\":{},\"id\":\"13825\",\"type\":\"PanTool\"},{\"attributes\":{},\"id\":\"13822\",\"type\":\"BasicTicker\"},{\"attributes\":{\"data_source\":{\"id\":\"13839\"},\"glyph\":{\"id\":\"13840\"},\"hover_glyph\":null,\"muted_glyph\":null,\"nonselection_glyph\":{\"id\":\"13841\"},\"view\":{\"id\":\"13843\"}},\"id\":\"13842\",\"type\":\"GlyphRenderer\"},{\"attributes\":{},\"id\":\"13829\",\"type\":\"ResetTool\"},{\"attributes\":{},\"id\":\"13815\",\"type\":\"LinearScale\"},{\"attributes\":{},\"id\":\"14333\",\"type\":\"Selection\"},{\"attributes\":{},\"id\":\"14332\",\"type\":\"UnionRenderers\"},{\"attributes\":{\"source\":{\"id\":\"13839\"}},\"id\":\"13843\",\"type\":\"CDSView\"},{\"attributes\":{},\"id\":\"13826\",\"type\":\"WheelZoomTool\"}],\"root_ids\":[\"13808\"]},\"title\":\"Bokeh Application\",\"version\":\"2.3.2\"}};\n",
       "  var render_items = [{\"docid\":\"7cbc15be-5518-4f69-8d14-0cd2c404f9bf\",\"root_ids\":[\"13808\"],\"roots\":{\"13808\":\"f19ea36f-b664-4300-ab4d-ad6ca3651227\"}}];\n",
       "  root.Bokeh.embed.embed_items_notebook(docs_json, render_items);\n",
       "\n",
       "  }\n",
       "  if (root.Bokeh !== undefined) {\n",
       "    embed_document(root);\n",
       "  } else {\n",
       "    var attempts = 0;\n",
       "    var timer = setInterval(function(root) {\n",
       "      if (root.Bokeh !== undefined) {\n",
       "        clearInterval(timer);\n",
       "        embed_document(root);\n",
       "      } else {\n",
       "        attempts++;\n",
       "        if (attempts > 100) {\n",
       "          clearInterval(timer);\n",
       "          console.log(\"Bokeh: ERROR: Unable to run BokehJS code because BokehJS library is missing\");\n",
       "        }\n",
       "      }\n",
       "    }, 10, root)\n",
       "  }\n",
       "})(window);"
      ],
      "application/vnd.bokehjs_exec.v0+json": ""
     },
     "metadata": {
      "application/vnd.bokehjs_exec.v0+json": {
       "id": "13808"
      }
     },
     "output_type": "display_data"
    }
   ],
   "source": [
    "p = figure( plot_height=400, plot_width= 400)\n",
    "\n",
    "p.multi_line(xs = [np.arange(10), np.arange(10)], \n",
    "             ys= [np.random.randn(10).cumsum(), np.random.randn(10).cumsum()], \n",
    "             line_width=[2,3], \n",
    "             color= ['black','pink'],\n",
    "            alpha= [0.5,0.5])\n",
    "\n",
    "show(p)"
   ]
  },
  {
   "cell_type": "markdown",
   "metadata": {
    "id": "E-gFXDoiBgUY"
   },
   "source": [
    "### 스텍 라인(Stacked Lines)"
   ]
  },
  {
   "cell_type": "code",
   "execution_count": 60,
   "metadata": {
    "id": "w44gSJm0Bjum"
   },
   "outputs": [
    {
     "data": {
      "text/html": [
       "\n",
       "\n",
       "\n",
       "\n",
       "\n",
       "\n",
       "  <div class=\"bk-root\" id=\"6ce01d03-841e-49ca-9e8d-8af902ce7f67\" data-root-id=\"14390\"></div>\n"
      ]
     },
     "metadata": {},
     "output_type": "display_data"
    },
    {
     "data": {
      "application/javascript": [
       "(function(root) {\n",
       "  function embed_document(root) {\n",
       "    \n",
       "  var docs_json = {\"5c5ed8d7-7e7f-42db-9892-5bfae5128330\":{\"defs\":[],\"roots\":{\"references\":[{\"attributes\":{\"below\":[{\"id\":\"14399\"}],\"center\":[{\"id\":\"14402\"},{\"id\":\"14406\"}],\"height\":400,\"left\":[{\"id\":\"14403\"}],\"renderers\":[{\"id\":\"14426\"},{\"id\":\"14431\"}],\"title\":{\"id\":\"14924\"},\"toolbar\":{\"id\":\"14414\"},\"width\":400,\"x_range\":{\"id\":\"14391\"},\"x_scale\":{\"id\":\"14395\"},\"y_range\":{\"id\":\"14393\"},\"y_scale\":{\"id\":\"14397\"}},\"id\":\"14390\",\"subtype\":\"Figure\",\"type\":\"Plot\"},{\"attributes\":{\"axis\":{\"id\":\"14403\"},\"dimension\":1,\"ticker\":null},\"id\":\"14406\",\"type\":\"Grid\"},{\"attributes\":{\"fields\":[\"y1\",\"y2\"]},\"id\":\"14422\",\"type\":\"Stack\"},{\"attributes\":{\"formatter\":{\"id\":\"14925\"},\"major_label_policy\":{\"id\":\"14926\"},\"ticker\":{\"id\":\"14400\"}},\"id\":\"14399\",\"type\":\"LinearAxis\"},{\"attributes\":{\"line_alpha\":0.1,\"line_color\":\"#1f77b4\",\"x\":{\"field\":\"x\"},\"y\":{\"expr\":{\"id\":\"14421\"}}},\"id\":\"14425\",\"type\":\"Line\"},{\"attributes\":{\"line_color\":\"#1f77b4\",\"x\":{\"field\":\"x\"},\"y\":{\"expr\":{\"id\":\"14421\"}}},\"id\":\"14424\",\"type\":\"Line\"},{\"attributes\":{},\"id\":\"14393\",\"type\":\"DataRange1d\"},{\"attributes\":{\"data_source\":{\"id\":\"14389\"},\"glyph\":{\"id\":\"14424\"},\"hover_glyph\":null,\"muted_glyph\":null,\"name\":\"y1\",\"nonselection_glyph\":{\"id\":\"14425\"},\"view\":{\"id\":\"14427\"}},\"id\":\"14426\",\"type\":\"GlyphRenderer\"},{\"attributes\":{\"line_alpha\":0.1,\"line_color\":\"#1f77b4\",\"x\":{\"field\":\"x\"},\"y\":{\"expr\":{\"id\":\"14422\"}}},\"id\":\"14430\",\"type\":\"Line\"},{\"attributes\":{},\"id\":\"14397\",\"type\":\"LinearScale\"},{\"attributes\":{\"source\":{\"id\":\"14389\"}},\"id\":\"14427\",\"type\":\"CDSView\"},{\"attributes\":{\"data_source\":{\"id\":\"14389\"},\"glyph\":{\"id\":\"14429\"},\"hover_glyph\":null,\"muted_glyph\":null,\"name\":\"y2\",\"nonselection_glyph\":{\"id\":\"14430\"},\"view\":{\"id\":\"14432\"}},\"id\":\"14431\",\"type\":\"GlyphRenderer\"},{\"attributes\":{},\"id\":\"14928\",\"type\":\"BasicTickFormatter\"},{\"attributes\":{\"line_color\":\"#1f77b4\",\"x\":{\"field\":\"x\"},\"y\":{\"expr\":{\"id\":\"14422\"}}},\"id\":\"14429\",\"type\":\"Line\"},{\"attributes\":{},\"id\":\"14395\",\"type\":\"LinearScale\"},{\"attributes\":{},\"id\":\"14400\",\"type\":\"BasicTicker\"},{\"attributes\":{},\"id\":\"14929\",\"type\":\"AllLabels\"},{\"attributes\":{\"fields\":[\"y1\"]},\"id\":\"14421\",\"type\":\"Stack\"},{\"attributes\":{},\"id\":\"14412\",\"type\":\"HelpTool\"},{\"attributes\":{\"source\":{\"id\":\"14389\"}},\"id\":\"14432\",\"type\":\"CDSView\"},{\"attributes\":{},\"id\":\"14408\",\"type\":\"WheelZoomTool\"},{\"attributes\":{\"overlay\":{\"id\":\"14413\"}},\"id\":\"14409\",\"type\":\"BoxZoomTool\"},{\"attributes\":{\"bottom_units\":\"screen\",\"fill_alpha\":0.5,\"fill_color\":\"lightgrey\",\"left_units\":\"screen\",\"level\":\"overlay\",\"line_alpha\":1.0,\"line_color\":\"black\",\"line_dash\":[4,4],\"line_width\":2,\"right_units\":\"screen\",\"syncable\":false,\"top_units\":\"screen\"},\"id\":\"14413\",\"type\":\"BoxAnnotation\"},{\"attributes\":{},\"id\":\"14925\",\"type\":\"BasicTickFormatter\"},{\"attributes\":{},\"id\":\"14926\",\"type\":\"AllLabels\"},{\"attributes\":{\"data\":{\"x\":{\"__ndarray__\":\"AAAAAAEAAAACAAAAAwAAAAQAAAAFAAAABgAAAAcAAAAIAAAACQAAAAoAAAALAAAADAAAAA0AAAAOAAAADwAAABAAAAARAAAAEgAAABMAAAAUAAAAFQAAABYAAAAXAAAAGAAAABkAAAAaAAAAGwAAABwAAAAdAAAAHgAAAB8AAAAgAAAAIQAAACIAAAAjAAAAJAAAACUAAAAmAAAAJwAAACgAAAApAAAAKgAAACsAAAAsAAAALQAAAC4AAAAvAAAAMAAAADEAAAA=\",\"dtype\":\"int32\",\"order\":\"little\",\"shape\":[50]},\"y1\":{\"__ndarray__\":\"87JQpczv7D9rpQe7m5oDQLPox6soIgJAiqlwH5ef9T+k0/RvLN7vP0OlVgfaRQJAyKYWon8K8z+QvccWx2wDQIBNrhQg3wdAYVOb06lwAEBElxGMUT/2P84gIp9Md+c/qHTyPp2Z/z8ifEMTIEPzP90TAk81oAFARO0GOduZ/j8mECXdYrfqP15DEjsux/M/koK8hosa7z9gpt5ktQ7lP9S1YHZ+zMM/EGWVuzF9+b/uLlhNIv/3v5THs4cyTQjAJ8hoGg2o878uCjaWwJj3vxaLnXUxR/+/xnb7aOVN9b8iAlZMQ9j2vxC/h/ToGfS/VcAn2+J167/jiemosBzxv07QJ4h1Ou8/Bzh4THfS/j/MZVASfo7RP3SK3NXH8/k/MxgAclHNAEAyTJKNQhP7P8yUX3D9W90/DKo6IIxh9j/0QSmEBeL8P8zpHcPdqvs/MJbECIyAEEAk20XKZYwRQI2zBixUDRNAQhLZOKabF0CXcOWou9kYQNvBjRQM7B1ADk9gKVR9IEBQe14BsGQgQA==\",\"dtype\":\"float64\",\"order\":\"little\",\"shape\":[50]},\"y2\":{\"__ndarray__\":\"sM5IE5oQ9b9Iehob2UnTP2inP0NZDug/FsqWlkDlBECt8DTJ7GULQF2MB+3a2hBA5Ym2Uh4EGUAbIZWemzAgQGLF3TTj6iBAkhg9smAfJkBqCbsZbXwjQFInYhlhMiBA1HhP/V/1HkDgeqGtDxUbQCjUZqJg8hhAFK6IfWJhF0AtXcQxgAEaQLJtAqI+zBxARg1yVitBFEDUPsmXXiQaQD4xY4suAx1AmKlzHp2gIkB4TfN18XMhQNjNKVznXiNAhHvd3QjAIEDSMuad6MIjQILzaDtYHiFAeysXR0cvIUAPRAkrYZ0iQHO1clQJciJASKK183jgHkB8jy0CvlkaQMJPwCF7TRRAyDZG+uuFDkCEoJrQ63UYQL9ogNVzQBZAuiJx4Xc7HUAtSXxDGhwhQJ97ZjUAGCJAfj6EYi/GIEA9m93F1TUhQCh8jk8SySFA0zFbmppLJUBWppTPngAkQK8WZiQQuyFA47z5sIRoI0DOTQ01rwEjQJIaYnwbsSFAnfHLnlT/I0DqtBIO0vElQA==\",\"dtype\":\"float64\",\"order\":\"little\",\"shape\":[50]}},\"selected\":{\"id\":\"14933\"},\"selection_policy\":{\"id\":\"14932\"}},\"id\":\"14389\",\"type\":\"ColumnDataSource\"},{\"attributes\":{},\"id\":\"14391\",\"type\":\"DataRange1d\"},{\"attributes\":{},\"id\":\"14404\",\"type\":\"BasicTicker\"},{\"attributes\":{\"formatter\":{\"id\":\"14928\"},\"major_label_policy\":{\"id\":\"14929\"},\"ticker\":{\"id\":\"14404\"}},\"id\":\"14403\",\"type\":\"LinearAxis\"},{\"attributes\":{},\"id\":\"14924\",\"type\":\"Title\"},{\"attributes\":{},\"id\":\"14932\",\"type\":\"UnionRenderers\"},{\"attributes\":{},\"id\":\"14411\",\"type\":\"ResetTool\"},{\"attributes\":{},\"id\":\"14407\",\"type\":\"PanTool\"},{\"attributes\":{\"active_multi\":null,\"tools\":[{\"id\":\"14407\"},{\"id\":\"14408\"},{\"id\":\"14409\"},{\"id\":\"14410\"},{\"id\":\"14411\"},{\"id\":\"14412\"}]},\"id\":\"14414\",\"type\":\"Toolbar\"},{\"attributes\":{},\"id\":\"14933\",\"type\":\"Selection\"},{\"attributes\":{},\"id\":\"14410\",\"type\":\"SaveTool\"},{\"attributes\":{\"axis\":{\"id\":\"14399\"},\"ticker\":null},\"id\":\"14402\",\"type\":\"Grid\"}],\"root_ids\":[\"14390\"]},\"title\":\"Bokeh Application\",\"version\":\"2.3.2\"}};\n",
       "  var render_items = [{\"docid\":\"5c5ed8d7-7e7f-42db-9892-5bfae5128330\",\"root_ids\":[\"14390\"],\"roots\":{\"14390\":\"6ce01d03-841e-49ca-9e8d-8af902ce7f67\"}}];\n",
       "  root.Bokeh.embed.embed_items_notebook(docs_json, render_items);\n",
       "\n",
       "  }\n",
       "  if (root.Bokeh !== undefined) {\n",
       "    embed_document(root);\n",
       "  } else {\n",
       "    var attempts = 0;\n",
       "    var timer = setInterval(function(root) {\n",
       "      if (root.Bokeh !== undefined) {\n",
       "        clearInterval(timer);\n",
       "        embed_document(root);\n",
       "      } else {\n",
       "        attempts++;\n",
       "        if (attempts > 100) {\n",
       "          clearInterval(timer);\n",
       "          console.log(\"Bokeh: ERROR: Unable to run BokehJS code because BokehJS library is missing\");\n",
       "        }\n",
       "      }\n",
       "    }, 10, root)\n",
       "  }\n",
       "})(window);"
      ],
      "application/vnd.bokehjs_exec.v0+json": ""
     },
     "metadata": {
      "application/vnd.bokehjs_exec.v0+json": {
       "id": "14390"
      }
     },
     "output_type": "display_data"
    }
   ],
   "source": [
    "from bokeh.models import ColumnDataSource\n",
    "# 데이터의 처리를 원활이 만들어 줍니다. \n",
    "source = ColumnDataSource(data= dict(\n",
    "    x = np.arange(50),\n",
    "    y1= np.random.randn(50).cumsum(), \n",
    "    y2= np.random.randn(50).cumsum()\n",
    "))\n",
    "\n",
    "p = figure(plot_height=400, plot_width= 400)\n",
    "\n",
    "p.vline_stack(['y1', 'y2'], x='x', source=source)\n",
    "\n",
    "show(p)"
   ]
  },
  {
   "cell_type": "markdown",
   "metadata": {
    "id": "mvk7wLZADucj"
   },
   "source": [
    "## 막대와 사각형(Bar & Rectangle)"
   ]
  },
  {
   "cell_type": "code",
   "execution_count": 65,
   "metadata": {
    "id": "t_jjRyNMD9WA"
   },
   "outputs": [
    {
     "data": {
      "text/html": [
       "\n",
       "\n",
       "\n",
       "\n",
       "\n",
       "\n",
       "  <div class=\"bk-root\" id=\"4b631667-16d9-4900-9a06-ea33e08e6385\" data-root-id=\"17467\"></div>\n"
      ]
     },
     "metadata": {},
     "output_type": "display_data"
    },
    {
     "data": {
      "application/javascript": [
       "(function(root) {\n",
       "  function embed_document(root) {\n",
       "    \n",
       "  var docs_json = {\"5ea38061-5b35-4777-a1ef-a51f5e3bab05\":{\"defs\":[],\"roots\":{\"references\":[{\"attributes\":{\"below\":[{\"id\":\"17476\"}],\"center\":[{\"id\":\"17479\"},{\"id\":\"17483\"}],\"height\":400,\"left\":[{\"id\":\"17480\"}],\"renderers\":[{\"id\":\"17501\"}],\"title\":{\"id\":\"18049\"},\"toolbar\":{\"id\":\"17491\"},\"width\":400,\"x_range\":{\"id\":\"17468\"},\"x_scale\":{\"id\":\"17472\"},\"y_range\":{\"id\":\"17470\"},\"y_scale\":{\"id\":\"17474\"}},\"id\":\"17467\",\"subtype\":\"Figure\",\"type\":\"Plot\"},{\"attributes\":{},\"id\":\"18054\",\"type\":\"AllLabels\"},{\"attributes\":{\"source\":{\"id\":\"17498\"}},\"id\":\"17502\",\"type\":\"CDSView\"},{\"attributes\":{\"data_source\":{\"id\":\"17498\"},\"glyph\":{\"id\":\"17499\"},\"hover_glyph\":null,\"muted_glyph\":null,\"nonselection_glyph\":{\"id\":\"17500\"},\"view\":{\"id\":\"17502\"}},\"id\":\"17501\",\"type\":\"GlyphRenderer\"},{\"attributes\":{},\"id\":\"18050\",\"type\":\"BasicTickFormatter\"},{\"attributes\":{\"bottom\":{\"value\":1},\"fill_alpha\":{\"value\":0.1},\"fill_color\":{\"value\":\"royalblue\"},\"line_alpha\":{\"value\":0.1},\"line_color\":{\"value\":\"royalblue\"},\"top\":{\"field\":\"top\"},\"width\":{\"value\":0.5},\"x\":{\"field\":\"x\"}},\"id\":\"17500\",\"type\":\"VBar\"},{\"attributes\":{},\"id\":\"18051\",\"type\":\"AllLabels\"},{\"attributes\":{},\"id\":\"18049\",\"type\":\"Title\"},{\"attributes\":{},\"id\":\"18057\",\"type\":\"UnionRenderers\"},{\"attributes\":{},\"id\":\"17468\",\"type\":\"DataRange1d\"},{\"attributes\":{},\"id\":\"18058\",\"type\":\"Selection\"},{\"attributes\":{},\"id\":\"17470\",\"type\":\"DataRange1d\"},{\"attributes\":{\"formatter\":{\"id\":\"18053\"},\"major_label_policy\":{\"id\":\"18054\"},\"ticker\":{\"id\":\"17481\"}},\"id\":\"17480\",\"type\":\"LinearAxis\"},{\"attributes\":{\"formatter\":{\"id\":\"18050\"},\"major_label_policy\":{\"id\":\"18051\"},\"ticker\":{\"id\":\"17477\"}},\"id\":\"17476\",\"type\":\"LinearAxis\"},{\"attributes\":{\"axis\":{\"id\":\"17476\"},\"ticker\":null},\"id\":\"17479\",\"type\":\"Grid\"},{\"attributes\":{},\"id\":\"17474\",\"type\":\"LinearScale\"},{\"attributes\":{},\"id\":\"17472\",\"type\":\"LinearScale\"},{\"attributes\":{\"bottom_units\":\"screen\",\"fill_alpha\":0.5,\"fill_color\":\"lightgrey\",\"left_units\":\"screen\",\"level\":\"overlay\",\"line_alpha\":1.0,\"line_color\":\"black\",\"line_dash\":[4,4],\"line_width\":2,\"right_units\":\"screen\",\"syncable\":false,\"top_units\":\"screen\"},\"id\":\"17490\",\"type\":\"BoxAnnotation\"},{\"attributes\":{},\"id\":\"17489\",\"type\":\"HelpTool\"},{\"attributes\":{},\"id\":\"17477\",\"type\":\"BasicTicker\"},{\"attributes\":{\"axis\":{\"id\":\"17480\"},\"dimension\":1,\"ticker\":null},\"id\":\"17483\",\"type\":\"Grid\"},{\"attributes\":{\"data\":{\"top\":[1.2,2.1,3.3,2.9,1.8],\"x\":[1,2,3,4,5]},\"selected\":{\"id\":\"18058\"},\"selection_policy\":{\"id\":\"18057\"}},\"id\":\"17498\",\"type\":\"ColumnDataSource\"},{\"attributes\":{},\"id\":\"17481\",\"type\":\"BasicTicker\"},{\"attributes\":{},\"id\":\"17484\",\"type\":\"PanTool\"},{\"attributes\":{\"bottom\":{\"value\":1},\"fill_color\":{\"value\":\"royalblue\"},\"line_color\":{\"value\":\"royalblue\"},\"top\":{\"field\":\"top\"},\"width\":{\"value\":0.5},\"x\":{\"field\":\"x\"}},\"id\":\"17499\",\"type\":\"VBar\"},{\"attributes\":{\"active_multi\":null,\"tools\":[{\"id\":\"17484\"},{\"id\":\"17485\"},{\"id\":\"17486\"},{\"id\":\"17487\"},{\"id\":\"17488\"},{\"id\":\"17489\"}]},\"id\":\"17491\",\"type\":\"Toolbar\"},{\"attributes\":{},\"id\":\"17485\",\"type\":\"WheelZoomTool\"},{\"attributes\":{\"overlay\":{\"id\":\"17490\"}},\"id\":\"17486\",\"type\":\"BoxZoomTool\"},{\"attributes\":{},\"id\":\"17487\",\"type\":\"SaveTool\"},{\"attributes\":{},\"id\":\"18053\",\"type\":\"BasicTickFormatter\"},{\"attributes\":{},\"id\":\"17488\",\"type\":\"ResetTool\"}],\"root_ids\":[\"17467\"]},\"title\":\"Bokeh Application\",\"version\":\"2.3.2\"}};\n",
       "  var render_items = [{\"docid\":\"5ea38061-5b35-4777-a1ef-a51f5e3bab05\",\"root_ids\":[\"17467\"],\"roots\":{\"17467\":\"4b631667-16d9-4900-9a06-ea33e08e6385\"}}];\n",
       "  root.Bokeh.embed.embed_items_notebook(docs_json, render_items);\n",
       "\n",
       "  }\n",
       "  if (root.Bokeh !== undefined) {\n",
       "    embed_document(root);\n",
       "  } else {\n",
       "    var attempts = 0;\n",
       "    var timer = setInterval(function(root) {\n",
       "      if (root.Bokeh !== undefined) {\n",
       "        clearInterval(timer);\n",
       "        embed_document(root);\n",
       "      } else {\n",
       "        attempts++;\n",
       "        if (attempts > 100) {\n",
       "          clearInterval(timer);\n",
       "          console.log(\"Bokeh: ERROR: Unable to run BokehJS code because BokehJS library is missing\");\n",
       "        }\n",
       "      }\n",
       "    }, 10, root)\n",
       "  }\n",
       "})(window);"
      ],
      "application/vnd.bokehjs_exec.v0+json": ""
     },
     "metadata": {
      "application/vnd.bokehjs_exec.v0+json": {
       "id": "17467"
      }
     },
     "output_type": "display_data"
    }
   ],
   "source": [
    "p = figure(plot_height=400, plot_width= 400)\n",
    "\n",
    "# vertical var \n",
    "p.vbar(x=[1,2,3,4,5], width=0.5,\n",
    "       bottom=0,\n",
    "       top= [1.2, 2.1, 3.3, 2.9, 1.8],\n",
    "       color= 'royalblue',\n",
    "      )\n",
    "\n",
    "# bottom y축 시작 위치 ㅣ\n",
    "# top 데이터의 높이 \n",
    "# width 막대의 넓이 \n",
    "\n",
    "show(p)"
   ]
  },
  {
   "cell_type": "code",
   "execution_count": 71,
   "metadata": {
    "id": "Z2gHY7g_EL7a"
   },
   "outputs": [
    {
     "data": {
      "text/html": [
       "\n",
       "\n",
       "\n",
       "\n",
       "\n",
       "\n",
       "  <div class=\"bk-root\" id=\"3f930b56-7597-4357-90eb-9390f0e02a16\" data-root-id=\"20812\"></div>\n"
      ]
     },
     "metadata": {},
     "output_type": "display_data"
    },
    {
     "data": {
      "application/javascript": [
       "(function(root) {\n",
       "  function embed_document(root) {\n",
       "    \n",
       "  var docs_json = {\"70c51b96-75a5-4505-afaa-0205998aa661\":{\"defs\":[],\"roots\":{\"references\":[{\"attributes\":{\"below\":[{\"id\":\"20821\"}],\"center\":[{\"id\":\"20824\"},{\"id\":\"20828\"}],\"height\":400,\"left\":[{\"id\":\"20825\"}],\"renderers\":[{\"id\":\"20846\"}],\"title\":{\"id\":\"21449\"},\"toolbar\":{\"id\":\"20836\"},\"width\":400,\"x_range\":{\"id\":\"20813\"},\"x_scale\":{\"id\":\"20817\"},\"y_range\":{\"id\":\"20815\"},\"y_scale\":{\"id\":\"20819\"}},\"id\":\"20812\",\"subtype\":\"Figure\",\"type\":\"Plot\"},{\"attributes\":{},\"id\":\"21449\",\"type\":\"Title\"},{\"attributes\":{},\"id\":\"20817\",\"type\":\"LinearScale\"},{\"attributes\":{\"bottom_units\":\"screen\",\"fill_alpha\":0.5,\"fill_color\":\"lightgrey\",\"left_units\":\"screen\",\"level\":\"overlay\",\"line_alpha\":1.0,\"line_color\":\"black\",\"line_dash\":[4,4],\"line_width\":2,\"right_units\":\"screen\",\"syncable\":false,\"top_units\":\"screen\"},\"id\":\"20835\",\"type\":\"BoxAnnotation\"},{\"attributes\":{\"data\":{\"right\":[1.2,2.1,3.3,2.9,1.8],\"y\":[1,2,3,4,5]},\"selected\":{\"id\":\"21458\"},\"selection_policy\":{\"id\":\"21457\"}},\"id\":\"20843\",\"type\":\"ColumnDataSource\"},{\"attributes\":{\"formatter\":{\"id\":\"21453\"},\"major_label_policy\":{\"id\":\"21454\"},\"ticker\":{\"id\":\"20826\"}},\"id\":\"20825\",\"type\":\"LinearAxis\"},{\"attributes\":{},\"id\":\"20826\",\"type\":\"BasicTicker\"},{\"attributes\":{\"fill_alpha\":{\"value\":0.1},\"fill_color\":{\"value\":\"blue\"},\"height\":{\"value\":0.5},\"line_alpha\":{\"value\":0.1},\"line_color\":{\"value\":\"blue\"},\"right\":{\"field\":\"right\"},\"y\":{\"field\":\"y\"}},\"id\":\"20845\",\"type\":\"HBar\"},{\"attributes\":{},\"id\":\"20832\",\"type\":\"SaveTool\"},{\"attributes\":{\"active_multi\":null,\"tools\":[{\"id\":\"20829\"},{\"id\":\"20830\"},{\"id\":\"20831\"},{\"id\":\"20832\"},{\"id\":\"20833\"},{\"id\":\"20834\"}]},\"id\":\"20836\",\"type\":\"Toolbar\"},{\"attributes\":{},\"id\":\"21453\",\"type\":\"BasicTickFormatter\"},{\"attributes\":{\"source\":{\"id\":\"20843\"}},\"id\":\"20847\",\"type\":\"CDSView\"},{\"attributes\":{\"fill_color\":{\"value\":\"blue\"},\"height\":{\"value\":0.5},\"line_color\":{\"value\":\"blue\"},\"right\":{\"field\":\"right\"},\"y\":{\"field\":\"y\"}},\"id\":\"20844\",\"type\":\"HBar\"},{\"attributes\":{\"data_source\":{\"id\":\"20843\"},\"glyph\":{\"id\":\"20844\"},\"hover_glyph\":null,\"muted_glyph\":null,\"nonselection_glyph\":{\"id\":\"20845\"},\"view\":{\"id\":\"20847\"}},\"id\":\"20846\",\"type\":\"GlyphRenderer\"},{\"attributes\":{},\"id\":\"21454\",\"type\":\"AllLabels\"},{\"attributes\":{},\"id\":\"20833\",\"type\":\"ResetTool\"},{\"attributes\":{},\"id\":\"20813\",\"type\":\"DataRange1d\"},{\"attributes\":{\"formatter\":{\"id\":\"21450\"},\"major_label_policy\":{\"id\":\"21451\"},\"ticker\":{\"id\":\"20822\"}},\"id\":\"20821\",\"type\":\"LinearAxis\"},{\"attributes\":{\"axis\":{\"id\":\"20825\"},\"dimension\":1,\"ticker\":null},\"id\":\"20828\",\"type\":\"Grid\"},{\"attributes\":{},\"id\":\"20819\",\"type\":\"LinearScale\"},{\"attributes\":{\"axis\":{\"id\":\"20821\"},\"ticker\":null},\"id\":\"20824\",\"type\":\"Grid\"},{\"attributes\":{},\"id\":\"21450\",\"type\":\"BasicTickFormatter\"},{\"attributes\":{},\"id\":\"21451\",\"type\":\"AllLabels\"},{\"attributes\":{},\"id\":\"20822\",\"type\":\"BasicTicker\"},{\"attributes\":{},\"id\":\"21457\",\"type\":\"UnionRenderers\"},{\"attributes\":{},\"id\":\"21458\",\"type\":\"Selection\"},{\"attributes\":{},\"id\":\"20830\",\"type\":\"WheelZoomTool\"},{\"attributes\":{\"overlay\":{\"id\":\"20835\"}},\"id\":\"20831\",\"type\":\"BoxZoomTool\"},{\"attributes\":{},\"id\":\"20815\",\"type\":\"DataRange1d\"},{\"attributes\":{},\"id\":\"20829\",\"type\":\"PanTool\"},{\"attributes\":{},\"id\":\"20834\",\"type\":\"HelpTool\"}],\"root_ids\":[\"20812\"]},\"title\":\"Bokeh Application\",\"version\":\"2.3.2\"}};\n",
       "  var render_items = [{\"docid\":\"70c51b96-75a5-4505-afaa-0205998aa661\",\"root_ids\":[\"20812\"],\"roots\":{\"20812\":\"3f930b56-7597-4357-90eb-9390f0e02a16\"}}];\n",
       "  root.Bokeh.embed.embed_items_notebook(docs_json, render_items);\n",
       "\n",
       "  }\n",
       "  if (root.Bokeh !== undefined) {\n",
       "    embed_document(root);\n",
       "  } else {\n",
       "    var attempts = 0;\n",
       "    var timer = setInterval(function(root) {\n",
       "      if (root.Bokeh !== undefined) {\n",
       "        clearInterval(timer);\n",
       "        embed_document(root);\n",
       "      } else {\n",
       "        attempts++;\n",
       "        if (attempts > 100) {\n",
       "          clearInterval(timer);\n",
       "          console.log(\"Bokeh: ERROR: Unable to run BokehJS code because BokehJS library is missing\");\n",
       "        }\n",
       "      }\n",
       "    }, 10, root)\n",
       "  }\n",
       "})(window);"
      ],
      "application/vnd.bokehjs_exec.v0+json": ""
     },
     "metadata": {
      "application/vnd.bokehjs_exec.v0+json": {
       "id": "20812"
      }
     },
     "output_type": "display_data"
    }
   ],
   "source": [
    "p = figure(plot_height=400, plot_width= 400)\n",
    "\n",
    "# horizontal var \n",
    "p.hbar(y=[1,2,3,4,5], height=0.5,\n",
    "       left=0,\n",
    "       right= [1.2, 2.1, 3.3, 2.9, 1.8],\n",
    "       color= 'blue',\n",
    "      )\n",
    "\n",
    "# bottom y축 시작 위치 ㅣ\n",
    "# top 데이터의 높이 \n",
    "# width 막대의 넓이 \n",
    "\n",
    "show(p)"
   ]
  },
  {
   "cell_type": "code",
   "execution_count": 74,
   "metadata": {
    "id": "lEem4iFYzcvT"
   },
   "outputs": [
    {
     "data": {
      "text/html": [
       "\n",
       "\n",
       "\n",
       "\n",
       "\n",
       "\n",
       "  <div class=\"bk-root\" id=\"c8723850-3c44-4b6f-8a2e-2cf01e060d56\" data-root-id=\"21544\"></div>\n"
      ]
     },
     "metadata": {},
     "output_type": "display_data"
    },
    {
     "data": {
      "application/javascript": [
       "(function(root) {\n",
       "  function embed_document(root) {\n",
       "    \n",
       "  var docs_json = {\"493732c5-830a-415e-b864-7140400c3087\":{\"defs\":[],\"roots\":{\"references\":[{\"attributes\":{\"below\":[{\"id\":\"21553\"}],\"center\":[{\"id\":\"21555\"},{\"id\":\"21559\"}],\"height\":400,\"left\":[{\"id\":\"21556\"}],\"renderers\":[{\"id\":\"21577\"}],\"title\":{\"id\":\"22191\"},\"toolbar\":{\"id\":\"21567\"},\"width\":400,\"x_range\":{\"id\":\"21545\"},\"x_scale\":{\"id\":\"21549\"},\"y_range\":{\"id\":\"21547\"},\"y_scale\":{\"id\":\"21551\"}},\"id\":\"21544\",\"subtype\":\"Figure\",\"type\":\"Plot\"},{\"attributes\":{},\"id\":\"22200\",\"type\":\"Selection\"},{\"attributes\":{\"fill_alpha\":{\"value\":0.1},\"fill_color\":{\"value\":\"royalblue\"},\"line_alpha\":{\"value\":0.1},\"line_color\":{\"value\":\"royalblue\"},\"top\":{\"field\":\"top\"},\"width\":{\"value\":0.5},\"x\":{\"field\":\"x\"}},\"id\":\"21576\",\"type\":\"VBar\"},{\"attributes\":{},\"id\":\"22199\",\"type\":\"UnionRenderers\"},{\"attributes\":{},\"id\":\"22191\",\"type\":\"Title\"},{\"attributes\":{},\"id\":\"21557\",\"type\":\"BasicTicker\"},{\"attributes\":{},\"id\":\"22193\",\"type\":\"AllLabels\"},{\"attributes\":{},\"id\":\"22192\",\"type\":\"CategoricalTickFormatter\"},{\"attributes\":{\"axis\":{\"id\":\"21553\"},\"ticker\":null},\"id\":\"21555\",\"type\":\"Grid\"},{\"attributes\":{\"active_multi\":null,\"tools\":[{\"id\":\"21560\"},{\"id\":\"21561\"},{\"id\":\"21562\"},{\"id\":\"21563\"},{\"id\":\"21564\"},{\"id\":\"21565\"}]},\"id\":\"21567\",\"type\":\"Toolbar\"},{\"attributes\":{\"bottom_units\":\"screen\",\"fill_alpha\":0.5,\"fill_color\":\"lightgrey\",\"left_units\":\"screen\",\"level\":\"overlay\",\"line_alpha\":1.0,\"line_color\":\"black\",\"line_dash\":[4,4],\"line_width\":2,\"right_units\":\"screen\",\"syncable\":false,\"top_units\":\"screen\"},\"id\":\"21566\",\"type\":\"BoxAnnotation\"},{\"attributes\":{},\"id\":\"21561\",\"type\":\"WheelZoomTool\"},{\"attributes\":{},\"id\":\"21563\",\"type\":\"SaveTool\"},{\"attributes\":{\"source\":{\"id\":\"21574\"}},\"id\":\"21578\",\"type\":\"CDSView\"},{\"attributes\":{\"axis\":{\"id\":\"21556\"},\"dimension\":1,\"grid_line_color\":null,\"ticker\":null},\"id\":\"21559\",\"type\":\"Grid\"},{\"attributes\":{},\"id\":\"21554\",\"type\":\"CategoricalTicker\"},{\"attributes\":{\"data_source\":{\"id\":\"21574\"},\"glyph\":{\"id\":\"21575\"},\"hover_glyph\":null,\"muted_glyph\":null,\"nonselection_glyph\":{\"id\":\"21576\"},\"view\":{\"id\":\"21578\"}},\"id\":\"21577\",\"type\":\"GlyphRenderer\"},{\"attributes\":{\"data\":{\"top\":[1,6,3,5,2,8],\"x\":[\"A\",\"B\",\"C\",\"D\",\"E\",\"F\"]},\"selected\":{\"id\":\"22200\"},\"selection_policy\":{\"id\":\"22199\"}},\"id\":\"21574\",\"type\":\"ColumnDataSource\"},{\"attributes\":{},\"id\":\"21549\",\"type\":\"CategoricalScale\"},{\"attributes\":{},\"id\":\"22195\",\"type\":\"BasicTickFormatter\"},{\"attributes\":{},\"id\":\"21560\",\"type\":\"PanTool\"},{\"attributes\":{\"start\":0},\"id\":\"21547\",\"type\":\"DataRange1d\"},{\"attributes\":{},\"id\":\"22196\",\"type\":\"AllLabels\"},{\"attributes\":{},\"id\":\"21564\",\"type\":\"ResetTool\"},{\"attributes\":{\"fill_color\":{\"value\":\"royalblue\"},\"line_color\":{\"value\":\"royalblue\"},\"top\":{\"field\":\"top\"},\"width\":{\"value\":0.5},\"x\":{\"field\":\"x\"}},\"id\":\"21575\",\"type\":\"VBar\"},{\"attributes\":{\"overlay\":{\"id\":\"21566\"}},\"id\":\"21562\",\"type\":\"BoxZoomTool\"},{\"attributes\":{\"formatter\":{\"id\":\"22192\"},\"major_label_policy\":{\"id\":\"22193\"},\"ticker\":{\"id\":\"21554\"}},\"id\":\"21553\",\"type\":\"CategoricalAxis\"},{\"attributes\":{},\"id\":\"21565\",\"type\":\"HelpTool\"},{\"attributes\":{\"formatter\":{\"id\":\"22195\"},\"major_label_policy\":{\"id\":\"22196\"},\"ticker\":{\"id\":\"21557\"}},\"id\":\"21556\",\"type\":\"LinearAxis\"},{\"attributes\":{},\"id\":\"21551\",\"type\":\"LinearScale\"},{\"attributes\":{\"factors\":[\"A\",\"B\",\"C\",\"D\",\"E\",\"F\"]},\"id\":\"21545\",\"type\":\"FactorRange\"}],\"root_ids\":[\"21544\"]},\"title\":\"Bokeh Application\",\"version\":\"2.3.2\"}};\n",
       "  var render_items = [{\"docid\":\"493732c5-830a-415e-b864-7140400c3087\",\"root_ids\":[\"21544\"],\"roots\":{\"21544\":\"c8723850-3c44-4b6f-8a2e-2cf01e060d56\"}}];\n",
       "  root.Bokeh.embed.embed_items_notebook(docs_json, render_items);\n",
       "\n",
       "  }\n",
       "  if (root.Bokeh !== undefined) {\n",
       "    embed_document(root);\n",
       "  } else {\n",
       "    var attempts = 0;\n",
       "    var timer = setInterval(function(root) {\n",
       "      if (root.Bokeh !== undefined) {\n",
       "        clearInterval(timer);\n",
       "        embed_document(root);\n",
       "      } else {\n",
       "        attempts++;\n",
       "        if (attempts > 100) {\n",
       "          clearInterval(timer);\n",
       "          console.log(\"Bokeh: ERROR: Unable to run BokehJS code because BokehJS library is missing\");\n",
       "        }\n",
       "      }\n",
       "    }, 10, root)\n",
       "  }\n",
       "})(window);"
      ],
      "application/vnd.bokehjs_exec.v0+json": ""
     },
     "metadata": {
      "application/vnd.bokehjs_exec.v0+json": {
       "id": "21544"
      }
     },
     "output_type": "display_data"
    }
   ],
   "source": [
    "labels= ['A', 'B', 'C', 'D', 'E', 'F']\n",
    "\n",
    "p = figure(x_range= labels, plot_height=400, plot_width= 400)\n",
    "\n",
    "# vertical var \n",
    "p.vbar(x=labels, \n",
    "       width=0.5,\n",
    "       bottom=0,\n",
    "       top= [1,6,3,5,2,8],\n",
    "       color= 'royalblue',\n",
    "      )\n",
    "# p.xgrid.grid_line_color= None\n",
    "p.ygrid.grid_line_color=None\n",
    "p.y_range.start= 0 \n",
    "\n",
    "show(p)"
   ]
  },
  {
   "cell_type": "markdown",
   "metadata": {
    "id": "yvdDvMo1Ed-w"
   },
   "source": [
    "### 스텍 막대(Stacked Bars)"
   ]
  },
  {
   "cell_type": "code",
   "execution_count": 88,
   "metadata": {
    "id": "bF1o06iaEhk_"
   },
   "outputs": [
    {
     "data": {
      "text/html": [
       "\n",
       "\n",
       "\n",
       "\n",
       "\n",
       "\n",
       "  <div class=\"bk-root\" id=\"66184399-2690-45c3-ac99-d87248d2f3d3\" data-root-id=\"27810\"></div>\n"
      ]
     },
     "metadata": {},
     "output_type": "display_data"
    },
    {
     "data": {
      "application/javascript": [
       "(function(root) {\n",
       "  function embed_document(root) {\n",
       "    \n",
       "  var docs_json = {\"1f1f33ee-0b7f-4854-a7a8-dc99279d1cde\":{\"defs\":[],\"roots\":{\"references\":[{\"attributes\":{\"below\":[{\"id\":\"27819\"}],\"center\":[{\"id\":\"27822\"},{\"id\":\"27826\"}],\"height\":400,\"left\":[{\"id\":\"27823\"}],\"renderers\":[{\"id\":\"27848\"},{\"id\":\"27853\"}],\"title\":{\"id\":\"28555\"},\"toolbar\":{\"id\":\"27834\"},\"width\":400,\"x_range\":{\"id\":\"27811\"},\"x_scale\":{\"id\":\"27815\"},\"y_range\":{\"id\":\"27813\"},\"y_scale\":{\"id\":\"27817\"}},\"id\":\"27810\",\"subtype\":\"Figure\",\"type\":\"Plot\"},{\"attributes\":{\"fields\":[\"x1\"]},\"id\":\"27843\",\"type\":\"Stack\"},{\"attributes\":{},\"id\":\"27831\",\"type\":\"ResetTool\"},{\"attributes\":{},\"id\":\"28563\",\"type\":\"UnionRenderers\"},{\"attributes\":{},\"id\":\"27828\",\"type\":\"WheelZoomTool\"},{\"attributes\":{},\"id\":\"27820\",\"type\":\"BasicTicker\"},{\"attributes\":{},\"id\":\"27813\",\"type\":\"DataRange1d\"},{\"attributes\":{},\"id\":\"28564\",\"type\":\"Selection\"},{\"attributes\":{\"data\":{\"x1\":{\"__ndarray__\":\"GgAAABoAAAAWAAAAEQAAACMAAAAMAAAAFQAAACMAAAAPAAAAJQAAAA8AAAAdAAAAFwAAABAAAAAlAAAAHgAAABQAAAAUAAAAEAAAACIAAAA=\",\"dtype\":\"int32\",\"order\":\"little\",\"shape\":[20]},\"x2\":{\"__ndarray__\":\"MQAAADEAAAAWAAAAKgAAAC0AAAA1AAAAFgAAABQAAAAbAAAAOQAAABkAAAAXAAAALwAAAC0AAAAfAAAAHwAAACcAAAAcAAAAFAAAAB8AAAA=\",\"dtype\":\"int32\",\"order\":\"little\",\"shape\":[20]},\"y\":{\"__ndarray__\":\"AAAAAAEAAAACAAAAAwAAAAQAAAAFAAAABgAAAAcAAAAIAAAACQAAAAoAAAALAAAADAAAAA0AAAAOAAAADwAAABAAAAARAAAAEgAAABMAAAA=\",\"dtype\":\"int32\",\"order\":\"little\",\"shape\":[20]}},\"selected\":{\"id\":\"28564\"},\"selection_policy\":{\"id\":\"28563\"}},\"id\":\"27809\",\"type\":\"ColumnDataSource\"},{\"attributes\":{\"formatter\":{\"id\":\"28556\"},\"major_label_policy\":{\"id\":\"28557\"},\"ticker\":{\"id\":\"27820\"}},\"id\":\"27819\",\"type\":\"LinearAxis\"},{\"attributes\":{},\"id\":\"27832\",\"type\":\"HelpTool\"},{\"attributes\":{\"data_source\":{\"id\":\"27809\"},\"glyph\":{\"id\":\"27846\"},\"hover_glyph\":null,\"muted_glyph\":null,\"name\":\"x1\",\"nonselection_glyph\":{\"id\":\"27847\"},\"view\":{\"id\":\"27849\"}},\"id\":\"27848\",\"type\":\"GlyphRenderer\"},{\"attributes\":{},\"id\":\"27815\",\"type\":\"LinearScale\"},{\"attributes\":{},\"id\":\"28559\",\"type\":\"BasicTickFormatter\"},{\"attributes\":{},\"id\":\"27811\",\"type\":\"DataRange1d\"},{\"attributes\":{},\"id\":\"28560\",\"type\":\"AllLabels\"},{\"attributes\":{},\"id\":\"27817\",\"type\":\"LinearScale\"},{\"attributes\":{\"source\":{\"id\":\"27809\"}},\"id\":\"27849\",\"type\":\"CDSView\"},{\"attributes\":{\"formatter\":{\"id\":\"28559\"},\"major_label_policy\":{\"id\":\"28560\"},\"ticker\":{\"id\":\"27824\"}},\"id\":\"27823\",\"type\":\"LinearAxis\"},{\"attributes\":{\"fill_color\":{\"value\":\"blue\"},\"height\":{\"value\":0.8},\"left\":{\"expr\":{\"id\":\"27843\"}},\"line_color\":{\"value\":\"blue\"},\"right\":{\"expr\":{\"id\":\"27844\"}},\"y\":{\"field\":\"y\"}},\"id\":\"27851\",\"type\":\"HBar\"},{\"attributes\":{\"fields\":[]},\"id\":\"27841\",\"type\":\"Stack\"},{\"attributes\":{\"fill_alpha\":{\"value\":0.1},\"fill_color\":{\"value\":\"blue\"},\"height\":{\"value\":0.8},\"left\":{\"expr\":{\"id\":\"27843\"}},\"line_alpha\":{\"value\":0.1},\"line_color\":{\"value\":\"blue\"},\"right\":{\"expr\":{\"id\":\"27844\"}},\"y\":{\"field\":\"y\"}},\"id\":\"27852\",\"type\":\"HBar\"},{\"attributes\":{\"bottom_units\":\"screen\",\"fill_alpha\":0.5,\"fill_color\":\"lightgrey\",\"left_units\":\"screen\",\"level\":\"overlay\",\"line_alpha\":1.0,\"line_color\":\"black\",\"line_dash\":[4,4],\"line_width\":2,\"right_units\":\"screen\",\"syncable\":false,\"top_units\":\"screen\"},\"id\":\"27833\",\"type\":\"BoxAnnotation\"},{\"attributes\":{\"fill_alpha\":{\"value\":0.1},\"fill_color\":{\"value\":\"red\"},\"height\":{\"value\":0.8},\"left\":{\"expr\":{\"id\":\"27841\"}},\"line_alpha\":{\"value\":0.1},\"line_color\":{\"value\":\"red\"},\"right\":{\"expr\":{\"id\":\"27842\"}},\"y\":{\"field\":\"y\"}},\"id\":\"27847\",\"type\":\"HBar\"},{\"attributes\":{\"axis\":{\"id\":\"27819\"},\"ticker\":null},\"id\":\"27822\",\"type\":\"Grid\"},{\"attributes\":{},\"id\":\"27830\",\"type\":\"SaveTool\"},{\"attributes\":{\"fields\":[\"x1\",\"x2\"]},\"id\":\"27844\",\"type\":\"Stack\"},{\"attributes\":{},\"id\":\"28555\",\"type\":\"Title\"},{\"attributes\":{\"source\":{\"id\":\"27809\"}},\"id\":\"27854\",\"type\":\"CDSView\"},{\"attributes\":{\"data_source\":{\"id\":\"27809\"},\"glyph\":{\"id\":\"27851\"},\"hover_glyph\":null,\"muted_glyph\":null,\"name\":\"x2\",\"nonselection_glyph\":{\"id\":\"27852\"},\"view\":{\"id\":\"27854\"}},\"id\":\"27853\",\"type\":\"GlyphRenderer\"},{\"attributes\":{\"active_multi\":null,\"tools\":[{\"id\":\"27827\"},{\"id\":\"27828\"},{\"id\":\"27829\"},{\"id\":\"27830\"},{\"id\":\"27831\"},{\"id\":\"27832\"}]},\"id\":\"27834\",\"type\":\"Toolbar\"},{\"attributes\":{},\"id\":\"27827\",\"type\":\"PanTool\"},{\"attributes\":{\"fill_color\":{\"value\":\"red\"},\"height\":{\"value\":0.8},\"left\":{\"expr\":{\"id\":\"27841\"}},\"line_color\":{\"value\":\"red\"},\"right\":{\"expr\":{\"id\":\"27842\"}},\"y\":{\"field\":\"y\"}},\"id\":\"27846\",\"type\":\"HBar\"},{\"attributes\":{},\"id\":\"28556\",\"type\":\"BasicTickFormatter\"},{\"attributes\":{\"overlay\":{\"id\":\"27833\"}},\"id\":\"27829\",\"type\":\"BoxZoomTool\"},{\"attributes\":{\"fields\":[\"x1\"]},\"id\":\"27842\",\"type\":\"Stack\"},{\"attributes\":{},\"id\":\"28557\",\"type\":\"AllLabels\"},{\"attributes\":{\"axis\":{\"id\":\"27823\"},\"dimension\":1,\"ticker\":null},\"id\":\"27826\",\"type\":\"Grid\"},{\"attributes\":{},\"id\":\"27824\",\"type\":\"BasicTicker\"}],\"root_ids\":[\"27810\"]},\"title\":\"Bokeh Application\",\"version\":\"2.3.2\"}};\n",
       "  var render_items = [{\"docid\":\"1f1f33ee-0b7f-4854-a7a8-dc99279d1cde\",\"root_ids\":[\"27810\"],\"roots\":{\"27810\":\"66184399-2690-45c3-ac99-d87248d2f3d3\"}}];\n",
       "  root.Bokeh.embed.embed_items_notebook(docs_json, render_items);\n",
       "\n",
       "  }\n",
       "  if (root.Bokeh !== undefined) {\n",
       "    embed_document(root);\n",
       "  } else {\n",
       "    var attempts = 0;\n",
       "    var timer = setInterval(function(root) {\n",
       "      if (root.Bokeh !== undefined) {\n",
       "        clearInterval(timer);\n",
       "        embed_document(root);\n",
       "      } else {\n",
       "        attempts++;\n",
       "        if (attempts > 100) {\n",
       "          clearInterval(timer);\n",
       "          console.log(\"Bokeh: ERROR: Unable to run BokehJS code because BokehJS library is missing\");\n",
       "        }\n",
       "      }\n",
       "    }, 10, root)\n",
       "  }\n",
       "})(window);"
      ],
      "application/vnd.bokehjs_exec.v0+json": ""
     },
     "metadata": {
      "application/vnd.bokehjs_exec.v0+json": {
       "id": "27810"
      }
     },
     "output_type": "display_data"
    }
   ],
   "source": [
    "from bokeh.models import ColumnDataSource\n",
    "# 데이터의 처리를 원활이 만들어 줍니다. \n",
    "source = ColumnDataSource(data= dict(\n",
    "    y = np.arange(20),\n",
    "    x1= np.random.randint(10, 40, 20), \n",
    "    x2= np.random.randint(20, 60, 20)\n",
    "))\n",
    "\n",
    "\n",
    "\n",
    "p = figure(plot_height=400, plot_width= 400)\n",
    "\n",
    "# vertical var \n",
    "p.hbar_stack(['x1', 'x2'],\n",
    "             y= 'y',\n",
    "             height=0.8,\n",
    "             source= source,\n",
    "             color= ('red','blue')\n",
    "            )\n",
    "\n",
    "show(p)"
   ]
  },
  {
   "cell_type": "markdown",
   "metadata": {
    "id": "9byOIShsFVcd"
   },
   "source": [
    "### 사각형(Rectangles)"
   ]
  },
  {
   "cell_type": "code",
   "execution_count": 89,
   "metadata": {
    "id": "q2A91yYlFY3K"
   },
   "outputs": [
    {
     "data": {
      "text/html": [
       "\n",
       "\n",
       "\n",
       "\n",
       "\n",
       "\n",
       "  <div class=\"bk-root\" id=\"ff2c50a0-2c06-41e5-9f4b-9a49d0f59fe1\" data-root-id=\"28620\"></div>\n"
      ]
     },
     "metadata": {},
     "output_type": "display_data"
    },
    {
     "data": {
      "application/javascript": [
       "(function(root) {\n",
       "  function embed_document(root) {\n",
       "    \n",
       "  var docs_json = {\"f475bdfe-a9d8-4d99-84b5-1bf17c1e068e\":{\"defs\":[],\"roots\":{\"references\":[{\"attributes\":{\"below\":[{\"id\":\"28629\"}],\"center\":[{\"id\":\"28632\"},{\"id\":\"28636\"}],\"height\":400,\"left\":[{\"id\":\"28633\"}],\"renderers\":[{\"id\":\"28654\"}],\"title\":{\"id\":\"29367\"},\"toolbar\":{\"id\":\"28644\"},\"width\":400,\"x_range\":{\"id\":\"28621\"},\"x_scale\":{\"id\":\"28625\"},\"y_range\":{\"id\":\"28623\"},\"y_scale\":{\"id\":\"28627\"}},\"id\":\"28620\",\"subtype\":\"Figure\",\"type\":\"Plot\"},{\"attributes\":{},\"id\":\"28641\",\"type\":\"ResetTool\"},{\"attributes\":{},\"id\":\"29368\",\"type\":\"BasicTickFormatter\"},{\"attributes\":{},\"id\":\"29376\",\"type\":\"Selection\"},{\"attributes\":{},\"id\":\"29369\",\"type\":\"AllLabels\"},{\"attributes\":{\"formatter\":{\"id\":\"29371\"},\"major_label_policy\":{\"id\":\"29372\"},\"ticker\":{\"id\":\"28634\"}},\"id\":\"28633\",\"type\":\"LinearAxis\"},{\"attributes\":{\"axis\":{\"id\":\"28629\"},\"ticker\":null},\"id\":\"28632\",\"type\":\"Grid\"},{\"attributes\":{},\"id\":\"28642\",\"type\":\"HelpTool\"},{\"attributes\":{\"active_multi\":null,\"tools\":[{\"id\":\"28637\"},{\"id\":\"28638\"},{\"id\":\"28639\"},{\"id\":\"28640\"},{\"id\":\"28641\"},{\"id\":\"28642\"}]},\"id\":\"28644\",\"type\":\"Toolbar\"},{\"attributes\":{},\"id\":\"28621\",\"type\":\"DataRange1d\"},{\"attributes\":{\"formatter\":{\"id\":\"29368\"},\"major_label_policy\":{\"id\":\"29369\"},\"ticker\":{\"id\":\"28630\"}},\"id\":\"28629\",\"type\":\"LinearAxis\"},{\"attributes\":{},\"id\":\"28623\",\"type\":\"DataRange1d\"},{\"attributes\":{},\"id\":\"28640\",\"type\":\"SaveTool\"},{\"attributes\":{},\"id\":\"28625\",\"type\":\"LinearScale\"},{\"attributes\":{},\"id\":\"28630\",\"type\":\"BasicTicker\"},{\"attributes\":{\"source\":{\"id\":\"28651\"}},\"id\":\"28655\",\"type\":\"CDSView\"},{\"attributes\":{},\"id\":\"29371\",\"type\":\"BasicTickFormatter\"},{\"attributes\":{},\"id\":\"28634\",\"type\":\"BasicTicker\"},{\"attributes\":{\"data\":{\"bottom\":[1,2,3],\"left\":[1,2,3],\"right\":[1.5,2.5,4],\"top\":[1.5,3,4]},\"selected\":{\"id\":\"29376\"},\"selection_policy\":{\"id\":\"29375\"}},\"id\":\"28651\",\"type\":\"ColumnDataSource\"},{\"attributes\":{},\"id\":\"29372\",\"type\":\"AllLabels\"},{\"attributes\":{},\"id\":\"28627\",\"type\":\"LinearScale\"},{\"attributes\":{},\"id\":\"29375\",\"type\":\"UnionRenderers\"},{\"attributes\":{},\"id\":\"29367\",\"type\":\"Title\"},{\"attributes\":{\"bottom\":{\"field\":\"bottom\"},\"fill_alpha\":{\"value\":0.1},\"fill_color\":{\"value\":\"darkred\"},\"left\":{\"field\":\"left\"},\"line_alpha\":{\"value\":0.1},\"line_color\":{\"value\":\"darkred\"},\"right\":{\"field\":\"right\"},\"top\":{\"field\":\"top\"}},\"id\":\"28653\",\"type\":\"Quad\"},{\"attributes\":{},\"id\":\"28638\",\"type\":\"WheelZoomTool\"},{\"attributes\":{\"bottom_units\":\"screen\",\"fill_alpha\":0.5,\"fill_color\":\"lightgrey\",\"left_units\":\"screen\",\"level\":\"overlay\",\"line_alpha\":1.0,\"line_color\":\"black\",\"line_dash\":[4,4],\"line_width\":2,\"right_units\":\"screen\",\"syncable\":false,\"top_units\":\"screen\"},\"id\":\"28643\",\"type\":\"BoxAnnotation\"},{\"attributes\":{\"overlay\":{\"id\":\"28643\"}},\"id\":\"28639\",\"type\":\"BoxZoomTool\"},{\"attributes\":{},\"id\":\"28637\",\"type\":\"PanTool\"},{\"attributes\":{\"data_source\":{\"id\":\"28651\"},\"glyph\":{\"id\":\"28652\"},\"hover_glyph\":null,\"muted_glyph\":null,\"nonselection_glyph\":{\"id\":\"28653\"},\"view\":{\"id\":\"28655\"}},\"id\":\"28654\",\"type\":\"GlyphRenderer\"},{\"attributes\":{\"bottom\":{\"field\":\"bottom\"},\"fill_color\":{\"value\":\"darkred\"},\"left\":{\"field\":\"left\"},\"line_color\":{\"value\":\"darkred\"},\"right\":{\"field\":\"right\"},\"top\":{\"field\":\"top\"}},\"id\":\"28652\",\"type\":\"Quad\"},{\"attributes\":{\"axis\":{\"id\":\"28633\"},\"dimension\":1,\"ticker\":null},\"id\":\"28636\",\"type\":\"Grid\"}],\"root_ids\":[\"28620\"]},\"title\":\"Bokeh Application\",\"version\":\"2.3.2\"}};\n",
       "  var render_items = [{\"docid\":\"f475bdfe-a9d8-4d99-84b5-1bf17c1e068e\",\"root_ids\":[\"28620\"],\"roots\":{\"28620\":\"ff2c50a0-2c06-41e5-9f4b-9a49d0f59fe1\"}}];\n",
       "  root.Bokeh.embed.embed_items_notebook(docs_json, render_items);\n",
       "\n",
       "  }\n",
       "  if (root.Bokeh !== undefined) {\n",
       "    embed_document(root);\n",
       "  } else {\n",
       "    var attempts = 0;\n",
       "    var timer = setInterval(function(root) {\n",
       "      if (root.Bokeh !== undefined) {\n",
       "        clearInterval(timer);\n",
       "        embed_document(root);\n",
       "      } else {\n",
       "        attempts++;\n",
       "        if (attempts > 100) {\n",
       "          clearInterval(timer);\n",
       "          console.log(\"Bokeh: ERROR: Unable to run BokehJS code because BokehJS library is missing\");\n",
       "        }\n",
       "      }\n",
       "    }, 10, root)\n",
       "  }\n",
       "})(window);"
      ],
      "application/vnd.bokehjs_exec.v0+json": ""
     },
     "metadata": {
      "application/vnd.bokehjs_exec.v0+json": {
       "id": "28620"
      }
     },
     "output_type": "display_data"
    }
   ],
   "source": [
    "p = figure(plot_width=400, plot_height=400)\n",
    "p.quad(top= [1.5, 3, 4],\n",
    "       bottom= [1,2,3],\n",
    "       left=[1,2,3],\n",
    "       right= [1.5, 2.5, 4],\n",
    "       color= 'darkred'\n",
    "      )\n",
    "\n",
    "show(p)"
   ]
  },
  {
   "cell_type": "code",
   "execution_count": 91,
   "metadata": {
    "id": "uTCs58ByF9Mn"
   },
   "outputs": [
    {
     "data": {
      "text/html": [
       "\n",
       "\n",
       "\n",
       "\n",
       "\n",
       "\n",
       "  <div class=\"bk-root\" id=\"a5a301a7-4305-4f00-88e5-ac97c6402b23\" data-root-id=\"30255\"></div>\n"
      ]
     },
     "metadata": {},
     "output_type": "display_data"
    },
    {
     "data": {
      "application/javascript": [
       "(function(root) {\n",
       "  function embed_document(root) {\n",
       "    \n",
       "  var docs_json = {\"464784ab-bf55-44b0-a329-4f0ca838a33b\":{\"defs\":[],\"roots\":{\"references\":[{\"attributes\":{\"below\":[{\"id\":\"30264\"}],\"center\":[{\"id\":\"30267\"},{\"id\":\"30271\"}],\"height\":400,\"left\":[{\"id\":\"30268\"}],\"renderers\":[{\"id\":\"30289\"}],\"title\":{\"id\":\"31024\"},\"toolbar\":{\"id\":\"30279\"},\"width\":400,\"x_range\":{\"id\":\"30256\"},\"x_scale\":{\"id\":\"30260\"},\"y_range\":{\"id\":\"30258\"},\"y_scale\":{\"id\":\"30262\"}},\"id\":\"30255\",\"subtype\":\"Figure\",\"type\":\"Plot\"},{\"attributes\":{},\"id\":\"31032\",\"type\":\"UnionRenderers\"},{\"attributes\":{\"data_source\":{\"id\":\"30286\"},\"glyph\":{\"id\":\"30287\"},\"hover_glyph\":null,\"muted_glyph\":null,\"nonselection_glyph\":{\"id\":\"30288\"},\"view\":{\"id\":\"30290\"}},\"id\":\"30289\",\"type\":\"GlyphRenderer\"},{\"attributes\":{\"formatter\":{\"id\":\"31028\"},\"major_label_policy\":{\"id\":\"31029\"},\"ticker\":{\"id\":\"30269\"}},\"id\":\"30268\",\"type\":\"LinearAxis\"},{\"attributes\":{},\"id\":\"30277\",\"type\":\"HelpTool\"},{\"attributes\":{},\"id\":\"30265\",\"type\":\"BasicTicker\"},{\"attributes\":{},\"id\":\"31026\",\"type\":\"AllLabels\"},{\"attributes\":{\"axis\":{\"id\":\"30264\"},\"ticker\":null},\"id\":\"30267\",\"type\":\"Grid\"},{\"attributes\":{},\"id\":\"31033\",\"type\":\"Selection\"},{\"attributes\":{},\"id\":\"31025\",\"type\":\"BasicTickFormatter\"},{\"attributes\":{\"axis\":{\"id\":\"30268\"},\"dimension\":1,\"ticker\":null},\"id\":\"30271\",\"type\":\"Grid\"},{\"attributes\":{\"bottom_units\":\"screen\",\"fill_alpha\":0.5,\"fill_color\":\"lightgrey\",\"left_units\":\"screen\",\"level\":\"overlay\",\"line_alpha\":1.0,\"line_color\":\"black\",\"line_dash\":[4,4],\"line_width\":2,\"right_units\":\"screen\",\"syncable\":false,\"top_units\":\"screen\"},\"id\":\"30278\",\"type\":\"BoxAnnotation\"},{\"attributes\":{},\"id\":\"30269\",\"type\":\"BasicTicker\"},{\"attributes\":{\"formatter\":{\"id\":\"31025\"},\"major_label_policy\":{\"id\":\"31026\"},\"ticker\":{\"id\":\"30265\"}},\"id\":\"30264\",\"type\":\"LinearAxis\"},{\"attributes\":{\"fill_color\":{\"value\":\"darkblue\"},\"height\":{\"value\":50},\"line_color\":{\"value\":\"darkblue\"},\"width\":{\"value\":0.5},\"x\":{\"field\":\"x\"},\"y\":{\"field\":\"y\"}},\"id\":\"30287\",\"type\":\"Rect\"},{\"attributes\":{},\"id\":\"30273\",\"type\":\"WheelZoomTool\"},{\"attributes\":{\"overlay\":{\"id\":\"30278\"}},\"id\":\"30274\",\"type\":\"BoxZoomTool\"},{\"attributes\":{},\"id\":\"30272\",\"type\":\"PanTool\"},{\"attributes\":{\"active_multi\":null,\"tools\":[{\"id\":\"30272\"},{\"id\":\"30273\"},{\"id\":\"30274\"},{\"id\":\"30275\"},{\"id\":\"30276\"},{\"id\":\"30277\"}]},\"id\":\"30279\",\"type\":\"Toolbar\"},{\"attributes\":{},\"id\":\"30275\",\"type\":\"SaveTool\"},{\"attributes\":{},\"id\":\"30276\",\"type\":\"ResetTool\"},{\"attributes\":{},\"id\":\"30258\",\"type\":\"DataRange1d\"},{\"attributes\":{},\"id\":\"30262\",\"type\":\"LinearScale\"},{\"attributes\":{},\"id\":\"30256\",\"type\":\"DataRange1d\"},{\"attributes\":{},\"id\":\"31028\",\"type\":\"BasicTickFormatter\"},{\"attributes\":{\"data\":{\"x\":[1.5,3,4,5,7],\"y\":[1,2,3,4,5]},\"selected\":{\"id\":\"31033\"},\"selection_policy\":{\"id\":\"31032\"}},\"id\":\"30286\",\"type\":\"ColumnDataSource\"},{\"attributes\":{},\"id\":\"31029\",\"type\":\"AllLabels\"},{\"attributes\":{},\"id\":\"31024\",\"type\":\"Title\"},{\"attributes\":{\"source\":{\"id\":\"30286\"}},\"id\":\"30290\",\"type\":\"CDSView\"},{\"attributes\":{},\"id\":\"30260\",\"type\":\"LinearScale\"},{\"attributes\":{\"fill_alpha\":{\"value\":0.1},\"fill_color\":{\"value\":\"darkblue\"},\"height\":{\"value\":50},\"line_alpha\":{\"value\":0.1},\"line_color\":{\"value\":\"darkblue\"},\"width\":{\"value\":0.5},\"x\":{\"field\":\"x\"},\"y\":{\"field\":\"y\"}},\"id\":\"30288\",\"type\":\"Rect\"}],\"root_ids\":[\"30255\"]},\"title\":\"Bokeh Application\",\"version\":\"2.3.2\"}};\n",
       "  var render_items = [{\"docid\":\"464784ab-bf55-44b0-a329-4f0ca838a33b\",\"root_ids\":[\"30255\"],\"roots\":{\"30255\":\"a5a301a7-4305-4f00-88e5-ac97c6402b23\"}}];\n",
       "  root.Bokeh.embed.embed_items_notebook(docs_json, render_items);\n",
       "\n",
       "  }\n",
       "  if (root.Bokeh !== undefined) {\n",
       "    embed_document(root);\n",
       "  } else {\n",
       "    var attempts = 0;\n",
       "    var timer = setInterval(function(root) {\n",
       "      if (root.Bokeh !== undefined) {\n",
       "        clearInterval(timer);\n",
       "        embed_document(root);\n",
       "      } else {\n",
       "        attempts++;\n",
       "        if (attempts > 100) {\n",
       "          clearInterval(timer);\n",
       "          console.log(\"Bokeh: ERROR: Unable to run BokehJS code because BokehJS library is missing\");\n",
       "        }\n",
       "      }\n",
       "    }, 10, root)\n",
       "  }\n",
       "})(window);"
      ],
      "application/vnd.bokehjs_exec.v0+json": ""
     },
     "metadata": {
      "application/vnd.bokehjs_exec.v0+json": {
       "id": "30255"
      }
     },
     "output_type": "display_data"
    }
   ],
   "source": [
    "p = figure(plot_width=400, plot_height=400)\n",
    "p.rect(x= [1.5, 3, 4, 5, 7],\n",
    "       y= [1, 2, 3, 4, 5],\n",
    "       width= 0.5,\n",
    "       height= 50,\n",
    "       color= 'darkblue'\n",
    "      )\n",
    "\n",
    "show(p)"
   ]
  },
  {
   "cell_type": "code",
   "execution_count": 93,
   "metadata": {},
   "outputs": [
    {
     "data": {
      "text/html": [
       "\n",
       "\n",
       "\n",
       "\n",
       "\n",
       "\n",
       "  <div class=\"bk-root\" id=\"3813898e-d894-4db6-a9de-f12e196e95d4\" data-root-id=\"31089\"></div>\n"
      ]
     },
     "metadata": {},
     "output_type": "display_data"
    },
    {
     "data": {
      "application/javascript": [
       "(function(root) {\n",
       "  function embed_document(root) {\n",
       "    \n",
       "  var docs_json = {\"e4d6f862-34f1-4d1d-a49b-ab4e8f5f514f\":{\"defs\":[],\"roots\":{\"references\":[{\"attributes\":{\"below\":[{\"id\":\"31098\"}],\"center\":[{\"id\":\"31101\"},{\"id\":\"31105\"}],\"height\":400,\"left\":[{\"id\":\"31102\"}],\"renderers\":[{\"id\":\"31123\"}],\"title\":{\"id\":\"31869\"},\"toolbar\":{\"id\":\"31113\"},\"width\":400,\"x_range\":{\"id\":\"31090\"},\"x_scale\":{\"id\":\"31094\"},\"y_range\":{\"id\":\"31092\"},\"y_scale\":{\"id\":\"31096\"}},\"id\":\"31089\",\"subtype\":\"Figure\",\"type\":\"Plot\"},{\"attributes\":{},\"id\":\"31877\",\"type\":\"UnionRenderers\"},{\"attributes\":{},\"id\":\"31110\",\"type\":\"ResetTool\"},{\"attributes\":{},\"id\":\"31878\",\"type\":\"Selection\"},{\"attributes\":{\"axis\":{\"id\":\"31098\"},\"ticker\":null},\"id\":\"31101\",\"type\":\"Grid\"},{\"attributes\":{},\"id\":\"31099\",\"type\":\"BasicTicker\"},{\"attributes\":{},\"id\":\"31090\",\"type\":\"DataRange1d\"},{\"attributes\":{},\"id\":\"31111\",\"type\":\"HelpTool\"},{\"attributes\":{\"overlay\":{\"id\":\"31112\"}},\"id\":\"31108\",\"type\":\"BoxZoomTool\"},{\"attributes\":{\"bottom_units\":\"screen\",\"fill_alpha\":0.5,\"fill_color\":\"lightgrey\",\"left_units\":\"screen\",\"level\":\"overlay\",\"line_alpha\":1.0,\"line_color\":\"black\",\"line_dash\":[4,4],\"line_width\":2,\"right_units\":\"screen\",\"syncable\":false,\"top_units\":\"screen\"},\"id\":\"31112\",\"type\":\"BoxAnnotation\"},{\"attributes\":{\"formatter\":{\"id\":\"31870\"},\"major_label_policy\":{\"id\":\"31871\"},\"ticker\":{\"id\":\"31099\"}},\"id\":\"31098\",\"type\":\"LinearAxis\"},{\"attributes\":{},\"id\":\"31873\",\"type\":\"BasicTickFormatter\"},{\"attributes\":{\"data\":{\"x\":[1.5,3,4,5,7],\"y\":[1,2,3,4,5]},\"selected\":{\"id\":\"31878\"},\"selection_policy\":{\"id\":\"31877\"}},\"id\":\"31120\",\"type\":\"ColumnDataSource\"},{\"attributes\":{\"active_multi\":null,\"tools\":[{\"id\":\"31106\"},{\"id\":\"31107\"},{\"id\":\"31108\"},{\"id\":\"31109\"},{\"id\":\"31110\"},{\"id\":\"31111\"}]},\"id\":\"31113\",\"type\":\"Toolbar\"},{\"attributes\":{},\"id\":\"31107\",\"type\":\"WheelZoomTool\"},{\"attributes\":{},\"id\":\"31874\",\"type\":\"AllLabels\"},{\"attributes\":{\"angle\":{\"value\":120},\"fill_alpha\":{\"value\":0.1},\"fill_color\":{\"value\":\"darkblue\"},\"height\":{\"units\":\"screen\",\"value\":50},\"line_alpha\":{\"value\":0.1},\"line_color\":{\"value\":\"darkblue\"},\"width\":{\"value\":0.5},\"x\":{\"field\":\"x\"},\"y\":{\"field\":\"y\"}},\"id\":\"31122\",\"type\":\"Rect\"},{\"attributes\":{},\"id\":\"31109\",\"type\":\"SaveTool\"},{\"attributes\":{\"data_source\":{\"id\":\"31120\"},\"glyph\":{\"id\":\"31121\"},\"hover_glyph\":null,\"muted_glyph\":null,\"nonselection_glyph\":{\"id\":\"31122\"},\"view\":{\"id\":\"31124\"}},\"id\":\"31123\",\"type\":\"GlyphRenderer\"},{\"attributes\":{\"source\":{\"id\":\"31120\"}},\"id\":\"31124\",\"type\":\"CDSView\"},{\"attributes\":{\"formatter\":{\"id\":\"31873\"},\"major_label_policy\":{\"id\":\"31874\"},\"ticker\":{\"id\":\"31103\"}},\"id\":\"31102\",\"type\":\"LinearAxis\"},{\"attributes\":{},\"id\":\"31096\",\"type\":\"LinearScale\"},{\"attributes\":{},\"id\":\"31106\",\"type\":\"PanTool\"},{\"attributes\":{},\"id\":\"31103\",\"type\":\"BasicTicker\"},{\"attributes\":{},\"id\":\"31092\",\"type\":\"DataRange1d\"},{\"attributes\":{\"angle\":{\"value\":120},\"fill_color\":{\"value\":\"darkblue\"},\"height\":{\"units\":\"screen\",\"value\":50},\"line_color\":{\"value\":\"darkblue\"},\"width\":{\"value\":0.5},\"x\":{\"field\":\"x\"},\"y\":{\"field\":\"y\"}},\"id\":\"31121\",\"type\":\"Rect\"},{\"attributes\":{},\"id\":\"31870\",\"type\":\"BasicTickFormatter\"},{\"attributes\":{},\"id\":\"31094\",\"type\":\"LinearScale\"},{\"attributes\":{},\"id\":\"31871\",\"type\":\"AllLabels\"},{\"attributes\":{},\"id\":\"31869\",\"type\":\"Title\"},{\"attributes\":{\"axis\":{\"id\":\"31102\"},\"dimension\":1,\"ticker\":null},\"id\":\"31105\",\"type\":\"Grid\"}],\"root_ids\":[\"31089\"]},\"title\":\"Bokeh Application\",\"version\":\"2.3.2\"}};\n",
       "  var render_items = [{\"docid\":\"e4d6f862-34f1-4d1d-a49b-ab4e8f5f514f\",\"root_ids\":[\"31089\"],\"roots\":{\"31089\":\"3813898e-d894-4db6-a9de-f12e196e95d4\"}}];\n",
       "  root.Bokeh.embed.embed_items_notebook(docs_json, render_items);\n",
       "\n",
       "  }\n",
       "  if (root.Bokeh !== undefined) {\n",
       "    embed_document(root);\n",
       "  } else {\n",
       "    var attempts = 0;\n",
       "    var timer = setInterval(function(root) {\n",
       "      if (root.Bokeh !== undefined) {\n",
       "        clearInterval(timer);\n",
       "        embed_document(root);\n",
       "      } else {\n",
       "        attempts++;\n",
       "        if (attempts > 100) {\n",
       "          clearInterval(timer);\n",
       "          console.log(\"Bokeh: ERROR: Unable to run BokehJS code because BokehJS library is missing\");\n",
       "        }\n",
       "      }\n",
       "    }, 10, root)\n",
       "  }\n",
       "})(window);"
      ],
      "application/vnd.bokehjs_exec.v0+json": ""
     },
     "metadata": {
      "application/vnd.bokehjs_exec.v0+json": {
       "id": "31089"
      }
     },
     "output_type": "display_data"
    }
   ],
   "source": [
    "p = figure(plot_width=400, plot_height=400)\n",
    "p.rect(x= [1.5, 3, 4, 5, 7],\n",
    "       y= [1, 2, 3, 4, 5],\n",
    "       width= 0.5,\n",
    "       angle= 120,\n",
    "       height= 50,\n",
    "       color= 'darkblue',\n",
    "       height_units= 'screen'\n",
    "      )\n",
    "\n",
    "show(p)"
   ]
  },
  {
   "cell_type": "markdown",
   "metadata": {
    "id": "fHv6CiUBz8Y_"
   },
   "source": [
    "## 육각 타일(Hex Tiles)"
   ]
  },
  {
   "cell_type": "code",
   "execution_count": 98,
   "metadata": {
    "id": "4yZh2SnyJVWR"
   },
   "outputs": [
    {
     "name": "stderr",
     "output_type": "stream",
     "text": [
      "ERROR:bokeh.core.validation.check:E-1001 (BAD_COLUMN_NAME): Glyph refers to nonexistent column name. This could either be due to a misspelling or typo, or due to an expected column being missing. : key \"text_baseline\" value \"middel\" [renderer: GlyphRenderer(id='32045', ...)]\n"
     ]
    },
    {
     "data": {
      "text/html": [
       "\n",
       "\n",
       "\n",
       "\n",
       "\n",
       "\n",
       "  <div class=\"bk-root\" id=\"b65628de-e721-4f0b-b105-0708aec2ef08\" data-root-id=\"32006\"></div>\n"
      ]
     },
     "metadata": {},
     "output_type": "display_data"
    },
    {
     "data": {
      "application/javascript": [
       "(function(root) {\n",
       "  function embed_document(root) {\n",
       "    \n",
       "  var docs_json = {\"f2163af9-a787-4bc4-a8e8-15a29d8f68ce\":{\"defs\":[],\"roots\":{\"references\":[{\"attributes\":{\"below\":[{\"id\":\"32015\"}],\"center\":[{\"id\":\"32018\"},{\"id\":\"32022\"}],\"height\":400,\"left\":[{\"id\":\"32019\"}],\"renderers\":[{\"id\":\"32040\"},{\"id\":\"32045\"}],\"title\":{\"id\":\"32802\"},\"toolbar\":{\"id\":\"32030\"},\"toolbar_location\":null,\"width\":400,\"x_range\":{\"id\":\"32007\"},\"x_scale\":{\"id\":\"32011\"},\"y_range\":{\"id\":\"32009\"},\"y_scale\":{\"id\":\"32013\"}},\"id\":\"32006\",\"subtype\":\"Figure\",\"type\":\"Plot\"},{\"attributes\":{\"fill_alpha\":{\"value\":0.1},\"fill_color\":{\"value\":\"red\"},\"line_alpha\":{\"value\":0.1},\"line_color\":{\"value\":\"black\"},\"q\":{\"field\":\"q\"},\"r\":{\"field\":\"r\"}},\"id\":\"32039\",\"type\":\"HexTile\"},{\"attributes\":{\"axis\":{\"id\":\"32015\"},\"ticker\":null,\"visible\":false},\"id\":\"32018\",\"type\":\"Grid\"},{\"attributes\":{\"text_align\":{\"value\":\"center\"},\"text_baseline\":{\"field\":\"middel\"},\"text_color\":{\"value\":\"black\"},\"x\":{\"field\":\"x\"},\"y\":{\"field\":\"y\"}},\"id\":\"32043\",\"type\":\"Text\"},{\"attributes\":{},\"id\":\"32016\",\"type\":\"BasicTicker\"},{\"attributes\":{},\"id\":\"32011\",\"type\":\"LinearScale\"},{\"attributes\":{\"source\":{\"id\":\"32037\"}},\"id\":\"32041\",\"type\":\"CDSView\"},{\"attributes\":{\"formatter\":{\"id\":\"32803\"},\"major_label_policy\":{\"id\":\"32804\"},\"ticker\":{\"id\":\"32016\"}},\"id\":\"32015\",\"type\":\"LinearAxis\"},{\"attributes\":{\"data\":{\"text\":[\"(0, 0)\",\"(0, -1)\",\"(0, 1)\",\"(-1, 0)\",\"(-1, 1)\",\"(1, -1)\",\"(1, 0)\"],\"x\":{\"__ndarray__\":\"AAAAAAAAAACqTFjoerbrv6pMWOh6tus/qkxY6Hq2+7+qTFjoerbrv6pMWOh6tus/qkxY6Hq2+z8=\",\"dtype\":\"float64\",\"order\":\"little\",\"shape\":[7]},\"y\":{\"__ndarray__\":\"AAAAAAAAAIAAAAAAAAD4PwAAAAAAAPi/AAAAAAAAAIAAAAAAAAD4vwAAAAAAAPg/AAAAAAAAAIA=\",\"dtype\":\"float64\",\"order\":\"little\",\"shape\":[7]}},\"selected\":{\"id\":\"32813\"},\"selection_policy\":{\"id\":\"32812\"}},\"id\":\"32042\",\"type\":\"ColumnDataSource\"},{\"attributes\":{\"axis\":{\"id\":\"32019\"},\"dimension\":1,\"ticker\":null,\"visible\":false},\"id\":\"32022\",\"type\":\"Grid\"},{\"attributes\":{\"text_align\":{\"value\":\"center\"},\"text_alpha\":{\"value\":0.1},\"text_baseline\":{\"field\":\"middel\"},\"text_color\":{\"value\":\"black\"},\"x\":{\"field\":\"x\"},\"y\":{\"field\":\"y\"}},\"id\":\"32044\",\"type\":\"Text\"},{\"attributes\":{},\"id\":\"32020\",\"type\":\"BasicTicker\"},{\"attributes\":{\"bottom_units\":\"screen\",\"fill_alpha\":0.5,\"fill_color\":\"lightgrey\",\"left_units\":\"screen\",\"level\":\"overlay\",\"line_alpha\":1.0,\"line_color\":\"black\",\"line_dash\":[4,4],\"line_width\":2,\"right_units\":\"screen\",\"syncable\":false,\"top_units\":\"screen\"},\"id\":\"32029\",\"type\":\"BoxAnnotation\"},{\"attributes\":{},\"id\":\"32024\",\"type\":\"WheelZoomTool\"},{\"attributes\":{\"formatter\":{\"id\":\"32806\"},\"major_label_policy\":{\"id\":\"32807\"},\"ticker\":{\"id\":\"32020\"}},\"id\":\"32019\",\"type\":\"LinearAxis\"},{\"attributes\":{},\"id\":\"32810\",\"type\":\"UnionRenderers\"},{\"attributes\":{\"active_multi\":null,\"tools\":[{\"id\":\"32023\"},{\"id\":\"32024\"},{\"id\":\"32025\"},{\"id\":\"32026\"},{\"id\":\"32027\"},{\"id\":\"32028\"}]},\"id\":\"32030\",\"type\":\"Toolbar\"},{\"attributes\":{},\"id\":\"32806\",\"type\":\"BasicTickFormatter\"},{\"attributes\":{},\"id\":\"32811\",\"type\":\"Selection\"},{\"attributes\":{},\"id\":\"32013\",\"type\":\"LinearScale\"},{\"attributes\":{},\"id\":\"32009\",\"type\":\"DataRange1d\"},{\"attributes\":{\"overlay\":{\"id\":\"32029\"}},\"id\":\"32025\",\"type\":\"BoxZoomTool\"},{\"attributes\":{},\"id\":\"32026\",\"type\":\"SaveTool\"},{\"attributes\":{\"source\":{\"id\":\"32042\"}},\"id\":\"32046\",\"type\":\"CDSView\"},{\"attributes\":{},\"id\":\"32023\",\"type\":\"PanTool\"},{\"attributes\":{},\"id\":\"32802\",\"type\":\"Title\"},{\"attributes\":{},\"id\":\"32803\",\"type\":\"BasicTickFormatter\"},{\"attributes\":{\"fill_alpha\":{\"value\":0.5},\"fill_color\":{\"value\":\"red\"},\"line_alpha\":{\"value\":0.5},\"line_color\":{\"value\":\"black\"},\"q\":{\"field\":\"q\"},\"r\":{\"field\":\"r\"}},\"id\":\"32038\",\"type\":\"HexTile\"},{\"attributes\":{\"data_source\":{\"id\":\"32042\"},\"glyph\":{\"id\":\"32043\"},\"hover_glyph\":null,\"muted_glyph\":null,\"nonselection_glyph\":{\"id\":\"32044\"},\"view\":{\"id\":\"32046\"}},\"id\":\"32045\",\"type\":\"GlyphRenderer\"},{\"attributes\":{},\"id\":\"32028\",\"type\":\"HelpTool\"},{\"attributes\":{},\"id\":\"32804\",\"type\":\"AllLabels\"},{\"attributes\":{},\"id\":\"32027\",\"type\":\"ResetTool\"},{\"attributes\":{},\"id\":\"32812\",\"type\":\"UnionRenderers\"},{\"attributes\":{},\"id\":\"32813\",\"type\":\"Selection\"},{\"attributes\":{},\"id\":\"32007\",\"type\":\"DataRange1d\"},{\"attributes\":{\"data\":{\"q\":{\"__ndarray__\":\"AAAAAAAAAAAAAAAA//////////8BAAAAAQAAAA==\",\"dtype\":\"int32\",\"order\":\"little\",\"shape\":[7]},\"r\":{\"__ndarray__\":\"AAAAAP////8BAAAAAAAAAAEAAAD/////AAAAAA==\",\"dtype\":\"int32\",\"order\":\"little\",\"shape\":[7]}},\"selected\":{\"id\":\"32811\"},\"selection_policy\":{\"id\":\"32810\"}},\"id\":\"32037\",\"type\":\"ColumnDataSource\"},{\"attributes\":{\"data_source\":{\"id\":\"32037\"},\"glyph\":{\"id\":\"32038\"},\"hover_glyph\":null,\"muted_glyph\":null,\"nonselection_glyph\":{\"id\":\"32039\"},\"view\":{\"id\":\"32041\"}},\"id\":\"32040\",\"type\":\"GlyphRenderer\"},{\"attributes\":{},\"id\":\"32807\",\"type\":\"AllLabels\"}],\"root_ids\":[\"32006\"]},\"title\":\"Bokeh Application\",\"version\":\"2.3.2\"}};\n",
       "  var render_items = [{\"docid\":\"f2163af9-a787-4bc4-a8e8-15a29d8f68ce\",\"root_ids\":[\"32006\"],\"roots\":{\"32006\":\"b65628de-e721-4f0b-b105-0708aec2ef08\"}}];\n",
       "  root.Bokeh.embed.embed_items_notebook(docs_json, render_items);\n",
       "\n",
       "  }\n",
       "  if (root.Bokeh !== undefined) {\n",
       "    embed_document(root);\n",
       "  } else {\n",
       "    var attempts = 0;\n",
       "    var timer = setInterval(function(root) {\n",
       "      if (root.Bokeh !== undefined) {\n",
       "        clearInterval(timer);\n",
       "        embed_document(root);\n",
       "      } else {\n",
       "        attempts++;\n",
       "        if (attempts > 100) {\n",
       "          clearInterval(timer);\n",
       "          console.log(\"Bokeh: ERROR: Unable to run BokehJS code because BokehJS library is missing\");\n",
       "        }\n",
       "      }\n",
       "    }, 10, root)\n",
       "  }\n",
       "})(window);"
      ],
      "application/vnd.bokehjs_exec.v0+json": ""
     },
     "metadata": {
      "application/vnd.bokehjs_exec.v0+json": {
       "id": "32006"
      }
     },
     "output_type": "display_data"
    }
   ],
   "source": [
    "# 육각타일을 데카르트 좌표계(catresian cordinate) 상에 표현하기 위한 라이브러리 \n",
    "from bokeh.util.hex import axial_to_cartesian\n",
    "\n",
    "# 데이터 좌표 설정 \n",
    "q = np.array([0,0, 0, -1, -1, 1, 1])\n",
    "r = np.array([0, -1, 1, 0, 1, -1, 0])\n",
    "\n",
    "# toolbar_location 을 통해 툴바의 위치를 옮기거나 제거할 수 있습니다. \n",
    "p = figure(plot_width=400, plot_height= 400, toolbar_location=None)\n",
    "# 그리드를 제거합니다. \n",
    "p.grid.visible= False \n",
    "\n",
    "p.hex_tile(q,r, size=1, fill_color=\"red\", line_color='black', alpha=0.5)\n",
    "\n",
    "x,y = axial_to_cartesian(q,r, 1, 'pointytop')\n",
    "p.text(x,y, text=[\"(%d, %d)\"%(q,r) for q,r in zip(q,r)], text_baseline='middel', text_align='center')\n",
    "show(p)\n"
   ]
  },
  {
   "cell_type": "code",
   "execution_count": 99,
   "metadata": {
    "id": "8QKRGEgrydAS"
   },
   "outputs": [
    {
     "name": "stderr",
     "output_type": "stream",
     "text": [
      "ERROR:bokeh.core.validation.check:E-1001 (BAD_COLUMN_NAME): Glyph refers to nonexistent column name. This could either be due to a misspelling or typo, or due to an expected column being missing. : key \"text_baseline\" value \"middel\" [renderer: GlyphRenderer(id='32918', ...)]\n"
     ]
    },
    {
     "data": {
      "text/html": [
       "\n",
       "\n",
       "\n",
       "\n",
       "\n",
       "\n",
       "  <div class=\"bk-root\" id=\"2b5f96ca-2f70-41db-92c5-a3b65bbb9588\" data-root-id=\"32879\"></div>\n"
      ]
     },
     "metadata": {},
     "output_type": "display_data"
    },
    {
     "data": {
      "application/javascript": [
       "(function(root) {\n",
       "  function embed_document(root) {\n",
       "    \n",
       "  var docs_json = {\"efcb32af-16a4-481f-8d1e-6ee785f40656\":{\"defs\":[],\"roots\":{\"references\":[{\"attributes\":{\"below\":[{\"id\":\"32888\"}],\"center\":[{\"id\":\"32891\"},{\"id\":\"32895\"}],\"height\":400,\"left\":[{\"id\":\"32892\"}],\"renderers\":[{\"id\":\"32913\"},{\"id\":\"32918\"}],\"title\":{\"id\":\"33688\"},\"toolbar\":{\"id\":\"32903\"},\"toolbar_location\":null,\"width\":400,\"x_range\":{\"id\":\"32880\"},\"x_scale\":{\"id\":\"32884\"},\"y_range\":{\"id\":\"32882\"},\"y_scale\":{\"id\":\"32886\"}},\"id\":\"32879\",\"subtype\":\"Figure\",\"type\":\"Plot\"},{\"attributes\":{},\"id\":\"32880\",\"type\":\"DataRange1d\"},{\"attributes\":{},\"id\":\"33696\",\"type\":\"UnionRenderers\"},{\"attributes\":{\"data\":{\"text\":[\"(0, 0)\",\"(0, -1)\",\"(0, 1)\",\"(-1, 0)\",\"(-1, 1)\",\"(1, -1)\",\"(1, 0)\"],\"x\":{\"__ndarray__\":\"AAAAAAAAAACqTFjoerbrv6pMWOh6tus/qkxY6Hq2+7+qTFjoerbrv6pMWOh6tus/qkxY6Hq2+z8=\",\"dtype\":\"float64\",\"order\":\"little\",\"shape\":[7]},\"y\":{\"__ndarray__\":\"AAAAAAAAAIAAAAAAAAD4PwAAAAAAAPi/AAAAAAAAAIAAAAAAAAD4vwAAAAAAAPg/AAAAAAAAAIA=\",\"dtype\":\"float64\",\"order\":\"little\",\"shape\":[7]}},\"selected\":{\"id\":\"33699\"},\"selection_policy\":{\"id\":\"33698\"}},\"id\":\"32915\",\"type\":\"ColumnDataSource\"},{\"attributes\":{\"fill_alpha\":{\"value\":0.1},\"fill_color\":{\"field\":\"fill_color\"},\"line_alpha\":{\"value\":0.1},\"line_color\":{\"value\":\"black\"},\"q\":{\"field\":\"q\"},\"r\":{\"field\":\"r\"}},\"id\":\"32912\",\"type\":\"HexTile\"},{\"attributes\":{},\"id\":\"33697\",\"type\":\"Selection\"},{\"attributes\":{\"formatter\":{\"id\":\"33692\"},\"major_label_policy\":{\"id\":\"33693\"},\"ticker\":{\"id\":\"32893\"}},\"id\":\"32892\",\"type\":\"LinearAxis\"},{\"attributes\":{\"formatter\":{\"id\":\"33689\"},\"major_label_policy\":{\"id\":\"33690\"},\"ticker\":{\"id\":\"32889\"}},\"id\":\"32888\",\"type\":\"LinearAxis\"},{\"attributes\":{},\"id\":\"32882\",\"type\":\"DataRange1d\"},{\"attributes\":{},\"id\":\"32884\",\"type\":\"LinearScale\"},{\"attributes\":{\"data\":{\"fill_color\":[\"red\",\"red\",\"red\",\"red\",\"blue\",\"blue\",\"blue\"],\"q\":{\"__ndarray__\":\"AAAAAAAAAAAAAAAA//////////8BAAAAAQAAAA==\",\"dtype\":\"int32\",\"order\":\"little\",\"shape\":[7]},\"r\":{\"__ndarray__\":\"AAAAAP////8BAAAAAAAAAAEAAAD/////AAAAAA==\",\"dtype\":\"int32\",\"order\":\"little\",\"shape\":[7]}},\"selected\":{\"id\":\"33697\"},\"selection_policy\":{\"id\":\"33696\"}},\"id\":\"32910\",\"type\":\"ColumnDataSource\"},{\"attributes\":{},\"id\":\"32886\",\"type\":\"LinearScale\"},{\"attributes\":{\"active_multi\":null,\"tools\":[{\"id\":\"32896\"},{\"id\":\"32897\"},{\"id\":\"32898\"},{\"id\":\"32899\"},{\"id\":\"32900\"},{\"id\":\"32901\"}]},\"id\":\"32903\",\"type\":\"Toolbar\"},{\"attributes\":{\"source\":{\"id\":\"32910\"}},\"id\":\"32914\",\"type\":\"CDSView\"},{\"attributes\":{},\"id\":\"32901\",\"type\":\"HelpTool\"},{\"attributes\":{},\"id\":\"32889\",\"type\":\"BasicTicker\"},{\"attributes\":{\"data_source\":{\"id\":\"32915\"},\"glyph\":{\"id\":\"32916\"},\"hover_glyph\":null,\"muted_glyph\":null,\"nonselection_glyph\":{\"id\":\"32917\"},\"view\":{\"id\":\"32919\"}},\"id\":\"32918\",\"type\":\"GlyphRenderer\"},{\"attributes\":{\"axis\":{\"id\":\"32888\"},\"ticker\":null,\"visible\":false},\"id\":\"32891\",\"type\":\"Grid\"},{\"attributes\":{\"text_align\":{\"value\":\"center\"},\"text_baseline\":{\"field\":\"middel\"},\"text_color\":{\"value\":\"black\"},\"x\":{\"field\":\"x\"},\"y\":{\"field\":\"y\"}},\"id\":\"32916\",\"type\":\"Text\"},{\"attributes\":{\"axis\":{\"id\":\"32892\"},\"dimension\":1,\"ticker\":null,\"visible\":false},\"id\":\"32895\",\"type\":\"Grid\"},{\"attributes\":{},\"id\":\"32893\",\"type\":\"BasicTicker\"},{\"attributes\":{},\"id\":\"33698\",\"type\":\"UnionRenderers\"},{\"attributes\":{\"text_align\":{\"value\":\"center\"},\"text_alpha\":{\"value\":0.1},\"text_baseline\":{\"field\":\"middel\"},\"text_color\":{\"value\":\"black\"},\"x\":{\"field\":\"x\"},\"y\":{\"field\":\"y\"}},\"id\":\"32917\",\"type\":\"Text\"},{\"attributes\":{\"fill_alpha\":{\"value\":0.5},\"fill_color\":{\"field\":\"fill_color\"},\"line_alpha\":{\"value\":0.5},\"line_color\":{\"value\":\"black\"},\"q\":{\"field\":\"q\"},\"r\":{\"field\":\"r\"}},\"id\":\"32911\",\"type\":\"HexTile\"},{\"attributes\":{\"source\":{\"id\":\"32915\"}},\"id\":\"32919\",\"type\":\"CDSView\"},{\"attributes\":{},\"id\":\"32897\",\"type\":\"WheelZoomTool\"},{\"attributes\":{},\"id\":\"32896\",\"type\":\"PanTool\"},{\"attributes\":{},\"id\":\"33688\",\"type\":\"Title\"},{\"attributes\":{},\"id\":\"33692\",\"type\":\"BasicTickFormatter\"},{\"attributes\":{\"overlay\":{\"id\":\"32902\"}},\"id\":\"32898\",\"type\":\"BoxZoomTool\"},{\"attributes\":{},\"id\":\"32899\",\"type\":\"SaveTool\"},{\"attributes\":{},\"id\":\"33693\",\"type\":\"AllLabels\"},{\"attributes\":{\"data_source\":{\"id\":\"32910\"},\"glyph\":{\"id\":\"32911\"},\"hover_glyph\":null,\"muted_glyph\":null,\"nonselection_glyph\":{\"id\":\"32912\"},\"view\":{\"id\":\"32914\"}},\"id\":\"32913\",\"type\":\"GlyphRenderer\"},{\"attributes\":{},\"id\":\"32900\",\"type\":\"ResetTool\"},{\"attributes\":{},\"id\":\"33689\",\"type\":\"BasicTickFormatter\"},{\"attributes\":{},\"id\":\"33690\",\"type\":\"AllLabels\"},{\"attributes\":{\"bottom_units\":\"screen\",\"fill_alpha\":0.5,\"fill_color\":\"lightgrey\",\"left_units\":\"screen\",\"level\":\"overlay\",\"line_alpha\":1.0,\"line_color\":\"black\",\"line_dash\":[4,4],\"line_width\":2,\"right_units\":\"screen\",\"syncable\":false,\"top_units\":\"screen\"},\"id\":\"32902\",\"type\":\"BoxAnnotation\"},{\"attributes\":{},\"id\":\"33699\",\"type\":\"Selection\"}],\"root_ids\":[\"32879\"]},\"title\":\"Bokeh Application\",\"version\":\"2.3.2\"}};\n",
       "  var render_items = [{\"docid\":\"efcb32af-16a4-481f-8d1e-6ee785f40656\",\"root_ids\":[\"32879\"],\"roots\":{\"32879\":\"2b5f96ca-2f70-41db-92c5-a3b65bbb9588\"}}];\n",
       "  root.Bokeh.embed.embed_items_notebook(docs_json, render_items);\n",
       "\n",
       "  }\n",
       "  if (root.Bokeh !== undefined) {\n",
       "    embed_document(root);\n",
       "  } else {\n",
       "    var attempts = 0;\n",
       "    var timer = setInterval(function(root) {\n",
       "      if (root.Bokeh !== undefined) {\n",
       "        clearInterval(timer);\n",
       "        embed_document(root);\n",
       "      } else {\n",
       "        attempts++;\n",
       "        if (attempts > 100) {\n",
       "          clearInterval(timer);\n",
       "          console.log(\"Bokeh: ERROR: Unable to run BokehJS code because BokehJS library is missing\");\n",
       "        }\n",
       "      }\n",
       "    }, 10, root)\n",
       "  }\n",
       "})(window);"
      ],
      "application/vnd.bokehjs_exec.v0+json": ""
     },
     "metadata": {
      "application/vnd.bokehjs_exec.v0+json": {
       "id": "32879"
      }
     },
     "output_type": "display_data"
    }
   ],
   "source": [
    "# 육각타일을 데카르트 좌표계(catresian cordinate) 상에 표현하기 위한 라이브러리 \n",
    "from bokeh.util.hex import axial_to_cartesian\n",
    "\n",
    "# 데이터 좌표 설정 \n",
    "q = np.array([0,0, 0, -1, -1, 1, 1])\n",
    "r = np.array([0, -1, 1, 0, 1, -1, 0])\n",
    "\n",
    "# toolbar_location 을 통해 툴바의 위치를 옮기거나 제거할 수 있습니다. \n",
    "p = figure(plot_width=400, plot_height= 400, toolbar_location=None)\n",
    "# 그리드를 제거합니다. \n",
    "p.grid.visible= False \n",
    "\n",
    "# 색상을 여러개로 지정합니다\n",
    "p.hex_tile(q,r, size=1, fill_color=[\"red\"]*4 + [\"blue\"]*3, line_color='black', alpha=0.5)\n",
    "\n",
    "x,y = axial_to_cartesian(q,r, 1, 'pointytop')\n",
    "p.text(x,y, text=[\"(%d, %d)\"%(q,r) for q,r in zip(q,r)], text_baseline='middel', text_align='center')\n",
    "show(p)\n"
   ]
  },
  {
   "cell_type": "code",
   "execution_count": 107,
   "metadata": {},
   "outputs": [
    {
     "data": {
      "text/html": [
       "\n",
       "\n",
       "\n",
       "\n",
       "\n",
       "\n",
       "  <div class=\"bk-root\" id=\"bec1eb88-acf1-4e44-a37a-bdf119a8feb5\" data-root-id=\"33765\"></div>\n"
      ]
     },
     "metadata": {},
     "output_type": "display_data"
    },
    {
     "data": {
      "application/javascript": [
       "(function(root) {\n",
       "  function embed_document(root) {\n",
       "    \n",
       "  var docs_json = {\"66faadca-2202-49a7-8ba3-132379b70889\":{\"defs\":[],\"roots\":{\"references\":[{\"attributes\":{\"background_fill_color\":\"#083573\",\"below\":[{\"id\":\"33774\"}],\"center\":[{\"id\":\"33777\"},{\"id\":\"33781\"}],\"left\":[{\"id\":\"33778\"}],\"match_aspect\":true,\"renderers\":[{\"id\":\"33799\"}],\"title\":{\"id\":\"34582\"},\"toolbar\":{\"id\":\"33789\"},\"x_range\":{\"id\":\"33766\"},\"x_scale\":{\"id\":\"33770\"},\"y_range\":{\"id\":\"33768\"},\"y_scale\":{\"id\":\"33772\"}},\"id\":\"33765\",\"subtype\":\"Figure\",\"type\":\"Plot\"},{\"attributes\":{\"fill_color\":{\"field\":\"fill_color\"},\"q\":{\"field\":\"q\"},\"r\":{\"field\":\"r\"},\"size\":0.1},\"id\":\"33797\",\"type\":\"HexTile\"},{\"attributes\":{},\"id\":\"34586\",\"type\":\"BasicTickFormatter\"},{\"attributes\":{},\"id\":\"34587\",\"type\":\"AllLabels\"},{\"attributes\":{},\"id\":\"33770\",\"type\":\"LinearScale\"},{\"attributes\":{\"data_source\":{\"id\":\"33796\"},\"glyph\":{\"id\":\"33797\"},\"hover_glyph\":null,\"muted_glyph\":null,\"nonselection_glyph\":{\"id\":\"33798\"},\"view\":{\"id\":\"33800\"}},\"id\":\"33799\",\"type\":\"GlyphRenderer\"},{\"attributes\":{},\"id\":\"33785\",\"type\":\"SaveTool\"},{\"attributes\":{\"source\":{\"id\":\"33796\"}},\"id\":\"33800\",\"type\":\"CDSView\"},{\"attributes\":{},\"id\":\"33779\",\"type\":\"BasicTicker\"},{\"attributes\":{\"formatter\":{\"id\":\"34583\"},\"major_label_policy\":{\"id\":\"34584\"},\"ticker\":{\"id\":\"33775\"}},\"id\":\"33774\",\"type\":\"LinearAxis\"},{\"attributes\":{\"bottom_units\":\"screen\",\"fill_alpha\":0.5,\"fill_color\":\"lightgrey\",\"left_units\":\"screen\",\"level\":\"overlay\",\"line_alpha\":1.0,\"line_color\":\"black\",\"line_dash\":[4,4],\"line_width\":2,\"right_units\":\"screen\",\"syncable\":false,\"top_units\":\"screen\"},\"id\":\"33788\",\"type\":\"BoxAnnotation\"},{\"attributes\":{\"axis\":{\"id\":\"33778\"},\"dimension\":1,\"ticker\":null,\"visible\":false},\"id\":\"33781\",\"type\":\"Grid\"},{\"attributes\":{},\"id\":\"33775\",\"type\":\"BasicTicker\"},{\"attributes\":{\"axis\":{\"id\":\"33774\"},\"ticker\":null,\"visible\":false},\"id\":\"33777\",\"type\":\"Grid\"},{\"attributes\":{},\"id\":\"34582\",\"type\":\"Title\"},{\"attributes\":{\"data\":{\"fill_color\":[\"#083573\",\"#083573\",\"#083573\",\"#083573\",\"#083573\",\"#083573\",\"#083573\",\"#083573\",\"#083573\",\"#083573\",\"#083573\",\"#083573\",\"#083573\",\"#083573\",\"#083573\",\"#083a7a\",\"#083573\",\"#083573\",\"#083573\",\"#083573\",\"#083573\",\"#083573\",\"#083a7a\",\"#083a7a\",\"#083573\",\"#083573\",\"#083573\",\"#083573\",\"#083a7a\",\"#083573\",\"#083a7a\",\"#083573\",\"#084082\",\"#083a7a\",\"#083a7a\",\"#084082\",\"#083573\",\"#083573\",\"#083573\",\"#083573\",\"#083573\",\"#083573\",\"#083573\",\"#083a7a\",\"#083a7a\",\"#083573\",\"#084082\",\"#083573\",\"#083a7a\",\"#083a7a\",\"#083573\",\"#083573\",\"#083573\",\"#083573\",\"#083573\",\"#083a7a\",\"#08458a\",\"#084082\",\"#084082\",\"#084082\",\"#0f5aa3\",\"#08458a\",\"#084082\",\"#083573\",\"#083a7a\",\"#083a7a\",\"#084082\",\"#08458a\",\"#083573\",\"#083573\",\"#083573\",\"#083573\",\"#083a7a\",\"#083573\",\"#084082\",\"#083a7a\",\"#083a7a\",\"#083573\",\"#084082\",\"#084082\",\"#084082\",\"#08509b\",\"#2a7ab9\",\"#084082\",\"#084082\",\"#083573\",\"#084082\",\"#083a7a\",\"#083573\",\"#083a7a\",\"#083573\",\"#083573\",\"#083573\",\"#083a7a\",\"#084082\",\"#083573\",\"#083a7a\",\"#083a7a\",\"#08458a\",\"#083a7a\",\"#084082\",\"#08509b\",\"#08458a\",\"#084b93\",\"#083a7a\",\"#084b93\",\"#08509b\",\"#084b93\",\"#08458a\",\"#083573\",\"#083573\",\"#084082\",\"#083573\",\"#083a7a\",\"#083573\",\"#083573\",\"#083573\",\"#083573\",\"#083573\",\"#084082\",\"#083a7a\",\"#084082\",\"#08509b\",\"#08509b\",\"#084b93\",\"#206fb4\",\"#08509b\",\"#08509b\",\"#08458a\",\"#0b559f\",\"#135fa7\",\"#1865ac\",\"#08509b\",\"#08458a\",\"#083573\",\"#083573\",\"#083a7a\",\"#083573\",\"#083573\",\"#083573\",\"#083a7a\",\"#084b93\",\"#084b93\",\"#083a7a\",\"#1865ac\",\"#1865ac\",\"#084082\",\"#135fa7\",\"#0f5aa3\",\"#08509b\",\"#0f5aa3\",\"#135fa7\",\"#084b93\",\"#084b93\",\"#08458a\",\"#083a7a\",\"#083573\",\"#084082\",\"#083a7a\",\"#083a7a\",\"#083573\",\"#083573\",\"#083a7a\",\"#083a7a\",\"#083573\",\"#084082\",\"#08458a\",\"#083a7a\",\"#084082\",\"#084b93\",\"#1c6ab0\",\"#084b93\",\"#1865ac\",\"#135fa7\",\"#1c6ab0\",\"#084b93\",\"#2474b7\",\"#1c6ab0\",\"#2474b7\",\"#0b559f\",\"#084b93\",\"#08458a\",\"#083a7a\",\"#08509b\",\"#08509b\",\"#084082\",\"#083a7a\",\"#083a7a\",\"#083573\",\"#083a7a\",\"#083573\",\"#083573\",\"#083573\",\"#084082\",\"#08458a\",\"#08509b\",\"#084082\",\"#0f5aa3\",\"#0f5aa3\",\"#1865ac\",\"#084b93\",\"#135fa7\",\"#2474b7\",\"#206fb4\",\"#206fb4\",\"#1c6ab0\",\"#3585bf\",\"#3a8ac2\",\"#3080bd\",\"#1c6ab0\",\"#1865ac\",\"#1c6ab0\",\"#084082\",\"#083a7a\",\"#083573\",\"#083a7a\",\"#083573\",\"#083573\",\"#083573\",\"#083573\",\"#083573\",\"#083573\",\"#083573\",\"#083a7a\",\"#083a7a\",\"#084082\",\"#083a7a\",\"#083a7a\",\"#0b559f\",\"#08509b\",\"#2a7ab9\",\"#3080bd\",\"#1c6ab0\",\"#3585bf\",\"#3f8fc5\",\"#3a8ac2\",\"#2474b7\",\"#4d99ca\",\"#2474b7\",\"#4d99ca\",\"#3080bd\",\"#3a8ac2\",\"#3080bd\",\"#08458a\",\"#08509b\",\"#08458a\",\"#083a7a\",\"#083573\",\"#083573\",\"#083573\",\"#08458a\",\"#083573\",\"#083573\",\"#083573\",\"#08458a\",\"#084082\",\"#084082\",\"#135fa7\",\"#2474b7\",\"#084b93\",\"#1865ac\",\"#1865ac\",\"#3f8fc5\",\"#4d99ca\",\"#3585bf\",\"#3a8ac2\",\"#4594c7\",\"#539ecd\",\"#87bddc\",\"#3f8fc5\",\"#2a7ab9\",\"#2a7ab9\",\"#08458a\",\"#135fa7\",\"#135fa7\",\"#084082\",\"#084b93\",\"#08458a\",\"#084082\",\"#08458a\",\"#083573\",\"#083573\",\"#083573\",\"#083a7a\",\"#083a7a\",\"#084082\",\"#08509b\",\"#084082\",\"#084b93\",\"#1c6ab0\",\"#1c6ab0\",\"#3585bf\",\"#4d99ca\",\"#60a7d2\",\"#3a8ac2\",\"#cadef0\",\"#77b5d9\",\"#66abd4\",\"#66abd4\",\"#539ecd\",\"#6fb0d7\",\"#3585bf\",\"#3f8fc5\",\"#0b559f\",\"#2a7ab9\",\"#08458a\",\"#0b559f\",\"#083a7a\",\"#084082\",\"#083a7a\",\"#08458a\",\"#083573\",\"#084082\",\"#084082\",\"#083a7a\",\"#08458a\",\"#084b93\",\"#08509b\",\"#084b93\",\"#135fa7\",\"#3080bd\",\"#539ecd\",\"#4d99ca\",\"#66abd4\",\"#66abd4\",\"#77b5d9\",\"#4d99ca\",\"#5aa2cf\",\"#7fb9da\",\"#a0cbe2\",\"#a0cbe2\",\"#3f8fc5\",\"#5aa2cf\",\"#3080bd\",\"#1865ac\",\"#135fa7\",\"#135fa7\",\"#084b93\",\"#135fa7\",\"#083573\",\"#083573\",\"#083573\",\"#083573\",\"#083573\",\"#083a7a\",\"#084082\",\"#084082\",\"#135fa7\",\"#08509b\",\"#08509b\",\"#2474b7\",\"#3f8fc5\",\"#2a7ab9\",\"#2474b7\",\"#5aa2cf\",\"#a0cbe2\",\"#a6cee4\",\"#a0cbe2\",\"#8fc2de\",\"#a0cbe2\",\"#99c7e0\",\"#66abd4\",\"#7fb9da\",\"#87bddc\",\"#3a8ac2\",\"#2474b7\",\"#3585bf\",\"#1c6ab0\",\"#08509b\",\"#0b559f\",\"#08509b\",\"#084b93\",\"#083a7a\",\"#083573\",\"#083573\",\"#083a7a\",\"#083573\",\"#083a7a\",\"#084082\",\"#084082\",\"#083573\",\"#083a7a\",\"#0b559f\",\"#1865ac\",\"#3080bd\",\"#0b559f\",\"#206fb4\",\"#87bddc\",\"#7fb9da\",\"#77b5d9\",\"#c7dbef\",\"#99c7e0\",\"#bad6eb\",\"#b3d3e8\",\"#dae8f6\",\"#dae8f6\",\"#6fb0d7\",\"#66abd4\",\"#4594c7\",\"#8fc2de\",\"#3f8fc5\",\"#2a7ab9\",\"#1c6ab0\",\"#084082\",\"#08458a\",\"#08509b\",\"#08458a\",\"#083a7a\",\"#084082\",\"#084082\",\"#083a7a\",\"#083a7a\",\"#083a7a\",\"#084082\",\"#08458a\",\"#0f5aa3\",\"#0b559f\",\"#206fb4\",\"#2474b7\",\"#3a8ac2\",\"#66abd4\",\"#8fc2de\",\"#b3d3e8\",\"#4d99ca\",\"#6fb0d7\",\"#bad6eb\",\"#e2edf8\",\"#add0e6\",\"#dae8f6\",\"#cee0f2\",\"#8fc2de\",\"#7fb9da\",\"#60a7d2\",\"#206fb4\",\"#206fb4\",\"#0f5aa3\",\"#135fa7\",\"#08458a\",\"#0f5aa3\",\"#083a7a\",\"#083573\",\"#083573\",\"#083573\",\"#083573\",\"#083a7a\",\"#083a7a\",\"#084082\",\"#0f5aa3\",\"#084082\",\"#0b559f\",\"#08509b\",\"#135fa7\",\"#4594c7\",\"#3080bd\",\"#539ecd\",\"#add0e6\",\"#8fc2de\",\"#a6cee4\",\"#d3e3f3\",\"#c7dbef\",\"#a6cee4\",\"#cadef0\",\"#c1d9ed\",\"#8fc2de\",\"#7fb9da\",\"#6fb0d7\",\"#7fb9da\",\"#3a8ac2\",\"#084b93\",\"#2a7ab9\",\"#2474b7\",\"#135fa7\",\"#0f5aa3\",\"#084b93\",\"#083a7a\",\"#084082\",\"#083573\",\"#083573\",\"#08458a\",\"#083573\",\"#083a7a\",\"#083a7a\",\"#0f5aa3\",\"#0f5aa3\",\"#0b559f\",\"#2a7ab9\",\"#2474b7\",\"#3a8ac2\",\"#539ecd\",\"#dae8f6\",\"#e2edf8\",\"#b3d3e8\",\"#cee0f2\",\"#b3d3e8\",\"#dae8f6\",\"#f7fbff\",\"#e7f0fa\",\"#99c7e0\",\"#b3d3e8\",\"#a0cbe2\",\"#539ecd\",\"#3a8ac2\",\"#2474b7\",\"#2474b7\",\"#08458a\",\"#08509b\",\"#08509b\",\"#083573\",\"#083573\",\"#083a7a\",\"#083573\",\"#083573\",\"#083573\",\"#084b93\",\"#083a7a\",\"#206fb4\",\"#206fb4\",\"#206fb4\",\"#3a8ac2\",\"#539ecd\",\"#3a8ac2\",\"#b3d3e8\",\"#d6e6f4\",\"#a6cee4\",\"#eaf3fb\",\"#e7f0fa\",\"#dae8f6\",\"#e7f0fa\",\"#a6cee4\",\"#add0e6\",\"#bad6eb\",\"#99c7e0\",\"#7fb9da\",\"#539ecd\",\"#1865ac\",\"#1c6ab0\",\"#135fa7\",\"#135fa7\",\"#08458a\",\"#084082\",\"#083a7a\",\"#083a7a\",\"#083573\",\"#084082\",\"#083573\",\"#084082\",\"#08458a\",\"#08509b\",\"#135fa7\",\"#0f5aa3\",\"#4594c7\",\"#3585bf\",\"#539ecd\",\"#77b5d9\",\"#6fb0d7\",\"#7fb9da\",\"#b3d3e8\",\"#b3d3e8\",\"#c1d9ed\",\"#d6e6f4\",\"#dae8f6\",\"#cadef0\",\"#c1d9ed\",\"#66abd4\",\"#a6cee4\",\"#3585bf\",\"#2474b7\",\"#0b559f\",\"#084b93\",\"#084b93\",\"#0b559f\",\"#083a7a\",\"#084b93\",\"#083573\",\"#083573\",\"#084082\",\"#084082\",\"#084082\",\"#08458a\",\"#084b93\",\"#08458a\",\"#1c6ab0\",\"#2a7ab9\",\"#3f8fc5\",\"#3f8fc5\",\"#77b5d9\",\"#539ecd\",\"#add0e6\",\"#e2edf8\",\"#cadef0\",\"#add0e6\",\"#7fb9da\",\"#d6e6f4\",\"#d3e3f3\",\"#87bddc\",\"#77b5d9\",\"#60a7d2\",\"#4d99ca\",\"#4594c7\",\"#3080bd\",\"#0f5aa3\",\"#084082\",\"#1865ac\",\"#08509b\",\"#083573\",\"#084082\",\"#083573\",\"#083a7a\",\"#083573\",\"#083a7a\",\"#083a7a\",\"#084082\",\"#084082\",\"#084b93\",\"#135fa7\",\"#4594c7\",\"#1865ac\",\"#1865ac\",\"#3f8fc5\",\"#6fb0d7\",\"#87bddc\",\"#87bddc\",\"#b3d3e8\",\"#deebf7\",\"#e7f0fa\",\"#d3e3f3\",\"#87bddc\",\"#a6cee4\",\"#a6cee4\",\"#99c7e0\",\"#66abd4\",\"#5aa2cf\",\"#206fb4\",\"#2474b7\",\"#0b559f\",\"#08458a\",\"#084082\",\"#08458a\",\"#083a7a\",\"#083573\",\"#083573\",\"#083573\",\"#084b93\",\"#08509b\",\"#084b93\",\"#0b559f\",\"#135fa7\",\"#08509b\",\"#3a8ac2\",\"#3080bd\",\"#77b5d9\",\"#66abd4\",\"#6fb0d7\",\"#87bddc\",\"#add0e6\",\"#add0e6\",\"#a0cbe2\",\"#7fb9da\",\"#87bddc\",\"#c1d9ed\",\"#87bddc\",\"#77b5d9\",\"#5aa2cf\",\"#3a8ac2\",\"#135fa7\",\"#08509b\",\"#0b559f\",\"#084082\",\"#084b93\",\"#083a7a\",\"#083a7a\",\"#083a7a\",\"#083573\",\"#083a7a\",\"#083573\",\"#083573\",\"#084082\",\"#083573\",\"#08458a\",\"#084b93\",\"#08458a\",\"#206fb4\",\"#2a7ab9\",\"#206fb4\",\"#1865ac\",\"#60a7d2\",\"#3f8fc5\",\"#c1d9ed\",\"#99c7e0\",\"#cadef0\",\"#c7dbef\",\"#99c7e0\",\"#6fb0d7\",\"#8fc2de\",\"#8fc2de\",\"#77b5d9\",\"#66abd4\",\"#3080bd\",\"#135fa7\",\"#135fa7\",\"#1c6ab0\",\"#084b93\",\"#084082\",\"#08509b\",\"#083573\",\"#083573\",\"#083573\",\"#083573\",\"#083573\",\"#083573\",\"#08458a\",\"#083a7a\",\"#083573\",\"#1c6ab0\",\"#0f5aa3\",\"#08458a\",\"#4594c7\",\"#1865ac\",\"#2474b7\",\"#4594c7\",\"#6fb0d7\",\"#87bddc\",\"#8fc2de\",\"#99c7e0\",\"#87bddc\",\"#a6cee4\",\"#539ecd\",\"#3f8fc5\",\"#3f8fc5\",\"#2474b7\",\"#206fb4\",\"#206fb4\",\"#0f5aa3\",\"#0b559f\",\"#084082\",\"#08509b\",\"#08458a\",\"#083573\",\"#083573\",\"#083573\",\"#083573\",\"#083573\",\"#083573\",\"#083573\",\"#083573\",\"#084b93\",\"#084082\",\"#084b93\",\"#0f5aa3\",\"#1865ac\",\"#1c6ab0\",\"#2a7ab9\",\"#3f8fc5\",\"#3a8ac2\",\"#3f8fc5\",\"#4594c7\",\"#a6cee4\",\"#539ecd\",\"#6fb0d7\",\"#6fb0d7\",\"#60a7d2\",\"#2474b7\",\"#4d99ca\",\"#206fb4\",\"#135fa7\",\"#206fb4\",\"#2474b7\",\"#08458a\",\"#08458a\",\"#083573\",\"#083a7a\",\"#08458a\",\"#083a7a\",\"#083573\",\"#083573\",\"#083573\",\"#084082\",\"#083573\",\"#084b93\",\"#135fa7\",\"#0f5aa3\",\"#0f5aa3\",\"#08458a\",\"#206fb4\",\"#1c6ab0\",\"#2a7ab9\",\"#2a7ab9\",\"#3585bf\",\"#3a8ac2\",\"#87bddc\",\"#3585bf\",\"#3f8fc5\",\"#8fc2de\",\"#135fa7\",\"#135fa7\",\"#1c6ab0\",\"#2a7ab9\",\"#08458a\",\"#0b559f\",\"#083a7a\",\"#083a7a\",\"#084082\",\"#083a7a\",\"#083573\",\"#083a7a\",\"#083a7a\",\"#084b93\",\"#08458a\",\"#206fb4\",\"#1865ac\",\"#206fb4\",\"#206fb4\",\"#1c6ab0\",\"#2a7ab9\",\"#4594c7\",\"#3a8ac2\",\"#3080bd\",\"#60a7d2\",\"#2a7ab9\",\"#539ecd\",\"#206fb4\",\"#08509b\",\"#2a7ab9\",\"#0b559f\",\"#0b559f\",\"#084082\",\"#084082\",\"#083573\",\"#083573\",\"#083573\",\"#083573\",\"#083a7a\",\"#084082\",\"#084082\",\"#083a7a\",\"#08458a\",\"#0f5aa3\",\"#084b93\",\"#08458a\",\"#135fa7\",\"#1865ac\",\"#2a7ab9\",\"#0f5aa3\",\"#3585bf\",\"#3f8fc5\",\"#1865ac\",\"#0b559f\",\"#08458a\",\"#1c6ab0\",\"#135fa7\",\"#084b93\",\"#084b93\",\"#084082\",\"#084b93\",\"#083a7a\",\"#083573\",\"#084082\",\"#083573\",\"#083573\",\"#083a7a\",\"#083573\",\"#083a7a\",\"#083a7a\",\"#084082\",\"#084b93\",\"#084b93\",\"#08509b\",\"#0b559f\",\"#084b93\",\"#3a8ac2\",\"#1c6ab0\",\"#135fa7\",\"#1865ac\",\"#1865ac\",\"#2474b7\",\"#3080bd\",\"#0b559f\",\"#0f5aa3\",\"#084b93\",\"#08509b\",\"#083a7a\",\"#084082\",\"#084082\",\"#083573\",\"#083573\",\"#083573\",\"#083573\",\"#083573\",\"#083573\",\"#084082\",\"#083a7a\",\"#083a7a\",\"#08458a\",\"#084b93\",\"#08458a\",\"#0b559f\",\"#0b559f\",\"#206fb4\",\"#2a7ab9\",\"#08509b\",\"#1c6ab0\",\"#08509b\",\"#084b93\",\"#135fa7\",\"#1865ac\",\"#083a7a\",\"#08458a\",\"#08509b\",\"#083a7a\",\"#084b93\",\"#083573\",\"#083a7a\",\"#083a7a\",\"#083573\",\"#083a7a\",\"#083a7a\",\"#083a7a\",\"#084082\",\"#083573\",\"#084b93\",\"#08458a\",\"#084b93\",\"#135fa7\",\"#1c6ab0\",\"#08458a\",\"#084b93\",\"#084082\",\"#084b93\",\"#084b93\",\"#084b93\",\"#083573\",\"#083a7a\",\"#083a7a\",\"#083a7a\",\"#083573\",\"#083573\",\"#083573\",\"#083573\",\"#083573\",\"#083573\",\"#083573\",\"#084082\",\"#083a7a\",\"#0b559f\",\"#084b93\",\"#0b559f\",\"#083573\",\"#08458a\",\"#083573\",\"#084082\",\"#084b93\",\"#083a7a\",\"#08458a\",\"#083573\",\"#083573\",\"#083a7a\",\"#083573\",\"#083573\",\"#084082\",\"#084082\",\"#083a7a\",\"#084b93\",\"#08458a\",\"#084082\",\"#08458a\",\"#083573\",\"#08458a\",\"#084082\",\"#084082\",\"#08458a\",\"#083573\",\"#083573\",\"#083573\",\"#083573\",\"#083573\",\"#083573\",\"#083a7a\",\"#083a7a\",\"#083a7a\",\"#084082\",\"#08458a\",\"#083a7a\",\"#083a7a\",\"#083573\",\"#083a7a\",\"#083573\",\"#083573\",\"#083a7a\",\"#083573\",\"#083a7a\",\"#083a7a\",\"#083573\",\"#083a7a\",\"#083573\",\"#083a7a\",\"#083a7a\",\"#083573\",\"#084082\",\"#083a7a\",\"#083573\",\"#083a7a\",\"#083573\",\"#083573\",\"#083573\",\"#083573\",\"#084082\",\"#083573\",\"#083a7a\",\"#083573\",\"#083a7a\",\"#083a7a\",\"#083573\",\"#083573\",\"#083573\",\"#083573\",\"#083573\",\"#083573\",\"#083573\",\"#083573\",\"#083a7a\",\"#083573\",\"#083573\",\"#083573\",\"#083573\",\"#083573\",\"#083573\",\"#083573\",\"#083573\",\"#083573\",\"#083573\",\"#083573\"],\"q\":[-27,-26,-24,-23,-23,-23,-22,-22,-22,-22,-21,-21,-21,-21,-20,-20,-20,-20,-19,-19,-19,-19,-19,-19,-19,-18,-18,-18,-18,-18,-18,-18,-18,-18,-18,-18,-18,-18,-18,-17,-17,-17,-17,-17,-17,-17,-17,-17,-17,-17,-17,-17,-16,-16,-16,-16,-16,-16,-16,-16,-16,-16,-16,-16,-16,-16,-16,-16,-16,-15,-15,-15,-15,-15,-15,-15,-15,-15,-15,-15,-15,-15,-15,-15,-15,-15,-15,-15,-15,-15,-15,-15,-14,-14,-14,-14,-14,-14,-14,-14,-14,-14,-14,-14,-14,-14,-14,-14,-14,-14,-14,-14,-14,-14,-14,-14,-13,-13,-13,-13,-13,-13,-13,-13,-13,-13,-13,-13,-13,-13,-13,-13,-13,-13,-13,-13,-13,-13,-13,-12,-12,-12,-12,-12,-12,-12,-12,-12,-12,-12,-12,-12,-12,-12,-12,-12,-12,-12,-12,-12,-12,-12,-11,-11,-11,-11,-11,-11,-11,-11,-11,-11,-11,-11,-11,-11,-11,-11,-11,-11,-11,-11,-11,-11,-11,-11,-11,-11,-10,-10,-10,-10,-10,-10,-10,-10,-10,-10,-10,-10,-10,-10,-10,-10,-10,-10,-10,-10,-10,-10,-10,-10,-10,-10,-10,-10,-10,-10,-10,-10,-9,-9,-9,-9,-9,-9,-9,-9,-9,-9,-9,-9,-9,-9,-9,-9,-9,-9,-9,-9,-9,-9,-9,-9,-9,-9,-9,-9,-9,-9,-9,-8,-8,-8,-8,-8,-8,-8,-8,-8,-8,-8,-8,-8,-8,-8,-8,-8,-8,-8,-8,-8,-8,-8,-8,-8,-8,-8,-8,-8,-8,-8,-7,-7,-7,-7,-7,-7,-7,-7,-7,-7,-7,-7,-7,-7,-7,-7,-7,-7,-7,-7,-7,-7,-7,-7,-7,-7,-7,-7,-7,-6,-6,-6,-6,-6,-6,-6,-6,-6,-6,-6,-6,-6,-6,-6,-6,-6,-6,-6,-6,-6,-6,-6,-6,-6,-6,-6,-6,-6,-6,-6,-5,-5,-5,-5,-5,-5,-5,-5,-5,-5,-5,-5,-5,-5,-5,-5,-5,-5,-5,-5,-5,-5,-5,-5,-5,-5,-5,-5,-5,-5,-5,-5,-5,-4,-4,-4,-4,-4,-4,-4,-4,-4,-4,-4,-4,-4,-4,-4,-4,-4,-4,-4,-4,-4,-4,-4,-4,-4,-4,-4,-4,-4,-4,-4,-4,-4,-4,-3,-3,-3,-3,-3,-3,-3,-3,-3,-3,-3,-3,-3,-3,-3,-3,-3,-3,-3,-3,-3,-3,-3,-3,-3,-3,-3,-3,-3,-3,-3,-3,-3,-2,-2,-2,-2,-2,-2,-2,-2,-2,-2,-2,-2,-2,-2,-2,-2,-2,-2,-2,-2,-2,-2,-2,-2,-2,-2,-2,-2,-2,-2,-2,-2,-2,-2,-2,-1,-1,-1,-1,-1,-1,-1,-1,-1,-1,-1,-1,-1,-1,-1,-1,-1,-1,-1,-1,-1,-1,-1,-1,-1,-1,-1,-1,-1,-1,-1,-1,-1,-1,-1,0,0,0,0,0,0,0,0,0,0,0,0,0,0,0,0,0,0,0,0,0,0,0,0,0,0,0,0,0,0,1,1,1,1,1,1,1,1,1,1,1,1,1,1,1,1,1,1,1,1,1,1,1,1,1,1,1,1,1,1,1,1,1,2,2,2,2,2,2,2,2,2,2,2,2,2,2,2,2,2,2,2,2,2,2,2,2,2,2,2,2,2,2,2,3,3,3,3,3,3,3,3,3,3,3,3,3,3,3,3,3,3,3,3,3,3,3,3,3,3,3,3,3,3,3,3,3,3,3,4,4,4,4,4,4,4,4,4,4,4,4,4,4,4,4,4,4,4,4,4,4,4,4,4,4,4,4,4,4,4,4,4,4,5,5,5,5,5,5,5,5,5,5,5,5,5,5,5,5,5,5,5,5,5,5,5,5,5,5,5,5,5,5,5,5,6,6,6,6,6,6,6,6,6,6,6,6,6,6,6,6,6,6,6,6,6,6,6,6,6,6,6,6,6,6,6,6,6,6,6,7,7,7,7,7,7,7,7,7,7,7,7,7,7,7,7,7,7,7,7,7,7,7,7,7,7,7,7,7,7,7,7,7,8,8,8,8,8,8,8,8,8,8,8,8,8,8,8,8,8,8,8,8,8,8,8,8,8,8,8,8,9,9,9,9,9,9,9,9,9,9,9,9,9,9,9,9,9,9,9,9,9,9,9,9,9,9,9,10,10,10,10,10,10,10,10,10,10,10,10,10,10,10,10,10,10,10,10,10,10,10,10,10,10,10,10,10,11,11,11,11,11,11,11,11,11,11,11,11,11,11,11,11,11,11,11,11,11,11,11,11,11,11,11,11,12,12,12,12,12,12,12,12,12,12,12,12,12,12,12,12,12,12,12,12,12,12,12,12,12,12,13,13,13,13,13,13,13,13,13,13,13,13,13,13,13,13,13,13,13,13,13,13,13,13,13,14,14,14,14,14,14,14,14,14,14,14,14,14,14,14,14,14,14,15,15,15,15,15,15,15,15,15,15,15,15,15,15,15,15,15,16,16,16,16,16,16,16,16,16,16,16,16,16,16,16,16,17,17,17,17,17,17,17,17,17,17,17,17,17,17,18,18,18,18,18,18,18,18,18,18,18,19,19,19,19,19,19,20,20,20,21,21,22,22,22,22,23,24],\"r\":[15,15,13,6,14,18,6,8,13,19,16,17,18,19,4,5,9,25,2,6,7,10,13,15,16,-2,-1,5,6,7,9,10,11,12,13,14,15,17,22,-5,-3,3,4,6,8,9,10,12,13,15,16,17,-4,-3,0,1,2,3,4,5,6,9,10,11,12,13,14,16,21,-3,-2,-1,0,1,2,3,4,5,6,7,8,9,10,11,12,13,14,15,17,20,22,23,-5,-4,-3,-1,0,1,2,3,4,5,6,7,8,9,10,11,12,13,14,15,16,17,18,19,-14,-5,-3,-2,-1,0,1,2,3,4,5,6,7,8,9,10,11,12,13,14,17,22,26,-6,-4,-2,-1,0,1,2,3,4,5,6,7,8,9,10,11,12,13,14,15,17,18,20,-10,-7,-6,-5,-4,-3,-2,-1,0,1,2,3,4,5,6,7,8,9,10,11,12,13,14,15,17,19,-13,-12,-10,-9,-8,-7,-6,-5,-4,-3,-2,-1,0,1,2,3,4,5,6,7,8,9,10,11,12,13,14,15,16,17,20,22,-12,-11,-10,-9,-8,-7,-6,-5,-4,-3,-2,-1,0,1,2,3,4,5,6,7,8,9,10,11,12,13,14,15,16,17,19,-11,-10,-9,-8,-7,-6,-5,-4,-3,-2,-1,0,1,2,3,4,5,6,7,8,9,10,11,12,13,14,15,16,17,20,23,-12,-10,-9,-8,-7,-6,-5,-4,-3,-2,-1,0,1,2,3,4,5,6,7,8,9,10,11,12,13,14,15,16,17,-13,-12,-11,-10,-9,-8,-7,-6,-5,-4,-3,-2,-1,0,1,2,3,4,5,6,7,8,9,10,11,12,13,14,16,17,19,-19,-14,-12,-11,-10,-9,-8,-7,-6,-5,-4,-3,-2,-1,0,1,2,3,4,5,6,7,8,9,10,11,12,13,14,15,16,17,18,-18,-15,-14,-13,-12,-11,-10,-9,-8,-7,-6,-5,-4,-3,-2,-1,0,1,2,3,4,5,6,7,8,9,10,11,12,13,14,15,16,17,-17,-15,-13,-12,-11,-10,-9,-8,-7,-6,-5,-4,-3,-2,-1,0,1,2,3,4,5,6,7,8,9,10,11,12,13,14,15,17,18,-18,-16,-15,-14,-13,-12,-11,-10,-9,-8,-7,-6,-5,-4,-3,-2,-1,0,1,2,3,4,5,6,7,8,9,10,11,12,13,14,15,16,17,-16,-15,-14,-13,-12,-11,-10,-9,-8,-7,-6,-5,-4,-3,-2,-1,0,1,2,3,4,5,6,7,8,9,10,11,12,13,14,15,16,18,19,-16,-13,-12,-11,-10,-9,-8,-7,-6,-5,-4,-3,-2,-1,0,1,2,3,4,5,6,7,8,9,10,11,12,13,14,17,-17,-16,-15,-14,-13,-12,-11,-10,-9,-8,-7,-6,-5,-4,-3,-2,-1,0,1,2,3,4,5,6,7,8,9,10,11,12,13,15,16,-18,-16,-15,-14,-13,-12,-11,-10,-9,-8,-7,-6,-5,-4,-3,-2,-1,0,1,2,3,4,5,6,7,8,9,10,11,12,13,-24,-19,-18,-17,-16,-15,-14,-13,-12,-11,-10,-9,-8,-7,-6,-5,-4,-3,-2,-1,0,1,2,3,4,5,6,7,8,9,10,11,12,13,16,-17,-16,-15,-14,-13,-12,-11,-10,-9,-8,-7,-6,-5,-4,-3,-2,-1,0,1,2,3,4,5,6,7,8,9,10,11,12,13,14,16,17,-20,-17,-16,-15,-14,-13,-12,-11,-10,-9,-8,-7,-6,-5,-4,-3,-2,-1,0,1,2,3,4,5,6,7,8,9,10,11,14,16,-20,-19,-18,-17,-16,-15,-14,-13,-12,-11,-10,-9,-8,-7,-6,-5,-4,-3,-2,-1,0,1,2,3,4,5,6,7,8,9,10,11,12,14,18,-23,-18,-17,-16,-15,-14,-13,-12,-11,-10,-9,-8,-7,-6,-5,-4,-3,-2,-1,0,1,2,3,4,5,6,7,8,9,10,11,12,13,-18,-17,-16,-15,-14,-13,-12,-11,-10,-9,-8,-7,-6,-5,-4,-3,-2,-1,0,1,2,3,4,5,6,7,8,9,-18,-16,-15,-14,-13,-12,-11,-10,-9,-8,-7,-6,-5,-4,-3,-2,-1,0,1,2,3,4,5,6,7,8,9,-19,-17,-16,-15,-14,-13,-12,-11,-10,-9,-8,-7,-6,-5,-4,-3,-2,-1,0,1,2,3,4,5,6,7,8,9,10,-20,-18,-16,-15,-14,-13,-12,-11,-10,-9,-8,-7,-6,-5,-4,-3,-2,-1,0,1,2,3,4,5,6,7,9,13,-22,-21,-17,-15,-14,-13,-12,-11,-10,-9,-8,-7,-6,-5,-4,-3,-2,-1,0,1,2,3,4,5,6,9,-21,-17,-15,-14,-13,-12,-11,-10,-9,-8,-7,-6,-5,-4,-3,-2,-1,0,1,2,3,4,5,8,10,-17,-16,-15,-12,-11,-10,-9,-8,-7,-6,-5,-4,-3,-1,0,1,2,3,-19,-18,-16,-15,-14,-12,-11,-10,-9,-8,-7,-6,-5,-4,-3,0,2,-20,-19,-15,-13,-12,-11,-10,-9,-7,-6,-4,-3,-2,-1,0,2,-16,-15,-14,-13,-10,-9,-8,-7,-6,-5,-3,-2,-1,0,-18,-17,-16,-15,-14,-12,-7,-6,-5,-3,-2,-18,-15,-13,-12,-6,-1,-20,-12,-10,-10,-6,-21,-17,-15,-2,-18,-3]},\"selected\":{\"id\":\"34591\"},\"selection_policy\":{\"id\":\"34590\"}},\"id\":\"33796\",\"type\":\"ColumnDataSource\"},{\"attributes\":{},\"id\":\"34583\",\"type\":\"BasicTickFormatter\"},{\"attributes\":{},\"id\":\"33787\",\"type\":\"HelpTool\"},{\"attributes\":{},\"id\":\"34590\",\"type\":\"UnionRenderers\"},{\"attributes\":{},\"id\":\"34584\",\"type\":\"AllLabels\"},{\"attributes\":{},\"id\":\"34591\",\"type\":\"Selection\"},{\"attributes\":{},\"id\":\"33782\",\"type\":\"PanTool\"},{\"attributes\":{},\"id\":\"33783\",\"type\":\"WheelZoomTool\"},{\"attributes\":{},\"id\":\"33772\",\"type\":\"LinearScale\"},{\"attributes\":{},\"id\":\"33766\",\"type\":\"DataRange1d\"},{\"attributes\":{},\"id\":\"33768\",\"type\":\"DataRange1d\"},{\"attributes\":{\"overlay\":{\"id\":\"33788\"}},\"id\":\"33784\",\"type\":\"BoxZoomTool\"},{\"attributes\":{\"formatter\":{\"id\":\"34586\"},\"major_label_policy\":{\"id\":\"34587\"},\"ticker\":{\"id\":\"33779\"}},\"id\":\"33778\",\"type\":\"LinearAxis\"},{\"attributes\":{\"fill_alpha\":{\"value\":0.1},\"fill_color\":{\"field\":\"fill_color\"},\"line_alpha\":{\"value\":0.1},\"q\":{\"field\":\"q\"},\"r\":{\"field\":\"r\"},\"size\":0.1},\"id\":\"33798\",\"type\":\"HexTile\"},{\"attributes\":{\"active_multi\":null,\"tools\":[{\"id\":\"33782\"},{\"id\":\"33783\"},{\"id\":\"33784\"},{\"id\":\"33785\"},{\"id\":\"33786\"},{\"id\":\"33787\"}]},\"id\":\"33789\",\"type\":\"Toolbar\"},{\"attributes\":{},\"id\":\"33786\",\"type\":\"ResetTool\"}],\"root_ids\":[\"33765\"]},\"title\":\"Bokeh Application\",\"version\":\"2.3.2\"}};\n",
       "  var render_items = [{\"docid\":\"66faadca-2202-49a7-8ba3-132379b70889\",\"root_ids\":[\"33765\"],\"roots\":{\"33765\":\"bec1eb88-acf1-4e44-a37a-bdf119a8feb5\"}}];\n",
       "  root.Bokeh.embed.embed_items_notebook(docs_json, render_items);\n",
       "\n",
       "  }\n",
       "  if (root.Bokeh !== undefined) {\n",
       "    embed_document(root);\n",
       "  } else {\n",
       "    var attempts = 0;\n",
       "    var timer = setInterval(function(root) {\n",
       "      if (root.Bokeh !== undefined) {\n",
       "        clearInterval(timer);\n",
       "        embed_document(root);\n",
       "      } else {\n",
       "        attempts++;\n",
       "        if (attempts > 100) {\n",
       "          clearInterval(timer);\n",
       "          console.log(\"Bokeh: ERROR: Unable to run BokehJS code because BokehJS library is missing\");\n",
       "        }\n",
       "      }\n",
       "    }, 10, root)\n",
       "  }\n",
       "})(window);"
      ],
      "application/vnd.bokehjs_exec.v0+json": ""
     },
     "metadata": {
      "application/vnd.bokehjs_exec.v0+json": {
       "id": "33765"
      }
     },
     "output_type": "display_data"
    }
   ],
   "source": [
    "# 256개의 파란색상을 지닌 팔렛트 \n",
    "from bokeh.palettes import Blues256\n",
    "from bokeh.util.hex import hexbin\n",
    "n = 10000\n",
    "x = np.random.standard_normal(n)\n",
    "y = np.random.standard_normal(n)\n",
    "\n",
    "# 생성한 xy좌표(q,r)를 기준으로 (q,r,counts)로 맵핑시켜 줍니다. \n",
    "bins = hexbin(x,y, 0.1)\n",
    "# 색상을 갯수만큼 생성합니다. \n",
    "color = [Blues256[int(i)] for i in bins.counts/max(bins.counts)*255]\n",
    "\n",
    "p = figure(match_aspect= True, background_fill_color='#083573')\n",
    "p.grid.visible = False\n",
    "p.hex_tile(bins.q, bins.r, size=0.1, line_color=None, fill_color=color)\n",
    "\n",
    "show(p)\n"
   ]
  },
  {
   "cell_type": "markdown",
   "metadata": {
    "id": "wOQ_sYC9p6kQ"
   },
   "source": [
    "## 영역(Areas)"
   ]
  },
  {
   "cell_type": "markdown",
   "metadata": {
    "id": "dglXkxamqJ7G"
   },
   "source": [
    "### 단일 영역(Single Areas)"
   ]
  },
  {
   "cell_type": "code",
   "execution_count": 109,
   "metadata": {
    "id": "-DDHK96L2vTH"
   },
   "outputs": [
    {
     "data": {
      "text/html": [
       "\n",
       "\n",
       "\n",
       "\n",
       "\n",
       "\n",
       "  <div class=\"bk-root\" id=\"882ef7bb-5923-4eb5-9073-cfc11ade1dc4\" data-root-id=\"34678\"></div>\n"
      ]
     },
     "metadata": {},
     "output_type": "display_data"
    },
    {
     "data": {
      "application/javascript": [
       "(function(root) {\n",
       "  function embed_document(root) {\n",
       "    \n",
       "  var docs_json = {\"a933c59d-026a-4090-b0c7-a413c5101f2c\":{\"defs\":[],\"roots\":{\"references\":[{\"attributes\":{\"below\":[{\"id\":\"34687\"}],\"center\":[{\"id\":\"34690\"},{\"id\":\"34694\"}],\"height\":400,\"left\":[{\"id\":\"34691\"}],\"renderers\":[{\"id\":\"34712\"}],\"title\":{\"id\":\"35506\"},\"toolbar\":{\"id\":\"34702\"},\"width\":400,\"x_range\":{\"id\":\"34679\"},\"x_scale\":{\"id\":\"34683\"},\"y_range\":{\"id\":\"34681\"},\"y_scale\":{\"id\":\"34685\"}},\"id\":\"34678\",\"subtype\":\"Figure\",\"type\":\"Plot\"},{\"attributes\":{},\"id\":\"34681\",\"type\":\"DataRange1d\"},{\"attributes\":{},\"id\":\"34696\",\"type\":\"WheelZoomTool\"},{\"attributes\":{},\"id\":\"35514\",\"type\":\"UnionRenderers\"},{\"attributes\":{\"formatter\":{\"id\":\"35507\"},\"major_label_policy\":{\"id\":\"35508\"},\"ticker\":{\"id\":\"34688\"}},\"id\":\"34687\",\"type\":\"LinearAxis\"},{\"attributes\":{},\"id\":\"34688\",\"type\":\"BasicTicker\"},{\"attributes\":{},\"id\":\"35515\",\"type\":\"Selection\"},{\"attributes\":{},\"id\":\"34685\",\"type\":\"LinearScale\"},{\"attributes\":{},\"id\":\"34683\",\"type\":\"LinearScale\"},{\"attributes\":{},\"id\":\"34700\",\"type\":\"HelpTool\"},{\"attributes\":{},\"id\":\"35506\",\"type\":\"Title\"},{\"attributes\":{},\"id\":\"35511\",\"type\":\"AllLabels\"},{\"attributes\":{\"data\":{\"x\":{\"__ndarray__\":\"AAAAAAEAAAACAAAAAwAAAAQAAAAFAAAABgAAAAcAAAAIAAAACQAAAA==\",\"dtype\":\"int32\",\"order\":\"little\",\"shape\":[10]},\"y1\":{\"__ndarray__\":\"s+LV6wzXxT8k8fex1g3evwA9rRruCPC/ziSe0nZa2b/wEfHGHlm+Pzyls4wmONg/YKy3JB89iL8tv9AkMxrGv3SYQkxPku+/mwgvy2s28r8=\",\"dtype\":\"float64\",\"order\":\"little\",\"shape\":[10]},\"y2\":{\"__ndarray__\":\"in1ih0w42b8cYvwWrtm5v0xepXIrvvo/Ps7ub+iFCUDRmzAfXvr8PxCoFpw3KwdAiDWPrnSIF0AUzMxd91QUQKfFj3qWhQ9ApXnlmDOwDEA=\",\"dtype\":\"float64\",\"order\":\"little\",\"shape\":[10]}},\"selected\":{\"id\":\"35515\"},\"selection_policy\":{\"id\":\"35514\"}},\"id\":\"34709\",\"type\":\"ColumnDataSource\"},{\"attributes\":{\"data_source\":{\"id\":\"34709\"},\"glyph\":{\"id\":\"34710\"},\"hover_glyph\":null,\"muted_glyph\":null,\"nonselection_glyph\":{\"id\":\"34711\"},\"view\":{\"id\":\"34713\"}},\"id\":\"34712\",\"type\":\"GlyphRenderer\"},{\"attributes\":{},\"id\":\"34698\",\"type\":\"SaveTool\"},{\"attributes\":{\"axis\":{\"id\":\"34687\"},\"ticker\":null},\"id\":\"34690\",\"type\":\"Grid\"},{\"attributes\":{},\"id\":\"35510\",\"type\":\"BasicTickFormatter\"},{\"attributes\":{\"fill_alpha\":0.1,\"fill_color\":\"#1f77b4\",\"x\":{\"field\":\"x\"},\"y1\":{\"field\":\"y1\"},\"y2\":{\"field\":\"y2\"}},\"id\":\"34711\",\"type\":\"VArea\"},{\"attributes\":{\"active_multi\":null,\"tools\":[{\"id\":\"34695\"},{\"id\":\"34696\"},{\"id\":\"34697\"},{\"id\":\"34698\"},{\"id\":\"34699\"},{\"id\":\"34700\"}]},\"id\":\"34702\",\"type\":\"Toolbar\"},{\"attributes\":{},\"id\":\"34692\",\"type\":\"BasicTicker\"},{\"attributes\":{\"source\":{\"id\":\"34709\"}},\"id\":\"34713\",\"type\":\"CDSView\"},{\"attributes\":{\"fill_color\":\"#1f77b4\",\"x\":{\"field\":\"x\"},\"y1\":{\"field\":\"y1\"},\"y2\":{\"field\":\"y2\"}},\"id\":\"34710\",\"type\":\"VArea\"},{\"attributes\":{\"bottom_units\":\"screen\",\"fill_alpha\":0.5,\"fill_color\":\"lightgrey\",\"left_units\":\"screen\",\"level\":\"overlay\",\"line_alpha\":1.0,\"line_color\":\"black\",\"line_dash\":[4,4],\"line_width\":2,\"right_units\":\"screen\",\"syncable\":false,\"top_units\":\"screen\"},\"id\":\"34701\",\"type\":\"BoxAnnotation\"},{\"attributes\":{},\"id\":\"34695\",\"type\":\"PanTool\"},{\"attributes\":{},\"id\":\"35507\",\"type\":\"BasicTickFormatter\"},{\"attributes\":{\"axis\":{\"id\":\"34691\"},\"dimension\":1,\"ticker\":null},\"id\":\"34694\",\"type\":\"Grid\"},{\"attributes\":{\"formatter\":{\"id\":\"35510\"},\"major_label_policy\":{\"id\":\"35511\"},\"ticker\":{\"id\":\"34692\"}},\"id\":\"34691\",\"type\":\"LinearAxis\"},{\"attributes\":{},\"id\":\"34699\",\"type\":\"ResetTool\"},{\"attributes\":{\"overlay\":{\"id\":\"34701\"}},\"id\":\"34697\",\"type\":\"BoxZoomTool\"},{\"attributes\":{},\"id\":\"34679\",\"type\":\"DataRange1d\"},{\"attributes\":{},\"id\":\"35508\",\"type\":\"AllLabels\"}],\"root_ids\":[\"34678\"]},\"title\":\"Bokeh Application\",\"version\":\"2.3.2\"}};\n",
       "  var render_items = [{\"docid\":\"a933c59d-026a-4090-b0c7-a413c5101f2c\",\"root_ids\":[\"34678\"],\"roots\":{\"34678\":\"882ef7bb-5923-4eb5-9073-cfc11ade1dc4\"}}];\n",
       "  root.Bokeh.embed.embed_items_notebook(docs_json, render_items);\n",
       "\n",
       "  }\n",
       "  if (root.Bokeh !== undefined) {\n",
       "    embed_document(root);\n",
       "  } else {\n",
       "    var attempts = 0;\n",
       "    var timer = setInterval(function(root) {\n",
       "      if (root.Bokeh !== undefined) {\n",
       "        clearInterval(timer);\n",
       "        embed_document(root);\n",
       "      } else {\n",
       "        attempts++;\n",
       "        if (attempts > 100) {\n",
       "          clearInterval(timer);\n",
       "          console.log(\"Bokeh: ERROR: Unable to run BokehJS code because BokehJS library is missing\");\n",
       "        }\n",
       "      }\n",
       "    }, 10, root)\n",
       "  }\n",
       "})(window);"
      ],
      "application/vnd.bokehjs_exec.v0+json": ""
     },
     "metadata": {
      "application/vnd.bokehjs_exec.v0+json": {
       "id": "34678"
      }
     },
     "output_type": "display_data"
    }
   ],
   "source": [
    "p = figure(plot_width=400, plot_height= 400)\n",
    "\n",
    "p.varea(x= np.arange(10),\n",
    "        y1= np.random.randn(10).cumsum(),\n",
    "        y2 = np.random.randn(10).cumsum(), \n",
    "        )\n",
    "\n",
    "show(p)\n"
   ]
  },
  {
   "cell_type": "markdown",
   "metadata": {
    "id": "f81oL-gXq0VY"
   },
   "source": [
    "### 스텍 영역(Stacked Areas)"
   ]
  },
  {
   "cell_type": "code",
   "execution_count": 117,
   "metadata": {
    "id": "9zAieo8aqxkW"
   },
   "outputs": [
    {
     "data": {
      "text/html": [
       "\n",
       "\n",
       "\n",
       "\n",
       "\n",
       "\n",
       "  <div class=\"bk-root\" id=\"01d12619-c2dd-4469-94f3-a6d691b0372f\" data-root-id=\"40290\"></div>\n"
      ]
     },
     "metadata": {},
     "output_type": "display_data"
    },
    {
     "data": {
      "application/javascript": [
       "(function(root) {\n",
       "  function embed_document(root) {\n",
       "    \n",
       "  var docs_json = {\"218a7fae-6389-416e-8dc5-ee9d7ed07ffd\":{\"defs\":[],\"roots\":{\"references\":[{\"attributes\":{\"below\":[{\"id\":\"40299\"}],\"center\":[{\"id\":\"40302\"},{\"id\":\"40306\"}],\"height\":400,\"left\":[{\"id\":\"40303\"}],\"renderers\":[{\"id\":\"40328\"},{\"id\":\"40333\"}],\"title\":{\"id\":\"41197\"},\"toolbar\":{\"id\":\"40314\"},\"width\":400,\"x_range\":{\"id\":\"40291\"},\"x_scale\":{\"id\":\"40295\"},\"y_range\":{\"id\":\"40293\"},\"y_scale\":{\"id\":\"40297\"}},\"id\":\"40290\",\"subtype\":\"Figure\",\"type\":\"Plot\"},{\"attributes\":{},\"id\":\"40295\",\"type\":\"LinearScale\"},{\"attributes\":{},\"id\":\"41206\",\"type\":\"Selection\"},{\"attributes\":{},\"id\":\"40300\",\"type\":\"BasicTicker\"},{\"attributes\":{\"axis\":{\"id\":\"40299\"},\"ticker\":null},\"id\":\"40302\",\"type\":\"Grid\"},{\"attributes\":{\"data_source\":{\"id\":\"40289\"},\"glyph\":{\"id\":\"40326\"},\"hover_glyph\":null,\"muted_glyph\":null,\"name\":\"y1\",\"nonselection_glyph\":{\"id\":\"40327\"},\"view\":{\"id\":\"40329\"}},\"id\":\"40328\",\"type\":\"GlyphRenderer\"},{\"attributes\":{},\"id\":\"40307\",\"type\":\"PanTool\"},{\"attributes\":{},\"id\":\"40310\",\"type\":\"SaveTool\"},{\"attributes\":{\"fields\":[\"y1\"]},\"id\":\"40323\",\"type\":\"Stack\"},{\"attributes\":{},\"id\":\"40311\",\"type\":\"ResetTool\"},{\"attributes\":{\"fields\":[\"y1\",\"y2\"]},\"id\":\"40324\",\"type\":\"Stack\"},{\"attributes\":{\"active_multi\":null,\"tools\":[{\"id\":\"40307\"},{\"id\":\"40308\"},{\"id\":\"40309\"},{\"id\":\"40310\"},{\"id\":\"40311\"},{\"id\":\"40312\"}]},\"id\":\"40314\",\"type\":\"Toolbar\"},{\"attributes\":{},\"id\":\"41197\",\"type\":\"Title\"},{\"attributes\":{\"fields\":[\"y1\"]},\"id\":\"40322\",\"type\":\"Stack\"},{\"attributes\":{\"fill_alpha\":0.1,\"fill_color\":\"royalblue\",\"x\":{\"field\":\"x\"},\"y1\":{\"expr\":{\"id\":\"40321\"}},\"y2\":{\"expr\":{\"id\":\"40322\"}}},\"id\":\"40327\",\"type\":\"VArea\"},{\"attributes\":{\"fill_color\":\"royalblue\",\"x\":{\"field\":\"x\"},\"y1\":{\"expr\":{\"id\":\"40321\"}},\"y2\":{\"expr\":{\"id\":\"40322\"}}},\"id\":\"40326\",\"type\":\"VArea\"},{\"attributes\":{\"source\":{\"id\":\"40289\"}},\"id\":\"40329\",\"type\":\"CDSView\"},{\"attributes\":{\"fill_alpha\":0.1,\"fill_color\":\"darkred\",\"x\":{\"field\":\"x\"},\"y1\":{\"expr\":{\"id\":\"40323\"}},\"y2\":{\"expr\":{\"id\":\"40324\"}}},\"id\":\"40332\",\"type\":\"VArea\"},{\"attributes\":{\"data_source\":{\"id\":\"40289\"},\"glyph\":{\"id\":\"40331\"},\"hover_glyph\":null,\"muted_glyph\":null,\"name\":\"y2\",\"nonselection_glyph\":{\"id\":\"40332\"},\"view\":{\"id\":\"40334\"}},\"id\":\"40333\",\"type\":\"GlyphRenderer\"},{\"attributes\":{},\"id\":\"41201\",\"type\":\"BasicTickFormatter\"},{\"attributes\":{\"fill_color\":\"darkred\",\"x\":{\"field\":\"x\"},\"y1\":{\"expr\":{\"id\":\"40323\"}},\"y2\":{\"expr\":{\"id\":\"40324\"}}},\"id\":\"40331\",\"type\":\"VArea\"},{\"attributes\":{},\"id\":\"41202\",\"type\":\"AllLabels\"},{\"attributes\":{\"source\":{\"id\":\"40289\"}},\"id\":\"40334\",\"type\":\"CDSView\"},{\"attributes\":{\"bottom_units\":\"screen\",\"fill_alpha\":0.5,\"fill_color\":\"lightgrey\",\"left_units\":\"screen\",\"level\":\"overlay\",\"line_alpha\":1.0,\"line_color\":\"black\",\"line_dash\":[4,4],\"line_width\":2,\"right_units\":\"screen\",\"syncable\":false,\"top_units\":\"screen\"},\"id\":\"40313\",\"type\":\"BoxAnnotation\"},{\"attributes\":{},\"id\":\"40308\",\"type\":\"WheelZoomTool\"},{\"attributes\":{},\"id\":\"40312\",\"type\":\"HelpTool\"},{\"attributes\":{},\"id\":\"40304\",\"type\":\"BasicTicker\"},{\"attributes\":{\"overlay\":{\"id\":\"40313\"}},\"id\":\"40309\",\"type\":\"BoxZoomTool\"},{\"attributes\":{\"data\":{\"x\":{\"__ndarray__\":\"AAAAAAEAAAACAAAAAwAAAAQAAAAFAAAABgAAAAcAAAAIAAAACQAAAA==\",\"dtype\":\"int32\",\"order\":\"little\",\"shape\":[10]},\"y1\":{\"__ndarray__\":\"k0ORLq1r9r9rJp/UnrTxvwDaFMJQVpU/oyp7pPye9T8YH/uBGeMAQIyc5wbYJgJAdLuX7tp+BkB1f/55HgoDQFePJfM/SxFA3zYxPu6FFkA=\",\"dtype\":\"float64\",\"order\":\"little\",\"shape\":[10]},\"y2\":{\"__ndarray__\":\"K+hztjcx/r9493EbZ7wFwJqfiRBQRADA1sAhmbl48b8CMzEhmpcDwBvKNsTWUALA1EvyRL/M978cpzpcatD/vwXWpYAaqgDAAj/nhxZZAcA=\",\"dtype\":\"float64\",\"order\":\"little\",\"shape\":[10]}},\"selected\":{\"id\":\"41206\"},\"selection_policy\":{\"id\":\"41205\"}},\"id\":\"40289\",\"type\":\"ColumnDataSource\"},{\"attributes\":{},\"id\":\"41198\",\"type\":\"BasicTickFormatter\"},{\"attributes\":{},\"id\":\"41199\",\"type\":\"AllLabels\"},{\"attributes\":{\"fields\":[]},\"id\":\"40321\",\"type\":\"Stack\"},{\"attributes\":{},\"id\":\"40291\",\"type\":\"DataRange1d\"},{\"attributes\":{\"axis\":{\"id\":\"40303\"},\"dimension\":1,\"ticker\":null},\"id\":\"40306\",\"type\":\"Grid\"},{\"attributes\":{\"formatter\":{\"id\":\"41198\"},\"major_label_policy\":{\"id\":\"41199\"},\"ticker\":{\"id\":\"40300\"}},\"id\":\"40299\",\"type\":\"LinearAxis\"},{\"attributes\":{},\"id\":\"41205\",\"type\":\"UnionRenderers\"},{\"attributes\":{},\"id\":\"40297\",\"type\":\"LinearScale\"},{\"attributes\":{\"formatter\":{\"id\":\"41201\"},\"major_label_policy\":{\"id\":\"41202\"},\"ticker\":{\"id\":\"40304\"}},\"id\":\"40303\",\"type\":\"LinearAxis\"},{\"attributes\":{},\"id\":\"40293\",\"type\":\"DataRange1d\"}],\"root_ids\":[\"40290\"]},\"title\":\"Bokeh Application\",\"version\":\"2.3.2\"}};\n",
       "  var render_items = [{\"docid\":\"218a7fae-6389-416e-8dc5-ee9d7ed07ffd\",\"root_ids\":[\"40290\"],\"roots\":{\"40290\":\"01d12619-c2dd-4469-94f3-a6d691b0372f\"}}];\n",
       "  root.Bokeh.embed.embed_items_notebook(docs_json, render_items);\n",
       "\n",
       "  }\n",
       "  if (root.Bokeh !== undefined) {\n",
       "    embed_document(root);\n",
       "  } else {\n",
       "    var attempts = 0;\n",
       "    var timer = setInterval(function(root) {\n",
       "      if (root.Bokeh !== undefined) {\n",
       "        clearInterval(timer);\n",
       "        embed_document(root);\n",
       "      } else {\n",
       "        attempts++;\n",
       "        if (attempts > 100) {\n",
       "          clearInterval(timer);\n",
       "          console.log(\"Bokeh: ERROR: Unable to run BokehJS code because BokehJS library is missing\");\n",
       "        }\n",
       "      }\n",
       "    }, 10, root)\n",
       "  }\n",
       "})(window);"
      ],
      "application/vnd.bokehjs_exec.v0+json": ""
     },
     "metadata": {
      "application/vnd.bokehjs_exec.v0+json": {
       "id": "40290"
      }
     },
     "output_type": "display_data"
    }
   ],
   "source": [
    "from bokeh.models import ColumnDataSource\n",
    "\n",
    "source = ColumnDataSource(data= dict(\n",
    "        x= np.arange(10),\n",
    "        y1= np.random.randn(10).cumsum(),\n",
    "        y2 = np.random.randn(10).cumsum()))\n",
    "\n",
    "p = figure(plot_width=400, plot_height= 400)\n",
    "p.varea_stack(['y1', 'y2'], x='x', color=('royalblue', 'darkred'), source=source)\n",
    "\n",
    "show(p)"
   ]
  },
  {
   "cell_type": "markdown",
   "metadata": {
    "id": "zHKxc99mrdem"
   },
   "source": [
    "## 패치와 폴리곤(Patches and Polygons)"
   ]
  },
  {
   "cell_type": "markdown",
   "metadata": {
    "id": "JAcRSiEOriVN"
   },
   "source": [
    "### 단일 패치(Single Patches)"
   ]
  },
  {
   "cell_type": "code",
   "execution_count": 119,
   "metadata": {
    "id": "s8aEQ70Nq34z"
   },
   "outputs": [
    {
     "data": {
      "text/html": [
       "\n",
       "\n",
       "\n",
       "\n",
       "\n",
       "\n",
       "  <div class=\"bk-root\" id=\"db30665f-16c1-45d7-b069-60b2cc528dd4\" data-root-id=\"42236\"></div>\n"
      ]
     },
     "metadata": {},
     "output_type": "display_data"
    },
    {
     "data": {
      "application/javascript": [
       "(function(root) {\n",
       "  function embed_document(root) {\n",
       "    \n",
       "  var docs_json = {\"677c7560-39d7-4a82-9929-1b6aad3cb4e8\":{\"defs\":[],\"roots\":{\"references\":[{\"attributes\":{\"below\":[{\"id\":\"42245\"}],\"center\":[{\"id\":\"42248\"},{\"id\":\"42252\"}],\"height\":400,\"left\":[{\"id\":\"42249\"}],\"renderers\":[{\"id\":\"42270\"}],\"title\":{\"id\":\"43156\"},\"toolbar\":{\"id\":\"42260\"},\"width\":400,\"x_range\":{\"id\":\"42237\"},\"x_scale\":{\"id\":\"42241\"},\"y_range\":{\"id\":\"42239\"},\"y_scale\":{\"id\":\"42243\"}},\"id\":\"42236\",\"subtype\":\"Figure\",\"type\":\"Plot\"},{\"attributes\":{},\"id\":\"43164\",\"type\":\"UnionRenderers\"},{\"attributes\":{},\"id\":\"42237\",\"type\":\"DataRange1d\"},{\"attributes\":{},\"id\":\"42239\",\"type\":\"DataRange1d\"},{\"attributes\":{\"formatter\":{\"id\":\"43160\"},\"major_label_policy\":{\"id\":\"43161\"},\"ticker\":{\"id\":\"42250\"}},\"id\":\"42249\",\"type\":\"LinearAxis\"},{\"attributes\":{\"formatter\":{\"id\":\"43157\"},\"major_label_policy\":{\"id\":\"43158\"},\"ticker\":{\"id\":\"42246\"}},\"id\":\"42245\",\"type\":\"LinearAxis\"},{\"attributes\":{},\"id\":\"42243\",\"type\":\"LinearScale\"},{\"attributes\":{},\"id\":\"42241\",\"type\":\"LinearScale\"},{\"attributes\":{},\"id\":\"42258\",\"type\":\"HelpTool\"},{\"attributes\":{},\"id\":\"42246\",\"type\":\"BasicTicker\"},{\"attributes\":{\"axis\":{\"id\":\"42245\"},\"ticker\":null},\"id\":\"42248\",\"type\":\"Grid\"},{\"attributes\":{},\"id\":\"43156\",\"type\":\"Title\"},{\"attributes\":{\"source\":{\"id\":\"42267\"}},\"id\":\"42271\",\"type\":\"CDSView\"},{\"attributes\":{\"axis\":{\"id\":\"42249\"},\"dimension\":1,\"ticker\":null},\"id\":\"42252\",\"type\":\"Grid\"},{\"attributes\":{},\"id\":\"42250\",\"type\":\"BasicTicker\"},{\"attributes\":{\"active_multi\":null,\"tools\":[{\"id\":\"42253\"},{\"id\":\"42254\"},{\"id\":\"42255\"},{\"id\":\"42256\"},{\"id\":\"42257\"},{\"id\":\"42258\"}]},\"id\":\"42260\",\"type\":\"Toolbar\"},{\"attributes\":{},\"id\":\"43157\",\"type\":\"BasicTickFormatter\"},{\"attributes\":{},\"id\":\"42254\",\"type\":\"WheelZoomTool\"},{\"attributes\":{},\"id\":\"42253\",\"type\":\"PanTool\"},{\"attributes\":{\"overlay\":{\"id\":\"42259\"}},\"id\":\"42255\",\"type\":\"BoxZoomTool\"},{\"attributes\":{},\"id\":\"43160\",\"type\":\"BasicTickFormatter\"},{\"attributes\":{},\"id\":\"42256\",\"type\":\"SaveTool\"},{\"attributes\":{},\"id\":\"42257\",\"type\":\"ResetTool\"},{\"attributes\":{},\"id\":\"43158\",\"type\":\"AllLabels\"},{\"attributes\":{},\"id\":\"43161\",\"type\":\"AllLabels\"},{\"attributes\":{\"data\":{\"x\":[1,2,3,4,5],\"y\":[5,7,4,4,2]},\"selected\":{\"id\":\"43165\"},\"selection_policy\":{\"id\":\"43164\"}},\"id\":\"42267\",\"type\":\"ColumnDataSource\"},{\"attributes\":{\"fill_alpha\":0.5,\"fill_color\":\"#1f77b4\",\"line_alpha\":0.5,\"line_color\":\"#1f77b4\",\"x\":{\"field\":\"x\"},\"y\":{\"field\":\"y\"}},\"id\":\"42268\",\"type\":\"Patch\"},{\"attributes\":{\"fill_alpha\":0.1,\"fill_color\":\"#1f77b4\",\"line_alpha\":0.1,\"line_color\":\"#1f77b4\",\"x\":{\"field\":\"x\"},\"y\":{\"field\":\"y\"}},\"id\":\"42269\",\"type\":\"Patch\"},{\"attributes\":{\"data_source\":{\"id\":\"42267\"},\"glyph\":{\"id\":\"42268\"},\"hover_glyph\":null,\"muted_glyph\":null,\"nonselection_glyph\":{\"id\":\"42269\"},\"view\":{\"id\":\"42271\"}},\"id\":\"42270\",\"type\":\"GlyphRenderer\"},{\"attributes\":{},\"id\":\"43165\",\"type\":\"Selection\"},{\"attributes\":{\"bottom_units\":\"screen\",\"fill_alpha\":0.5,\"fill_color\":\"lightgrey\",\"left_units\":\"screen\",\"level\":\"overlay\",\"line_alpha\":1.0,\"line_color\":\"black\",\"line_dash\":[4,4],\"line_width\":2,\"right_units\":\"screen\",\"syncable\":false,\"top_units\":\"screen\"},\"id\":\"42259\",\"type\":\"BoxAnnotation\"}],\"root_ids\":[\"42236\"]},\"title\":\"Bokeh Application\",\"version\":\"2.3.2\"}};\n",
       "  var render_items = [{\"docid\":\"677c7560-39d7-4a82-9929-1b6aad3cb4e8\",\"root_ids\":[\"42236\"],\"roots\":{\"42236\":\"db30665f-16c1-45d7-b069-60b2cc528dd4\"}}];\n",
       "  root.Bokeh.embed.embed_items_notebook(docs_json, render_items);\n",
       "\n",
       "  }\n",
       "  if (root.Bokeh !== undefined) {\n",
       "    embed_document(root);\n",
       "  } else {\n",
       "    var attempts = 0;\n",
       "    var timer = setInterval(function(root) {\n",
       "      if (root.Bokeh !== undefined) {\n",
       "        clearInterval(timer);\n",
       "        embed_document(root);\n",
       "      } else {\n",
       "        attempts++;\n",
       "        if (attempts > 100) {\n",
       "          clearInterval(timer);\n",
       "          console.log(\"Bokeh: ERROR: Unable to run BokehJS code because BokehJS library is missing\");\n",
       "        }\n",
       "      }\n",
       "    }, 10, root)\n",
       "  }\n",
       "})(window);"
      ],
      "application/vnd.bokehjs_exec.v0+json": ""
     },
     "metadata": {
      "application/vnd.bokehjs_exec.v0+json": {
       "id": "42236"
      }
     },
     "output_type": "display_data"
    }
   ],
   "source": [
    "p = figure(plot_width=400, plot_height= 400)\n",
    "p.patch(x=[1,2,3,4,5], y=[5,7,4,4,2], alpha=0.5, line_width=1)\n",
    "show(p)"
   ]
  },
  {
   "cell_type": "markdown",
   "metadata": {
    "id": "yrOi4BmQr7EL"
   },
   "source": [
    "### 다중 패치(Multiple Patches)"
   ]
  },
  {
   "cell_type": "code",
   "execution_count": 121,
   "metadata": {
    "id": "WxI9Qh8krlhp"
   },
   "outputs": [
    {
     "data": {
      "text/html": [
       "\n",
       "\n",
       "\n",
       "\n",
       "\n",
       "\n",
       "  <div class=\"bk-root\" id=\"69aa27fa-3e62-4ddd-a717-4b3efbaa46f2\" data-root-id=\"43252\"></div>\n"
      ]
     },
     "metadata": {},
     "output_type": "display_data"
    },
    {
     "data": {
      "application/javascript": [
       "(function(root) {\n",
       "  function embed_document(root) {\n",
       "    \n",
       "  var docs_json = {\"bf7d8bfb-45a7-4dc5-9f0f-f8f643b33e92\":{\"defs\":[],\"roots\":{\"references\":[{\"attributes\":{\"below\":[{\"id\":\"43261\"}],\"center\":[{\"id\":\"43264\"},{\"id\":\"43268\"}],\"height\":400,\"left\":[{\"id\":\"43265\"}],\"renderers\":[{\"id\":\"43286\"}],\"title\":{\"id\":\"44183\"},\"toolbar\":{\"id\":\"43276\"},\"width\":400,\"x_range\":{\"id\":\"43253\"},\"x_scale\":{\"id\":\"43257\"},\"y_range\":{\"id\":\"43255\"},\"y_scale\":{\"id\":\"43259\"}},\"id\":\"43252\",\"subtype\":\"Figure\",\"type\":\"Plot\"},{\"attributes\":{},\"id\":\"43270\",\"type\":\"WheelZoomTool\"},{\"attributes\":{\"data_source\":{\"id\":\"43283\"},\"glyph\":{\"id\":\"43284\"},\"hover_glyph\":null,\"muted_glyph\":null,\"nonselection_glyph\":{\"id\":\"43285\"},\"view\":{\"id\":\"43287\"}},\"id\":\"43286\",\"type\":\"GlyphRenderer\"},{\"attributes\":{\"axis\":{\"id\":\"43261\"},\"ticker\":null},\"id\":\"43264\",\"type\":\"Grid\"},{\"attributes\":{},\"id\":\"44191\",\"type\":\"UnionRenderers\"},{\"attributes\":{},\"id\":\"44184\",\"type\":\"BasicTickFormatter\"},{\"attributes\":{\"data\":{\"fill_alpha\":[0.5,0.5],\"fill_color\":[\"orange\",\"red\"],\"line_alpha\":[0.5,0.5],\"line_color\":[\"orange\",\"red\"],\"xs\":[[1,2,3,4,5],[1,3,4]],\"ys\":[[5,7,4,4,2],[6,5,7]]},\"selected\":{\"id\":\"44192\"},\"selection_policy\":{\"id\":\"44191\"}},\"id\":\"43283\",\"type\":\"ColumnDataSource\"},{\"attributes\":{\"overlay\":{\"id\":\"43275\"}},\"id\":\"43271\",\"type\":\"BoxZoomTool\"},{\"attributes\":{},\"id\":\"43269\",\"type\":\"PanTool\"},{\"attributes\":{\"bottom_units\":\"screen\",\"fill_alpha\":0.5,\"fill_color\":\"lightgrey\",\"left_units\":\"screen\",\"level\":\"overlay\",\"line_alpha\":1.0,\"line_color\":\"black\",\"line_dash\":[4,4],\"line_width\":2,\"right_units\":\"screen\",\"syncable\":false,\"top_units\":\"screen\"},\"id\":\"43275\",\"type\":\"BoxAnnotation\"},{\"attributes\":{\"formatter\":{\"id\":\"44184\"},\"major_label_policy\":{\"id\":\"44185\"},\"ticker\":{\"id\":\"43262\"}},\"id\":\"43261\",\"type\":\"LinearAxis\"},{\"attributes\":{},\"id\":\"43259\",\"type\":\"LinearScale\"},{\"attributes\":{},\"id\":\"43255\",\"type\":\"DataRange1d\"},{\"attributes\":{\"fill_alpha\":{\"field\":\"fill_alpha\"},\"fill_color\":{\"field\":\"fill_color\"},\"line_alpha\":{\"field\":\"line_alpha\"},\"line_color\":{\"field\":\"line_color\"},\"xs\":{\"field\":\"xs\"},\"ys\":{\"field\":\"ys\"}},\"id\":\"43284\",\"type\":\"Patches\"},{\"attributes\":{},\"id\":\"44185\",\"type\":\"AllLabels\"},{\"attributes\":{\"active_multi\":null,\"tools\":[{\"id\":\"43269\"},{\"id\":\"43270\"},{\"id\":\"43271\"},{\"id\":\"43272\"},{\"id\":\"43273\"},{\"id\":\"43274\"}]},\"id\":\"43276\",\"type\":\"Toolbar\"},{\"attributes\":{\"axis\":{\"id\":\"43265\"},\"dimension\":1,\"ticker\":null},\"id\":\"43268\",\"type\":\"Grid\"},{\"attributes\":{},\"id\":\"43266\",\"type\":\"BasicTicker\"},{\"attributes\":{},\"id\":\"43253\",\"type\":\"DataRange1d\"},{\"attributes\":{},\"id\":\"43257\",\"type\":\"LinearScale\"},{\"attributes\":{\"formatter\":{\"id\":\"44187\"},\"major_label_policy\":{\"id\":\"44188\"},\"ticker\":{\"id\":\"43266\"}},\"id\":\"43265\",\"type\":\"LinearAxis\"},{\"attributes\":{},\"id\":\"44183\",\"type\":\"Title\"},{\"attributes\":{},\"id\":\"43273\",\"type\":\"ResetTool\"},{\"attributes\":{},\"id\":\"43272\",\"type\":\"SaveTool\"},{\"attributes\":{},\"id\":\"43262\",\"type\":\"BasicTicker\"},{\"attributes\":{},\"id\":\"44187\",\"type\":\"BasicTickFormatter\"},{\"attributes\":{\"fill_alpha\":{\"value\":0.1},\"fill_color\":{\"field\":\"fill_color\"},\"line_alpha\":{\"value\":0.1},\"line_color\":{\"field\":\"line_color\"},\"xs\":{\"field\":\"xs\"},\"ys\":{\"field\":\"ys\"}},\"id\":\"43285\",\"type\":\"Patches\"},{\"attributes\":{},\"id\":\"44188\",\"type\":\"AllLabels\"},{\"attributes\":{},\"id\":\"43274\",\"type\":\"HelpTool\"},{\"attributes\":{},\"id\":\"44192\",\"type\":\"Selection\"},{\"attributes\":{\"source\":{\"id\":\"43283\"}},\"id\":\"43287\",\"type\":\"CDSView\"}],\"root_ids\":[\"43252\"]},\"title\":\"Bokeh Application\",\"version\":\"2.3.2\"}};\n",
       "  var render_items = [{\"docid\":\"bf7d8bfb-45a7-4dc5-9f0f-f8f643b33e92\",\"root_ids\":[\"43252\"],\"roots\":{\"43252\":\"69aa27fa-3e62-4ddd-a717-4b3efbaa46f2\"}}];\n",
       "  root.Bokeh.embed.embed_items_notebook(docs_json, render_items);\n",
       "\n",
       "  }\n",
       "  if (root.Bokeh !== undefined) {\n",
       "    embed_document(root);\n",
       "  } else {\n",
       "    var attempts = 0;\n",
       "    var timer = setInterval(function(root) {\n",
       "      if (root.Bokeh !== undefined) {\n",
       "        clearInterval(timer);\n",
       "        embed_document(root);\n",
       "      } else {\n",
       "        attempts++;\n",
       "        if (attempts > 100) {\n",
       "          clearInterval(timer);\n",
       "          console.log(\"Bokeh: ERROR: Unable to run BokehJS code because BokehJS library is missing\");\n",
       "        }\n",
       "      }\n",
       "    }, 10, root)\n",
       "  }\n",
       "})(window);"
      ],
      "application/vnd.bokehjs_exec.v0+json": ""
     },
     "metadata": {
      "application/vnd.bokehjs_exec.v0+json": {
       "id": "43252"
      }
     },
     "output_type": "display_data"
    }
   ],
   "source": [
    "p = figure(plot_width=400, plot_height= 400)\n",
    "p.patches(xs=[[1,2,3,4,5],[1,3,4]], ys=[[5,7,4,4,2],[6,5,7]],color=['orange','red'] ,alpha=[0.5,0.5], line_width=1)\n",
    "show(p)"
   ]
  },
  {
   "cell_type": "markdown",
   "metadata": {
    "id": "lnu4bZzgsi-V"
   },
   "source": [
    "### 폴리곤(Polygons)"
   ]
  },
  {
   "cell_type": "code",
   "execution_count": 122,
   "metadata": {
    "id": "cBtnBNgFr-uM"
   },
   "outputs": [
    {
     "data": {
      "text/html": [
       "\n",
       "\n",
       "\n",
       "\n",
       "\n",
       "\n",
       "  <div class=\"bk-root\" id=\"fc89b4ee-ef7e-4ced-966f-b463cf2e73f4\" data-root-id=\"44248\"></div>\n"
      ]
     },
     "metadata": {},
     "output_type": "display_data"
    },
    {
     "data": {
      "application/javascript": [
       "(function(root) {\n",
       "  function embed_document(root) {\n",
       "    \n",
       "  var docs_json = {\"58ad1198-2da6-4e2f-a05c-110a41cb1288\":{\"defs\":[],\"roots\":{\"references\":[{\"attributes\":{\"below\":[{\"id\":\"44257\"}],\"center\":[{\"id\":\"44260\"},{\"id\":\"44264\"}],\"height\":400,\"left\":[{\"id\":\"44261\"}],\"renderers\":[{\"id\":\"44282\"}],\"title\":{\"id\":\"45190\"},\"toolbar\":{\"id\":\"44272\"},\"width\":400,\"x_range\":{\"id\":\"44249\"},\"x_scale\":{\"id\":\"44253\"},\"y_range\":{\"id\":\"44251\"},\"y_scale\":{\"id\":\"44255\"}},\"id\":\"44248\",\"subtype\":\"Figure\",\"type\":\"Plot\"},{\"attributes\":{},\"id\":\"45194\",\"type\":\"BasicTickFormatter\"},{\"attributes\":{},\"id\":\"45190\",\"type\":\"Title\"},{\"attributes\":{},\"id\":\"45195\",\"type\":\"AllLabels\"},{\"attributes\":{\"bottom_units\":\"screen\",\"fill_alpha\":0.5,\"fill_color\":\"lightgrey\",\"left_units\":\"screen\",\"level\":\"overlay\",\"line_alpha\":1.0,\"line_color\":\"black\",\"line_dash\":[4,4],\"line_width\":2,\"right_units\":\"screen\",\"syncable\":false,\"top_units\":\"screen\"},\"id\":\"44271\",\"type\":\"BoxAnnotation\"},{\"attributes\":{},\"id\":\"45191\",\"type\":\"BasicTickFormatter\"},{\"attributes\":{\"source\":{\"id\":\"44279\"}},\"id\":\"44283\",\"type\":\"CDSView\"},{\"attributes\":{},\"id\":\"44270\",\"type\":\"HelpTool\"},{\"attributes\":{\"formatter\":{\"id\":\"45191\"},\"major_label_policy\":{\"id\":\"45192\"},\"ticker\":{\"id\":\"44258\"}},\"id\":\"44257\",\"type\":\"LinearAxis\"},{\"attributes\":{\"data_source\":{\"id\":\"44279\"},\"glyph\":{\"id\":\"44280\"},\"hover_glyph\":null,\"muted_glyph\":null,\"nonselection_glyph\":{\"id\":\"44281\"},\"view\":{\"id\":\"44283\"}},\"id\":\"44282\",\"type\":\"GlyphRenderer\"},{\"attributes\":{},\"id\":\"44258\",\"type\":\"BasicTicker\"},{\"attributes\":{\"formatter\":{\"id\":\"45194\"},\"major_label_policy\":{\"id\":\"45195\"},\"ticker\":{\"id\":\"44262\"}},\"id\":\"44261\",\"type\":\"LinearAxis\"},{\"attributes\":{},\"id\":\"44253\",\"type\":\"LinearScale\"},{\"attributes\":{\"axis\":{\"id\":\"44257\"},\"ticker\":null},\"id\":\"44260\",\"type\":\"Grid\"},{\"attributes\":{},\"id\":\"44249\",\"type\":\"DataRange1d\"},{\"attributes\":{},\"id\":\"45198\",\"type\":\"UnionRenderers\"},{\"attributes\":{\"axis\":{\"id\":\"44261\"},\"dimension\":1,\"ticker\":null},\"id\":\"44264\",\"type\":\"Grid\"},{\"attributes\":{},\"id\":\"44262\",\"type\":\"BasicTicker\"},{\"attributes\":{},\"id\":\"45199\",\"type\":\"Selection\"},{\"attributes\":{\"fill_alpha\":{\"value\":0.1},\"fill_color\":{\"value\":\"#1f77b4\"},\"line_alpha\":{\"value\":0.1},\"line_color\":{\"value\":\"#1f77b4\"},\"xs\":{\"field\":\"xs\"},\"ys\":{\"field\":\"ys\"}},\"id\":\"44281\",\"type\":\"MultiPolygons\"},{\"attributes\":{},\"id\":\"44251\",\"type\":\"DataRange1d\"},{\"attributes\":{},\"id\":\"44266\",\"type\":\"WheelZoomTool\"},{\"attributes\":{},\"id\":\"44265\",\"type\":\"PanTool\"},{\"attributes\":{\"active_multi\":null,\"tools\":[{\"id\":\"44265\"},{\"id\":\"44266\"},{\"id\":\"44267\"},{\"id\":\"44268\"},{\"id\":\"44269\"},{\"id\":\"44270\"}]},\"id\":\"44272\",\"type\":\"Toolbar\"},{\"attributes\":{},\"id\":\"45192\",\"type\":\"AllLabels\"},{\"attributes\":{\"data\":{\"xs\":[[[[1,1,2,2]]]],\"ys\":[[[[2,4,4,2]]]]},\"selected\":{\"id\":\"45199\"},\"selection_policy\":{\"id\":\"45198\"}},\"id\":\"44279\",\"type\":\"ColumnDataSource\"},{\"attributes\":{\"overlay\":{\"id\":\"44271\"}},\"id\":\"44267\",\"type\":\"BoxZoomTool\"},{\"attributes\":{},\"id\":\"44268\",\"type\":\"SaveTool\"},{\"attributes\":{},\"id\":\"44255\",\"type\":\"LinearScale\"},{\"attributes\":{},\"id\":\"44269\",\"type\":\"ResetTool\"},{\"attributes\":{\"fill_color\":{\"value\":\"#1f77b4\"},\"line_color\":{\"value\":\"#1f77b4\"},\"xs\":{\"field\":\"xs\"},\"ys\":{\"field\":\"ys\"}},\"id\":\"44280\",\"type\":\"MultiPolygons\"}],\"root_ids\":[\"44248\"]},\"title\":\"Bokeh Application\",\"version\":\"2.3.2\"}};\n",
       "  var render_items = [{\"docid\":\"58ad1198-2da6-4e2f-a05c-110a41cb1288\",\"root_ids\":[\"44248\"],\"roots\":{\"44248\":\"fc89b4ee-ef7e-4ced-966f-b463cf2e73f4\"}}];\n",
       "  root.Bokeh.embed.embed_items_notebook(docs_json, render_items);\n",
       "\n",
       "  }\n",
       "  if (root.Bokeh !== undefined) {\n",
       "    embed_document(root);\n",
       "  } else {\n",
       "    var attempts = 0;\n",
       "    var timer = setInterval(function(root) {\n",
       "      if (root.Bokeh !== undefined) {\n",
       "        clearInterval(timer);\n",
       "        embed_document(root);\n",
       "      } else {\n",
       "        attempts++;\n",
       "        if (attempts > 100) {\n",
       "          clearInterval(timer);\n",
       "          console.log(\"Bokeh: ERROR: Unable to run BokehJS code because BokehJS library is missing\");\n",
       "        }\n",
       "      }\n",
       "    }, 10, root)\n",
       "  }\n",
       "})(window);"
      ],
      "application/vnd.bokehjs_exec.v0+json": ""
     },
     "metadata": {
      "application/vnd.bokehjs_exec.v0+json": {
       "id": "44248"
      }
     },
     "output_type": "display_data"
    }
   ],
   "source": [
    "p = figure(plot_width=400, plot_height= 400)\n",
    "p.multi_polygons(xs=[[[[1, 1, 2, 2]]]], \n",
    "                 ys=[[[[2, 4, 4, 2]]]],\n",
    "                 )\n",
    "show(p)"
   ]
  },
  {
   "cell_type": "code",
   "execution_count": 125,
   "metadata": {
    "id": "x4apss2XssVX"
   },
   "outputs": [
    {
     "data": {
      "text/html": [
       "\n",
       "\n",
       "\n",
       "\n",
       "\n",
       "\n",
       "  <div class=\"bk-root\" id=\"2c0feb90-d255-4a5e-9b48-3f6ed4e5c1df\" data-root-id=\"47302\"></div>\n"
      ]
     },
     "metadata": {},
     "output_type": "display_data"
    },
    {
     "data": {
      "application/javascript": [
       "(function(root) {\n",
       "  function embed_document(root) {\n",
       "    \n",
       "  var docs_json = {\"b30bf5bd-5688-4986-a86b-411223edf5c2\":{\"defs\":[],\"roots\":{\"references\":[{\"attributes\":{\"below\":[{\"id\":\"47311\"}],\"center\":[{\"id\":\"47314\"},{\"id\":\"47318\"}],\"height\":400,\"left\":[{\"id\":\"47315\"}],\"renderers\":[{\"id\":\"47336\"}],\"title\":{\"id\":\"48277\"},\"toolbar\":{\"id\":\"47326\"},\"width\":400,\"x_range\":{\"id\":\"47303\"},\"x_scale\":{\"id\":\"47307\"},\"y_range\":{\"id\":\"47305\"},\"y_scale\":{\"id\":\"47309\"}},\"id\":\"47302\",\"subtype\":\"Figure\",\"type\":\"Plot\"},{\"attributes\":{},\"id\":\"47320\",\"type\":\"WheelZoomTool\"},{\"attributes\":{},\"id\":\"47324\",\"type\":\"HelpTool\"},{\"attributes\":{},\"id\":\"47309\",\"type\":\"LinearScale\"},{\"attributes\":{\"fill_alpha\":{\"value\":0.1},\"fill_color\":{\"value\":\"#1f77b4\"},\"line_alpha\":{\"value\":0.1},\"line_color\":{\"value\":\"#1f77b4\"},\"xs\":{\"field\":\"xs\"},\"ys\":{\"field\":\"ys\"}},\"id\":\"47335\",\"type\":\"MultiPolygons\"},{\"attributes\":{},\"id\":\"47319\",\"type\":\"PanTool\"},{\"attributes\":{\"overlay\":{\"id\":\"47325\"}},\"id\":\"47321\",\"type\":\"BoxZoomTool\"},{\"attributes\":{},\"id\":\"47322\",\"type\":\"SaveTool\"},{\"attributes\":{\"active_multi\":null,\"tools\":[{\"id\":\"47319\"},{\"id\":\"47320\"},{\"id\":\"47321\"},{\"id\":\"47322\"},{\"id\":\"47323\"},{\"id\":\"47324\"}]},\"id\":\"47326\",\"type\":\"Toolbar\"},{\"attributes\":{},\"id\":\"48281\",\"type\":\"BasicTickFormatter\"},{\"attributes\":{},\"id\":\"47323\",\"type\":\"ResetTool\"},{\"attributes\":{},\"id\":\"48282\",\"type\":\"AllLabels\"},{\"attributes\":{\"fill_color\":{\"value\":\"#1f77b4\"},\"line_color\":{\"value\":\"#1f77b4\"},\"xs\":{\"field\":\"xs\"},\"ys\":{\"field\":\"ys\"}},\"id\":\"47334\",\"type\":\"MultiPolygons\"},{\"attributes\":{\"data_source\":{\"id\":\"47333\"},\"glyph\":{\"id\":\"47334\"},\"hover_glyph\":null,\"muted_glyph\":null,\"nonselection_glyph\":{\"id\":\"47335\"},\"view\":{\"id\":\"47337\"}},\"id\":\"47336\",\"type\":\"GlyphRenderer\"},{\"attributes\":{\"source\":{\"id\":\"47333\"}},\"id\":\"47337\",\"type\":\"CDSView\"},{\"attributes\":{\"formatter\":{\"id\":\"48281\"},\"major_label_policy\":{\"id\":\"48282\"},\"ticker\":{\"id\":\"47316\"}},\"id\":\"47315\",\"type\":\"LinearAxis\"},{\"attributes\":{},\"id\":\"48278\",\"type\":\"BasicTickFormatter\"},{\"attributes\":{},\"id\":\"47316\",\"type\":\"BasicTicker\"},{\"attributes\":{\"bottom_units\":\"screen\",\"fill_alpha\":0.5,\"fill_color\":\"lightgrey\",\"left_units\":\"screen\",\"level\":\"overlay\",\"line_alpha\":1.0,\"line_color\":\"black\",\"line_dash\":[4,4],\"line_width\":2,\"right_units\":\"screen\",\"syncable\":false,\"top_units\":\"screen\"},\"id\":\"47325\",\"type\":\"BoxAnnotation\"},{\"attributes\":{},\"id\":\"47312\",\"type\":\"BasicTicker\"},{\"attributes\":{},\"id\":\"48285\",\"type\":\"UnionRenderers\"},{\"attributes\":{},\"id\":\"47305\",\"type\":\"DataRange1d\"},{\"attributes\":{},\"id\":\"48286\",\"type\":\"Selection\"},{\"attributes\":{},\"id\":\"47303\",\"type\":\"DataRange1d\"},{\"attributes\":{},\"id\":\"48277\",\"type\":\"Title\"},{\"attributes\":{\"formatter\":{\"id\":\"48278\"},\"major_label_policy\":{\"id\":\"48279\"},\"ticker\":{\"id\":\"47312\"}},\"id\":\"47311\",\"type\":\"LinearAxis\"},{\"attributes\":{\"axis\":{\"id\":\"47315\"},\"dimension\":1,\"ticker\":null},\"id\":\"47318\",\"type\":\"Grid\"},{\"attributes\":{\"axis\":{\"id\":\"47311\"},\"ticker\":null},\"id\":\"47314\",\"type\":\"Grid\"},{\"attributes\":{},\"id\":\"48279\",\"type\":\"AllLabels\"},{\"attributes\":{},\"id\":\"47307\",\"type\":\"LinearScale\"},{\"attributes\":{\"data\":{\"xs\":[[[[1,1,2,2],[1.2,1.6,1.6,1.2],[1.8,1.8,1.6]]]],\"ys\":[[[[2,4,4,2],[3.2,3.6,3.2,3.6],[2.4,2.8,2.8]]]]},\"selected\":{\"id\":\"48286\"},\"selection_policy\":{\"id\":\"48285\"}},\"id\":\"47333\",\"type\":\"ColumnDataSource\"}],\"root_ids\":[\"47302\"]},\"title\":\"Bokeh Application\",\"version\":\"2.3.2\"}};\n",
       "  var render_items = [{\"docid\":\"b30bf5bd-5688-4986-a86b-411223edf5c2\",\"root_ids\":[\"47302\"],\"roots\":{\"47302\":\"2c0feb90-d255-4a5e-9b48-3f6ed4e5c1df\"}}];\n",
       "  root.Bokeh.embed.embed_items_notebook(docs_json, render_items);\n",
       "\n",
       "  }\n",
       "  if (root.Bokeh !== undefined) {\n",
       "    embed_document(root);\n",
       "  } else {\n",
       "    var attempts = 0;\n",
       "    var timer = setInterval(function(root) {\n",
       "      if (root.Bokeh !== undefined) {\n",
       "        clearInterval(timer);\n",
       "        embed_document(root);\n",
       "      } else {\n",
       "        attempts++;\n",
       "        if (attempts > 100) {\n",
       "          clearInterval(timer);\n",
       "          console.log(\"Bokeh: ERROR: Unable to run BokehJS code because BokehJS library is missing\");\n",
       "        }\n",
       "      }\n",
       "    }, 10, root)\n",
       "  }\n",
       "})(window);"
      ],
      "application/vnd.bokehjs_exec.v0+json": ""
     },
     "metadata": {
      "application/vnd.bokehjs_exec.v0+json": {
       "id": "47302"
      }
     },
     "output_type": "display_data"
    }
   ],
   "source": [
    "p = figure(plot_width=400, plot_height= 400)\n",
    "p.multi_polygons(xs=[[[ [1, 1, 2, 2],[1.2, 1.6, 1.6, 1.2], [1.8, 1.8,1.6] ]]], \n",
    "                 ys=[[[ [2, 4, 4, 2], [3.2, 3.6, 3.2, 3.6], [2.4,2.8, 2.8] ]]],\n",
    "                 )\n",
    "show(p)"
   ]
  },
  {
   "cell_type": "code",
   "execution_count": 129,
   "metadata": {
    "id": "GwKtOCHosup1"
   },
   "outputs": [
    {
     "data": {
      "text/html": [
       "\n",
       "\n",
       "\n",
       "\n",
       "\n",
       "\n",
       "  <div class=\"bk-root\" id=\"2f946e24-255b-41cc-8fa3-fd9367bd26e0\" data-root-id=\"50455\"></div>\n"
      ]
     },
     "metadata": {},
     "output_type": "display_data"
    },
    {
     "data": {
      "application/javascript": [
       "(function(root) {\n",
       "  function embed_document(root) {\n",
       "    \n",
       "  var docs_json = {\"dfc6be88-2b41-46ad-9013-00efd6824dcc\":{\"defs\":[],\"roots\":{\"references\":[{\"attributes\":{\"below\":[{\"id\":\"50464\"}],\"center\":[{\"id\":\"50467\"},{\"id\":\"50471\"}],\"height\":400,\"left\":[{\"id\":\"50468\"}],\"renderers\":[{\"id\":\"50489\"}],\"title\":{\"id\":\"51463\"},\"toolbar\":{\"id\":\"50479\"},\"width\":400,\"x_range\":{\"id\":\"50456\"},\"x_scale\":{\"id\":\"50460\"},\"y_range\":{\"id\":\"50458\"},\"y_scale\":{\"id\":\"50462\"}},\"id\":\"50455\",\"subtype\":\"Figure\",\"type\":\"Plot\"},{\"attributes\":{\"bottom_units\":\"screen\",\"fill_alpha\":0.5,\"fill_color\":\"lightgrey\",\"left_units\":\"screen\",\"level\":\"overlay\",\"line_alpha\":1.0,\"line_color\":\"black\",\"line_dash\":[4,4],\"line_width\":2,\"right_units\":\"screen\",\"syncable\":false,\"top_units\":\"screen\"},\"id\":\"50478\",\"type\":\"BoxAnnotation\"},{\"attributes\":{},\"id\":\"51464\",\"type\":\"BasicTickFormatter\"},{\"attributes\":{\"axis\":{\"id\":\"50464\"},\"ticker\":null},\"id\":\"50467\",\"type\":\"Grid\"},{\"attributes\":{},\"id\":\"51471\",\"type\":\"UnionRenderers\"},{\"attributes\":{},\"id\":\"51472\",\"type\":\"Selection\"},{\"attributes\":{},\"id\":\"50472\",\"type\":\"PanTool\"},{\"attributes\":{},\"id\":\"51467\",\"type\":\"BasicTickFormatter\"},{\"attributes\":{},\"id\":\"50462\",\"type\":\"LinearScale\"},{\"attributes\":{},\"id\":\"50476\",\"type\":\"ResetTool\"},{\"attributes\":{},\"id\":\"50477\",\"type\":\"HelpTool\"},{\"attributes\":{},\"id\":\"50460\",\"type\":\"LinearScale\"},{\"attributes\":{},\"id\":\"50469\",\"type\":\"BasicTicker\"},{\"attributes\":{\"axis\":{\"id\":\"50468\"},\"dimension\":1,\"ticker\":null},\"id\":\"50471\",\"type\":\"Grid\"},{\"attributes\":{},\"id\":\"51465\",\"type\":\"AllLabels\"},{\"attributes\":{},\"id\":\"50473\",\"type\":\"WheelZoomTool\"},{\"attributes\":{},\"id\":\"51468\",\"type\":\"AllLabels\"},{\"attributes\":{\"overlay\":{\"id\":\"50478\"}},\"id\":\"50474\",\"type\":\"BoxZoomTool\"},{\"attributes\":{\"fill_alpha\":{\"value\":0.1},\"fill_color\":{\"value\":\"#1f77b4\"},\"line_alpha\":{\"value\":0.1},\"line_color\":{\"value\":\"#1f77b4\"},\"xs\":{\"field\":\"xs\"},\"ys\":{\"field\":\"ys\"}},\"id\":\"50488\",\"type\":\"MultiPolygons\"},{\"attributes\":{},\"id\":\"50475\",\"type\":\"SaveTool\"},{\"attributes\":{\"fill_color\":{\"value\":\"#1f77b4\"},\"line_color\":{\"value\":\"#1f77b4\"},\"xs\":{\"field\":\"xs\"},\"ys\":{\"field\":\"ys\"}},\"id\":\"50487\",\"type\":\"MultiPolygons\"},{\"attributes\":{\"data_source\":{\"id\":\"50486\"},\"glyph\":{\"id\":\"50487\"},\"hover_glyph\":null,\"muted_glyph\":null,\"nonselection_glyph\":{\"id\":\"50488\"},\"view\":{\"id\":\"50490\"}},\"id\":\"50489\",\"type\":\"GlyphRenderer\"},{\"attributes\":{\"data\":{\"xs\":[[[[1,1,2,2],[1.2,1.6,1.6,1.2],[1.8,1.8,1.6]],[[2.5,3.5,3]]]],\"ys\":[[[[2,4,4,2],[3.2,3.6,3.2,3.6],[2.4,2.8,2.8]],[[2,2,3]]]]},\"selected\":{\"id\":\"51472\"},\"selection_policy\":{\"id\":\"51471\"}},\"id\":\"50486\",\"type\":\"ColumnDataSource\"},{\"attributes\":{\"source\":{\"id\":\"50486\"}},\"id\":\"50490\",\"type\":\"CDSView\"},{\"attributes\":{},\"id\":\"50456\",\"type\":\"DataRange1d\"},{\"attributes\":{},\"id\":\"51463\",\"type\":\"Title\"},{\"attributes\":{\"active_multi\":null,\"tools\":[{\"id\":\"50472\"},{\"id\":\"50473\"},{\"id\":\"50474\"},{\"id\":\"50475\"},{\"id\":\"50476\"},{\"id\":\"50477\"}]},\"id\":\"50479\",\"type\":\"Toolbar\"},{\"attributes\":{},\"id\":\"50458\",\"type\":\"DataRange1d\"},{\"attributes\":{\"formatter\":{\"id\":\"51467\"},\"major_label_policy\":{\"id\":\"51468\"},\"ticker\":{\"id\":\"50469\"}},\"id\":\"50468\",\"type\":\"LinearAxis\"},{\"attributes\":{},\"id\":\"50465\",\"type\":\"BasicTicker\"},{\"attributes\":{\"formatter\":{\"id\":\"51464\"},\"major_label_policy\":{\"id\":\"51465\"},\"ticker\":{\"id\":\"50465\"}},\"id\":\"50464\",\"type\":\"LinearAxis\"}],\"root_ids\":[\"50455\"]},\"title\":\"Bokeh Application\",\"version\":\"2.3.2\"}};\n",
       "  var render_items = [{\"docid\":\"dfc6be88-2b41-46ad-9013-00efd6824dcc\",\"root_ids\":[\"50455\"],\"roots\":{\"50455\":\"2f946e24-255b-41cc-8fa3-fd9367bd26e0\"}}];\n",
       "  root.Bokeh.embed.embed_items_notebook(docs_json, render_items);\n",
       "\n",
       "  }\n",
       "  if (root.Bokeh !== undefined) {\n",
       "    embed_document(root);\n",
       "  } else {\n",
       "    var attempts = 0;\n",
       "    var timer = setInterval(function(root) {\n",
       "      if (root.Bokeh !== undefined) {\n",
       "        clearInterval(timer);\n",
       "        embed_document(root);\n",
       "      } else {\n",
       "        attempts++;\n",
       "        if (attempts > 100) {\n",
       "          clearInterval(timer);\n",
       "          console.log(\"Bokeh: ERROR: Unable to run BokehJS code because BokehJS library is missing\");\n",
       "        }\n",
       "      }\n",
       "    }, 10, root)\n",
       "  }\n",
       "})(window);"
      ],
      "application/vnd.bokehjs_exec.v0+json": ""
     },
     "metadata": {
      "application/vnd.bokehjs_exec.v0+json": {
       "id": "50455"
      }
     },
     "output_type": "display_data"
    }
   ],
   "source": [
    "p = figure(plot_width=400, plot_height= 400)\n",
    "p.multi_polygons(xs=[[ [[1, 1, 2, 2],[1.2, 1.6, 1.6, 1.2], [1.8, 1.8,1.6]], [[2.5, 3.5, 3]] ]], \n",
    "                 ys=[[ [[2, 4, 4, 2], [3.2, 3.6, 3.2, 3.6], [2.4,2.8, 2.8]], [[2, 2, 3]] ]]\n",
    "                 )\n",
    "show(p)"
   ]
  },
  {
   "cell_type": "code",
   "execution_count": 134,
   "metadata": {
    "id": "Cr9J7D0Q1IRv"
   },
   "outputs": [
    {
     "data": {
      "text/html": [
       "\n",
       "\n",
       "\n",
       "\n",
       "\n",
       "\n",
       "  <div class=\"bk-root\" id=\"53be3bb2-00fa-48bb-90b2-5ee46b2078b1\" data-root-id=\"54813\"></div>\n"
      ]
     },
     "metadata": {},
     "output_type": "display_data"
    },
    {
     "data": {
      "application/javascript": [
       "(function(root) {\n",
       "  function embed_document(root) {\n",
       "    \n",
       "  var docs_json = {\"7391939f-0b67-48b7-b552-e4d069a6e181\":{\"defs\":[],\"roots\":{\"references\":[{\"attributes\":{\"below\":[{\"id\":\"54822\"}],\"center\":[{\"id\":\"54825\"},{\"id\":\"54829\"}],\"height\":400,\"left\":[{\"id\":\"54826\"}],\"renderers\":[{\"id\":\"54847\"}],\"title\":{\"id\":\"55865\"},\"toolbar\":{\"id\":\"54837\"},\"width\":400,\"x_range\":{\"id\":\"54814\"},\"x_scale\":{\"id\":\"54818\"},\"y_range\":{\"id\":\"54816\"},\"y_scale\":{\"id\":\"54820\"}},\"id\":\"54813\",\"subtype\":\"Figure\",\"type\":\"Plot\"},{\"attributes\":{},\"id\":\"54814\",\"type\":\"DataRange1d\"},{\"attributes\":{},\"id\":\"54816\",\"type\":\"DataRange1d\"},{\"attributes\":{\"formatter\":{\"id\":\"55869\"},\"major_label_policy\":{\"id\":\"55870\"},\"ticker\":{\"id\":\"54827\"}},\"id\":\"54826\",\"type\":\"LinearAxis\"},{\"attributes\":{\"formatter\":{\"id\":\"55866\"},\"major_label_policy\":{\"id\":\"55867\"},\"ticker\":{\"id\":\"54823\"}},\"id\":\"54822\",\"type\":\"LinearAxis\"},{\"attributes\":{},\"id\":\"54820\",\"type\":\"LinearScale\"},{\"attributes\":{},\"id\":\"54818\",\"type\":\"LinearScale\"},{\"attributes\":{},\"id\":\"54835\",\"type\":\"HelpTool\"},{\"attributes\":{\"fill_color\":{\"field\":\"fill_color\"},\"line_color\":{\"field\":\"line_color\"},\"xs\":{\"field\":\"xs\"},\"ys\":{\"field\":\"ys\"}},\"id\":\"54845\",\"type\":\"MultiPolygons\"},{\"attributes\":{},\"id\":\"54823\",\"type\":\"BasicTicker\"},{\"attributes\":{},\"id\":\"55869\",\"type\":\"BasicTickFormatter\"},{\"attributes\":{\"axis\":{\"id\":\"54822\"},\"ticker\":null},\"id\":\"54825\",\"type\":\"Grid\"},{\"attributes\":{},\"id\":\"55870\",\"type\":\"AllLabels\"},{\"attributes\":{\"data_source\":{\"id\":\"54844\"},\"glyph\":{\"id\":\"54845\"},\"hover_glyph\":null,\"muted_glyph\":null,\"nonselection_glyph\":{\"id\":\"54846\"},\"view\":{\"id\":\"54848\"}},\"id\":\"54847\",\"type\":\"GlyphRenderer\"},{\"attributes\":{\"source\":{\"id\":\"54844\"}},\"id\":\"54848\",\"type\":\"CDSView\"},{\"attributes\":{\"axis\":{\"id\":\"54826\"},\"dimension\":1,\"ticker\":null},\"id\":\"54829\",\"type\":\"Grid\"},{\"attributes\":{},\"id\":\"54827\",\"type\":\"BasicTicker\"},{\"attributes\":{\"fill_alpha\":{\"value\":0.1},\"fill_color\":{\"field\":\"fill_color\"},\"line_alpha\":{\"value\":0.1},\"line_color\":{\"field\":\"line_color\"},\"xs\":{\"field\":\"xs\"},\"ys\":{\"field\":\"ys\"}},\"id\":\"54846\",\"type\":\"MultiPolygons\"},{\"attributes\":{},\"id\":\"54831\",\"type\":\"WheelZoomTool\"},{\"attributes\":{},\"id\":\"54830\",\"type\":\"PanTool\"},{\"attributes\":{\"active_multi\":null,\"tools\":[{\"id\":\"54830\"},{\"id\":\"54831\"},{\"id\":\"54832\"},{\"id\":\"54833\"},{\"id\":\"54834\"},{\"id\":\"54835\"}]},\"id\":\"54837\",\"type\":\"Toolbar\"},{\"attributes\":{\"overlay\":{\"id\":\"54836\"}},\"id\":\"54832\",\"type\":\"BoxZoomTool\"},{\"attributes\":{\"data\":{\"fill_color\":[\"darkblue\",\"red\"],\"line_color\":[\"darkblue\",\"red\"],\"xs\":[[[[1,1,2,2],[1.2,1.6,1.6,1.2],[1.8,1.8,1.6]]],[[[1,2,2,1],[1.3,1.3,1.6,1.6]]]],\"ys\":[[[[2,4,4,2],[3.2,3.6,3.2,3.6],[2.4,2.8,2.8]]],[[[1,1,2,2],[1.3,1.6,1.6,1.3]]]]},\"selected\":{\"id\":\"55874\"},\"selection_policy\":{\"id\":\"55873\"}},\"id\":\"54844\",\"type\":\"ColumnDataSource\"},{\"attributes\":{},\"id\":\"54833\",\"type\":\"SaveTool\"},{\"attributes\":{},\"id\":\"54834\",\"type\":\"ResetTool\"},{\"attributes\":{},\"id\":\"55866\",\"type\":\"BasicTickFormatter\"},{\"attributes\":{},\"id\":\"55867\",\"type\":\"AllLabels\"},{\"attributes\":{},\"id\":\"55873\",\"type\":\"UnionRenderers\"},{\"attributes\":{},\"id\":\"55874\",\"type\":\"Selection\"},{\"attributes\":{},\"id\":\"55865\",\"type\":\"Title\"},{\"attributes\":{\"bottom_units\":\"screen\",\"fill_alpha\":0.5,\"fill_color\":\"lightgrey\",\"left_units\":\"screen\",\"level\":\"overlay\",\"line_alpha\":1.0,\"line_color\":\"black\",\"line_dash\":[4,4],\"line_width\":2,\"right_units\":\"screen\",\"syncable\":false,\"top_units\":\"screen\"},\"id\":\"54836\",\"type\":\"BoxAnnotation\"}],\"root_ids\":[\"54813\"]},\"title\":\"Bokeh Application\",\"version\":\"2.3.2\"}};\n",
       "  var render_items = [{\"docid\":\"7391939f-0b67-48b7-b552-e4d069a6e181\",\"root_ids\":[\"54813\"],\"roots\":{\"54813\":\"53be3bb2-00fa-48bb-90b2-5ee46b2078b1\"}}];\n",
       "  root.Bokeh.embed.embed_items_notebook(docs_json, render_items);\n",
       "\n",
       "  }\n",
       "  if (root.Bokeh !== undefined) {\n",
       "    embed_document(root);\n",
       "  } else {\n",
       "    var attempts = 0;\n",
       "    var timer = setInterval(function(root) {\n",
       "      if (root.Bokeh !== undefined) {\n",
       "        clearInterval(timer);\n",
       "        embed_document(root);\n",
       "      } else {\n",
       "        attempts++;\n",
       "        if (attempts > 100) {\n",
       "          clearInterval(timer);\n",
       "          console.log(\"Bokeh: ERROR: Unable to run BokehJS code because BokehJS library is missing\");\n",
       "        }\n",
       "      }\n",
       "    }, 10, root)\n",
       "  }\n",
       "})(window);"
      ],
      "application/vnd.bokehjs_exec.v0+json": ""
     },
     "metadata": {
      "application/vnd.bokehjs_exec.v0+json": {
       "id": "54813"
      }
     },
     "output_type": "display_data"
    }
   ],
   "source": [
    "p = figure(plot_width=400, plot_height= 400)\n",
    "p.multi_polygons(xs=[[[ [1, 1, 2, 2],[1.2, 1.6, 1.6, 1.2], [1.8, 1.8,1.6] ]], \n",
    "                       [[ [1, 2, 2, 1],[1.3, 1.3, 1.6, 1.6] ]]], \n",
    "                 ys=[[ [[2, 4, 4, 2], [3.2, 3.6, 3.2, 3.6], [2.4,2.8, 2.8]]], \n",
    "                       [[[1,1,2,2], [1.3, 1.6, 1.6, 1.3]] ]],\n",
    "                 color= ['darkblue', 'red']\n",
    "                 )\n",
    "show(p)"
   ]
  },
  {
   "cell_type": "markdown",
   "metadata": {
    "id": "9HbrBdBb2f3v"
   },
   "source": [
    "## 계란형과 타원형(Ovals and Ellipses)"
   ]
  },
  {
   "cell_type": "code",
   "execution_count": null,
   "metadata": {
    "id": "oSefK6fu2SeX"
   },
   "outputs": [],
   "source": []
  },
  {
   "cell_type": "code",
   "execution_count": null,
   "metadata": {
    "id": "aPawcUst2h2q"
   },
   "outputs": [],
   "source": []
  },
  {
   "cell_type": "markdown",
   "metadata": {
    "id": "b1CfpEcp2q4-"
   },
   "source": [
    "## 이미지(Images)"
   ]
  },
  {
   "cell_type": "code",
   "execution_count": null,
   "metadata": {
    "id": "L5RCihYb2lOP"
   },
   "outputs": [],
   "source": []
  },
  {
   "cell_type": "code",
   "execution_count": null,
   "metadata": {
    "id": "IqmSMjRs2vnv"
   },
   "outputs": [],
   "source": []
  },
  {
   "cell_type": "markdown",
   "metadata": {
    "id": "TA0XcKaT24QP"
   },
   "source": [
    "## 세그먼트와 광선(Segments and Rays)"
   ]
  },
  {
   "cell_type": "code",
   "execution_count": null,
   "metadata": {
    "id": "_bG6p1SP22RR"
   },
   "outputs": [],
   "source": []
  },
  {
   "cell_type": "code",
   "execution_count": null,
   "metadata": {
    "id": "OYj2VS3425x1"
   },
   "outputs": [],
   "source": []
  },
  {
   "cell_type": "markdown",
   "metadata": {
    "id": "_6gqDmbI29nu"
   },
   "source": [
    "## 쐐기와 원호(Wedges and Arcs)"
   ]
  },
  {
   "cell_type": "code",
   "execution_count": null,
   "metadata": {
    "id": "xRsUaW0S27Ay"
   },
   "outputs": [],
   "source": []
  },
  {
   "cell_type": "code",
   "execution_count": null,
   "metadata": {
    "id": "U3OIMZ2f2_Lu"
   },
   "outputs": [],
   "source": []
  },
  {
   "cell_type": "code",
   "execution_count": null,
   "metadata": {
    "id": "FH5iIw0L3Ah0"
   },
   "outputs": [],
   "source": []
  },
  {
   "cell_type": "code",
   "execution_count": null,
   "metadata": {
    "id": "c1r3D4Oa3B4l"
   },
   "outputs": [],
   "source": []
  },
  {
   "cell_type": "code",
   "execution_count": null,
   "metadata": {
    "id": "XyZ1zq6O3aV2"
   },
   "outputs": [],
   "source": []
  },
  {
   "cell_type": "markdown",
   "metadata": {
    "id": "5k9iVkgo3F7m"
   },
   "source": [
    "## 여러 도형 결합(Combining Multiple Glyphs)"
   ]
  },
  {
   "cell_type": "code",
   "execution_count": null,
   "metadata": {
    "id": "oEQlerkX3C1Q"
   },
   "outputs": [],
   "source": []
  },
  {
   "cell_type": "markdown",
   "metadata": {
    "id": "QXFgCvI73OYM"
   },
   "source": [
    "## 범위 지정(Setting Ranges)"
   ]
  },
  {
   "cell_type": "code",
   "execution_count": null,
   "metadata": {
    "id": "J0naSbOF3HtT"
   },
   "outputs": [],
   "source": []
  },
  {
   "cell_type": "markdown",
   "metadata": {
    "id": "R-7x6S8z3et6"
   },
   "source": [
    "## 축 유형 지정(Specifying Axis Types)"
   ]
  },
  {
   "cell_type": "markdown",
   "metadata": {
    "id": "IgGBu9Sk3gmz"
   },
   "source": [
    "### 범주형 축(Categorical Axes)"
   ]
  },
  {
   "cell_type": "code",
   "execution_count": null,
   "metadata": {
    "id": "vMOgZC0j3VUr"
   },
   "outputs": [],
   "source": []
  },
  {
   "cell_type": "markdown",
   "metadata": {
    "id": "An6UYwXn3k4D"
   },
   "source": [
    "### 날짜/시간 축(Datetime Axes)"
   ]
  },
  {
   "cell_type": "code",
   "execution_count": null,
   "metadata": {
    "id": "xgDylLkW3iro"
   },
   "outputs": [],
   "source": []
  },
  {
   "cell_type": "markdown",
   "metadata": {
    "id": "LW1-co5Y3wXz"
   },
   "source": [
    "### 로그스케일(Log Scale Axes)"
   ]
  },
  {
   "cell_type": "code",
   "execution_count": null,
   "metadata": {
    "id": "N1u-Ylrw3n7Y"
   },
   "outputs": [],
   "source": []
  },
  {
   "cell_type": "markdown",
   "metadata": {
    "id": "5Oy1h2MY32HN"
   },
   "source": [
    "## 스타일(Style)"
   ]
  },
  {
   "cell_type": "markdown",
   "metadata": {
    "id": "hVIndXhy6IyZ"
   },
   "source": [
    "### 색상(Colors)\n",
    "\n",
    "* HTML 색상\n",
    "* RGB의 16진수 표현\n",
    "* 0~255 정수값의 (r, g, b) 튜플\n",
    "* 0~1 사이의 부동소수점 a가 추가된 (r, g, b, a) 튜플"
   ]
  },
  {
   "cell_type": "markdown",
   "metadata": {
    "id": "qiZlI5gR68Jd"
   },
   "source": [
    "### 플롯(Plots)"
   ]
  },
  {
   "cell_type": "code",
   "execution_count": null,
   "metadata": {
    "id": "R0S_PDJn34c6"
   },
   "outputs": [],
   "source": []
  },
  {
   "cell_type": "markdown",
   "metadata": {
    "id": "LUKQAut58UyD"
   },
   "source": [
    "### 글리프(Glyphs)"
   ]
  },
  {
   "cell_type": "code",
   "execution_count": null,
   "metadata": {
    "id": "kz2mX20O6-Pk"
   },
   "outputs": [],
   "source": []
  },
  {
   "cell_type": "code",
   "execution_count": null,
   "metadata": {
    "id": "gx-TLwnB8ZZl"
   },
   "outputs": [],
   "source": []
  },
  {
   "cell_type": "code",
   "execution_count": null,
   "metadata": {
    "id": "eWj6b_Tx9hVs"
   },
   "outputs": [],
   "source": []
  },
  {
   "cell_type": "markdown",
   "metadata": {
    "id": "hCcXiu4ZvYxD"
   },
   "source": [
    "### 축(Axes)"
   ]
  },
  {
   "cell_type": "code",
   "execution_count": null,
   "metadata": {
    "id": "H1LAd4aT-Eku"
   },
   "outputs": [],
   "source": []
  },
  {
   "cell_type": "code",
   "execution_count": null,
   "metadata": {
    "id": "ofLASY9sxPi8"
   },
   "outputs": [],
   "source": []
  },
  {
   "cell_type": "markdown",
   "metadata": {
    "id": "C-SS5m2myZsF"
   },
   "source": [
    "### 틱 라벨(Tick labels)"
   ]
  },
  {
   "cell_type": "code",
   "execution_count": null,
   "metadata": {
    "id": "N0fKacwsxz8z"
   },
   "outputs": [],
   "source": []
  },
  {
   "cell_type": "code",
   "execution_count": null,
   "metadata": {
    "id": "e23lfmbGypPB"
   },
   "outputs": [],
   "source": []
  },
  {
   "cell_type": "markdown",
   "metadata": {
    "id": "gvWTFNxb6MMq"
   },
   "source": [
    "### 그리드(Grid)"
   ]
  },
  {
   "cell_type": "code",
   "execution_count": null,
   "metadata": {
    "id": "cTJEAI2e00HT"
   },
   "outputs": [],
   "source": []
  },
  {
   "cell_type": "code",
   "execution_count": null,
   "metadata": {
    "id": "P6og2bJ06Rns"
   },
   "outputs": [],
   "source": []
  },
  {
   "cell_type": "code",
   "execution_count": null,
   "metadata": {
    "id": "fU7bHlod6wp7"
   },
   "outputs": [],
   "source": []
  },
  {
   "cell_type": "markdown",
   "metadata": {
    "id": "GDG_deMaBJ5q"
   },
   "source": [
    "## 데이터 제공(Providing Data)"
   ]
  },
  {
   "cell_type": "markdown",
   "metadata": {
    "id": "yxCRfS51ByXg"
   },
   "source": [
    "### 데이터 직접 제공"
   ]
  },
  {
   "cell_type": "code",
   "execution_count": null,
   "metadata": {
    "id": "LSVhgcZ_7KJw"
   },
   "outputs": [],
   "source": []
  },
  {
   "cell_type": "markdown",
   "metadata": {
    "id": "B-_QSKVbB6ex"
   },
   "source": [
    "### ColumnDataSource\n",
    "\n",
    "* 열 이름과 데이터 목록 사이의 매핑\n",
    "* Bokeh 플롯의 핵심으로 플롯에서 글리프의 시각화된 데이터 제공\n",
    "* DataTable과 같은 여러 플롯과 위젯간의 데이터를 쉽게 공유"
   ]
  },
  {
   "cell_type": "code",
   "execution_count": null,
   "metadata": {
    "id": "GFHqIRUvBLJd"
   },
   "outputs": [],
   "source": []
  },
  {
   "cell_type": "code",
   "execution_count": null,
   "metadata": {
    "id": "jAB8i-10N6OD"
   },
   "outputs": [],
   "source": []
  },
  {
   "cell_type": "code",
   "execution_count": null,
   "metadata": {
    "id": "vSYvtiM6O90x"
   },
   "outputs": [],
   "source": []
  },
  {
   "cell_type": "markdown",
   "metadata": {
    "id": "nZwq7A0HPzE0"
   },
   "source": [
    "### 변환(Transformations)"
   ]
  },
  {
   "cell_type": "code",
   "execution_count": null,
   "metadata": {
    "id": "KGXQQa5ePlQX"
   },
   "outputs": [],
   "source": []
  },
  {
   "cell_type": "code",
   "execution_count": null,
   "metadata": {
    "id": "x3SZVfgIQxZn"
   },
   "outputs": [],
   "source": []
  },
  {
   "cell_type": "code",
   "execution_count": null,
   "metadata": {
    "id": "nKanDAQwTsKp"
   },
   "outputs": [],
   "source": []
  },
  {
   "cell_type": "markdown",
   "metadata": {
    "id": "gD8ADeNsZH_2"
   },
   "source": [
    "## 주석(Annotations)"
   ]
  },
  {
   "cell_type": "markdown",
   "metadata": {
    "id": "i_8Dl_tufPt1"
   },
   "source": [
    "### 스판(Span)"
   ]
  },
  {
   "cell_type": "code",
   "execution_count": null,
   "metadata": {
    "id": "RvW-BDm9Uy5y"
   },
   "outputs": [],
   "source": []
  },
  {
   "cell_type": "markdown",
   "metadata": {
    "id": "I01_AIBo_WDT"
   },
   "source": [
    "### 박스 주석(Box Annotations)"
   ]
  },
  {
   "cell_type": "code",
   "execution_count": null,
   "metadata": {
    "id": "h5x8UQUwZK3A"
   },
   "outputs": [],
   "source": []
  },
  {
   "cell_type": "markdown",
   "metadata": {
    "id": "cPw9lWMDAFn7"
   },
   "source": [
    "### 라벨(Label)"
   ]
  },
  {
   "cell_type": "code",
   "execution_count": null,
   "metadata": {
    "id": "9c_BSOcf_ZRX"
   },
   "outputs": [],
   "source": []
  },
  {
   "cell_type": "markdown",
   "metadata": {
    "id": "VU5fvWYdBd0R"
   },
   "source": [
    "### 라벨셋(LabelSet)"
   ]
  },
  {
   "cell_type": "code",
   "execution_count": null,
   "metadata": {
    "id": "ba7dBWgXAMeG"
   },
   "outputs": [],
   "source": []
  },
  {
   "cell_type": "markdown",
   "metadata": {
    "id": "qfLWSBbyar69"
   },
   "source": [
    "### 화살(Arrows)"
   ]
  },
  {
   "cell_type": "code",
   "execution_count": null,
   "metadata": {
    "id": "3RWB-vEfBcb2"
   },
   "outputs": [],
   "source": []
  },
  {
   "cell_type": "markdown",
   "metadata": {
    "id": "QxAEB7dAd7F7"
   },
   "source": [
    "### 범례(Legends)"
   ]
  },
  {
   "cell_type": "code",
   "execution_count": null,
   "metadata": {
    "id": "LNbwxFY1ax8E"
   },
   "outputs": [],
   "source": []
  },
  {
   "cell_type": "code",
   "execution_count": null,
   "metadata": {
    "id": "-s0Nd0nod9XM"
   },
   "outputs": [],
   "source": []
  },
  {
   "cell_type": "markdown",
   "metadata": {
    "id": "jOOhuNM2f1y4"
   },
   "source": [
    "### 색상 막대(Color bars)"
   ]
  },
  {
   "cell_type": "code",
   "execution_count": null,
   "metadata": {
    "id": "mG9AUahZfenQ"
   },
   "outputs": [],
   "source": []
  },
  {
   "cell_type": "markdown",
   "metadata": {
    "id": "1xEHNp8Zm86P"
   },
   "source": [
    "## 레이아웃(Layout)"
   ]
  },
  {
   "cell_type": "code",
   "execution_count": null,
   "metadata": {
    "id": "LBhESp1uf9yj"
   },
   "outputs": [],
   "source": []
  },
  {
   "cell_type": "code",
   "execution_count": null,
   "metadata": {
    "id": "23bQrtbqnEky"
   },
   "outputs": [],
   "source": []
  },
  {
   "cell_type": "markdown",
   "metadata": {
    "id": "g6SeFu62pxY8"
   },
   "source": [
    "## 연결된 상호작용(Linked Interactions)"
   ]
  },
  {
   "cell_type": "code",
   "execution_count": null,
   "metadata": {
    "id": "zlVbO2Ipo6UB"
   },
   "outputs": [],
   "source": []
  },
  {
   "cell_type": "code",
   "execution_count": null,
   "metadata": {
    "id": "2pQ996OMp3bP"
   },
   "outputs": [],
   "source": []
  },
  {
   "cell_type": "code",
   "execution_count": null,
   "metadata": {
    "id": "GK_7SHxpthG5"
   },
   "outputs": [],
   "source": []
  },
  {
   "cell_type": "markdown",
   "metadata": {
    "id": "XCXlswYTxWuh"
   },
   "source": [
    "## 위젯(Widgets)"
   ]
  },
  {
   "cell_type": "code",
   "execution_count": null,
   "metadata": {
    "id": "mNMRWIB0xZWM"
   },
   "outputs": [],
   "source": []
  },
  {
   "cell_type": "code",
   "execution_count": null,
   "metadata": {
    "id": "koHaMvSfHgoJ"
   },
   "outputs": [],
   "source": []
  },
  {
   "cell_type": "code",
   "execution_count": null,
   "metadata": {
    "id": "7ggZkZnYxfn7"
   },
   "outputs": [],
   "source": []
  },
  {
   "cell_type": "markdown",
   "metadata": {
    "id": "P5QOzbQ_1Orn"
   },
   "source": [
    "## 막대와 범주형 데이터 플롯(Bar and Categorical Data Plots)"
   ]
  },
  {
   "cell_type": "code",
   "execution_count": null,
   "metadata": {
    "id": "078S7A6XzRdk"
   },
   "outputs": [],
   "source": []
  },
  {
   "cell_type": "code",
   "execution_count": null,
   "metadata": {
    "id": "HghH3-VK1VVG"
   },
   "outputs": [],
   "source": []
  },
  {
   "cell_type": "code",
   "execution_count": null,
   "metadata": {
    "id": "dR6YlqRL1bvs"
   },
   "outputs": [],
   "source": []
  },
  {
   "cell_type": "code",
   "execution_count": null,
   "metadata": {
    "id": "WK6Q-DXe1i2i"
   },
   "outputs": [],
   "source": []
  },
  {
   "cell_type": "code",
   "execution_count": null,
   "metadata": {
    "id": "rNV-ZbNm1oQc"
   },
   "outputs": [],
   "source": []
  },
  {
   "cell_type": "markdown",
   "metadata": {
    "id": "xkjOaY7126C8"
   },
   "source": [
    "## 내보내기(Exporting)"
   ]
  },
  {
   "cell_type": "code",
   "execution_count": null,
   "metadata": {
    "id": "ObCPItTm18qV"
   },
   "outputs": [],
   "source": []
  },
  {
   "cell_type": "code",
   "execution_count": null,
   "metadata": {
    "id": "gB1-azY427x9"
   },
   "outputs": [],
   "source": []
  },
  {
   "cell_type": "code",
   "execution_count": null,
   "metadata": {
    "id": "Ggo3ZaEb3Tdv"
   },
   "outputs": [],
   "source": []
  },
  {
   "cell_type": "code",
   "execution_count": null,
   "metadata": {
    "id": "H9RTSXGG3ahr"
   },
   "outputs": [],
   "source": []
  },
  {
   "cell_type": "markdown",
   "metadata": {
    "id": "FZGRzfvyDgYJ"
   },
   "source": [
    "## 참고 문헌\n",
    "\n",
    "* Bokeh, https://bokeh.org/"
   ]
  }
 ],
 "metadata": {
  "colab": {
   "collapsed_sections": [],
   "name": "_Bokeh 한번에 제대로 배우기.ipynb",
   "provenance": [],
   "toc_visible": true
  },
  "kernelspec": {
   "display_name": "Python 3",
   "language": "python",
   "name": "python3"
  },
  "language_info": {
   "codemirror_mode": {
    "name": "ipython",
    "version": 3
   },
   "file_extension": ".py",
   "mimetype": "text/x-python",
   "name": "python",
   "nbconvert_exporter": "python",
   "pygments_lexer": "ipython3",
   "version": "3.8.8"
  },
  "toc": {
   "base_numbering": 1,
   "nav_menu": {},
   "number_sections": true,
   "sideBar": true,
   "skip_h1_title": false,
   "title_cell": "Table of Contents",
   "title_sidebar": "Contents",
   "toc_cell": false,
   "toc_position": {
    "height": "calc(100% - 180px)",
    "left": "10px",
    "top": "150px",
    "width": "227.552px"
   },
   "toc_section_display": true,
   "toc_window_display": true
  }
 },
 "nbformat": 4,
 "nbformat_minor": 1
}
