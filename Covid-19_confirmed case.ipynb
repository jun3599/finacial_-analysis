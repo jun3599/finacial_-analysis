{
 "cells": [
  {
   "cell_type": "markdown",
   "id": "a9f2e50e",
   "metadata": {},
   "source": [
    "# Covid-19 Confirmed case \n",
    "* 공공데이터 포털에서 확진자 현황에 대한 데이터를 수집합니다. \n",
    "* 해당 데이터는 추후 분석에 활용 목적으로 이용합니다. "
   ]
  }
 ],
 "metadata": {
  "kernelspec": {
   "display_name": "Python 3",
   "language": "python",
   "name": "python3"
  },
  "language_info": {
   "codemirror_mode": {
    "name": "ipython",
    "version": 3
   },
   "file_extension": ".py",
   "mimetype": "text/x-python",
   "name": "python",
   "nbconvert_exporter": "python",
   "pygments_lexer": "ipython3",
   "version": "3.8.8"
  },
  "toc": {
   "base_numbering": 1,
   "nav_menu": {},
   "number_sections": true,
   "sideBar": true,
   "skip_h1_title": false,
   "title_cell": "Table of Contents",
   "title_sidebar": "Contents",
   "toc_cell": false,
   "toc_position": {},
   "toc_section_display": true,
   "toc_window_display": false
  }
 },
 "nbformat": 4,
 "nbformat_minor": 5
}
